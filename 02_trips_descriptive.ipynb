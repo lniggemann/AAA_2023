{
 "cells": [
  {
   "cell_type": "code",
   "execution_count": 6,
   "metadata": {},
   "outputs": [],
   "source": [
    "import vaex\n",
    "import numpy as np\n",
    "import matplotlib.pyplot as plt\n",
    "import geopandas as gpd\n",
    "import folium\n",
    "import math\n",
    "import pandas as pd\n",
    "from datetime import datetime, timedelta, date, time\n",
    "from shapely import Polygon\n",
    "import contextily as cx\n",
    "import h3\n",
    "import seaborn as sns"
   ]
  },
  {
   "cell_type": "code",
   "execution_count": 3,
   "metadata": {},
   "outputs": [],
   "source": [
    "df = vaex.open(\"data/trips/trips_prepared.hdf5\")"
   ]
  },
  {
   "cell_type": "code",
   "execution_count": 4,
   "metadata": {},
   "outputs": [
    {
     "data": {
      "text/html": [
       "<style>.vaex-description pre {\n",
       "          max-width : 450px;\n",
       "          white-space : nowrap;\n",
       "          overflow : hidden;\n",
       "          text-overflow: ellipsis;\n",
       "        }\n",
       "\n",
       "        .vex-description pre:hover {\n",
       "          max-width : initial;\n",
       "          white-space: pre;\n",
       "        }</style>"
      ],
      "text/plain": [
       "<IPython.core.display.HTML object>"
      ]
     },
     "metadata": {},
     "output_type": "display_data"
    },
    {
     "data": {
      "text/html": [
       "<div><h2>trips_prepared</h2> <b>rows</b>: 37,395,436</div><h2>Columns:</h2><table class='table-striped'><thead><tr><th>column</th><th>type</th><th>unit</th><th>description</th><th>expression</th></tr></thead><tr><td>Taxi ID_encoded</td><td>int64</td><td></td><td ><pre></pre></td><td></td></tr><tr><td>Company</td><td>str</td><td></td><td ><pre></pre></td><td></td></tr><tr><td>Company_encoded</td><td>int64</td><td></td><td ><pre></pre></td><td></td></tr><tr><td>ts_start</td><td>datetime64[us]</td><td></td><td ><pre></pre></td><td></td></tr><tr><td>ts_end</td><td>datetime64[us]</td><td></td><td ><pre></pre></td><td></td></tr><tr><td>start_day</td><td>datetime64[us]</td><td></td><td ><pre></pre></td><td></td></tr><tr><td>start_weekday</td><td>int32</td><td></td><td ><pre></pre></td><td></td></tr><tr><td>start_month</td><td>int32</td><td></td><td ><pre></pre></td><td></td></tr><tr><td>Trip Seconds</td><td>float64</td><td></td><td ><pre></pre></td><td></td></tr><tr><td>Trip Miles</td><td>float64</td><td></td><td ><pre></pre></td><td></td></tr><tr><td>Fare</td><td>float64</td><td></td><td ><pre></pre></td><td></td></tr><tr><td>Tips</td><td>float64</td><td></td><td ><pre></pre></td><td></td></tr><tr><td>Tolls</td><td>float64</td><td></td><td ><pre></pre></td><td></td></tr><tr><td>Extras</td><td>float64</td><td></td><td ><pre></pre></td><td></td></tr><tr><td>Trip Total</td><td>float64</td><td></td><td ><pre></pre></td><td></td></tr><tr><td>Payment Type</td><td>str</td><td></td><td ><pre></pre></td><td></td></tr><tr><td>Payment Type_encoded</td><td>int64</td><td></td><td ><pre></pre></td><td></td></tr><tr><td>Pickup Census Tract</td><td>float64</td><td></td><td ><pre></pre></td><td></td></tr><tr><td>Dropoff Census Tract</td><td>float64</td><td></td><td ><pre></pre></td><td></td></tr><tr><td>Pickup Community Area</td><td>float64</td><td></td><td ><pre></pre></td><td></td></tr><tr><td>Dropoff Community Area</td><td>float64</td><td></td><td ><pre></pre></td><td></td></tr><tr><td>pickup_hex_7</td><td>str</td><td></td><td ><pre></pre></td><td></td></tr><tr><td>dropoff_hex_7</td><td>str</td><td></td><td ><pre></pre></td><td></td></tr><tr><td>pickup_hex_8</td><td>str</td><td></td><td ><pre></pre></td><td></td></tr><tr><td>dropoff_hex_8</td><td>str</td><td></td><td ><pre></pre></td><td></td></tr><tr><td>pickup_hex_9</td><td>str</td><td></td><td ><pre></pre></td><td></td></tr><tr><td>dropoff_hex_9</td><td>str</td><td></td><td ><pre></pre></td><td></td></tr><tr><td>ts_start_1_hour</td><td>datetime64[us]</td><td></td><td ><pre></pre></td><td></td></tr><tr><td>start_1_hour</td><td>int32</td><td></td><td ><pre></pre></td><td></td></tr><tr><td>start_1_hour_sin</td><td>float64</td><td></td><td ><pre></pre></td><td></td></tr><tr><td>start_1_hour_cos</td><td>float64</td><td></td><td ><pre></pre></td><td></td></tr><tr><td>ts_start_4_hour</td><td>datetime64[us]</td><td></td><td ><pre></pre></td><td></td></tr><tr><td>start_4_hour</td><td>int32</td><td></td><td ><pre></pre></td><td></td></tr><tr><td>start_4_hour_sin</td><td>float64</td><td></td><td ><pre></pre></td><td></td></tr><tr><td>start_4_hour_cos</td><td>float64</td><td></td><td ><pre></pre></td><td></td></tr><tr><td>ts_start_6_hour</td><td>datetime64[us]</td><td></td><td ><pre></pre></td><td></td></tr><tr><td>start_6_hour</td><td>int32</td><td></td><td ><pre></pre></td><td></td></tr><tr><td>start_6_hour_sin</td><td>float64</td><td></td><td ><pre></pre></td><td></td></tr><tr><td>start_6_hour_cos</td><td>float64</td><td></td><td ><pre></pre></td><td></td></tr><tr><td>start_weekday_sin</td><td>float64</td><td></td><td ><pre></pre></td><td></td></tr><tr><td>start_weekday_cos</td><td>float64</td><td></td><td ><pre></pre></td><td></td></tr></table><h2>Data:</h2><table>\n",
       "<thead>\n",
       "<tr><th>#                                     </th><th>Taxi ID_encoded  </th><th>Company                          </th><th>Company_encoded  </th><th>ts_start                  </th><th>ts_end                    </th><th>start_day                 </th><th>start_weekday  </th><th>start_month  </th><th>Trip Seconds  </th><th>Trip Miles  </th><th>Fare  </th><th>Tips  </th><th>Tolls  </th><th>Extras  </th><th>Trip Total  </th><th>Payment Type  </th><th>Payment Type_encoded  </th><th>Pickup Census Tract  </th><th>Dropoff Census Tract  </th><th>Pickup Community Area  </th><th>Dropoff Community Area  </th><th>pickup_hex_7   </th><th>dropoff_hex_7  </th><th>pickup_hex_8   </th><th>dropoff_hex_8  </th><th>pickup_hex_9   </th><th>dropoff_hex_9  </th><th>ts_start_1_hour           </th><th>start_1_hour  </th><th>start_1_hour_sin      </th><th>start_1_hour_cos       </th><th>ts_start_4_hour           </th><th>start_4_hour  </th><th>start_4_hour_sin      </th><th>start_4_hour_cos   </th><th>ts_start_6_hour           </th><th>start_6_hour  </th><th>start_6_hour_sin      </th><th>start_6_hour_cos  </th><th>start_weekday_sin  </th><th>start_weekday_cos   </th></tr>\n",
       "</thead>\n",
       "<tbody>\n",
       "<tr><td><i style='opacity: 0.6'>0</i>         </td><td>294              </td><td>Taxi Affiliation Services        </td><td>28               </td><td>2014-05-17 10:45:00.000000</td><td>2014-05-17 11:00:00.000000</td><td>2014-05-17 00:00:00.000000</td><td>5              </td><td>5            </td><td>1080.0        </td><td>7.0         </td><td>17.45 </td><td>0.0   </td><td>0.0    </td><td>1.5     </td><td>18.95       </td><td>Cash          </td><td>4                     </td><td>17031281900.0        </td><td>17031061100.0         </td><td>28.0                   </td><td>6.0                     </td><td>872c21191ffffff</td><td>872c2118bffffff</td><td>882c211913fffff</td><td>882c2118bbfffff</td><td>892c211913bffff</td><td>892c2118ba3ffff</td><td>2014-05-17 10:00:00.000000</td><td>10            </td><td>0.5000000000000003    </td><td>-0.8660254037844385    </td><td>2014-05-17 08:00:00.000000</td><td>8             </td><td>0.8660254037844392    </td><td>-0.4999999999999992</td><td>2014-05-17 06:00:00.000000</td><td>6             </td><td>3.6739403974420594e-16</td><td>-1.0              </td><td>-0.9749279121818236</td><td>-0.2225209339563146 </td></tr>\n",
       "<tr><td><i style='opacity: 0.6'>1</i>         </td><td>4672             </td><td>Taxi Affiliation Services        </td><td>28               </td><td>2014-04-17 18:30:00.000000</td><td>2014-04-17 19:00:00.000000</td><td>2014-04-17 00:00:00.000000</td><td>3              </td><td>4            </td><td>1080.0        </td><td>3.0         </td><td>11.45 </td><td>0.0   </td><td>0.0    </td><td>1.0     </td><td>12.45       </td><td>Cash          </td><td>4                     </td><td>nan                  </td><td>17031841100.0         </td><td>nan                    </td><td>34.0                    </td><td>None           </td><td>872c21190ffffff</td><td>None           </td><td>882c211905fffff</td><td>None           </td><td>892c211905bffff</td><td>2014-04-17 18:00:00.000000</td><td>18            </td><td>-1.0                  </td><td>-1.8369701987210297e-16</td><td>2014-04-17 16:00:00.000000</td><td>16            </td><td>-0.8660254037844377   </td><td>-0.5000000000000016</td><td>2014-04-17 18:00:00.000000</td><td>18            </td><td>1.102182119232618e-15 </td><td>-1.0              </td><td>0.43388373911755823</td><td>-0.900968867902419  </td></tr>\n",
       "<tr><td><i style='opacity: 0.6'>2</i>         </td><td>1587             </td><td>Dispatch Taxi Affiliation        </td><td>50               </td><td>2014-05-03 23:30:00.000000</td><td>2014-05-03 23:45:00.000000</td><td>2014-05-03 00:00:00.000000</td><td>5              </td><td>5            </td><td>720.0         </td><td>2.1         </td><td>8.45  </td><td>2.0   </td><td>0.0    </td><td>1.0     </td><td>11.45       </td><td>Credit Card   </td><td>3                     </td><td>17031081800.0        </td><td>17031081403.0         </td><td>8.0                    </td><td>8.0                     </td><td>872c2119cffffff</td><td>872c2119cffffff</td><td>882c2119c1fffff</td><td>882c2119c1fffff</td><td>892c2119c0fffff</td><td>892c2119c0bffff</td><td>2014-05-03 23:00:00.000000</td><td>23            </td><td>-0.25881904510252157  </td><td>0.9659258262890681     </td><td>2014-05-03 20:00:00.000000</td><td>20            </td><td>0.8660254037844403    </td><td>-0.4999999999999972</td><td>2014-05-03 18:00:00.000000</td><td>18            </td><td>1.102182119232618e-15 </td><td>-1.0              </td><td>-0.9749279121818236</td><td>-0.2225209339563146 </td></tr>\n",
       "<tr><td><i style='opacity: 0.6'>3</i>         </td><td>6832             </td><td>Taxi Affiliation Services        </td><td>28               </td><td>2014-05-17 01:30:00.000000</td><td>2014-05-17 01:45:00.000000</td><td>2014-05-17 00:00:00.000000</td><td>5              </td><td>5            </td><td>480.0         </td><td>0.0         </td><td>7.85  </td><td>3.0   </td><td>0.0    </td><td>1.0     </td><td>11.85       </td><td>Credit Card   </td><td>3                     </td><td>17031071500.0        </td><td>17031062200.0         </td><td>7.0                    </td><td>6.0                     </td><td>872c2119dffffff</td><td>872c2118bffffff</td><td>882c2119d3fffff</td><td>882c2118b9fffff</td><td>892c2119d33ffff</td><td>892c2118b8bffff</td><td>2014-05-17 01:00:00.000000</td><td>1             </td><td>0.25881904510252074   </td><td>0.9659258262890683     </td><td>2014-05-17 00:00:00.000000</td><td>0             </td><td>0.0                   </td><td>1.0                </td><td>2014-05-17 00:00:00.000000</td><td>0             </td><td>0.0                   </td><td>1.0               </td><td>-0.9749279121818236</td><td>-0.2225209339563146 </td></tr>\n",
       "<tr><td><i style='opacity: 0.6'>4</i>         </td><td>1898             </td><td>T.A.S. - Payment Only            </td><td>103              </td><td>2014-04-25 14:30:00.000000</td><td>2014-04-25 14:30:00.000000</td><td>2014-04-25 00:00:00.000000</td><td>4              </td><td>4            </td><td>0.0           </td><td>0.0         </td><td>42.05 </td><td>7.0   </td><td>0.0    </td><td>0.0     </td><td>49.05       </td><td>Credit Card   </td><td>3                     </td><td>nan                  </td><td>nan                   </td><td>nan                    </td><td>nan                     </td><td>None           </td><td>None           </td><td>None           </td><td>None           </td><td>None           </td><td>None           </td><td>2014-04-25 14:00:00.000000</td><td>14            </td><td>-0.4999999999999997   </td><td>-0.8660254037844388    </td><td>2014-04-25 12:00:00.000000</td><td>12            </td><td>-4.898587196589413e-16</td><td>1.0                </td><td>2014-04-25 12:00:00.000000</td><td>12            </td><td>-7.347880794884119e-16</td><td>1.0               </td><td>-0.433883739117558 </td><td>-0.9009688679024191 </td></tr>\n",
       "<tr><td>...                                   </td><td>...              </td><td>...                              </td><td>...              </td><td>...                       </td><td>...                       </td><td>...                       </td><td>...            </td><td>...          </td><td>...           </td><td>...         </td><td>...   </td><td>...   </td><td>...    </td><td>...     </td><td>...         </td><td>...           </td><td>...                   </td><td>...                  </td><td>...                   </td><td>...                    </td><td>...                     </td><td>...            </td><td>...            </td><td>...            </td><td>...            </td><td>...            </td><td>...            </td><td>...                       </td><td>...           </td><td>...                   </td><td>...                    </td><td>...                       </td><td>...           </td><td>...                   </td><td>...                </td><td>...                       </td><td>...           </td><td>...                   </td><td>...               </td><td>...                </td><td>...                 </td></tr>\n",
       "<tr><td><i style='opacity: 0.6'>37,395,431</i></td><td>1757             </td><td>Taxi Affiliation Services        </td><td>28               </td><td>2014-04-03 20:30:00.000000</td><td>2014-04-03 20:45:00.000000</td><td>2014-04-03 00:00:00.000000</td><td>3              </td><td>4            </td><td>900.0         </td><td>3.7         </td><td>11.25 </td><td>0.0   </td><td>0.0    </td><td>0.0     </td><td>11.25       </td><td>Cash          </td><td>4                     </td><td>nan                  </td><td>nan                   </td><td>6.0                    </td><td>24.0                    </td><td>872c2118bffffff</td><td>872c2119dffffff</td><td>882c2118b9fffff</td><td>882c2119c3fffff</td><td>892c2118b8fffff</td><td>892c2119dcbffff</td><td>2014-04-03 20:00:00.000000</td><td>20            </td><td>-0.866025403784439    </td><td>0.49999999999999933    </td><td>2014-04-03 20:00:00.000000</td><td>20            </td><td>0.8660254037844403    </td><td>-0.4999999999999972</td><td>2014-04-03 18:00:00.000000</td><td>18            </td><td>1.102182119232618e-15 </td><td>-1.0              </td><td>0.43388373911755823</td><td>-0.900968867902419  </td></tr>\n",
       "<tr><td><i style='opacity: 0.6'>37,395,432</i></td><td>1044             </td><td>Blue Ribbon Taxi Association Inc.</td><td>9                </td><td>2014-05-13 23:30:00.000000</td><td>2014-05-13 23:45:00.000000</td><td>2014-05-13 00:00:00.000000</td><td>1              </td><td>5            </td><td>540.0         </td><td>0.0         </td><td>11.85 </td><td>3.55  </td><td>0.0    </td><td>0.0     </td><td>15.4        </td><td>Credit Card   </td><td>3                     </td><td>nan                  </td><td>nan                   </td><td>8.0                    </td><td>6.0                     </td><td>872c2119cffffff</td><td>872c2118bffffff</td><td>882c2119c3fffff</td><td>882c2118b9fffff</td><td>892c2119c37ffff</td><td>892c2118b8fffff</td><td>2014-05-13 23:00:00.000000</td><td>23            </td><td>-0.25881904510252157  </td><td>0.9659258262890681     </td><td>2014-05-13 20:00:00.000000</td><td>20            </td><td>0.8660254037844403    </td><td>-0.4999999999999972</td><td>2014-05-13 18:00:00.000000</td><td>18            </td><td>1.102182119232618e-15 </td><td>-1.0              </td><td>0.7818314824680298 </td><td>0.6234898018587336  </td></tr>\n",
       "<tr><td><i style='opacity: 0.6'>37,395,433</i></td><td>1017             </td><td>Taxi Affiliation Services        </td><td>28               </td><td>2014-05-14 12:45:00.000000</td><td>2014-05-14 12:45:00.000000</td><td>2014-05-14 00:00:00.000000</td><td>2              </td><td>5            </td><td>240.0         </td><td>0.0         </td><td>5.25  </td><td>3.0   </td><td>0.0    </td><td>1.5     </td><td>9.75        </td><td>Credit Card   </td><td>3                     </td><td>17031839100.0        </td><td>17031833000.0         </td><td>32.0                   </td><td>28.0                    </td><td>872c21191ffffff</td><td>872c2119cffffff</td><td>882c211913fffff</td><td>882c2119c5fffff</td><td>892c2119123ffff</td><td>892c2119c53ffff</td><td>2014-05-14 12:00:00.000000</td><td>12            </td><td>1.2246467991473532e-16</td><td>-1.0                   </td><td>2014-05-14 12:00:00.000000</td><td>12            </td><td>-4.898587196589413e-16</td><td>1.0                </td><td>2014-05-14 12:00:00.000000</td><td>12            </td><td>-7.347880794884119e-16</td><td>1.0               </td><td>0.9749279121818236 </td><td>-0.22252093395631434</td></tr>\n",
       "<tr><td><i style='opacity: 0.6'>37,395,434</i></td><td>6181             </td><td>KOAM Taxi Association            </td><td>73               </td><td>2014-05-14 12:15:00.000000</td><td>2014-05-14 12:15:00.000000</td><td>2014-05-14 00:00:00.000000</td><td>2              </td><td>5            </td><td>360.0         </td><td>0.0         </td><td>5.05  </td><td>0.0   </td><td>0.0    </td><td>0.0     </td><td>5.05        </td><td>Cash          </td><td>4                     </td><td>17031081202.0        </td><td>17031081300.0         </td><td>8.0                    </td><td>8.0                     </td><td>872c2119dffffff</td><td>872c2119cffffff</td><td>882c2119ddfffff</td><td>882c2119c3fffff</td><td>892c2119dcbffff</td><td>892c2119c33ffff</td><td>2014-05-14 12:00:00.000000</td><td>12            </td><td>1.2246467991473532e-16</td><td>-1.0                   </td><td>2014-05-14 12:00:00.000000</td><td>12            </td><td>-4.898587196589413e-16</td><td>1.0                </td><td>2014-05-14 12:00:00.000000</td><td>12            </td><td>-7.347880794884119e-16</td><td>1.0               </td><td>0.9749279121818236 </td><td>-0.22252093395631434</td></tr>\n",
       "<tr><td><i style='opacity: 0.6'>37,395,435</i></td><td>7517             </td><td>Dispatch Taxi Affiliation        </td><td>50               </td><td>2014-05-13 23:30:00.000000</td><td>2014-05-13 23:45:00.000000</td><td>2014-05-13 00:00:00.000000</td><td>1              </td><td>5            </td><td>840.0         </td><td>3.2         </td><td>10.45 </td><td>2.25  </td><td>0.0    </td><td>1.0     </td><td>13.7        </td><td>Credit Card   </td><td>3                     </td><td>17031320100.0        </td><td>17031832600.0         </td><td>32.0                   </td><td>7.0                     </td><td>872c2119cffffff</td><td>872c2119dffffff</td><td>882c211913fffff</td><td>882c2119d3fffff</td><td>892c2119127ffff</td><td>892c2119d33ffff</td><td>2014-05-13 23:00:00.000000</td><td>23            </td><td>-0.25881904510252157  </td><td>0.9659258262890681     </td><td>2014-05-13 20:00:00.000000</td><td>20            </td><td>0.8660254037844403    </td><td>-0.4999999999999972</td><td>2014-05-13 18:00:00.000000</td><td>18            </td><td>1.102182119232618e-15 </td><td>-1.0              </td><td>0.7818314824680298 </td><td>0.6234898018587336  </td></tr>\n",
       "</tbody>\n",
       "</table>"
      ],
      "text/plain": [
       "<IPython.core.display.HTML object>"
      ]
     },
     "metadata": {},
     "output_type": "display_data"
    }
   ],
   "source": [
    "df.info()"
   ]
  },
  {
   "cell_type": "code",
   "execution_count": null,
   "metadata": {},
   "outputs": [],
   "source": [
    "df_weekday = df[df.start_weekday.isin([0, 1, 2, 3, 4])]\n",
    "df_weekend = df[df.start_weekday.isin([5, 6])]"
   ]
  },
  {
   "cell_type": "code",
   "execution_count": null,
   "metadata": {},
   "outputs": [],
   "source": [
    "# Calculate the average trips per hour for weekdays and weekends\n",
    "average_trips_weekday = df_weekday.groupby(df_weekday.start_1_hour).agg({'Trip Total': 'mean'})['Trip Total'].values\n",
    "average_trips_weekend = df_weekend.groupby(df_weekend.start_1_hour).agg({'Trip Total': 'mean'})['Trip Total'].values\n"
   ]
  },
  {
   "cell_type": "code",
   "execution_count": null,
   "metadata": {},
   "outputs": [],
   "source": [
    "angles = np.linspace(0, 2 * np.pi, num=24, endpoint=False)\n",
    "\n",
    "#vaex to numpy array\n",
    "average_trips_weekday = average_trips_weekday\n",
    "average_trips_weekend = average_trips_weekend\n"
   ]
  },
  {
   "cell_type": "code",
   "execution_count": null,
   "metadata": {},
   "outputs": [],
   "source": [
    "fig = plt.figure(figsize=(15,15))\n",
    "ax = fig.add_subplot(111, polar=True)\n",
    "\n",
    "#shifted_angles = np.roll(angles, -6)\n",
    "\n",
    "# Plot average trips for weekdays in blue\n",
    "ax.bar(angles, average_trips_weekday, width=0.5, align='edge', label='Weekday', color='blue', alpha=0.5)\n",
    "\n",
    "\n",
    "# Plot average trips for weekends in red\n",
    "ax.bar(angles, average_trips_weekend, width=0.5, align='edge', label='Weekend', color='red', alpha=0.5)\n",
    "\n",
    "ax.set_xticks(angles)\n",
    "ax.set_xticklabels(['6am', '7am', '8am', '9am', '10am', '11am', '12pm', '1pm',\n",
    "                    '2pm', '3pm', '4pm', '5pm', '6pm', '7pm', '8pm', '9pm',\n",
    "                    '10pm', '11pm', '12am', '1am', '2am', '3am', '4am', '5am'])\n",
    "\n",
    "ax.legend()\n",
    "plt.show()\n"
   ]
  },
  {
   "cell_type": "code",
   "execution_count": null,
   "metadata": {},
   "outputs": [],
   "source": [
    "#print(angles.shape)\n",
    "#print(average_trips_weekday.shape)\n",
    "#print(average_trips_weekend.shape)\n",
    "import pandas as pd\n",
    "df_pandas = df.to_pandas_df()"
   ]
  },
  {
   "cell_type": "code",
   "execution_count": 7,
   "metadata": {},
   "outputs": [
    {
     "data": {
      "image/png": "[encoded data removed]",
      "text/plain": [
       "<Figure size 2000x1200 with 2 Axes>"
      ]
     },
     "metadata": {},
     "output_type": "display_data"
    }
   ],
   "source": [
    "extract_1 = ['start_weekday', 'start_1_hour']\n",
    "heatmap_df = df[extract_1]\n",
    "pd_heatmap = heatmap_df.to_pandas_df()\n",
    "\n",
    "# Calculate the count of trips for each combination of start_weekday and start_1_hour\n",
    "heatmap_data = pd_heatmap.groupby(['start_weekday', 'start_1_hour']).size().unstack()\n",
    "\n",
    "# Create a figure and axes for the heatmap\n",
    "fig, ax = plt.subplots(figsize=(20, 12))\n",
    "\n",
    "# Create the heatmap using seaborn \n",
    "sns.heatmap(heatmap_data, cmap='viridis', ax=ax)\n",
    "\n",
    "# Set the labels for the x and y axes\n",
    "ax.set_xlabel('Starting Hour')\n",
    "ax.set_ylabel('Day of Week')\n",
    "\n",
    "# Set the tick locations and labels for the x and y axes\n",
    "ax.set_xticks(np.arange(24))\n",
    "ax.set_xticklabels(np.arange(24))\n",
    "ax.set_yticks(np.arange(7))\n",
    "ax.set_yticklabels(['Mon', 'Tue', 'Wed', 'Thu', 'Fri', 'Sat', 'Sun'])\n",
    "\n",
    "# Rotate the x-axis tick labels for better readability\n",
    "plt.xticks(rotation=45)\n",
    "\n",
    "# Show the heatmap\n",
    "plt.show()\n"
   ]
  },
  {
   "cell_type": "code",
   "execution_count": null,
   "metadata": {},
   "outputs": [],
   "source": [
    "# Calculate average trip distance\n",
    "average_distance = df['Trip Miles'].mean().item()\n",
    "\n",
    "# Calculate minimum trip distance\n",
    "min_distance = df['Trip Miles'].min().item()\n",
    "\n",
    "# Calculate maximum trip distance\n",
    "max_distance = df['Trip Miles'].max().item()\n",
    "\n",
    "print(\"Average Trip Distance:\", average_distance)\n",
    "print(\"Minimum Trip Distance:\", min_distance)\n",
    "print(\"Maximum Trip Distance:\", max_distance)\n",
    "\n",
    "# Calculate average trip duration\n",
    "average_duration = df['Trip Seconds'].mean().item()\n",
    "\n",
    "# Calculate minimum trip duration\n",
    "min_duration = df['Trip Seconds'].min().item()\n",
    "\n",
    "# Calculate maximum trip duration\n",
    "max_duration = df['Trip Seconds'].max().item()\n",
    "\n",
    "print(\"Average Trip Duration:\", average_duration, \"seconds\")\n",
    "print(\"Minimum Trip Duration:\", min_duration, \"seconds\")\n",
    "print(\"Maximum Trip Duration:\", max_duration, \"seconds\")\n"
   ]
  },
  {
   "cell_type": "code",
   "execution_count": null,
   "metadata": {},
   "outputs": [],
   "source": [
    "extract_plt = ['ts_start', 'start_weekday', 'start_month']\n",
    "\n",
    "light_df_plt = df[extract_plt]\n",
    "\n",
    "light_df_pd = light_df_plt.to_pandas_df()\n",
    "\n",
    "grouped_by_month = light_df_pd.groupby('start_month').size()\n",
    "\n",
    "# Create a bar plot\n",
    "plt.figure(figsize=(10, 6))\n",
    "grouped_by_month.plot(kind='bar', color='skyblue')\n",
    "plt.xlabel('Month')\n",
    "plt.ylabel('Number of Rides')\n",
    "plt.title('Number of Rides for Each Starting Month')\n",
    "plt.xticks(rotation=0)\n",
    "plt.show()\n",
    "\n",
    "grouped_by_month = light_df_pd.groupby('start_month')['ts_start'].agg(count='count')\n",
    "\n",
    "# Print the count of rides and average trips per month\n",
    "print(\"Count of Rides per Month:\")\n",
    "print(grouped_by_month['count'])\n",
    "\n",
    "rides_sum_per_month = light_df_pd.groupby('start_month')['ts_start'].count()\n",
    "\n",
    "# Calculate the total sum of rides across all months\n",
    "total_rides_sum = rides_sum_per_month.sum()\n",
    "\n",
    "# Print the total sum of rides\n",
    "print(\"Total Sum of Rides:\", total_rides_sum)"
   ]
  },
  {
   "cell_type": "code",
   "execution_count": null,
   "metadata": {},
   "outputs": [],
   "source": [
    "import pandas as pd\n",
    "import matplotlib.pyplot as plt\n",
    "import seaborn as sns\n",
    "\n",
    "# Create a pivot table to calculate the average trip duration\n",
    "pivot_table = df_pandas.pivot_table(values='Trip Seconds', index='start_weekday', columns='start_1_hour', aggfunc='mean')\n",
    "\n",
    "# Create the heatmap\n",
    "plt.figure(figsize=(25, 12))\n",
    "sns.heatmap(pivot_table, cmap='YlOrRd', annot=True, fmt='.0f', cbar=True)\n",
    "plt.title('Average Trip Duration by Start Hour and Weekday')\n",
    "plt.xlabel('Start Hour')\n",
    "plt.ylabel('Weekday')\n",
    "plt.show()\n"
   ]
  },
  {
   "cell_type": "markdown",
   "metadata": {},
   "source": [
    "## Spatial Analysis"
   ]
  },
  {
   "cell_type": "markdown",
   "metadata": {},
   "source": [
    "### Import of Spatial and Weather Data"
   ]
  },
  {
   "cell_type": "code",
   "execution_count": 52,
   "metadata": {},
   "outputs": [],
   "source": [
    "#Hexagons\n",
    "trips_df_1h_r7 = vaex.open('data/trips/trips_grouped_1h_r7.hdf5')\n",
    "trips_df_1h_r8 = vaex.open('data/trips/trips_grouped_1h_r8.hdf5')\n",
    "trips_df_1h_r9 = vaex.open('data/trips/trips_grouped_1h_r9.hdf5')\n",
    "\n",
    "trips_df_4h_r7 = vaex.open('data/trips/trips_grouped_4h_r7.hdf5')\n",
    "trips_df_4h_r8 = vaex.open('data/trips/trips_grouped_4h_r8.hdf5')\n",
    "trips_df_4h_r9 = vaex.open('data/trips/trips_grouped_4h_r9.hdf5')\n",
    "\n",
    "trips_df_6h_r7 = vaex.open('data/trips/trips_grouped_6h_r7.hdf5')\n",
    "trips_df_6h_r8 = vaex.open('data/trips/trips_grouped_6h_r8.hdf5')\n",
    "trips_df_6h_r9 = vaex.open('data/trips/trips_grouped_6h_r9.hdf5')\n",
    "\n",
    "\n",
    "#Census Tract and Community Area data\n",
    "trips_df_1h_census = vaex.open('data/trips/trips_grouped_1h_census.hdf5')\n",
    "trips_df_1h_carea = vaex.open('data/trips/trips_grouped_1h_comArea.hdf5')\n",
    "\n",
    "trips_df_4h_census = vaex.open('data/trips/trips_grouped_4h_census.hdf5')\n",
    "trips_df_4h_carea = vaex.open('data/trips/trips_grouped_4h_comArea.hdf5')\n",
    "\n",
    "trips_df_6h_census = vaex.open('data/trips/trips_grouped_6h_census.hdf5')\n",
    "trips_df_6h_carea = vaex.open('data/trips/trips_grouped_6h_comArea.hdf5')\n",
    "\n",
    "df_tracts = gpd.read_file('data/raw/census_tract_geometry.geojson')\n",
    "df_commarea = gpd.read_file('data/raw/community_area_geometry.geojson')\n",
    "\n",
    "#Weather\n",
    "weather_df_1h = pd.read_pickle('data/weather_data_hourly_1.pickle')\n",
    "weather_df_4h = pd.read_pickle('data/weather_data_hourly_4.pickle')\n",
    "weather_df_6h = pd.read_pickle('data/weather_data_hourly_6.pickle')"
   ]
  },
  {
   "cell_type": "markdown",
   "metadata": {},
   "source": [
    "### Function Definition: Groupings and Maps"
   ]
  },
  {
   "cell_type": "markdown",
   "metadata": {},
   "source": [
    "#### Hexagons"
   ]
  },
  {
   "cell_type": "code",
   "execution_count": 53,
   "metadata": {},
   "outputs": [],
   "source": [
    "#Method to convert the hexagons to polygons using H3\n",
    "def convert_hex_to_polygon(hex):\n",
    "        polygon = None\n",
    "        if hex:\n",
    "               polygon = Polygon(h3.h3_to_geo_boundary(hex, geo_json=True))         \n",
    "        return polygon"
   ]
  },
  {
   "cell_type": "code",
   "execution_count": 54,
   "metadata": {},
   "outputs": [],
   "source": [
    "#A function to aggregate the trips for census tract and community area pickup and dropoff to create a geodataframe for visual representation\n",
    "def create_hex_geodataframe(df, geometry):\n",
    "\n",
    "    gdf = df.drop_duplicates()\n",
    "\n",
    "    #Create the geodataframe and specify the geometry column for visual representation\n",
    "    gdf = gpd.GeoDataFrame(gdf, geometry=geometry, crs=\"EPSG:4326\")\n",
    "\n",
    "    return gdf"
   ]
  },
  {
   "cell_type": "code",
   "execution_count": 55,
   "metadata": {},
   "outputs": [],
   "source": [
    "def process_dataframes(df, hour, resolution, weather_df):\n",
    "    trip_attributes = [\n",
    "        'ts_start_{}_hour'.format(hour),\n",
    "        'start_month',\n",
    "        'start_weekday',\n",
    "        'start_{}_hour'.format(hour),\n",
    "        'pickup_hex_{}'.format(resolution),\n",
    "        'demand',\n",
    "        'Trip Seconds',\n",
    "        'Trip Miles',\n",
    "        'Fare',\n",
    "        'Trip Total'\n",
    "    ]\n",
    "    \n",
    "    df = df[trip_attributes].to_pandas_df()\n",
    "    df_w = df.merge(weather_df, left_on = 'ts_start_{}_hour'.format(hour), right_on = 'datetime', how = 'left')\n",
    "    df_w = df_w[(df_w['pickup_hex_{}'.format(resolution)].notna()) & (df_w['pickup_hex_{}'.format(resolution)] != 'None')]\n",
    "    df_w['geometry'] = df_w['pickup_hex_{}'.format(resolution)].apply(convert_hex_to_polygon)\n",
    "\n",
    "\n",
    "    gdf = create_hex_geodataframe(df_w, 'geometry')\n",
    "\n",
    "    return gdf"
   ]
  },
  {
   "cell_type": "code",
   "execution_count": 56,
   "metadata": {},
   "outputs": [],
   "source": [
    "#Prepare data for 1 hourly and resolutions 7 - 9\n",
    "trips_gdf_1h_r7_w = process_dataframes(trips_df_1h_r7, 1, 7, weather_df_1h)\n",
    "trips_gdf_1h_r8_w = process_dataframes(trips_df_1h_r8, 1, 8, weather_df_1h)\n",
    "trips_gdf_1h_r9_w = process_dataframes(trips_df_1h_r9, 1, 9, weather_df_1h)"
   ]
  },
  {
   "cell_type": "code",
   "execution_count": null,
   "metadata": {},
   "outputs": [],
   "source": [
    "#Prepare data for 4 hourly and resolutions 7 - 9\n",
    "trips_gdf_4h_r7_w = process_dataframes(trips_df_4h_r7, 4, 7, weather_df_4h)\n",
    "trips_gdf_4h_r8_w = process_dataframes(trips_df_4h_r8, 4, 8, weather_df_4h)\n",
    "trips_gdf_4h_r9_w = process_dataframes(trips_df_4h_r9, 4, 9, weather_df_4h)"
   ]
  },
  {
   "cell_type": "code",
   "execution_count": null,
   "metadata": {},
   "outputs": [],
   "source": [
    "#Prepare data for 6 hourly and resolutions 7 - 9\n",
    "trips_gdf_6h_r7_w = process_dataframes(trips_df_6h_r7, 6, 7, weather_df_6h)\n",
    "trips_gdf_6h_r8_w = process_dataframes(trips_df_6h_r8, 6, 8, weather_df_6h)\n",
    "trips_gdf_6h_r9_w = process_dataframes(trips_df_6h_r9, 6, 9, weather_df_6h)"
   ]
  },
  {
   "cell_type": "code",
   "execution_count": 81,
   "metadata": {},
   "outputs": [],
   "source": [
    "def trip_vis(gdf, groupby_col, agg_col, vis_col, text):\n",
    "    gdf_agg = gdf.groupby(groupby_col).agg(agg_col, axis=1)#.rename(rename_col, axis=1)\n",
    "\n",
    "    #map = plotRidesHexagon(gdf_agg, vis_col, text)\n",
    "\n",
    "    return gdf_agg"
   ]
  },
  {
   "cell_type": "markdown",
   "metadata": {},
   "source": [
    "#### Census Tract and Community Area"
   ]
  },
  {
   "cell_type": "code",
   "execution_count": 75,
   "metadata": {},
   "outputs": [],
   "source": [
    "df_ct_ca = df.fillna(value= 0, column_names=['Pickup Census Tract', 'Dropoff Census Tract', 'Pickup Community Area', 'Dropoff Community Area'])\n",
    "df_ct_ca['Pickup Census Tract'] = df_ct_ca['Pickup Census Tract'].astype('int64')\n",
    "df_ct_ca['Dropoff Census Tract'] = df_ct_ca['Dropoff Census Tract'].astype('int64')\n",
    "df_ct_ca['Pickup Community Area'] = df_ct_ca['Pickup Community Area'].astype('int64')\n",
    "df_ct_ca['Dropoff Community Area'] = df_ct_ca['Dropoff Community Area'].astype('int64')"
   ]
  },
  {
   "cell_type": "code",
   "execution_count": 76,
   "metadata": {},
   "outputs": [],
   "source": [
    "#A function to aggregate the trips for census tract and community area pickup and dropoff to create a geodataframe for visual representation\n",
    "def create_geodataframe(column_groupby, array_drop_columns, column_join, geometry, merge_df):\n",
    "\n",
    "    #Groupby spatial unit and count-aggregate for the trips started. Create a pandas-dataframe based on that\n",
    "    gdf = df_ct_ca.groupby(by= column_groupby, progress=True).agg({ 'ts_start':'count' }).to_pandas_df()\n",
    "\n",
    "    #Making sure no NaN or \"None\" values are present in the dataframe\n",
    "    gdf = gdf[(gdf[column_groupby].notna()) & (gdf[column_groupby] != \"None\")]\n",
    "\n",
    "    #Merge the taxi dataframe with the external dataframe containing the geometry information based on the given identifier column\n",
    "    gdf = pd.merge(gdf, merge_df, left_on = column_groupby, right_on = column_join)\n",
    "\n",
    "    #Drop non-essential columns\n",
    "    gdf.drop(array_drop_columns, axis = 1, inplace = True)\n",
    "\n",
    "    gdf = gdf.drop_duplicates()\n",
    "\n",
    "    #Create the geodataframe and specify the geometry column for visual representation\n",
    "    gdf = gpd.GeoDataFrame(gdf, geometry=geometry, crs=\"EPSG:4326\")\n",
    "\n",
    "    return gdf"
   ]
  },
  {
   "cell_type": "code",
   "execution_count": 77,
   "metadata": {},
   "outputs": [
    {
     "name": "stdout",
     "output_type": "stream",
     "text": [
      "groupby [########################################] 100.00% elapsed time  :     1.18s =  0.0m =  0.0h\n",
      "groupby [########################################] 100.00% elapsed time  :     1.08s =  0.0m =  0.0h\n",
      "groupby [########################################] 100.00% elapsed time  :     1.24s =  0.0m =  0.0h\n",
      "groupby [########################################] 100.00% elapsed time  :     0.80s =  0.0m =  0.0h\n",
      " "
     ]
    }
   ],
   "source": [
    "#Create the four different dataframes \n",
    "df_census_pickup = create_geodataframe('Pickup Census Tract', ['geoid10'],'geoid10', 'geometry', df_tracts)\n",
    "df_census_dropoff = create_geodataframe('Dropoff Census Tract', ['geoid10'], 'geoid10', 'geometry', df_tracts)\n",
    "df_carea_pickup = create_geodataframe('Pickup Community Area', ['commarea'], 'commarea', 'geometry', df_commarea)\n",
    "df_carea_dropoff = create_geodataframe('Dropoff Community Area', ['commarea'], 'commarea', 'geometry', df_commarea)"
   ]
  },
  {
   "cell_type": "code",
   "execution_count": 78,
   "metadata": {},
   "outputs": [
    {
     "data": {
      "text/html": [
       "<div>\n",
       "<style scoped>\n",
       "    .dataframe tbody tr th:only-of-type {\n",
       "        vertical-align: middle;\n",
       "    }\n",
       "\n",
       "    .dataframe tbody tr th {\n",
       "        vertical-align: top;\n",
       "    }\n",
       "\n",
       "    .dataframe thead th {\n",
       "        text-align: right;\n",
       "    }\n",
       "</style>\n",
       "<table border=\"1\" class=\"dataframe\">\n",
       "  <thead>\n",
       "    <tr style=\"text-align: right;\">\n",
       "      <th></th>\n",
       "      <th>Pickup Census Tract</th>\n",
       "      <th>ts_start</th>\n",
       "      <th>geometry</th>\n",
       "    </tr>\n",
       "  </thead>\n",
       "  <tbody>\n",
       "    <tr>\n",
       "      <th>0</th>\n",
       "      <td>17031832600</td>\n",
       "      <td>120893</td>\n",
       "      <td>MULTIPOLYGON (((-87.65651 41.91079, -87.65682 ...</td>\n",
       "    </tr>\n",
       "    <tr>\n",
       "      <th>1</th>\n",
       "      <td>17031081202</td>\n",
       "      <td>231225</td>\n",
       "      <td>MULTIPOLYGON (((-87.62180 41.90410, -87.62097 ...</td>\n",
       "    </tr>\n",
       "    <tr>\n",
       "      <th>2</th>\n",
       "      <td>17031020302</td>\n",
       "      <td>102</td>\n",
       "      <td>MULTIPOLYGON (((-87.69018 42.00956, -87.69018 ...</td>\n",
       "    </tr>\n",
       "    <tr>\n",
       "      <th>3</th>\n",
       "      <td>17031760802</td>\n",
       "      <td>8</td>\n",
       "      <td>MULTIPOLYGON (((-87.85846 41.95793, -87.85833 ...</td>\n",
       "    </tr>\n",
       "    <tr>\n",
       "      <th>4</th>\n",
       "      <td>17031560400</td>\n",
       "      <td>26</td>\n",
       "      <td>MULTIPOLYGON (((-87.73990 41.80036, -87.74027 ...</td>\n",
       "    </tr>\n",
       "  </tbody>\n",
       "</table>\n",
       "</div>"
      ],
      "text/plain": [
       "   Pickup Census Tract  ts_start   \n",
       "0          17031832600    120893  \\\n",
       "1          17031081202    231225   \n",
       "2          17031020302       102   \n",
       "3          17031760802         8   \n",
       "4          17031560400        26   \n",
       "\n",
       "                                            geometry  \n",
       "0  MULTIPOLYGON (((-87.65651 41.91079, -87.65682 ...  \n",
       "1  MULTIPOLYGON (((-87.62180 41.90410, -87.62097 ...  \n",
       "2  MULTIPOLYGON (((-87.69018 42.00956, -87.69018 ...  \n",
       "3  MULTIPOLYGON (((-87.85846 41.95793, -87.85833 ...  \n",
       "4  MULTIPOLYGON (((-87.73990 41.80036, -87.74027 ...  "
      ]
     },
     "execution_count": 78,
     "metadata": {},
     "output_type": "execute_result"
    }
   ],
   "source": [
    "df_census_pickup.head()"
   ]
  },
  {
   "cell_type": "code",
   "execution_count": 94,
   "metadata": {},
   "outputs": [],
   "source": [
    "#Function to visualize the distribution of taxi trips in the different spatial units\n",
    "def plotRidesHexagon(gdf, column, text):\n",
    "    # Preparations for choropleth plotting\n",
    "    #gdf.index.name = None\n",
    "    gdf = gdf.reset_index()\n",
    "    gjson = gdf.to_json()\n",
    "\n",
    "    # Create a color map\n",
    "    colormap = 'BuPu'\n",
    "\n",
    "    # Calculate the color scale range based on the data\n",
    "    min_value = gdf[column].min()\n",
    "    max_value = gdf[column].max()\n",
    "\n",
    "    # Plotting with Folium\n",
    "    m = folium.Map(location=[41.88065, -87.62642], zoom_start=10)\n",
    "\n",
    "    # Configure the choropleth layer\n",
    "    folium.Choropleth(\n",
    "        geo_data=gjson,\n",
    "        name=\"choropleth\",\n",
    "        data=gdf,\n",
    "        columns=[\"index\", column],\n",
    "        key_on='feature.properties.index',\n",
    "        fill_opacity=0.7,\n",
    "        line_opacity=0.2,\n",
    "        fill_color=colormap,\n",
    "        legend_name=text,\n",
    "        line_color='black',\n",
    "        highlight=True,  # Add interactivity for mouseover effect\n",
    "        smooth_factor=1  # Improve the smoothness of polygon edges\n",
    "    ).add_to(m)\n",
    "\n",
    "    # Add tooltips to the polygons\n",
    "    style_function = lambda x: {'fillColor': colormap(x['properties'][column]), 'color': 'blue', 'fillOpacity': 0.1, 'weight': 0.2}\n",
    "    highlight_function = lambda x: {'fillColor': 'white', 'color': 'grey', 'fillOpacity': 0.3, 'weight': 0.1}\n",
    "\n",
    "    #style_function = lambda x: {'fillColor': colormap, 'color': 'blue', 'fillOpacity': 0.1, 'weight': 0.2}\n",
    "    #highlight_function = lambda x: {'fillColor': 'white', 'color': 'grey', 'fillOpacity': 0.3, 'weight': 0.1}\n",
    "    tooltip = folium.features.GeoJsonTooltip(fields=[column], aliases=[text], localize=True)\n",
    "    folium.GeoJson(\n",
    "        gjson,\n",
    "        style_function=style_function,\n",
    "        highlight_function=highlight_function,\n",
    "        tooltip=tooltip\n",
    "    ).add_to(m)\n",
    "\n",
    "\n",
    "    return m"
   ]
  },
  {
   "cell_type": "markdown",
   "metadata": {},
   "source": [
    "### Analysis Hexagons"
   ]
  },
  {
   "cell_type": "markdown",
   "metadata": {},
   "source": [
    "#### Finding optimal resolution"
   ]
  },
  {
   "cell_type": "code",
   "execution_count": 110,
   "metadata": {},
   "outputs": [],
   "source": [
    "df = trip_vis(trips_gdf_1h_r7_w, 'geometry', {'demand': 'sum'}, 'demand', 'test')"
   ]
  },
  {
   "cell_type": "code",
   "execution_count": 112,
   "metadata": {},
   "outputs": [
    {
     "data": {
      "text/html": [
       "<div>\n",
       "<style scoped>\n",
       "    .dataframe tbody tr th:only-of-type {\n",
       "        vertical-align: middle;\n",
       "    }\n",
       "\n",
       "    .dataframe tbody tr th {\n",
       "        vertical-align: top;\n",
       "    }\n",
       "\n",
       "    .dataframe thead th {\n",
       "        text-align: right;\n",
       "    }\n",
       "</style>\n",
       "<table border=\"1\" class=\"dataframe\">\n",
       "  <thead>\n",
       "    <tr style=\"text-align: right;\">\n",
       "      <th></th>\n",
       "      <th>index</th>\n",
       "      <th>geometry</th>\n",
       "      <th>demand</th>\n",
       "    </tr>\n",
       "  </thead>\n",
       "  <tbody>\n",
       "    <tr>\n",
       "      <th>0</th>\n",
       "      <td>0</td>\n",
       "      <td>POLYGON ((41.63881 41.67712, 41.63556 41.66475...</td>\n",
       "      <td>331</td>\n",
       "    </tr>\n",
       "    <tr>\n",
       "      <th>1</th>\n",
       "      <td>1</td>\n",
       "      <td>POLYGON ((41.65794 41.69288, 41.65469 41.68051...</td>\n",
       "      <td>609</td>\n",
       "    </tr>\n",
       "    <tr>\n",
       "      <th>2</th>\n",
       "      <td>2</td>\n",
       "      <td>POLYGON ((41.66732 41.67152, 41.66407 41.65915...</td>\n",
       "      <td>1</td>\n",
       "    </tr>\n",
       "    <tr>\n",
       "      <th>3</th>\n",
       "      <td>3</td>\n",
       "      <td>POLYGON ((41.67708 41.70862, 41.67382 41.69626...</td>\n",
       "      <td>2032</td>\n",
       "    </tr>\n",
       "    <tr>\n",
       "      <th>4</th>\n",
       "      <td>4</td>\n",
       "      <td>POLYGON ((41.69622 41.72436, 41.69296 41.71200...</td>\n",
       "      <td>4748</td>\n",
       "    </tr>\n",
       "    <tr>\n",
       "      <th>5</th>\n",
       "      <td>5</td>\n",
       "      <td>POLYGON ((41.71536 41.74010, 41.71210 41.72773...</td>\n",
       "      <td>1693</td>\n",
       "    </tr>\n",
       "    <tr>\n",
       "      <th>6</th>\n",
       "      <td>6</td>\n",
       "      <td>POLYGON ((41.68645 41.68727, 41.68319 41.67490...</td>\n",
       "      <td>3</td>\n",
       "    </tr>\n",
       "    <tr>\n",
       "      <th>7</th>\n",
       "      <td>7</td>\n",
       "      <td>POLYGON ((41.73451 41.75582, 41.73124 41.74346...</td>\n",
       "      <td>14155</td>\n",
       "    </tr>\n",
       "    <tr>\n",
       "      <th>8</th>\n",
       "      <td>8</td>\n",
       "      <td>POLYGON ((41.77281 41.78725, 41.76955 41.77490...</td>\n",
       "      <td>409258</td>\n",
       "    </tr>\n",
       "    <tr>\n",
       "      <th>9</th>\n",
       "      <td>9</td>\n",
       "      <td>POLYGON ((41.75366 41.77154, 41.75039 41.75918...</td>\n",
       "      <td>19779</td>\n",
       "    </tr>\n",
       "    <tr>\n",
       "      <th>10</th>\n",
       "      <td>10</td>\n",
       "      <td>POLYGON ((41.79197 41.80295, 41.78870 41.79060...</td>\n",
       "      <td>285787</td>\n",
       "    </tr>\n",
       "    <tr>\n",
       "      <th>11</th>\n",
       "      <td>11</td>\n",
       "      <td>POLYGON ((41.78263 41.82429, 41.77935 41.81195...</td>\n",
       "      <td>7611</td>\n",
       "    </tr>\n",
       "    <tr>\n",
       "      <th>12</th>\n",
       "      <td>12</td>\n",
       "      <td>POLYGON ((41.81114 41.81865, 41.80787 41.80630...</td>\n",
       "      <td>58778</td>\n",
       "    </tr>\n",
       "    <tr>\n",
       "      <th>13</th>\n",
       "      <td>13</td>\n",
       "      <td>POLYGON ((41.80179 41.83998, 41.79852 41.82764...</td>\n",
       "      <td>6698</td>\n",
       "    </tr>\n",
       "    <tr>\n",
       "      <th>14</th>\n",
       "      <td>14</td>\n",
       "      <td>POLYGON ((41.82097 41.85567, 41.81769 41.84333...</td>\n",
       "      <td>215365</td>\n",
       "    </tr>\n",
       "    <tr>\n",
       "      <th>15</th>\n",
       "      <td>15</td>\n",
       "      <td>POLYGON ((41.84014 41.87135, 41.83687 41.85901...</td>\n",
       "      <td>642008</td>\n",
       "    </tr>\n",
       "    <tr>\n",
       "      <th>16</th>\n",
       "      <td>16</td>\n",
       "      <td>POLYGON ((41.85933 41.88702, 41.85604 41.87469...</td>\n",
       "      <td>6754937</td>\n",
       "    </tr>\n",
       "    <tr>\n",
       "      <th>17</th>\n",
       "      <td>17</td>\n",
       "      <td>POLYGON ((41.87851 41.90268, 41.87523 41.89035...</td>\n",
       "      <td>12607817</td>\n",
       "    </tr>\n",
       "    <tr>\n",
       "      <th>18</th>\n",
       "      <td>18</td>\n",
       "      <td>POLYGON ((41.89770 41.91834, 41.89441 41.90601...</td>\n",
       "      <td>2864759</td>\n",
       "    </tr>\n",
       "    <tr>\n",
       "      <th>19</th>\n",
       "      <td>19</td>\n",
       "      <td>POLYGON ((41.93609 41.94963, 41.93280 41.93731...</td>\n",
       "      <td>2735155</td>\n",
       "    </tr>\n",
       "    <tr>\n",
       "      <th>20</th>\n",
       "      <td>20</td>\n",
       "      <td>POLYGON ((41.95530 41.96526, 41.95200 41.95295...</td>\n",
       "      <td>886670</td>\n",
       "    </tr>\n",
       "    <tr>\n",
       "      <th>21</th>\n",
       "      <td>21</td>\n",
       "      <td>POLYGON ((41.94598 41.98658, 41.94269 41.97427...</td>\n",
       "      <td>93028</td>\n",
       "    </tr>\n",
       "    <tr>\n",
       "      <th>22</th>\n",
       "      <td>22</td>\n",
       "      <td>POLYGON ((41.96519 42.00221, 41.96189 41.98989...</td>\n",
       "      <td>388662</td>\n",
       "    </tr>\n",
       "    <tr>\n",
       "      <th>23</th>\n",
       "      <td>23</td>\n",
       "      <td>POLYGON ((41.98441 42.01782, 41.98111 42.00551...</td>\n",
       "      <td>296479</td>\n",
       "    </tr>\n",
       "    <tr>\n",
       "      <th>24</th>\n",
       "      <td>24</td>\n",
       "      <td>POLYGON ((42.00363 42.03343, 42.00032 42.02113...</td>\n",
       "      <td>1721</td>\n",
       "    </tr>\n",
       "    <tr>\n",
       "      <th>25</th>\n",
       "      <td>25</td>\n",
       "      <td>POLYGON ((41.99372 41.99651, 41.99041 41.98420...</td>\n",
       "      <td>29917</td>\n",
       "    </tr>\n",
       "    <tr>\n",
       "      <th>26</th>\n",
       "      <td>26</td>\n",
       "      <td>POLYGON ((41.97450 41.98089, 41.97120 41.96857...</td>\n",
       "      <td>2107460</td>\n",
       "    </tr>\n",
       "    <tr>\n",
       "      <th>27</th>\n",
       "      <td>27</td>\n",
       "      <td>POLYGON ((41.91690 41.93399, 41.91361 41.92166...</td>\n",
       "      <td>2294995</td>\n",
       "    </tr>\n",
       "    <tr>\n",
       "      <th>28</th>\n",
       "      <td>28</td>\n",
       "      <td>POLYGON ((41.84948 41.85001, 41.84620 41.83768...</td>\n",
       "      <td>1</td>\n",
       "    </tr>\n",
       "    <tr>\n",
       "      <th>29</th>\n",
       "      <td>29</td>\n",
       "      <td>POLYGON ((41.83031 41.83433, 41.82703 41.82199...</td>\n",
       "      <td>71098</td>\n",
       "    </tr>\n",
       "  </tbody>\n",
       "</table>\n",
       "</div>"
      ],
      "text/plain": [
       "    index                                           geometry    demand\n",
       "0       0  POLYGON ((41.63881 41.67712, 41.63556 41.66475...       331\n",
       "1       1  POLYGON ((41.65794 41.69288, 41.65469 41.68051...       609\n",
       "2       2  POLYGON ((41.66732 41.67152, 41.66407 41.65915...         1\n",
       "3       3  POLYGON ((41.67708 41.70862, 41.67382 41.69626...      2032\n",
       "4       4  POLYGON ((41.69622 41.72436, 41.69296 41.71200...      4748\n",
       "5       5  POLYGON ((41.71536 41.74010, 41.71210 41.72773...      1693\n",
       "6       6  POLYGON ((41.68645 41.68727, 41.68319 41.67490...         3\n",
       "7       7  POLYGON ((41.73451 41.75582, 41.73124 41.74346...     14155\n",
       "8       8  POLYGON ((41.77281 41.78725, 41.76955 41.77490...    409258\n",
       "9       9  POLYGON ((41.75366 41.77154, 41.75039 41.75918...     19779\n",
       "10     10  POLYGON ((41.79197 41.80295, 41.78870 41.79060...    285787\n",
       "11     11  POLYGON ((41.78263 41.82429, 41.77935 41.81195...      7611\n",
       "12     12  POLYGON ((41.81114 41.81865, 41.80787 41.80630...     58778\n",
       "13     13  POLYGON ((41.80179 41.83998, 41.79852 41.82764...      6698\n",
       "14     14  POLYGON ((41.82097 41.85567, 41.81769 41.84333...    215365\n",
       "15     15  POLYGON ((41.84014 41.87135, 41.83687 41.85901...    642008\n",
       "16     16  POLYGON ((41.85933 41.88702, 41.85604 41.87469...   6754937\n",
       "17     17  POLYGON ((41.87851 41.90268, 41.87523 41.89035...  12607817\n",
       "18     18  POLYGON ((41.89770 41.91834, 41.89441 41.90601...   2864759\n",
       "19     19  POLYGON ((41.93609 41.94963, 41.93280 41.93731...   2735155\n",
       "20     20  POLYGON ((41.95530 41.96526, 41.95200 41.95295...    886670\n",
       "21     21  POLYGON ((41.94598 41.98658, 41.94269 41.97427...     93028\n",
       "22     22  POLYGON ((41.96519 42.00221, 41.96189 41.98989...    388662\n",
       "23     23  POLYGON ((41.98441 42.01782, 41.98111 42.00551...    296479\n",
       "24     24  POLYGON ((42.00363 42.03343, 42.00032 42.02113...      1721\n",
       "25     25  POLYGON ((41.99372 41.99651, 41.99041 41.98420...     29917\n",
       "26     26  POLYGON ((41.97450 41.98089, 41.97120 41.96857...   2107460\n",
       "27     27  POLYGON ((41.91690 41.93399, 41.91361 41.92166...   2294995\n",
       "28     28  POLYGON ((41.84948 41.85001, 41.84620 41.83768...         1\n",
       "29     29  POLYGON ((41.83031 41.83433, 41.82703 41.82199...     71098"
      ]
     },
     "execution_count": 112,
     "metadata": {},
     "output_type": "execute_result"
    }
   ],
   "source": [
    "df = df.reset_index()\n",
    "df"
   ]
  },
  {
   "cell_type": "code",
   "execution_count": null,
   "metadata": {},
   "outputs": [],
   "source": []
  },
  {
   "cell_type": "code",
   "execution_count": 113,
   "metadata": {},
   "outputs": [
    {
     "ename": "ValueError",
     "evalue": "cannot insert geometry, already exists",
     "output_type": "error",
     "traceback": [
      "\u001b[1;31m---------------------------------------------------------------------------\u001b[0m",
      "\u001b[1;31mValueError\u001b[0m                                Traceback (most recent call last)",
      "\u001b[1;32m~\\AppData\\Local\\Temp\\ipykernel_27612\\709853550.py\u001b[0m in \u001b[0;36m?\u001b[1;34m()\u001b[0m\n\u001b[1;32m----> 1\u001b[1;33m \u001b[0mplotRidesHexagon\u001b[0m\u001b[1;33m(\u001b[0m\u001b[0mdf\u001b[0m\u001b[1;33m,\u001b[0m \u001b[1;34m'demand'\u001b[0m\u001b[1;33m,\u001b[0m \u001b[1;34m'text'\u001b[0m\u001b[1;33m)\u001b[0m\u001b[1;33m\u001b[0m\u001b[1;33m\u001b[0m\u001b[0m\n\u001b[0m",
      "\u001b[1;32m~\\AppData\\Local\\Temp\\ipykernel_27612\\651444441.py\u001b[0m in \u001b[0;36m?\u001b[1;34m(gdf, column, text)\u001b[0m\n\u001b[0;32m      2\u001b[0m \u001b[1;32mdef\u001b[0m \u001b[0mplotRidesHexagon\u001b[0m\u001b[1;33m(\u001b[0m\u001b[0mgdf\u001b[0m\u001b[1;33m,\u001b[0m \u001b[0mcolumn\u001b[0m\u001b[1;33m,\u001b[0m \u001b[0mtext\u001b[0m\u001b[1;33m)\u001b[0m\u001b[1;33m:\u001b[0m\u001b[1;33m\u001b[0m\u001b[1;33m\u001b[0m\u001b[0m\n\u001b[0;32m      3\u001b[0m     \u001b[1;31m# Preparations for choropleth plotting\u001b[0m\u001b[1;33m\u001b[0m\u001b[1;33m\u001b[0m\u001b[0m\n\u001b[0;32m      4\u001b[0m     \u001b[0mgdf\u001b[0m\u001b[1;33m.\u001b[0m\u001b[0mindex\u001b[0m\u001b[1;33m.\u001b[0m\u001b[0mname\u001b[0m \u001b[1;33m=\u001b[0m \u001b[1;34m'geometry'\u001b[0m\u001b[1;33m\u001b[0m\u001b[1;33m\u001b[0m\u001b[0m\n\u001b[1;32m----> 5\u001b[1;33m     \u001b[0mgdf\u001b[0m \u001b[1;33m=\u001b[0m \u001b[0mgdf\u001b[0m\u001b[1;33m.\u001b[0m\u001b[0mreset_index\u001b[0m\u001b[1;33m(\u001b[0m\u001b[1;33m)\u001b[0m\u001b[1;33m\u001b[0m\u001b[1;33m\u001b[0m\u001b[0m\n\u001b[0m\u001b[0;32m      6\u001b[0m     \u001b[0mgjson\u001b[0m \u001b[1;33m=\u001b[0m \u001b[0mgdf\u001b[0m\u001b[1;33m.\u001b[0m\u001b[0mto_json\u001b[0m\u001b[1;33m(\u001b[0m\u001b[1;33m)\u001b[0m\u001b[1;33m\u001b[0m\u001b[1;33m\u001b[0m\u001b[0m\n\u001b[0;32m      7\u001b[0m \u001b[1;33m\u001b[0m\u001b[0m\n\u001b[0;32m      8\u001b[0m     \u001b[1;31m# Create a color map\u001b[0m\u001b[1;33m\u001b[0m\u001b[1;33m\u001b[0m\u001b[0m\n",
      "\u001b[1;32mc:\\Users\\phili\\anaconda3\\lib\\site-packages\\pandas\\core\\frame.py\u001b[0m in \u001b[0;36m?\u001b[1;34m(self, level, drop, inplace, col_level, col_fill, allow_duplicates, names)\u001b[0m\n\u001b[0;32m   6215\u001b[0m                     level_values = algorithms.take(\n\u001b[0;32m   6216\u001b[0m                         \u001b[0mlevel_values\u001b[0m\u001b[1;33m,\u001b[0m \u001b[0mlab\u001b[0m\u001b[1;33m,\u001b[0m \u001b[0mallow_fill\u001b[0m\u001b[1;33m=\u001b[0m\u001b[1;32mTrue\u001b[0m\u001b[1;33m,\u001b[0m \u001b[0mfill_value\u001b[0m\u001b[1;33m=\u001b[0m\u001b[0mlev\u001b[0m\u001b[1;33m.\u001b[0m\u001b[0m_na_value\u001b[0m\u001b[1;33m\u001b[0m\u001b[1;33m\u001b[0m\u001b[0m\n\u001b[0;32m   6217\u001b[0m                     )\n\u001b[0;32m   6218\u001b[0m \u001b[1;33m\u001b[0m\u001b[0m\n\u001b[1;32m-> 6219\u001b[1;33m                 new_obj.insert(\n\u001b[0m\u001b[0;32m   6220\u001b[0m                     \u001b[1;36m0\u001b[0m\u001b[1;33m,\u001b[0m\u001b[1;33m\u001b[0m\u001b[1;33m\u001b[0m\u001b[0m\n\u001b[0;32m   6221\u001b[0m                     \u001b[0mname\u001b[0m\u001b[1;33m,\u001b[0m\u001b[1;33m\u001b[0m\u001b[1;33m\u001b[0m\u001b[0m\n\u001b[0;32m   6222\u001b[0m                     \u001b[0mlevel_values\u001b[0m\u001b[1;33m,\u001b[0m\u001b[1;33m\u001b[0m\u001b[1;33m\u001b[0m\u001b[0m\n",
      "\u001b[1;32mc:\\Users\\phili\\anaconda3\\lib\\site-packages\\pandas\\core\\frame.py\u001b[0m in \u001b[0;36m?\u001b[1;34m(self, loc, column, value, allow_duplicates)\u001b[0m\n\u001b[0;32m   4778\u001b[0m                 \u001b[1;34m\"'self.flags.allows_duplicate_labels' is False.\"\u001b[0m\u001b[1;33m\u001b[0m\u001b[1;33m\u001b[0m\u001b[0m\n\u001b[0;32m   4779\u001b[0m             )\n\u001b[0;32m   4780\u001b[0m         \u001b[1;32mif\u001b[0m \u001b[1;32mnot\u001b[0m \u001b[0mallow_duplicates\u001b[0m \u001b[1;32mand\u001b[0m \u001b[0mcolumn\u001b[0m \u001b[1;32min\u001b[0m \u001b[0mself\u001b[0m\u001b[1;33m.\u001b[0m\u001b[0mcolumns\u001b[0m\u001b[1;33m:\u001b[0m\u001b[1;33m\u001b[0m\u001b[1;33m\u001b[0m\u001b[0m\n\u001b[0;32m   4781\u001b[0m             \u001b[1;31m# Should this be a different kind of error??\u001b[0m\u001b[1;33m\u001b[0m\u001b[1;33m\u001b[0m\u001b[0m\n\u001b[1;32m-> 4782\u001b[1;33m             \u001b[1;32mraise\u001b[0m \u001b[0mValueError\u001b[0m\u001b[1;33m(\u001b[0m\u001b[1;34mf\"cannot insert {column}, already exists\"\u001b[0m\u001b[1;33m)\u001b[0m\u001b[1;33m\u001b[0m\u001b[1;33m\u001b[0m\u001b[0m\n\u001b[0m\u001b[0;32m   4783\u001b[0m         \u001b[1;32mif\u001b[0m \u001b[1;32mnot\u001b[0m \u001b[0misinstance\u001b[0m\u001b[1;33m(\u001b[0m\u001b[0mloc\u001b[0m\u001b[1;33m,\u001b[0m \u001b[0mint\u001b[0m\u001b[1;33m)\u001b[0m\u001b[1;33m:\u001b[0m\u001b[1;33m\u001b[0m\u001b[1;33m\u001b[0m\u001b[0m\n\u001b[0;32m   4784\u001b[0m             \u001b[1;32mraise\u001b[0m \u001b[0mTypeError\u001b[0m\u001b[1;33m(\u001b[0m\u001b[1;34m\"loc must be int\"\u001b[0m\u001b[1;33m)\u001b[0m\u001b[1;33m\u001b[0m\u001b[1;33m\u001b[0m\u001b[0m\n\u001b[0;32m   4785\u001b[0m \u001b[1;33m\u001b[0m\u001b[0m\n",
      "\u001b[1;31mValueError\u001b[0m: cannot insert geometry, already exists"
     ]
    }
   ],
   "source": [
    "plotRidesHexagon(df, 'demand', 'text')"
   ]
  },
  {
   "cell_type": "code",
   "execution_count": 61,
   "metadata": {},
   "outputs": [
    {
     "name": "stdout",
     "output_type": "stream",
     "text": [
      "<class 'geopandas.geodataframe.GeoDataFrame'>\n",
      "Index: 173125 entries, 0 to 190642\n",
      "Data columns (total 22 columns):\n",
      " #   Column           Non-Null Count   Dtype   \n",
      "---  ------           --------------   -----   \n",
      " 0   ts_start_1_hour  173125 non-null  object  \n",
      " 1   start_month      173125 non-null  int64   \n",
      " 2   start_weekday    173125 non-null  int64   \n",
      " 3   start_1_hour     173125 non-null  int64   \n",
      " 4   pickup_hex_7     173125 non-null  object  \n",
      " 5   demand           173125 non-null  int64   \n",
      " 6   Trip Seconds     173115 non-null  float64 \n",
      " 7   Trip Miles       173125 non-null  float64 \n",
      " 8   Fare             173125 non-null  float64 \n",
      " 9   Trip Total       173125 non-null  float64 \n",
      " 10  Temperature      173125 non-null  float64 \n",
      " 11  Humidity         173125 non-null  float64 \n",
      " 12  Wind Speed       173125 non-null  float64 \n",
      " 13  Precip.          173125 non-null  float64 \n",
      " 14  cloud            173125 non-null  float64 \n",
      " 15  rain             173125 non-null  float64 \n",
      " 16  Fair             173125 non-null  float64 \n",
      " 17  Fog              173125 non-null  float64 \n",
      " 18  Snow             173125 non-null  float64 \n",
      " 19  T-Storm          173125 non-null  float64 \n",
      " 20  Thunder          173125 non-null  float64 \n",
      " 21  geometry         173125 non-null  geometry\n",
      "dtypes: float64(15), geometry(1), int64(4), object(2)\n",
      "memory usage: 30.4+ MB\n"
     ]
    }
   ],
   "source": [
    "trips_gdf_1h_r7_w.info()"
   ]
  },
  {
   "cell_type": "code",
   "execution_count": null,
   "metadata": {},
   "outputs": [],
   "source": [
    "plotRidesHexagon(trips_gdf_1h_r7_w,  'demand', 'Hourly demand with hex_resolution 7')"
   ]
  },
  {
   "cell_type": "markdown",
   "metadata": {},
   "source": [
    "#### Overall Demand"
   ]
  },
  {
   "cell_type": "code",
   "execution_count": null,
   "metadata": {},
   "outputs": [],
   "source": [
    "plotRidesHexagon(gdf, column, text)"
   ]
  },
  {
   "cell_type": "markdown",
   "metadata": {},
   "source": [
    "#### Demand by Time of Day"
   ]
  },
  {
   "cell_type": "markdown",
   "metadata": {},
   "source": [
    "#### Demand by Day of the Week"
   ]
  },
  {
   "cell_type": "markdown",
   "metadata": {},
   "source": [
    "#### Demand by Season"
   ]
  },
  {
   "cell_type": "markdown",
   "metadata": {},
   "source": [
    "#### Weather dependent Demand"
   ]
  },
  {
   "cell_type": "markdown",
   "metadata": {},
   "source": [
    "##### Temperature"
   ]
  },
  {
   "cell_type": "markdown",
   "metadata": {},
   "source": [
    "##### Weather condition (Rain, Sun)"
   ]
  },
  {
   "cell_type": "markdown",
   "metadata": {},
   "source": [
    "#### Trip length"
   ]
  },
  {
   "cell_type": "markdown",
   "metadata": {},
   "source": [
    "### Analysis Census Tract and Community Areas"
   ]
  },
  {
   "cell_type": "markdown",
   "metadata": {},
   "source": [
    "#### Overall Demand"
   ]
  },
  {
   "cell_type": "code",
   "execution_count": null,
   "metadata": {},
   "outputs": [],
   "source": [
    "plotRidesHexagon(df_census_pickup, \"ts_start\", \"Rides with pickup location in Census Tract\")"
   ]
  },
  {
   "cell_type": "markdown",
   "metadata": {},
   "source": [
    "The map shows that most taxi trips are started in census tracts close to the main city center as well as the O'Hare International Airport. Due to the high number of trips in these tracts, the colouring of the others moves into the background. Based on this insight we´ll use the natural logarithm to get a better overview of the distribution"
   ]
  },
  {
   "cell_type": "code",
   "execution_count": null,
   "metadata": {},
   "outputs": [],
   "source": [
    "df_census_pickup[\"logCount\"] = np.log(df_census_pickup['ts_start'])\n",
    "plotRidesHexagon(df_census_pickup, \"logCount\", \"Natural Logarithm of rides with pickup location in Census Tract\")"
   ]
  },
  {
   "attachments": {},
   "cell_type": "markdown",
   "metadata": {},
   "source": [
    "The map gives an overview over trips started in the census tracts.The city center still contains the tracts with the most trips started, but in comparison to the map shown before, additional tracts can be labelled as important. Most of them are close to the waterfront and above the city center, with the exception of the second airport (Chicago Midway International Airport) also showing a high number of started trips"
   ]
  },
  {
   "cell_type": "code",
   "execution_count": null,
   "metadata": {},
   "outputs": [],
   "source": [
    "plotRidesHexagon(df_census_dropoff, \"ts_start\", \"Rides with dropoff location in Census Tract\")"
   ]
  },
  {
   "attachments": {},
   "cell_type": "markdown",
   "metadata": {},
   "source": [
    "The number of trips ending in census tracts can be viewed as mirror of the starting trips in census tracts with slight differences. One additional tract below the city center shows increased dropoff numbers. Otherwise the map again is not very meaningful which is why the logarithm is applied in the next step"
   ]
  },
  {
   "cell_type": "code",
   "execution_count": null,
   "metadata": {},
   "outputs": [],
   "source": [
    "df_census_dropoff[\"logCount\"] = np.log(df_census_dropoff['ts_start'])\n",
    "plotRidesHexagon(df_census_dropoff, \"logCount\", \"Natural Logarithm of rides with dropoff location in Census Tract\")"
   ]
  },
  {
   "attachments": {},
   "cell_type": "markdown",
   "metadata": {},
   "source": [
    "Compared to the tract pickup map, there are again only minimal differences in tracts that contain a higher number of dropoff numbers. "
   ]
  },
  {
   "cell_type": "code",
   "execution_count": null,
   "metadata": {},
   "outputs": [],
   "source": [
    "plotRidesHexagon(df_carea_pickup, \"ts_start\", \"Rides with pickup location in Community Area\")"
   ]
  },
  {
   "attachments": {},
   "cell_type": "markdown",
   "metadata": {},
   "source": [
    "The community areas should now reflect what could already been seen from the census tract map. Pickup numbers are highly concentrated on the city center of chicago."
   ]
  },
  {
   "cell_type": "code",
   "execution_count": null,
   "metadata": {},
   "outputs": [],
   "source": [
    "df_carea_pickup[\"logCount\"] = np.log(df_carea_pickup['ts_start'])\n",
    "plotRidesHexagon(df_carea_pickup, \"logCount\", \"Natural Logarithm of rides with pickup location in Community Area\")"
   ]
  },
  {
   "attachments": {},
   "cell_type": "markdown",
   "metadata": {},
   "source": [
    "The logarithm of the pickup numbers gives a more meaningful visualization of the pickup data in the community areas. This map just validates what has already been shown by the census tracts. High numbers in the city center and up the waterfront to the north as well as close to the two airports"
   ]
  },
  {
   "cell_type": "code",
   "execution_count": null,
   "metadata": {},
   "outputs": [],
   "source": [
    "plotRidesHexagon(df_carea_dropoff, \"ts_start\", \"Rides with dropoff location in Community Area\")"
   ]
  },
  {
   "attachments": {},
   "cell_type": "markdown",
   "metadata": {},
   "source": [
    "Compared to the pickup data in the community areas, the dropoff data is again very much the same with only minimal differences in the areas close to the city center"
   ]
  },
  {
   "cell_type": "code",
   "execution_count": null,
   "metadata": {},
   "outputs": [],
   "source": [
    "df_carea_dropoff[\"logCount\"] = np.log(df_carea_dropoff['ts_start'])\n",
    "plotRidesHexagon(df_carea_dropoff, \"logCount\", \"Natural Logarithm of rides with dropoff location in Community Area\")"
   ]
  },
  {
   "attachments": {},
   "cell_type": "markdown",
   "metadata": {},
   "source": [
    "The same conclusion as above can be reached for the dropoff data after applying the logarithm. It is very much the same to the pickup data for the community areas"
   ]
  },
  {
   "cell_type": "markdown",
   "metadata": {},
   "source": [
    "#### Demand by Time of Day"
   ]
  },
  {
   "cell_type": "markdown",
   "metadata": {},
   "source": [
    "#### Demand by Day of the Week"
   ]
  },
  {
   "cell_type": "markdown",
   "metadata": {},
   "source": [
    "#### Demand by Season"
   ]
  },
  {
   "cell_type": "code",
   "execution_count": null,
   "metadata": {},
   "outputs": [],
   "source": [
    "#Assigning a season to each entry\n",
    "def map_month_to_season(month):\n",
    "    if 3 <= month <= 5:\n",
    "        return 'Spring'\n",
    "    elif 6 <= month <= 8:\n",
    "        return 'Summer'\n",
    "    elif 9 <= month <= 11:\n",
    "        return 'Fall'\n",
    "    else:\n",
    "        return 'Winter'\n",
    "\n",
    "\n",
    "df['season'] = df.apply(map_month_to_season, arguments=[df['start_month']])\n",
    "\n",
    "# Plot the distribution of seasons\n",
    "df_grouped = df.groupby('season', agg={'count': vaex.agg.count()})\n",
    "df_grouped = df_grouped.sort(by='count', ascending=False)\n",
    "\n",
    "# Convert vaex DataFrame to a pandas DataFrame for plotting with matplotlib\n",
    "df_pandas = df_grouped.to_pandas_df()\n",
    "\n",
    "# Create a bar plot using matplotlib\n",
    "plt.figure(figsize=(8, 6))\n",
    "plt.bar(df_pandas['season'], df_pandas['count'])\n",
    "plt.xlabel('Season')\n",
    "plt.ylabel('Count')\n",
    "plt.title('Distribution of Seasons')\n",
    "plt.show()"
   ]
  },
  {
   "cell_type": "markdown",
   "metadata": {},
   "source": [
    "#### Weather dependent Demand"
   ]
  },
  {
   "cell_type": "code",
   "execution_count": null,
   "metadata": {},
   "outputs": [],
   "source": [
    "df_weather = pd.read_pickle(\"data/weather_data_hourly_1.pickle\")\n",
    "df_weather.info()"
   ]
  },
  {
   "cell_type": "code",
   "execution_count": null,
   "metadata": {},
   "outputs": [],
   "source": [
    "df.head()"
   ]
  },
  {
   "cell_type": "markdown",
   "metadata": {},
   "source": []
  },
  {
   "cell_type": "code",
   "execution_count": null,
   "metadata": {},
   "outputs": [],
   "source": [
    "extract = ['ts_start', 'start_weekday', 'start_month', 'ts_start_1_hour','start_1_hour', 'Trip Seconds']\n",
    "\n",
    "light_df = df[extract]\n",
    "light_df.info()"
   ]
  },
  {
   "cell_type": "code",
   "execution_count": null,
   "metadata": {},
   "outputs": [],
   "source": [
    "light_pd = light_df.to_pandas_df()\n",
    "\n",
    "merged_pandas_df = light_pd.join(df_weather, on='ts_start_1_hour', how='left')"
   ]
  },
  {
   "cell_type": "code",
   "execution_count": null,
   "metadata": {},
   "outputs": [],
   "source": [
    "merged_pandas_df.info()"
   ]
  },
  {
   "cell_type": "markdown",
   "metadata": {},
   "source": [
    "##### Temperature"
   ]
  },
  {
   "cell_type": "code",
   "execution_count": null,
   "metadata": {},
   "outputs": [],
   "source": [
    "# Define temperature bins and labels in 5-degree Celsius intervals up to 40 degrees\n",
    "temperature_bins = [-10, -5, 0, 5, 10, 15, 20, 25, 30, 35, 40]\n",
    "temperature_labels = ['-10 to -5', '-5 to 0', '0 to 5', '5 to 10', '10 to 15', '15 to 20',\n",
    "                      '20 to 25', '25 to 30', '30 to 35', '35 to 40']\n",
    "\n",
    "# Create temperature bins and group by them, then count the number of rides within each temperature range\n",
    "merged_pandas_df['Temperature Range'] = pd.cut(merged_pandas_df['Temperature'], bins=temperature_bins, labels=temperature_labels)\n",
    "grouped_df = merged_pandas_df.groupby('Temperature Range').size()\n",
    "\n",
    "# Create a bar plot\n",
    "plt.figure(figsize=(10, 6))\n",
    "grouped_df.plot(kind='bar')\n",
    "plt.xlabel('Temperature Range in Celsius')\n",
    "plt.ylabel('Number of Rides')\n",
    "plt.title('Number of Rides for Different Temperature Ranges')\n",
    "plt.xticks(rotation=45)\n",
    "plt.show()"
   ]
  },
  {
   "cell_type": "code",
   "execution_count": null,
   "metadata": {},
   "outputs": [],
   "source": [
    "# import seaborn as sns\n",
    "# # Create temperature bins and group by them, then count the number of rides within each temperature range\n",
    "# temperature_bins = [-10, -5, 0, 5, 10, 15, 20, 25, 30, 35, 40]\n",
    "# temperature_labels = ['-10 to -5', '-5 to 0', '0 to 5', '5 to 10', '10 to 15', '15 to 20',\n",
    "#                       '20 to 25', '25 to 30', '30 to 35', '35 to 40']\n",
    "# merged_pandas_df['Temperature Range'] = pd.cut(merged_pandas_df['Temperature'], bins=temperature_bins, labels=temperature_labels)\n",
    "# pivot_table = merged_pandas_df.pivot_table(index='Temperature Range', columns='start_month', values='ts_start', aggfunc='count')\n",
    "\n",
    "# plt.figure(figsize=(10, 6))\n",
    "# sns.heatmap(pivot_table, cmap='YlGnBu', annot=True, fmt='d')\n",
    "# plt.xlabel('Month')\n",
    "# plt.ylabel('Temperature Range')\n",
    "# plt.title('Number of Rides Heatmap')\n",
    "\n",
    "# # Format y-axis tick labels to display full numbers\n",
    "plt.show()"
   ]
  },
  {
   "cell_type": "markdown",
   "metadata": {},
   "source": [
    "##### Weather condition (Rain, Sun)"
   ]
  },
  {
   "cell_type": "code",
   "execution_count": null,
   "metadata": {},
   "outputs": [],
   "source": [
    "# Calculate total number of trips for different weather conditions\n",
    "total_trips_fair = merged_pandas_df.loc[merged_pandas_df['Fair'] > 0].shape[0]\n",
    "total_trips_bad = merged_pandas_df.loc[merged_pandas_df['Fair'] == 0].shape[0]\n",
    "total_trips_no_rain = merged_pandas_df.loc[merged_pandas_df['rain'] == 0].shape[0]\n",
    "total_trips_with_rain = merged_pandas_df.loc[merged_pandas_df['rain'] > 0].shape[0]\n",
    "total_trips_snow = merged_pandas_df.loc[merged_pandas_df['Snow'] > 0].shape[0]\n",
    "total_trips_cloud = merged_pandas_df.loc[merged_pandas_df['cloud'] > 0].shape[0]\n",
    "total_trips_fog = merged_pandas_df.loc[merged_pandas_df['Fog'] > 0].shape[0]\n",
    "total_trips_tstorm = merged_pandas_df.loc[merged_pandas_df['T-Storm'] > 0].shape[0]\n",
    "total_trips_thunder = merged_pandas_df.loc[merged_pandas_df['Thunder'] > 0].shape[0]\n",
    "\n",
    "# Weather conditions and corresponding total trip counts\n",
    "weather_conditions = ['Good Weather', 'Bad Weather', 'No Rain', 'With Rain', 'Snow', 'Cloud', 'Fog', 'T-Storm', 'Thunder']\n",
    "\n",
    "total_trip_counts = [\n",
    "    total_trips_fair, total_trips_bad, total_trips_no_rain, total_trips_with_rain,\n",
    "    total_trips_snow, total_trips_cloud, total_trips_fog,\n",
    "    total_trips_tstorm, total_trips_thunder\n",
    "]\n",
    "\n",
    "# Create a bar plot\n",
    "plt.figure(figsize=(10, 6))\n",
    "bars = plt.bar(weather_conditions, total_trip_counts)\n",
    "plt.xlabel('Weather Conditions')\n",
    "plt.ylabel('Total Trip Count')\n",
    "plt.title('Total Trip Count for Different Weather Conditions')\n",
    "plt.xticks(rotation=45)\n",
    "plt.tight_layout()\n",
    "\n",
    "# Add text labels on top of the bars\n",
    "for bar, count in zip(bars, total_trip_counts):\n",
    "    plt.text(bar.get_x() + bar.get_width() / 2, bar.get_height() + 5, str(count), ha='center', va='bottom')\n",
    "\n",
    "# Show the plot\n",
    "plt.show()"
   ]
  },
  {
   "cell_type": "code",
   "execution_count": null,
   "metadata": {},
   "outputs": [],
   "source": [
    "#calculating averages\n",
    "avg_duration_fair = merged_pandas_df.loc[merged_pandas_df['Fair'] > 0, 'Trip Seconds'].mean()\n",
    "avg_duration_bad = merged_pandas_df.loc[merged_pandas_df['Fair'] == 0, 'Trip Seconds'].mean()\n",
    "avg_duration_no_rain = merged_pandas_df.loc[merged_pandas_df['rain'] == 0, 'Trip Seconds'].mean()\n",
    "avg_duration_with_rain = merged_pandas_df.loc[merged_pandas_df['rain'] > 0, 'Trip Seconds'].mean()\n",
    "avg_duration_snow = merged_pandas_df.loc[merged_pandas_df['Snow'] > 0, 'Trip Seconds'].mean()\n",
    "avg_duration_cloud = merged_pandas_df.loc[merged_pandas_df['cloud'] > 0, 'Trip Seconds'].mean()\n",
    "avg_duration_fog = merged_pandas_df.loc[merged_pandas_df['Fog'] > 0, 'Trip Seconds'].mean()\n",
    "avg_duration_tstorm = merged_pandas_df.loc[merged_pandas_df['T-Storm'] > 0, 'Trip Seconds'].mean()\n",
    "avg_duration_thunder = merged_pandas_df.loc[merged_pandas_df['Thunder'] > 0, 'Trip Seconds'].mean()\n",
    "\n",
    "\n",
    "print(\"Average trip duration on days with good weather: \", avg_duration_fair)\n",
    "print(\"Average trip duration on days with bad weather: \", avg_duration_bad)\n",
    "print(\"Average trip duration on days without rain:\", avg_duration_no_rain)\n",
    "print(\"Average trip duration on days with rain:\", avg_duration_with_rain)\n",
    "print(\"Average trip duration on days with snow: \", avg_duration_snow)\n",
    "print(\"Average trip duration on days with clouds: \", avg_duration_cloud)\n",
    "print(\"Average trip duration on days with fog: \", avg_duration_fog)\n",
    "print(\"Average trip duration on days with Thunder Storms: \", avg_duration_tstorm)\n",
    "print(\"Average trip duration on days with thunder: \", avg_duration_thunder)\n",
    "\n",
    "weather_conditions = ['Good Weather', 'Bad Weather', 'No Rain', 'With Rain', 'Snow', 'Cloud', 'Fog', 'T-Storm', 'Thunder']\n",
    "\n",
    "avg_durations = [\n",
    "    round(avg_duration_fair, 0), round(avg_duration_bad, 0), round(avg_duration_no_rain, 0),\n",
    "    round(avg_duration_with_rain, 0), round(avg_duration_snow, 0), round(avg_duration_cloud, 0),\n",
    "    round(avg_duration_fog, 0), round(avg_duration_tstorm, 0), round(avg_duration_thunder, 0)\n",
    "]\n",
    "\n",
    "# Create a bar plot\n",
    "plt.figure(figsize=(10, 6))\n",
    "plt.bar(weather_conditions, avg_durations)\n",
    "plt.xlabel('Weather Conditions')\n",
    "plt.ylabel('Average Trip Duration in Seconds')\n",
    "plt.title('Average Trip Duration for Different Weather Conditions')\n",
    "plt.xticks(rotation=45)\n",
    "plt.tight_layout()\n",
    "\n",
    "for bar, count in zip(bars, avg_durations):\n",
    "    plt.text(bar.get_x() + bar.get_width() / 2, count, f'{count:.2f}', ha='center', va='bottom')\n",
    "\n",
    "# Show the plot\n",
    "plt.show()"
   ]
  }
 ],
 "metadata": {
  "kernelspec": {
   "display_name": "Python 3.9.12 ('base')",
   "language": "python",
   "name": "python3"
  },
  "language_info": {
   "codemirror_mode": {
    "name": "ipython",
    "version": 3
   },
   "file_extension": ".py",
   "mimetype": "text/x-python",
   "name": "python",
   "nbconvert_exporter": "python",
   "pygments_lexer": "ipython3",
   "version": "3.10.4"
  },
  "orig_nbformat": 4,
  "vscode": {
   "interpreter": {
    "hash": "da4131570aad7ff77d93c6be89cfb61a61d96547c15666b9d6a932bac1ad3bd2"
   }
  }
 },
 "nbformat": 4,
 "nbformat_minor": 2
}
