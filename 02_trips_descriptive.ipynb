{
 "cells": [
  {
   "cell_type": "code",
   "execution_count": 109,
   "metadata": {},
   "outputs": [],
   "source": [
    "import vaex\n",
    "import numpy as np\n",
    "import matplotlib.pyplot as plt\n",
    "import geopandas as gpd\n",
    "import folium\n",
    "import math\n",
    "import pandas as pd\n",
    "from datetime import datetime, timedelta, date, time\n",
    "from shapely import Polygon\n",
    "import contextily as cx\n",
    "import h3\n",
    "import seaborn as sns"
   ]
  },
  {
   "cell_type": "code",
   "execution_count": 110,
   "metadata": {},
   "outputs": [],
   "source": [
    "df = vaex.open(\"data/trips/trips_prepared.hdf5\")"
   ]
  },
  {
   "cell_type": "code",
   "execution_count": null,
   "metadata": {},
   "outputs": [],
   "source": [
    "df.info()"
   ]
  },
  {
   "cell_type": "markdown",
   "metadata": {},
   "source": [
    "## Temporal Demand"
   ]
  },
  {
   "cell_type": "code",
   "execution_count": null,
   "metadata": {},
   "outputs": [],
   "source": [
    "df_weekday = df[df.start_weekday.isin([0, 1, 2, 3, 4])]\n",
    "df_weekend = df[df.start_weekday.isin([5, 6])]"
   ]
  },
  {
   "cell_type": "code",
   "execution_count": null,
   "metadata": {},
   "outputs": [],
   "source": [
    "# Calculate the average trips per hour for weekdays and weekends\n",
    "average_trips_weekday = df_weekday.groupby(df_weekday.start_1_hour).agg({'Trip Total': 'mean'})['Trip Total'].values\n",
    "average_trips_weekend = df_weekend.groupby(df_weekend.start_1_hour).agg({'Trip Total': 'mean'})['Trip Total'].values\n"
   ]
  },
  {
   "cell_type": "code",
   "execution_count": null,
   "metadata": {},
   "outputs": [],
   "source": [
    "angles = np.linspace(0, 2 * np.pi, num=24, endpoint=False)\n",
    "\n",
    "#vaex to numpy array\n",
    "average_trips_weekday = average_trips_weekday\n",
    "average_trips_weekend = average_trips_weekend\n"
   ]
  },
  {
   "cell_type": "code",
   "execution_count": null,
   "metadata": {},
   "outputs": [],
   "source": [
    "fig = plt.figure(figsize=(15,15))\n",
    "ax = fig.add_subplot(111, polar=True)\n",
    "\n",
    "#shifted_angles = np.roll(angles, -6)\n",
    "\n",
    "# Plot average trips for weekdays in blue\n",
    "ax.bar(angles, average_trips_weekday, width=0.5, align='edge', label='Weekday', color='blue', alpha=0.5)\n",
    "\n",
    "\n",
    "# Plot average trips for weekends in red\n",
    "ax.bar(angles, average_trips_weekend, width=0.5, align='edge', label='Weekend', color='red', alpha=0.5)\n",
    "\n",
    "ax.set_xticks(angles)\n",
    "ax.set_xticklabels(['6am', '7am', '8am', '9am', '10am', '11am', '12pm', '1pm',\n",
    "                    '2pm', '3pm', '4pm', '5pm', '6pm', '7pm', '8pm', '9pm',\n",
    "                    '10pm', '11pm', '12am', '1am', '2am', '3am', '4am', '5am'])\n",
    "\n",
    "ax.legend()\n",
    "plt.show()\n"
   ]
  },
  {
   "cell_type": "code",
   "execution_count": null,
   "metadata": {},
   "outputs": [],
   "source": [
    "#print(angles.shape)\n",
    "#print(average_trips_weekday.shape)\n",
    "#print(average_trips_weekend.shape)\n",
    "import pandas as pd\n",
    "df_pandas = df.to_pandas_df()"
   ]
  },
  {
   "cell_type": "code",
   "execution_count": null,
   "metadata": {},
   "outputs": [],
   "source": [
    "extract_1 = ['start_weekday', 'start_1_hour']\n",
    "heatmap_df = df[extract_1]\n",
    "pd_heatmap = heatmap_df.to_pandas_df()\n",
    "\n",
    "# Calculate the count of trips for each combination of start_weekday and start_1_hour\n",
    "heatmap_data = pd_heatmap.groupby(['start_weekday', 'start_1_hour']).size().unstack()\n",
    "\n",
    "# Create a figure and axes for the heatmap\n",
    "fig, ax = plt.subplots(figsize=(20, 12))\n",
    "\n",
    "# Create the heatmap using seaborn \n",
    "sns.heatmap(heatmap_data, cmap='viridis', ax=ax)\n",
    "\n",
    "# Set the labels for the x and y axes\n",
    "ax.set_xlabel('Starting Hour')\n",
    "ax.set_ylabel('Day of Week')\n",
    "\n",
    "# Set the tick locations and labels for the x and y axes\n",
    "ax.set_xticks(np.arange(24))\n",
    "ax.set_xticklabels(np.arange(24))\n",
    "ax.set_yticks(np.arange(7))\n",
    "ax.set_yticklabels(['Mon', 'Tue', 'Wed', 'Thu', 'Fri', 'Sat', 'Sun'])\n",
    "\n",
    "# Rotate the x-axis tick labels for better readability\n",
    "plt.xticks(rotation=45)\n",
    "\n",
    "# Show the heatmap\n",
    "plt.show()\n"
   ]
  },
  {
   "cell_type": "markdown",
   "metadata": {},
   "source": [
    "The chart contrasts the volume of initial trips across various starting hours and days of the week. It's evident that on weekdays, the majority of trips occur towards the later hours of the day, typically between 5 PM and 8 PM. Additionally, there's a notable surge in trips around 9 AM on weekdays. When coupled with the concentration of trips towards the day's end, this pattern suggests a likelihood of these trips being business-related, possibly involving commuting to and from the office.\n",
    "\n",
    "During the weekends, commencing from Friday evening, the predominant time for trips is between 6 PM and 3 AM, indicating recreational outings. This interpretation is reinforced by the observation that Sunday evenings experience fewer rides compared to Fridays and Saturdays, likely due to people needing to prepare for work on Monday mornings. This distinction underscores the weekday commuting trend at 9 AM, which is absent during weekends."
   ]
  },
  {
   "cell_type": "code",
   "execution_count": null,
   "metadata": {},
   "outputs": [],
   "source": [
    "# Calculate average trip distance\n",
    "average_distance = df['Trip Miles'].mean().item()\n",
    "\n",
    "# Calculate minimum trip distance\n",
    "min_distance = df['Trip Miles'].min().item()\n",
    "\n",
    "# Calculate maximum trip distance\n",
    "max_distance = df['Trip Miles'].max().item()\n",
    "\n",
    "print(\"Average Trip Distance:\", average_distance)\n",
    "print(\"Minimum Trip Distance:\", min_distance)\n",
    "print(\"Maximum Trip Distance:\", max_distance)\n",
    "\n",
    "# Calculate average trip duration\n",
    "average_duration = df['Trip Seconds'].mean().item()\n",
    "\n",
    "# Calculate minimum trip duration\n",
    "min_duration = df['Trip Seconds'].min().item()\n",
    "\n",
    "# Calculate maximum trip duration\n",
    "max_duration = df['Trip Seconds'].max().item()\n",
    "\n",
    "print(\"Average Trip Duration:\", average_duration, \"seconds\")\n",
    "print(\"Minimum Trip Duration:\", min_duration, \"seconds\")\n",
    "print(\"Maximum Trip Duration:\", max_duration, \"seconds\")\n"
   ]
  },
  {
   "cell_type": "code",
   "execution_count": null,
   "metadata": {},
   "outputs": [],
   "source": [
    "extract_plt = ['ts_start', 'start_weekday', 'start_month']\n",
    "\n",
    "light_df_plt = df[extract_plt]\n",
    "\n",
    "light_df_pd = light_df_plt.to_pandas_df()\n",
    "\n",
    "grouped_by_month = light_df_pd.groupby('start_month').size()\n",
    "\n",
    "# Create a bar plot\n",
    "plt.figure(figsize=(10, 6))\n",
    "grouped_by_month.plot(kind='bar', color='skyblue')\n",
    "plt.xlabel('Month')\n",
    "plt.ylabel('Number of Rides')\n",
    "plt.title('Number of Rides for Each Starting Month')\n",
    "plt.xticks(rotation=0)\n",
    "plt.show()\n",
    "\n",
    "grouped_by_month = light_df_pd.groupby('start_month')['ts_start'].agg(count='count')\n",
    "\n",
    "# Print the count of rides and average trips per month\n",
    "print(\"Count of Rides per Month:\")\n",
    "print(grouped_by_month['count'])\n",
    "\n",
    "rides_sum_per_month = light_df_pd.groupby('start_month')['ts_start'].count()\n",
    "\n",
    "# Calculate the total sum of rides across all months\n",
    "total_rides_sum = rides_sum_per_month.sum()\n",
    "\n",
    "# Print the total sum of rides\n",
    "print(\"Total Sum of Rides:\", total_rides_sum)"
   ]
  },
  {
   "cell_type": "markdown",
   "metadata": {},
   "source": [
    "The graph unveils that the peak period for trips spans from May to October. Notably, October emerges as the month with the highest number of trips taken. Conversely, the winter months from November to February experience a decrease in trip numbers compared to the rest of the year."
   ]
  },
  {
   "cell_type": "code",
   "execution_count": null,
   "metadata": {},
   "outputs": [],
   "source": [
    "#Assigning a season to each entry\n",
    "def map_month_to_season(month):\n",
    "    if 3 <= month <= 5:\n",
    "        return 'Spring'\n",
    "    elif 6 <= month <= 8:\n",
    "        return 'Summer'\n",
    "    elif 9 <= month <= 11:\n",
    "        return 'Fall'\n",
    "    else:\n",
    "        return 'Winter'\n",
    "\n",
    "\n",
    "df['season'] = df.apply(map_month_to_season, arguments=[df['start_month']])\n",
    "\n",
    "# Plot the distribution of seasons\n",
    "df_grouped = df.groupby('season', agg={'count': vaex.agg.count()})\n",
    "df_grouped = df_grouped.sort(by='count', ascending=False)\n",
    "\n",
    "# Convert vaex DataFrame to a pandas DataFrame for plotting with matplotlib\n",
    "df_pandas = df_grouped.to_pandas_df()\n",
    "\n",
    "# Create a bar plot using matplotlib\n",
    "plt.figure(figsize=(8, 6))\n",
    "plt.bar(df_pandas['season'], df_pandas['count'])\n",
    "plt.xlabel('Season')\n",
    "plt.ylabel('Count')\n",
    "plt.title('Distribution of Seasons')\n",
    "plt.show()"
   ]
  },
  {
   "cell_type": "markdown",
   "metadata": {},
   "source": [
    "As depicted in the plot, the highest number of trips occur during the summer season, spanning from June to August. Fall and Spring exhibit nearly equivalent trip counts. Conversely, the winter season witnesses a notably lower number of trips compared to the other seasons, experiencing approximately 20% fewer trips than during the summer season."
   ]
  },
  {
   "cell_type": "code",
   "execution_count": null,
   "metadata": {},
   "outputs": [],
   "source": [
    "extract_2 = ['Trip Seconds', 'start_weekday', 'start_1_hour']\n",
    "df_prep_raw = df[extract_2]\n",
    "df_prep = df_prep_raw.to_pandas_df()\n",
    "\n",
    "# Create a pivot table to calculate the average trip duration\n",
    "pivot_table = df_prep.pivot_table(values='Trip Seconds', index='start_weekday', columns='start_1_hour', aggfunc='mean')\n",
    "\n",
    "# Create the heatmap\n",
    "plt.figure(figsize=(25, 12))\n",
    "sns.heatmap(pivot_table, cmap='YlOrRd', annot=True, fmt='.0f', cbar=True)\n",
    "plt.title('Average Trip Duration by Start Hour and Weekday')\n",
    "plt.xlabel('Start Hour')\n",
    "plt.ylabel('Weekday')\n",
    "plt.show()\n"
   ]
  },
  {
   "cell_type": "markdown",
   "metadata": {},
   "source": [
    "## Spatial Analysis"
   ]
  },
  {
   "cell_type": "markdown",
   "metadata": {},
   "source": [
    "### Import of Spatial and Weather Data"
   ]
  },
  {
   "cell_type": "code",
   "execution_count": 111,
   "metadata": {},
   "outputs": [],
   "source": [
    "#Hexagons\n",
    "trips_df_1h_r7 = vaex.open('data/trips/trips_grouped_1h_r7.hdf5')\n",
    "trips_df_1h_r8 = vaex.open('data/trips/trips_grouped_1h_r8.hdf5')\n",
    "trips_df_1h_r9 = vaex.open('data/trips/trips_grouped_1h_r9.hdf5')\n",
    "\n",
    "trips_df_4h_r7 = vaex.open('data/trips/trips_grouped_4h_r7.hdf5')\n",
    "trips_df_4h_r8 = vaex.open('data/trips/trips_grouped_4h_r8.hdf5')\n",
    "trips_df_4h_r9 = vaex.open('data/trips/trips_grouped_4h_r9.hdf5')\n",
    "\n",
    "trips_df_6h_r7 = vaex.open('data/trips/trips_grouped_6h_r7.hdf5')\n",
    "trips_df_6h_r8 = vaex.open('data/trips/trips_grouped_6h_r8.hdf5')\n",
    "trips_df_6h_r9 = vaex.open('data/trips/trips_grouped_6h_r9.hdf5')\n",
    "\n",
    "\n",
    "#Census Tract and Community Area data\n",
    "trips_df_1h_census = vaex.open('data/trips/trips_grouped_1h_census.hdf5')\n",
    "trips_df_1h_carea = vaex.open('data/trips/trips_grouped_1h_comArea.hdf5')\n",
    "\n",
    "trips_df_4h_census = vaex.open('data/trips/trips_grouped_4h_census.hdf5')\n",
    "trips_df_4h_carea = vaex.open('data/trips/trips_grouped_4h_comArea.hdf5')\n",
    "\n",
    "trips_df_6h_census = vaex.open('data/trips/trips_grouped_6h_census.hdf5')\n",
    "trips_df_6h_carea = vaex.open('data/trips/trips_grouped_6h_comArea.hdf5')\n",
    "\n",
    "df_tracts = gpd.read_file('data/raw/census_tract_geometry.geojson')\n",
    "df_commarea = gpd.read_file('data/raw/community_area_geometry.geojson')\n",
    "\n",
    "#Weather\n",
    "weather_df_1h = pd.read_pickle('data/weather_data_hourly_1.pickle')\n",
    "weather_df_4h = pd.read_pickle('data/weather_data_hourly_4.pickle')\n",
    "weather_df_6h = pd.read_pickle('data/weather_data_hourly_6.pickle')"
   ]
  },
  {
   "cell_type": "markdown",
   "metadata": {},
   "source": [
    "### Function Definition: Groupings and Maps"
   ]
  },
  {
   "cell_type": "markdown",
   "metadata": {},
   "source": [
    "#### Hexagons"
   ]
  },
  {
   "cell_type": "code",
   "execution_count": 112,
   "metadata": {},
   "outputs": [],
   "source": [
    "#Method to convert the hexagons to polygons using H3\n",
    "def convert_hex_to_polygon(hex):\n",
    "        polygon = None\n",
    "        if hex:\n",
    "               polygon = Polygon(h3.h3_to_geo_boundary(hex, geo_json=True))         \n",
    "        return polygon"
   ]
  },
  {
   "cell_type": "code",
   "execution_count": 113,
   "metadata": {},
   "outputs": [],
   "source": [
    "#A function to aggregate the trips for census tract and community area pickup and dropoff to create a geodataframe for visual representation\n",
    "def create_hex_geodataframe(df, geometry):\n",
    "\n",
    "    gdf = df.drop_duplicates()\n",
    "\n",
    "    #Create the geodataframe and specify the geometry column for visual representation\n",
    "    gdf = gpd.GeoDataFrame(gdf, geometry=geometry, crs=\"EPSG:4326\")\n",
    "\n",
    "    return gdf"
   ]
  },
  {
   "cell_type": "code",
   "execution_count": 114,
   "metadata": {},
   "outputs": [],
   "source": [
    "def process_dataframes(df, hour, resolution, weather_df):\n",
    "    trip_attributes = [\n",
    "        'ts_start_{}_hour'.format(hour),\n",
    "        'start_month',\n",
    "        'start_weekday',\n",
    "        'start_{}_hour'.format(hour),\n",
    "        'pickup_hex_{}'.format(resolution),\n",
    "        'demand',\n",
    "        'Trip Seconds',\n",
    "        'Trip Miles',\n",
    "        'Fare',\n",
    "        'Trip Total'\n",
    "    ]\n",
    "    \n",
    "    df = df[trip_attributes].to_pandas_df()\n",
    "    df_w = df.merge(weather_df, left_on = 'ts_start_{}_hour'.format(hour), right_on = 'datetime', how = 'left')\n",
    "    df_w = df_w[(df_w['pickup_hex_{}'.format(resolution)].notna()) & (df_w['pickup_hex_{}'.format(resolution)] != 'None')]\n",
    "    #df_w['geometry'] = df_w['pickup_hex_{}'.format(resolution)].apply(convert_hex_to_polygon)\n",
    "\n",
    "\n",
    "    return df_w"
   ]
  },
  {
   "cell_type": "code",
   "execution_count": 115,
   "metadata": {},
   "outputs": [],
   "source": [
    "#Prepare data for 1 hourly and resolutions 7 - 9\n",
    "trips_gdf_1h_r7_w = process_dataframes(trips_df_1h_r7, 1, 7, weather_df_1h)\n",
    "trips_gdf_1h_r8_w = process_dataframes(trips_df_1h_r8, 1, 8, weather_df_1h)\n",
    "trips_gdf_1h_r9_w = process_dataframes(trips_df_1h_r9, 1, 9, weather_df_1h)"
   ]
  },
  {
   "cell_type": "code",
   "execution_count": null,
   "metadata": {},
   "outputs": [],
   "source": [
    "#Prepare data for 4 hourly and resolutions 7 - 9\n",
    "trips_gdf_4h_r7_w = process_dataframes(trips_df_4h_r7, 4, 7, weather_df_4h)\n",
    "trips_gdf_4h_r8_w = process_dataframes(trips_df_4h_r8, 4, 8, weather_df_4h)\n",
    "trips_gdf_4h_r9_w = process_dataframes(trips_df_4h_r9, 4, 9, weather_df_4h)"
   ]
  },
  {
   "cell_type": "code",
   "execution_count": null,
   "metadata": {},
   "outputs": [],
   "source": [
    "#Prepare data for 6 hourly and resolutions 7 - 9\n",
    "trips_gdf_6h_r7_w = process_dataframes(trips_df_6h_r7, 6, 7, weather_df_6h)\n",
    "trips_gdf_6h_r8_w = process_dataframes(trips_df_6h_r8, 6, 8, weather_df_6h)\n",
    "trips_gdf_6h_r9_w = process_dataframes(trips_df_6h_r9, 6, 9, weather_df_6h)"
   ]
  },
  {
   "cell_type": "code",
   "execution_count": null,
   "metadata": {},
   "outputs": [],
   "source": [
    "def trip_vis(gdf, groupby_col, agg_col, vis_col, text):\n",
    "    gdf_agg = gdf.groupby(groupby_col).agg(agg_col)\n",
    "\n",
    "    #map = plotRidesHexagon(gdf_agg, vis_col, text)\n",
    "\n",
    "    return gdf_agg"
   ]
  },
  {
   "cell_type": "markdown",
   "metadata": {},
   "source": [
    "#### Census Tract and Community Area"
   ]
  },
  {
   "cell_type": "code",
   "execution_count": null,
   "metadata": {},
   "outputs": [],
   "source": [
    "df_ct_ca = df.fillna(value= 0, column_names=['Pickup Census Tract', 'Dropoff Census Tract', 'Pickup Community Area', 'Dropoff Community Area'])\n",
    "df_ct_ca['Pickup Census Tract'] = df_ct_ca['Pickup Census Tract'].astype('int64')\n",
    "df_ct_ca['Dropoff Census Tract'] = df_ct_ca['Dropoff Census Tract'].astype('int64')\n",
    "df_ct_ca['Pickup Community Area'] = df_ct_ca['Pickup Community Area'].astype('int64')\n",
    "df_ct_ca['Dropoff Community Area'] = df_ct_ca['Dropoff Community Area'].astype('int64')"
   ]
  },
  {
   "cell_type": "code",
   "execution_count": null,
   "metadata": {},
   "outputs": [],
   "source": [
    "#A function to aggregate the trips for census tract and community area pickup and dropoff to create a geodataframe for visual representation\n",
    "def create_geodataframe(column_groupby, array_drop_columns, column_join, geometry, merge_df):\n",
    "\n",
    "    #Groupby spatial unit and count-aggregate for the trips started. Create a pandas-dataframe based on that\n",
    "    gdf = df_ct_ca.groupby(by= column_groupby, progress=True).agg({ 'ts_start':'count' }).to_pandas_df()\n",
    "\n",
    "    #Making sure no NaN or \"None\" values are present in the dataframe\n",
    "    gdf = gdf[(gdf[column_groupby].notna()) & (gdf[column_groupby] != \"None\")]\n",
    "\n",
    "    #Merge the taxi dataframe with the external dataframe containing the geometry information based on the given identifier column\n",
    "    gdf = pd.merge(gdf, merge_df, left_on = column_groupby, right_on = column_join)\n",
    "\n",
    "    #Drop non-essential columns\n",
    "    gdf.drop(array_drop_columns, axis = 1, inplace = True)\n",
    "\n",
    "    gdf = gdf.drop_duplicates()\n",
    "\n",
    "    #Create the geodataframe and specify the geometry column for visual representation\n",
    "    gdf = gpd.GeoDataFrame(gdf, geometry=geometry, crs=\"EPSG:4326\")\n",
    "\n",
    "    return gdf"
   ]
  },
  {
   "cell_type": "code",
   "execution_count": null,
   "metadata": {},
   "outputs": [],
   "source": [
    "#Create the four different dataframes \n",
    "df_census_pickup = create_geodataframe('Pickup Census Tract', ['geoid10'],'geoid10', 'geometry', df_tracts)\n",
    "df_census_dropoff = create_geodataframe('Dropoff Census Tract', ['geoid10'], 'geoid10', 'geometry', df_tracts)\n",
    "df_carea_pickup = create_geodataframe('Pickup Community Area', ['commarea'], 'commarea', 'geometry', df_commarea)\n",
    "df_carea_dropoff = create_geodataframe('Dropoff Community Area', ['commarea'], 'commarea', 'geometry', df_commarea)"
   ]
  },
  {
   "cell_type": "code",
   "execution_count": 125,
   "metadata": {},
   "outputs": [],
   "source": [
    "#Function to visualize the distribution of taxi trips in the different spatial units\n",
    "def plotRidesHexagon(gdf, column, text):\n",
    "    # Preparations for choropleth plotting\n",
    "    #gdf.index.name = None\n",
    "    #gdf = gdf.reset_index()\n",
    "    #gjson = gdf.to_json()\n",
    "\n",
    "    # Create a color map\n",
    "    colormap = 'BuPu'\n",
    "\n",
    "    # Calculate the color scale range based on the data\n",
    "    min_value = gdf[column].min()\n",
    "    max_value = gdf[column].max()\n",
    "\n",
    "    # Plotting with Folium\n",
    "    m = folium.Map(location=[41.88065, -87.62642], zoom_start=10)\n",
    "\n",
    "    # Configure the choropleth layer\n",
    "    folium.Choropleth(\n",
    "        geo_data=gdf,\n",
    "        name=\"choropleth\",\n",
    "        data=gdf,\n",
    "        columns=[\"index\", column],\n",
    "        key_on='feature.properties.index',\n",
    "        fill_opacity=0.7,\n",
    "        line_opacity=0.2,\n",
    "        fill_color=colormap,\n",
    "        legend_name=text,\n",
    "        line_color='black',\n",
    "        highlight=True,  # Add interactivity for mouseover effect\n",
    "        smooth_factor=1  # Improve the smoothness of polygon edges\n",
    "    ).add_to(m)\n",
    "\n",
    "    # Add tooltips to the polygons\n",
    "    style_function = lambda x: {'fillColor': colormap, 'color': 'blue', 'fillOpacity': 0.1, 'weight': 0.2}\n",
    "    highlight_function = lambda x: {'fillColor': 'white', 'color': 'grey', 'fillOpacity': 0.3, 'weight': 0.1}\n",
    "    tooltip = folium.features.GeoJsonTooltip(fields=[column], aliases=[text], localize=True)\n",
    "    folium.GeoJson(\n",
    "        gjson,\n",
    "        style_function=style_function,\n",
    "        highlight_function=highlight_function,\n",
    "        tooltip=tooltip\n",
    "    ).add_to(m)\n",
    "\n",
    "\n",
    "    return m"
   ]
  },
  {
   "cell_type": "markdown",
   "metadata": {},
   "source": [
    "### Analysis Hexagons"
   ]
  },
  {
   "cell_type": "markdown",
   "metadata": {},
   "source": [
    "#### Finding optimal resolution"
   ]
  },
  {
   "cell_type": "markdown",
   "metadata": {},
   "source": [
    "#### Overall Demand"
   ]
  },
  {
   "cell_type": "markdown",
   "metadata": {},
   "source": [
    "### Analysis Census Tract and Community Areas"
   ]
  },
  {
   "cell_type": "markdown",
   "metadata": {},
   "source": [
    "#### Overall Demand"
   ]
  },
  {
   "cell_type": "code",
   "execution_count": null,
   "metadata": {},
   "outputs": [],
   "source": [
    "plotRidesHexagon(df_census_pickup, \"ts_start\", \"Rides with pickup location in Census Tract\")"
   ]
  },
  {
   "cell_type": "markdown",
   "metadata": {},
   "source": [
    "The map shows that most taxi trips are started in census tracts close to the main city center as well as the O'Hare International Airport. Due to the high number of trips in these tracts, the colouring of the others moves into the background. Based on this insight we´ll use the natural logarithm to get a better overview of the distribution"
   ]
  },
  {
   "cell_type": "code",
   "execution_count": null,
   "metadata": {},
   "outputs": [],
   "source": [
    "df_census_pickup[\"logCount\"] = np.log(df_census_pickup['ts_start'])\n",
    "plotRidesHexagon(df_census_pickup, \"logCount\", \"Natural Logarithm of rides with pickup location in Census Tract\")"
   ]
  },
  {
   "attachments": {},
   "cell_type": "markdown",
   "metadata": {},
   "source": [
    "The map gives an overview over trips started in the census tracts.The city center still contains the tracts with the most trips started, but in comparison to the map shown before, additional tracts can be labelled as important. Most of them are close to the waterfront and above the city center, with the exception of the second airport (Chicago Midway International Airport) also showing a high number of started trips"
   ]
  },
  {
   "cell_type": "code",
   "execution_count": null,
   "metadata": {},
   "outputs": [],
   "source": [
    "plotRidesHexagon(df_census_dropoff, \"ts_start\", \"Rides with dropoff location in Census Tract\")"
   ]
  },
  {
   "attachments": {},
   "cell_type": "markdown",
   "metadata": {},
   "source": [
    "The number of trips ending in census tracts can be viewed as mirror of the starting trips in census tracts with slight differences. One additional tract below the city center shows increased dropoff numbers. Otherwise the map again is not very meaningful which is why the logarithm is applied in the next step"
   ]
  },
  {
   "cell_type": "code",
   "execution_count": null,
   "metadata": {},
   "outputs": [],
   "source": [
    "df_census_dropoff[\"logCount\"] = np.log(df_census_dropoff['ts_start'])\n",
    "plotRidesHexagon(df_census_dropoff, \"logCount\", \"Natural Logarithm of rides with dropoff location in Census Tract\")"
   ]
  },
  {
   "attachments": {},
   "cell_type": "markdown",
   "metadata": {},
   "source": [
    "Compared to the tract pickup map, there are again only minimal differences in tracts that contain a higher number of dropoff numbers. "
   ]
  },
  {
   "cell_type": "code",
   "execution_count": null,
   "metadata": {},
   "outputs": [],
   "source": [
    "plotRidesHexagon(df_carea_pickup, \"ts_start\", \"Rides with pickup location in Community Area\")"
   ]
  },
  {
   "attachments": {},
   "cell_type": "markdown",
   "metadata": {},
   "source": [
    "The community areas should now reflect what could already been seen from the census tract map. Pickup numbers are highly concentrated on the city center of chicago."
   ]
  },
  {
   "cell_type": "code",
   "execution_count": null,
   "metadata": {},
   "outputs": [],
   "source": [
    "df_carea_pickup[\"logCount\"] = np.log(df_carea_pickup['ts_start'])\n",
    "plotRidesHexagon(df_carea_pickup, \"logCount\", \"Natural Logarithm of rides with pickup location in Community Area\")"
   ]
  },
  {
   "attachments": {},
   "cell_type": "markdown",
   "metadata": {},
   "source": [
    "The logarithm of the pickup numbers gives a more meaningful visualization of the pickup data in the community areas. This map just validates what has already been shown by the census tracts. High numbers in the city center and up the waterfront to the north as well as close to the two airports"
   ]
  },
  {
   "cell_type": "code",
   "execution_count": null,
   "metadata": {},
   "outputs": [],
   "source": [
    "plotRidesHexagon(df_carea_dropoff, \"ts_start\", \"Rides with dropoff location in Community Area\")"
   ]
  },
  {
   "attachments": {},
   "cell_type": "markdown",
   "metadata": {},
   "source": [
    "Compared to the pickup data in the community areas, the dropoff data is again very much the same with only minimal differences in the areas close to the city center"
   ]
  },
  {
   "cell_type": "code",
   "execution_count": null,
   "metadata": {},
   "outputs": [],
   "source": [
    "df_carea_dropoff[\"logCount\"] = np.log(df_carea_dropoff['ts_start'])\n",
    "plotRidesHexagon(df_carea_dropoff, \"logCount\", \"Natural Logarithm of rides with dropoff location in Community Area\")"
   ]
  },
  {
   "attachments": {},
   "cell_type": "markdown",
   "metadata": {},
   "source": [
    "The same conclusion as above can be reached for the dropoff data after applying the logarithm. It is very much the same to the pickup data for the community areas"
   ]
  },
  {
   "cell_type": "markdown",
   "metadata": {},
   "source": [
    "## Weather and trips analysis"
   ]
  },
  {
   "cell_type": "code",
   "execution_count": null,
   "metadata": {},
   "outputs": [],
   "source": [
    "weather_df_1h.info()"
   ]
  },
  {
   "cell_type": "code",
   "execution_count": null,
   "metadata": {},
   "outputs": [],
   "source": [
    "df.head()"
   ]
  },
  {
   "cell_type": "code",
   "execution_count": null,
   "metadata": {},
   "outputs": [],
   "source": [
    "extract = ['ts_start', 'start_weekday', 'start_month', 'ts_start_1_hour','start_1_hour', 'Trip Seconds']\n",
    "\n",
    "light_df = df[extract]\n",
    "light_df.info()"
   ]
  },
  {
   "cell_type": "code",
   "execution_count": null,
   "metadata": {},
   "outputs": [],
   "source": [
    "light_pd = light_df.to_pandas_df()\n",
    "\n",
    "merged_pandas_df = light_pd.join(weather_df_1h, on='ts_start_1_hour', how='left')"
   ]
  },
  {
   "cell_type": "code",
   "execution_count": null,
   "metadata": {},
   "outputs": [],
   "source": [
    "merged_pandas_df.info()"
   ]
  },
  {
   "cell_type": "markdown",
   "metadata": {},
   "source": [
    "##### Temperature"
   ]
  },
  {
   "cell_type": "code",
   "execution_count": null,
   "metadata": {},
   "outputs": [],
   "source": [
    "# Define temperature bins and labels in 5-degree Celsius intervals up to 40 degrees\n",
    "temperature_bins = [-10, -5, 0, 5, 10, 15, 20, 25, 30, 35, 40]\n",
    "temperature_labels = ['-10 to -5', '-5 to 0', '0 to 5', '5 to 10', '10 to 15', '15 to 20',\n",
    "                      '20 to 25', '25 to 30', '30 to 35', '35 to 40']\n",
    "\n",
    "# Create temperature bins and group by them, then count the number of rides within each temperature range\n",
    "merged_pandas_df['Temperature Range'] = pd.cut(merged_pandas_df['Temperature'], bins=temperature_bins, labels=temperature_labels)\n",
    "grouped_df = merged_pandas_df.groupby('Temperature Range').size()\n",
    "\n",
    "# Create a bar plot\n",
    "plt.figure(figsize=(10, 6))\n",
    "grouped_df.plot(kind='bar')\n",
    "plt.xlabel('Temperature Range in Celsius')\n",
    "plt.ylabel('Number of Rides')\n",
    "plt.title('Number of Rides for Different Temperature Ranges')\n",
    "plt.xticks(rotation=45)\n",
    "plt.show()"
   ]
  },
  {
   "cell_type": "code",
   "execution_count": null,
   "metadata": {},
   "outputs": [],
   "source": [
    "# import seaborn as sns\n",
    "# # Create temperature bins and group by them, then count the number of rides within each temperature range\n",
    "# temperature_bins = [-10, -5, 0, 5, 10, 15, 20, 25, 30, 35, 40]\n",
    "# temperature_labels = ['-10 to -5', '-5 to 0', '0 to 5', '5 to 10', '10 to 15', '15 to 20',\n",
    "#                       '20 to 25', '25 to 30', '30 to 35', '35 to 40']\n",
    "# merged_pandas_df['Temperature Range'] = pd.cut(merged_pandas_df['Temperature'], bins=temperature_bins, labels=temperature_labels)\n",
    "# pivot_table = merged_pandas_df.pivot_table(index='Temperature Range', columns='start_month', values='ts_start', aggfunc='count')\n",
    "\n",
    "# plt.figure(figsize=(10, 6))\n",
    "# sns.heatmap(pivot_table, cmap='YlGnBu', annot=True, fmt='d')\n",
    "# plt.xlabel('Month')\n",
    "# plt.ylabel('Temperature Range')\n",
    "# plt.title('Number of Rides Heatmap')\n",
    "\n",
    "# # Format y-axis tick labels to display full numbers\n",
    "plt.show()"
   ]
  },
  {
   "cell_type": "markdown",
   "metadata": {},
   "source": [
    "##### Weather condition (Rain, Sun)"
   ]
  },
  {
   "cell_type": "code",
   "execution_count": null,
   "metadata": {},
   "outputs": [],
   "source": [
    "# Calculate total number of trips for different weather conditions\n",
    "total_trips_fair = merged_pandas_df.loc[merged_pandas_df['Fair'] > 0].shape[0]\n",
    "total_trips_bad = merged_pandas_df.loc[merged_pandas_df['Fair'] == 0].shape[0]\n",
    "total_trips_no_rain = merged_pandas_df.loc[merged_pandas_df['rain'] == 0].shape[0]\n",
    "total_trips_with_rain = merged_pandas_df.loc[merged_pandas_df['rain'] > 0].shape[0]\n",
    "total_trips_snow = merged_pandas_df.loc[merged_pandas_df['Snow'] > 0].shape[0]\n",
    "total_trips_cloud = merged_pandas_df.loc[merged_pandas_df['cloud'] > 0].shape[0]\n",
    "total_trips_fog = merged_pandas_df.loc[merged_pandas_df['Fog'] > 0].shape[0]\n",
    "total_trips_tstorm = merged_pandas_df.loc[merged_pandas_df['T-Storm'] > 0].shape[0]\n",
    "total_trips_thunder = merged_pandas_df.loc[merged_pandas_df['Thunder'] > 0].shape[0]\n",
    "\n",
    "# Weather conditions and corresponding total trip counts\n",
    "weather_conditions = ['Good Weather', 'Bad Weather', 'No Rain', 'With Rain', 'Snow', 'Cloud', 'Fog', 'T-Storm', 'Thunder']\n",
    "\n",
    "total_trip_counts = [\n",
    "    total_trips_fair, total_trips_bad, total_trips_no_rain, total_trips_with_rain,\n",
    "    total_trips_snow, total_trips_cloud, total_trips_fog,\n",
    "    total_trips_tstorm, total_trips_thunder\n",
    "]\n",
    "\n",
    "# Create a bar plot\n",
    "plt.figure(figsize=(10, 6))\n",
    "bars = plt.bar(weather_conditions, total_trip_counts)\n",
    "plt.xlabel('Weather Conditions')\n",
    "plt.ylabel('Total Trip Count')\n",
    "plt.title('Total Trip Count for Different Weather Conditions')\n",
    "plt.xticks(rotation=45)\n",
    "plt.tight_layout()\n",
    "\n",
    "# Add text labels on top of the bars\n",
    "for bar, count in zip(bars, total_trip_counts):\n",
    "    plt.text(bar.get_x() + bar.get_width() / 2, bar.get_height() + 5, str(count), ha='center', va='bottom')\n",
    "\n",
    "# Show the plot\n",
    "plt.show()"
   ]
  },
  {
   "cell_type": "markdown",
   "metadata": {},
   "source": [
    "The graph indicates that a majority of trips (21%) occur during unfavorable weather conditions. It's worth highlighting that a trip is categorized as being undertaken under adverse conditions the moment there's any presence of clouds, rain, snow, fog, or thunderstorms. Among these unfavorable weather circumstances, clouds stand out as the most prevalent condition under which trips are taken."
   ]
  },
  {
   "cell_type": "code",
   "execution_count": null,
   "metadata": {},
   "outputs": [],
   "source": [
    "#calculating averages\n",
    "avg_duration_fair = merged_pandas_df.loc[merged_pandas_df['Fair'] > 0, 'Trip Seconds'].mean()\n",
    "avg_duration_bad = merged_pandas_df.loc[merged_pandas_df['Fair'] == 0, 'Trip Seconds'].mean()\n",
    "avg_duration_no_rain = merged_pandas_df.loc[merged_pandas_df['rain'] == 0, 'Trip Seconds'].mean()\n",
    "avg_duration_with_rain = merged_pandas_df.loc[merged_pandas_df['rain'] > 0, 'Trip Seconds'].mean()\n",
    "avg_duration_snow = merged_pandas_df.loc[merged_pandas_df['Snow'] > 0, 'Trip Seconds'].mean()\n",
    "avg_duration_cloud = merged_pandas_df.loc[merged_pandas_df['cloud'] > 0, 'Trip Seconds'].mean()\n",
    "avg_duration_fog = merged_pandas_df.loc[merged_pandas_df['Fog'] > 0, 'Trip Seconds'].mean()\n",
    "avg_duration_tstorm = merged_pandas_df.loc[merged_pandas_df['T-Storm'] > 0, 'Trip Seconds'].mean()\n",
    "avg_duration_thunder = merged_pandas_df.loc[merged_pandas_df['Thunder'] > 0, 'Trip Seconds'].mean()\n",
    "\n",
    "\n",
    "print(\"Average trip duration on days with good weather: \", avg_duration_fair)\n",
    "print(\"Average trip duration on days with bad weather: \", avg_duration_bad)\n",
    "print(\"Average trip duration on days without rain:\", avg_duration_no_rain)\n",
    "print(\"Average trip duration on days with rain:\", avg_duration_with_rain)\n",
    "print(\"Average trip duration on days with snow: \", avg_duration_snow)\n",
    "print(\"Average trip duration on days with clouds: \", avg_duration_cloud)\n",
    "print(\"Average trip duration on days with fog: \", avg_duration_fog)\n",
    "print(\"Average trip duration on days with Thunder Storms: \", avg_duration_tstorm)\n",
    "print(\"Average trip duration on days with thunder: \", avg_duration_thunder)\n",
    "\n",
    "weather_conditions = ['Good Weather', 'Bad Weather', 'No Rain', 'With Rain', 'Snow', 'Cloud', 'Fog', 'T-Storm', 'Thunder']\n",
    "\n",
    "avg_durations = [\n",
    "    round(avg_duration_fair, 0), round(avg_duration_bad, 0), round(avg_duration_no_rain, 0),\n",
    "    round(avg_duration_with_rain, 0), round(avg_duration_snow, 0), round(avg_duration_cloud, 0),\n",
    "    round(avg_duration_fog, 0), round(avg_duration_tstorm, 0), round(avg_duration_thunder, 0)\n",
    "]\n",
    "\n",
    "# Create a bar plot\n",
    "plt.figure(figsize=(10, 6))\n",
    "plt.bar(weather_conditions, avg_durations)\n",
    "plt.xlabel('Weather Conditions')\n",
    "plt.ylabel('Average Trip Duration in Seconds')\n",
    "plt.title('Average Trip Duration for Different Weather Conditions')\n",
    "plt.xticks(rotation=45)\n",
    "plt.tight_layout()\n",
    "\n",
    "for bar, count in zip(bars, avg_durations):\n",
    "    plt.text(bar.get_x() + bar.get_width() / 2, count, f'{count:.2f}', ha='center', va='bottom')\n",
    "\n",
    "# Show the plot\n",
    "plt.show()"
   ]
  },
  {
   "cell_type": "markdown",
   "metadata": {},
   "source": [
    "The visualization illustrates minimal differences in trip lengths across various weather conditions. On average, trip durations are only extended by 14 seconds in bad weather compared to good weather. The greatest average trip durations occur during rainy or thunderstorm conditions."
   ]
  }
 ],
 "metadata": {
  "kernelspec": {
   "display_name": "Python 3.9.12 ('base')",
   "language": "python",
   "name": "python3"
  },
  "language_info": {
   "codemirror_mode": {
    "name": "ipython",
    "version": 3
   },
   "file_extension": ".py",
   "mimetype": "text/x-python",
   "name": "python",
   "nbconvert_exporter": "python",
   "pygments_lexer": "ipython3",
   "version": "3.10.11"
  },
  "orig_nbformat": 4,
  "vscode": {
   "interpreter": {
    "hash": "da4131570aad7ff77d93c6be89cfb61a61d96547c15666b9d6a932bac1ad3bd2"
   }
  }
 },
 "nbformat": 4,
 "nbformat_minor": 2
}
