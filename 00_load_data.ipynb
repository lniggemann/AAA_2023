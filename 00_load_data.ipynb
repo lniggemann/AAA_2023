{
 "cells": [
  {
   "cell_type": "code",
   "execution_count": null,
   "metadata": {},
   "outputs": [],
   "source": [
    "import os\n",
    "from urllib import request\n",
    "\n",
    "if not os.path.exists(\"data/raw/Taxi_Trips_-_2014.csv\"):\n",
    "    request.urlretrieve(\"https://data.cityofchicago.org/api/views/66as-63gf/rows.csv?accessType=DOWNLOAD\", \"data/raw/Taxi_Trips_-_2014.csv\")"
   ]
  },
  {
   "cell_type": "code",
   "execution_count": 23,
   "metadata": {},
   "outputs": [
    {
     "ename": "ModuleNotFoundError",
     "evalue": "No module named 'zipfile_deflate64'",
     "output_type": "error",
     "traceback": [
      "\u001b[1;31m---------------------------------------------------------------------------\u001b[0m",
      "\u001b[1;31mModuleNotFoundError\u001b[0m                       Traceback (most recent call last)",
      "Cell \u001b[1;32mIn[23], line 1\u001b[0m\n\u001b[1;32m----> 1\u001b[0m \u001b[39mimport\u001b[39;00m \u001b[39mzipfile_deflate64\u001b[39;00m \u001b[39mas\u001b[39;00m \u001b[39mzipfile\u001b[39;00m\n\u001b[0;32m      3\u001b[0m \u001b[39mwith\u001b[39;00m zipfile\u001b[39m.\u001b[39mZipFile(\u001b[39mr\u001b[39m\u001b[39m\"\u001b[39m\u001b[39mdata\u001b[39m\u001b[39m\\\u001b[39m\u001b[39mraw\u001b[39m\u001b[39m\\\u001b[39m\u001b[39mTaxi_Trips_-_2014.zip\u001b[39m\u001b[39m\"\u001b[39m, \u001b[39m'\u001b[39m\u001b[39mr\u001b[39m\u001b[39m'\u001b[39m) \u001b[39mas\u001b[39;00m zip_ref:\n\u001b[0;32m      4\u001b[0m     \u001b[39mprint\u001b[39m(zip_ref\u001b[39m.\u001b[39mfilelist)\n",
      "\u001b[1;31mModuleNotFoundError\u001b[0m: No module named 'zipfile_deflate64'"
     ]
    }
   ],
   "source": [
    "import zipfile_deflate64 as zipfile\n",
    "\n",
    "with zipfile.ZipFile(r\"data\\raw\\Taxi_Trips_-_2014.zip\", 'r') as zip_ref:\n",
    "    print(zip_ref.filelist)\n",
    "    zip_ref.extract(\"Taxi_Trips_-_2014.csv\")"
   ]
  }
 ],
 "metadata": {
  "kernelspec": {
   "display_name": "AAA_2023-Ne9h4ijP",
   "language": "python",
   "name": "python3"
  },
  "language_info": {
   "codemirror_mode": {
    "name": "ipython",
    "version": 3
   },
   "file_extension": ".py",
   "mimetype": "text/x-python",
   "name": "python",
   "nbconvert_exporter": "python",
   "pygments_lexer": "ipython3",
   "version": "3.11.1"
  },
  "orig_nbformat": 4
 },
 "nbformat": 4,
 "nbformat_minor": 2
}
