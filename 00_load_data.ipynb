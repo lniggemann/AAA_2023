{
 "cells": [
  {
   "attachments": {},
   "cell_type": "markdown",
   "metadata": {},
   "source": [
    "# Data loading\n",
    "This notebook initializes the project. It preprocesses the data and converts it to a format.\n",
    "1. section: download archived data from a shared cloud directory\n",
    "2. section: unzip the received data\n",
    "3. section: load the data and store it as optimized hdf5 file\n",
    "4. section: simple checks on the loaded data\n",
    "\n",
    "Disclaimer: the first run will take a few minutes due to downloading, unzipping and preprocessing of the csv file. But it safes time in the future ;\\)\n",
    "\n",
    "## Download zipped csv file and unzip"
   ]
  },
  {
   "cell_type": "code",
   "execution_count": 4,
   "metadata": {},
   "outputs": [],
   "source": [
    "import os\n",
    "from urllib import request\n",
    "\n",
    "if not os.path.exists(\"data/raw/Taxi_Trips_-_2014.zip\"):\n",
    "    request.urlretrieve(\"https://onedrive.live.com/download?cid=E8998C463734AF4D&resid=E8998C463734AF4D%21142424&authkey=AJTPTaNOMKxKPE0\", \"data/raw/Taxi_Trips_-_2014.zip\")"
   ]
  },
  {
   "cell_type": "code",
   "execution_count": 7,
   "metadata": {},
   "outputs": [],
   "source": [
    "import zipfile_deflate64 as zipfile\n",
    "\n",
    "# unzip if zip file exists and it's not already unzipped\n",
    "\n",
    "if os.path.exists(\"data/raw/Taxi_Trips_-_2014.zip\") and not os.path.exists(\"data/raw/Taxi_Trips_-_2014.csv\") :\n",
    "    with zipfile.ZipFile(\"data/raw/Taxi_Trips_-_2014.zip\", 'r') as zip_ref:\n",
    "        zip_ref.extract(member=\"Taxi_Trips_-_2014.csv\", path=\"data/raw\")"
   ]
  },
  {
   "attachments": {},
   "cell_type": "markdown",
   "metadata": {},
   "source": [
    "## Loading Dataframe using VAEX\n",
    "\n",
    "VAEX is used to preprocess and load the csv file since its processing on big datasets on a (single) local machine outperforms pandas as well as dask.\n",
    "Dask focuses more on scalable computations on clusters, while Vaex allows you to work with large data sets on a single machine. Vaex also offers features for easy visualization and presentation of large data sets, while Dask focuses more on data processing and data wrangling. (https://www.datarevenue.com/de-blog/pandas-skalieren-ein-vergleich-von-dask-ray-modin-vaex-und-rapids#:~:text=Vaex%2C%20ermöglicht%20mit%20großen%20Datenmengen,diese%20möglichst%20effizient%20nutzen%20möchte.)\n",
    "\n",
    "Documentation: https://vaex.io/docs/index.html\n",
    "\n",
    "Comparison of python data processing libraries: https://towardsdatascience.com/beyond-pandas-spark-dask-vaex-and-other-big-data-technologies-battling-head-to-head-a453a1f8cc13"
   ]
  },
  {
   "cell_type": "code",
   "execution_count": 2,
   "metadata": {},
   "outputs": [],
   "source": [
    "import vaex"
   ]
  },
  {
   "cell_type": "code",
   "execution_count": 5,
   "metadata": {},
   "outputs": [],
   "source": [
    "# load the vaex dataframe from csv and store a hdf5-file for future access. \n",
    "# hdf5 is an binary and access optimized format allowing loading the complete dataset in fractions of a second\n",
    "\n",
    "if not os.path.exists(\"data/trips/trips.hdf5\"):\n",
    "    df_vaex = vaex.from_csv(\"data/raw/Taxi_Trips_-_2014.csv\", convert=\"data/trips/trips.hdf5\", progress=True)\n",
    "else:\n",
    "    df_vaex = vaex.open(\"data/trips/trips.hdf5\")"
   ]
  },
  {
   "attachments": {},
   "cell_type": "markdown",
   "metadata": {},
   "source": [
    "Check if the import was successful and get rudimentary information about the data"
   ]
  },
  {
   "cell_type": "code",
   "execution_count": 11,
   "metadata": {},
   "outputs": [
    {
     "data": {
      "text/html": [
       "<style>.vaex-description pre {\n",
       "          max-width : 450px;\n",
       "          white-space : nowrap;\n",
       "          overflow : hidden;\n",
       "          text-overflow: ellipsis;\n",
       "        }\n",
       "\n",
       "        .vex-description pre:hover {\n",
       "          max-width : initial;\n",
       "          white-space: pre;\n",
       "        }</style>"
      ],
      "text/plain": [
       "<IPython.core.display.HTML object>"
      ]
     },
     "metadata": {},
     "output_type": "display_data"
    },
    {
     "data": {
      "text/html": [
       "<div><h2>trips</h2> <b>rows</b>: 37,395,436</div><h2>Columns:</h2><table class='table-striped'><thead><tr><th>column</th><th>type</th><th>unit</th><th>description</th><th>expression</th></tr></thead><tr><td>Trip ID</td><td>str</td><td></td><td ><pre></pre></td><td></td></tr><tr><td>Taxi ID</td><td>str</td><td></td><td ><pre></pre></td><td></td></tr><tr><td>Trip Start Timestamp</td><td>str</td><td></td><td ><pre></pre></td><td></td></tr><tr><td>Trip End Timestamp</td><td>str</td><td></td><td ><pre></pre></td><td></td></tr><tr><td>Trip Seconds</td><td>float64</td><td></td><td ><pre></pre></td><td></td></tr><tr><td>Trip Miles</td><td>float64</td><td></td><td ><pre></pre></td><td></td></tr><tr><td>Pickup Census Tract</td><td>float64</td><td></td><td ><pre></pre></td><td></td></tr><tr><td>Dropoff Census Tract</td><td>float64</td><td></td><td ><pre></pre></td><td></td></tr><tr><td>Pickup Community Area</td><td>float64</td><td></td><td ><pre></pre></td><td></td></tr><tr><td>Dropoff Community Area</td><td>float64</td><td></td><td ><pre></pre></td><td></td></tr><tr><td>Fare</td><td>float64</td><td></td><td ><pre></pre></td><td></td></tr><tr><td>Tips</td><td>float64</td><td></td><td ><pre></pre></td><td></td></tr><tr><td>Tolls</td><td>float64</td><td></td><td ><pre></pre></td><td></td></tr><tr><td>Extras</td><td>float64</td><td></td><td ><pre></pre></td><td></td></tr><tr><td>Trip Total</td><td>float64</td><td></td><td ><pre></pre></td><td></td></tr><tr><td>Payment Type</td><td>str</td><td></td><td ><pre></pre></td><td></td></tr><tr><td>Company</td><td>str</td><td></td><td ><pre></pre></td><td></td></tr><tr><td>Pickup Centroid Latitude</td><td>float64</td><td></td><td ><pre></pre></td><td></td></tr><tr><td>Pickup Centroid Longitude</td><td>float64</td><td></td><td ><pre></pre></td><td></td></tr><tr><td>Pickup Centroid Location</td><td>str</td><td></td><td ><pre></pre></td><td></td></tr><tr><td>Dropoff Centroid Latitude</td><td>float64</td><td></td><td ><pre></pre></td><td></td></tr><tr><td>Dropoff Centroid Longitude</td><td>float64</td><td></td><td ><pre></pre></td><td></td></tr><tr><td>Dropoff Centroid  Location</td><td>str</td><td></td><td ><pre></pre></td><td></td></tr></table><h2>Data:</h2><table>\n",
       "<thead>\n",
       "<tr><th>#                                     </th><th>Trip ID                                 </th><th>Taxi ID                                            </th><th>Trip Start Timestamp  </th><th>Trip End Timestamp    </th><th>Trip Seconds  </th><th>Trip Miles  </th><th>Pickup Census Tract  </th><th>Dropoff Census Tract  </th><th>Pickup Community Area  </th><th>Dropoff Community Area  </th><th>Fare  </th><th>Tips  </th><th>Tolls  </th><th>Extras  </th><th>Trip Total  </th><th>Payment Type  </th><th>Company                          </th><th>Pickup Centroid Latitude  </th><th>Pickup Centroid Longitude  </th><th>Pickup Centroid Location            </th><th>Dropoff Centroid Latitude  </th><th>Dropoff Centroid Longitude  </th><th>Dropoff Centroid  Location              </th></tr>\n",
       "</thead>\n",
       "<tbody>\n",
       "<tr><td><i style='opacity: 0.6'>0</i>         </td><td>506646dd0685bd55094f1b7dfac97cf3b07b6126</td><td>&#x27;1099c684f9da1ac1d0dd253d394f1c8dad37bc1a53d944d...</td><td>05/17/2014 10:45:00 AM</td><td>05/17/2014 11:00:00 AM</td><td>1080.0        </td><td>7.0         </td><td>17031281900.0        </td><td>17031061100.0         </td><td>28.0                   </td><td>6.0                     </td><td>17.45 </td><td>0.0   </td><td>0.0    </td><td>1.5     </td><td>18.95       </td><td>Cash          </td><td>Taxi Affiliation Services        </td><td>41.879255084              </td><td>-87.642648998              </td><td>POINT (-87.642648998 41.8792550844) </td><td>41.949139771               </td><td>-87.656803909               </td><td>POINT (-87.6568039088 41.9491397709)    </td></tr>\n",
       "<tr><td><i style='opacity: 0.6'>1</i>         </td><td>1462669f59c3b5a1730e8a5f511a4102d1998c21</td><td>&#x27;379e0fd9da136cabc9eec3aca37047bbdee373ca2ef7a03...</td><td>04/17/2014 06:30:00 PM</td><td>04/17/2014 07:00:00 PM</td><td>1080.0        </td><td>3.0         </td><td>nan                  </td><td>17031841100.0         </td><td>nan                    </td><td>34.0                    </td><td>11.45 </td><td>0.0   </td><td>0.0    </td><td>1.0     </td><td>12.45       </td><td>Cash          </td><td>Taxi Affiliation Services        </td><td>nan                       </td><td>nan                        </td><td>--                                  </td><td>41.851017824               </td><td>-87.635091856               </td><td>POINT (-87.6350918563 41.8510178239)    </td></tr>\n",
       "<tr><td><i style='opacity: 0.6'>2</i>         </td><td>8d699aec32ce70e3647f7b06147001d3926975cc</td><td>&#x27;6768c7ebfdee8e7e7b3f5ec44739316241895aa2f7edf10...</td><td>05/03/2014 11:30:00 PM</td><td>05/03/2014 11:45:00 PM</td><td>720.0         </td><td>2.1         </td><td>17031081800.0        </td><td>17031081403.0         </td><td>8.0                    </td><td>8.0                     </td><td>8.45  </td><td>2.0   </td><td>0.0    </td><td>1.0     </td><td>11.45       </td><td>Credit Card   </td><td>Dispatch Taxi Affiliation        </td><td>41.89321636               </td><td>-87.63784421               </td><td>POINT (-87.6378442095 41.8932163595)</td><td>41.890922026               </td><td>-87.618868355               </td><td>POINT (-87.6188683546 41.8909220259)    </td></tr>\n",
       "<tr><td><i style='opacity: 0.6'>3</i>         </td><td>ae05f6f7a766b58b059f04c7549892da4dc3cf54</td><td>&#x27;7dc01f4be54a4058ffb81098be25f52c9f1249afc88e3ef...</td><td>05/17/2014 01:30:00 AM</td><td>05/17/2014 01:45:00 AM</td><td>480.0         </td><td>0.0         </td><td>17031071500.0        </td><td>17031062200.0         </td><td>7.0                    </td><td>6.0                     </td><td>7.85  </td><td>3.0   </td><td>0.0    </td><td>1.0     </td><td>11.85       </td><td>Credit Card   </td><td>Taxi Affiliation Services        </td><td>41.914616286              </td><td>-87.631717366              </td><td>POINT (-87.6317173661 41.9146162864)</td><td>41.94258518                </td><td>-87.656644092               </td><td>POINT (-87.6566440918 41.9425851797)    </td></tr>\n",
       "<tr><td><i style='opacity: 0.6'>4</i>         </td><td>b45b42620c3a926ea633b9115dc624a33dcf3b56</td><td>&#x27;9f87b11be025b5dcc55e9472b8c2158664c97d193cf15d9...</td><td>04/25/2014 02:30:00 PM</td><td>04/25/2014 02:30:00 PM</td><td>0.0           </td><td>0.0         </td><td>nan                  </td><td>nan                   </td><td>nan                    </td><td>nan                     </td><td>42.05 </td><td>7.0   </td><td>0.0    </td><td>0.0     </td><td>49.05       </td><td>Credit Card   </td><td>T.A.S. - Payment Only            </td><td>nan                       </td><td>nan                        </td><td>--                                  </td><td>nan                        </td><td>nan                         </td><td>--                                      </td></tr>\n",
       "<tr><td>...                                   </td><td>...                                     </td><td>...                                                </td><td>...                   </td><td>...                   </td><td>...           </td><td>...         </td><td>...                  </td><td>...                   </td><td>...                    </td><td>...                     </td><td>...   </td><td>...   </td><td>...    </td><td>...     </td><td>...         </td><td>...           </td><td>...                              </td><td>...                       </td><td>...                        </td><td>...                                 </td><td>...                        </td><td>...                         </td><td>...                                     </td></tr>\n",
       "<tr><td><i style='opacity: 0.6'>37,395,431</i></td><td>40aa131f22b63a5ca71d1eff4477500e6b875036</td><td>&#x27;8c244243c4123f4b467c2931cf59a691059a45302dc13e3...</td><td>04/03/2014 08:30:00 PM</td><td>04/03/2014 08:45:00 PM</td><td>900.0         </td><td>3.7         </td><td>nan                  </td><td>nan                   </td><td>6.0                    </td><td>24.0                    </td><td>11.25 </td><td>0.0   </td><td>0.0    </td><td>0.0     </td><td>11.25       </td><td>Cash          </td><td>Taxi Affiliation Services        </td><td>41.944226601              </td><td>-87.655998182              </td><td>POINT (-87.6559981815 41.9442266014)</td><td>41.901206994               </td><td>-87.676355989               </td><td>POINT (-87.6763559892 41.90120699410001)</td></tr>\n",
       "<tr><td><i style='opacity: 0.6'>37,395,432</i></td><td>0cd3c0015580380a89b2da5d4ed01016c0399e6a</td><td>&#x27;01480513a7f6f4664d6cc4c41ff3043ae6ecbc8cb17404f...</td><td>05/13/2014 11:30:00 PM</td><td>05/13/2014 11:45:00 PM</td><td>540.0         </td><td>0.0         </td><td>nan                  </td><td>nan                   </td><td>8.0                    </td><td>6.0                     </td><td>11.85 </td><td>3.55  </td><td>0.0    </td><td>0.0     </td><td>15.4        </td><td>Credit Card   </td><td>Blue Ribbon Taxi Association Inc.</td><td>41.899602111              </td><td>-87.633308037              </td><td>POINT (-87.6333080367 41.899602111) </td><td>41.944226601               </td><td>-87.655998182               </td><td>POINT (-87.6559981815 41.9442266014)    </td></tr>\n",
       "<tr><td><i style='opacity: 0.6'>37,395,433</i></td><td>d378e1b76a0de5844b9d50a719239bcf878da1fc</td><td>&#x27;fdeaab06ce15ad69658acbc0e591218ef6146a29ef21275...</td><td>05/14/2014 12:45:00 PM</td><td>05/14/2014 12:45:00 PM</td><td>240.0         </td><td>0.0         </td><td>17031839100.0        </td><td>17031833000.0         </td><td>32.0                   </td><td>28.0                    </td><td>5.25  </td><td>3.0   </td><td>0.0    </td><td>1.5     </td><td>9.75        </td><td>Credit Card   </td><td>Taxi Affiliation Services        </td><td>41.880994471              </td><td>-87.632746489              </td><td>POINT (-87.6327464887 41.8809944707)</td><td>41.88528132                </td><td>-87.6572332                 </td><td>POINT (-87.6572331997 41.8852813201)    </td></tr>\n",
       "<tr><td><i style='opacity: 0.6'>37,395,434</i></td><td>d64938a724961d6f2c0ae58932e78e3671784822</td><td>&#x27;a42edac48945c9dab13540adee09290f11b123a513580f2...</td><td>05/14/2014 12:15:00 PM</td><td>05/14/2014 12:15:00 PM</td><td>360.0         </td><td>0.0         </td><td>17031081202.0        </td><td>17031081300.0         </td><td>8.0                    </td><td>8.0                     </td><td>5.05  </td><td>0.0   </td><td>0.0    </td><td>0.0     </td><td>5.05        </td><td>Cash          </td><td>KOAM Taxi Association            </td><td>41.902788048              </td><td>-87.62614559               </td><td>POINT (-87.6261455896 41.9027880476)</td><td>41.898331794               </td><td>-87.620762865               </td><td>POINT (-87.6207628651 41.8983317935)    </td></tr>\n",
       "<tr><td><i style='opacity: 0.6'>37,395,435</i></td><td>ffa438bd0098e226eccd9867c2a134009a13c20d</td><td>&#x27;705cc88d7a216145f6c762aa705905a745a0c5f17e39aa1...</td><td>05/13/2014 11:30:00 PM</td><td>05/13/2014 11:45:00 PM</td><td>840.0         </td><td>3.2         </td><td>17031320100.0        </td><td>17031832600.0         </td><td>32.0                   </td><td>7.0                     </td><td>10.45 </td><td>2.25  </td><td>0.0    </td><td>1.0     </td><td>13.7        </td><td>Credit Card   </td><td>Dispatch Taxi Affiliation        </td><td>41.884987192              </td><td>-87.620992913              </td><td>POINT (-87.6209929134 41.8849871918)</td><td>41.914747305               </td><td>-87.654007029               </td><td>POINT (-87.6540070286 41.9147473049)    </td></tr>\n",
       "</tbody>\n",
       "</table>"
      ],
      "text/plain": [
       "<IPython.core.display.HTML object>"
      ]
     },
     "metadata": {},
     "output_type": "display_data"
    }
   ],
   "source": [
    "df_vaex.info()"
   ]
  },
  {
   "cell_type": "code",
   "execution_count": 1,
   "metadata": {},
   "outputs": [],
   "source": [
    "#df_vaex.describe()"
   ]
  },
  {
   "cell_type": "code",
   "execution_count": 14,
   "metadata": {},
   "outputs": [],
   "source": [
    "df_vaex.close()"
   ]
  }
 ],
 "metadata": {
  "kernelspec": {
   "display_name": "AAA_2023-Ne9h4ijP",
   "language": "python",
   "name": "python3"
  },
  "language_info": {
   "codemirror_mode": {
    "name": "ipython",
    "version": 3
   },
   "file_extension": ".py",
   "mimetype": "text/x-python",
   "name": "python",
   "nbconvert_exporter": "python",
   "pygments_lexer": "ipython3",
   "version": "3.10.10"
  },
  "orig_nbformat": 4
 },
 "nbformat": 4,
 "nbformat_minor": 2
}
