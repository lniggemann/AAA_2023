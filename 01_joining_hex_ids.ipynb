{
 "cells": [
  {
   "cell_type": "code",
   "execution_count": 1,
   "metadata": {},
   "outputs": [],
   "source": [
    "import geopandas as gpd\n",
    "import vaex\n",
    "import json\n",
    "from shapely.geometry import shape"
   ]
  },
  {
   "cell_type": "code",
   "execution_count": 2,
   "metadata": {},
   "outputs": [],
   "source": [
    "# Load Vaex DataFrame with points\n",
    "df = vaex.open('data/trips/trips.hdf5')\n"
   ]
  },
  {
   "cell_type": "code",
   "execution_count": 15,
   "metadata": {},
   "outputs": [
    {
     "ename": "AttributeError",
     "evalue": "'NoneType' object has no attribute 'type'",
     "output_type": "error",
     "traceback": [
      "\u001b[1;31m---------------------------------------------------------------------------\u001b[0m",
      "\u001b[1;31mAttributeError\u001b[0m                            Traceback (most recent call last)",
      "Cell \u001b[1;32mIn[15], line 3\u001b[0m\n\u001b[0;32m      1\u001b[0m filtered_df \u001b[39m=\u001b[39m df\u001b[39m.\u001b[39mselect(df[\u001b[39m'\u001b[39m\u001b[39mPickup Centroid Latitude\u001b[39m\u001b[39m'\u001b[39m] \u001b[39m==\u001b[39m df[\u001b[39m'\u001b[39m\u001b[39mPickup Centroid Latitude\u001b[39m\u001b[39m'\u001b[39m])\n\u001b[0;32m      2\u001b[0m \u001b[39m#selected_columns_df = df['Pickup Centroid Latitude']\u001b[39;00m\n\u001b[1;32m----> 3\u001b[0m filtered_df\u001b[39m.\u001b[39;49mtype()\n\u001b[0;32m      4\u001b[0m \u001b[39m#df_cleaned.info()\u001b[39;00m\n",
      "\u001b[1;31mAttributeError\u001b[0m: 'NoneType' object has no attribute 'type'"
     ]
    }
   ],
   "source": [
    "filtered_df = df.select(df['Pickup Centroid Latitude'] == df['Pickup Centroid Latitude'])\n",
    "#selected_columns_df = df['Pickup Centroid Latitude']\n",
    "#df_cleaned.info()"
   ]
  },
  {
   "cell_type": "code",
   "execution_count": 11,
   "metadata": {},
   "outputs": [
    {
     "data": {
      "text/html": [
       "<style>.vaex-description pre {\n",
       "          max-width : 450px;\n",
       "          white-space : nowrap;\n",
       "          overflow : hidden;\n",
       "          text-overflow: ellipsis;\n",
       "        }\n",
       "\n",
       "        .vex-description pre:hover {\n",
       "          max-width : initial;\n",
       "          white-space: pre;\n",
       "        }</style>"
      ],
      "text/plain": [
       "<IPython.core.display.HTML object>"
      ]
     },
     "metadata": {},
     "output_type": "display_data"
    },
    {
     "data": {
      "text/html": [
       "<div><h2>trips</h2> <b>rows</b>: 37,395,436</div><h2>Columns:</h2><table class='table-striped'><thead><tr><th>column</th><th>type</th><th>unit</th><th>description</th><th>expression</th></tr></thead><tr><td>Trip ID</td><td>str</td><td></td><td ><pre></pre></td><td></td></tr><tr><td>Taxi ID</td><td>str</td><td></td><td ><pre></pre></td><td></td></tr><tr><td>Trip Start Timestamp</td><td>str</td><td></td><td ><pre></pre></td><td></td></tr><tr><td>Trip End Timestamp</td><td>str</td><td></td><td ><pre></pre></td><td></td></tr><tr><td>Trip Seconds</td><td>float64</td><td></td><td ><pre></pre></td><td></td></tr><tr><td>Trip Miles</td><td>float64</td><td></td><td ><pre></pre></td><td></td></tr><tr><td>Pickup Census Tract</td><td>float64</td><td></td><td ><pre></pre></td><td></td></tr><tr><td>Dropoff Census Tract</td><td>float64</td><td></td><td ><pre></pre></td><td></td></tr><tr><td>Pickup Community Area</td><td>float64</td><td></td><td ><pre></pre></td><td></td></tr><tr><td>Dropoff Community Area</td><td>float64</td><td></td><td ><pre></pre></td><td></td></tr><tr><td>Fare</td><td>float64</td><td></td><td ><pre></pre></td><td></td></tr><tr><td>Tips</td><td>float64</td><td></td><td ><pre></pre></td><td></td></tr><tr><td>Tolls</td><td>float64</td><td></td><td ><pre></pre></td><td></td></tr><tr><td>Extras</td><td>float64</td><td></td><td ><pre></pre></td><td></td></tr><tr><td>Trip Total</td><td>float64</td><td></td><td ><pre></pre></td><td></td></tr><tr><td>Payment Type</td><td>str</td><td></td><td ><pre></pre></td><td></td></tr><tr><td>Company</td><td>str</td><td></td><td ><pre></pre></td><td></td></tr><tr><td>Pickup Centroid Latitude</td><td>float64</td><td></td><td ><pre></pre></td><td></td></tr><tr><td>Pickup Centroid Longitude</td><td>float64</td><td></td><td ><pre></pre></td><td></td></tr><tr><td>Pickup Centroid Location</td><td>str</td><td></td><td ><pre></pre></td><td></td></tr><tr><td>Dropoff Centroid Latitude</td><td>float64</td><td></td><td ><pre></pre></td><td></td></tr><tr><td>Dropoff Centroid Longitude</td><td>float64</td><td></td><td ><pre></pre></td><td></td></tr><tr><td>Dropoff Centroid  Location</td><td>str</td><td></td><td ><pre></pre></td><td></td></tr></table><h2>Data:</h2><table>\n",
       "<thead>\n",
       "<tr><th>#                                     </th><th>Trip ID                                 </th><th>Taxi ID                                            </th><th>Trip Start Timestamp  </th><th>Trip End Timestamp    </th><th>Trip Seconds  </th><th>Trip Miles  </th><th>Pickup Census Tract  </th><th>Dropoff Census Tract  </th><th>Pickup Community Area  </th><th>Dropoff Community Area  </th><th>Fare  </th><th>Tips  </th><th>Tolls  </th><th>Extras  </th><th>Trip Total  </th><th>Payment Type  </th><th>Company                          </th><th>Pickup Centroid Latitude  </th><th>Pickup Centroid Longitude  </th><th>Pickup Centroid Location            </th><th>Dropoff Centroid Latitude  </th><th>Dropoff Centroid Longitude  </th><th>Dropoff Centroid  Location              </th></tr>\n",
       "</thead>\n",
       "<tbody>\n",
       "<tr><td><i style='opacity: 0.6'>0</i>         </td><td>506646dd0685bd55094f1b7dfac97cf3b07b6126</td><td>&#x27;1099c684f9da1ac1d0dd253d394f1c8dad37bc1a53d944d...</td><td>05/17/2014 10:45:00 AM</td><td>05/17/2014 11:00:00 AM</td><td>1080.0        </td><td>7.0         </td><td>17031281900.0        </td><td>17031061100.0         </td><td>28.0                   </td><td>6.0                     </td><td>17.45 </td><td>0.0   </td><td>0.0    </td><td>1.5     </td><td>18.95       </td><td>Cash          </td><td>Taxi Affiliation Services        </td><td>41.879255084              </td><td>-87.642648998              </td><td>POINT (-87.642648998 41.8792550844) </td><td>41.949139771               </td><td>-87.656803909               </td><td>POINT (-87.6568039088 41.9491397709)    </td></tr>\n",
       "<tr><td><i style='opacity: 0.6'>1</i>         </td><td>1462669f59c3b5a1730e8a5f511a4102d1998c21</td><td>&#x27;379e0fd9da136cabc9eec3aca37047bbdee373ca2ef7a03...</td><td>04/17/2014 06:30:00 PM</td><td>04/17/2014 07:00:00 PM</td><td>1080.0        </td><td>3.0         </td><td>nan                  </td><td>17031841100.0         </td><td>nan                    </td><td>34.0                    </td><td>11.45 </td><td>0.0   </td><td>0.0    </td><td>1.0     </td><td>12.45       </td><td>Cash          </td><td>Taxi Affiliation Services        </td><td>nan                       </td><td>nan                        </td><td>--                                  </td><td>41.851017824               </td><td>-87.635091856               </td><td>POINT (-87.6350918563 41.8510178239)    </td></tr>\n",
       "<tr><td><i style='opacity: 0.6'>2</i>         </td><td>8d699aec32ce70e3647f7b06147001d3926975cc</td><td>&#x27;6768c7ebfdee8e7e7b3f5ec44739316241895aa2f7edf10...</td><td>05/03/2014 11:30:00 PM</td><td>05/03/2014 11:45:00 PM</td><td>720.0         </td><td>2.1         </td><td>17031081800.0        </td><td>17031081403.0         </td><td>8.0                    </td><td>8.0                     </td><td>8.45  </td><td>2.0   </td><td>0.0    </td><td>1.0     </td><td>11.45       </td><td>Credit Card   </td><td>Dispatch Taxi Affiliation        </td><td>41.89321636               </td><td>-87.63784421               </td><td>POINT (-87.6378442095 41.8932163595)</td><td>41.890922026               </td><td>-87.618868355               </td><td>POINT (-87.6188683546 41.8909220259)    </td></tr>\n",
       "<tr><td><i style='opacity: 0.6'>3</i>         </td><td>ae05f6f7a766b58b059f04c7549892da4dc3cf54</td><td>&#x27;7dc01f4be54a4058ffb81098be25f52c9f1249afc88e3ef...</td><td>05/17/2014 01:30:00 AM</td><td>05/17/2014 01:45:00 AM</td><td>480.0         </td><td>0.0         </td><td>17031071500.0        </td><td>17031062200.0         </td><td>7.0                    </td><td>6.0                     </td><td>7.85  </td><td>3.0   </td><td>0.0    </td><td>1.0     </td><td>11.85       </td><td>Credit Card   </td><td>Taxi Affiliation Services        </td><td>41.914616286              </td><td>-87.631717366              </td><td>POINT (-87.6317173661 41.9146162864)</td><td>41.94258518                </td><td>-87.656644092               </td><td>POINT (-87.6566440918 41.9425851797)    </td></tr>\n",
       "<tr><td><i style='opacity: 0.6'>4</i>         </td><td>b45b42620c3a926ea633b9115dc624a33dcf3b56</td><td>&#x27;9f87b11be025b5dcc55e9472b8c2158664c97d193cf15d9...</td><td>04/25/2014 02:30:00 PM</td><td>04/25/2014 02:30:00 PM</td><td>0.0           </td><td>0.0         </td><td>nan                  </td><td>nan                   </td><td>nan                    </td><td>nan                     </td><td>42.05 </td><td>7.0   </td><td>0.0    </td><td>0.0     </td><td>49.05       </td><td>Credit Card   </td><td>T.A.S. - Payment Only            </td><td>nan                       </td><td>nan                        </td><td>--                                  </td><td>nan                        </td><td>nan                         </td><td>--                                      </td></tr>\n",
       "<tr><td>...                                   </td><td>...                                     </td><td>...                                                </td><td>...                   </td><td>...                   </td><td>...           </td><td>...         </td><td>...                  </td><td>...                   </td><td>...                    </td><td>...                     </td><td>...   </td><td>...   </td><td>...    </td><td>...     </td><td>...         </td><td>...           </td><td>...                              </td><td>...                       </td><td>...                        </td><td>...                                 </td><td>...                        </td><td>...                         </td><td>...                                     </td></tr>\n",
       "<tr><td><i style='opacity: 0.6'>37,395,431</i></td><td>40aa131f22b63a5ca71d1eff4477500e6b875036</td><td>&#x27;8c244243c4123f4b467c2931cf59a691059a45302dc13e3...</td><td>04/03/2014 08:30:00 PM</td><td>04/03/2014 08:45:00 PM</td><td>900.0         </td><td>3.7         </td><td>nan                  </td><td>nan                   </td><td>6.0                    </td><td>24.0                    </td><td>11.25 </td><td>0.0   </td><td>0.0    </td><td>0.0     </td><td>11.25       </td><td>Cash          </td><td>Taxi Affiliation Services        </td><td>41.944226601              </td><td>-87.655998182              </td><td>POINT (-87.6559981815 41.9442266014)</td><td>41.901206994               </td><td>-87.676355989               </td><td>POINT (-87.6763559892 41.90120699410001)</td></tr>\n",
       "<tr><td><i style='opacity: 0.6'>37,395,432</i></td><td>0cd3c0015580380a89b2da5d4ed01016c0399e6a</td><td>&#x27;01480513a7f6f4664d6cc4c41ff3043ae6ecbc8cb17404f...</td><td>05/13/2014 11:30:00 PM</td><td>05/13/2014 11:45:00 PM</td><td>540.0         </td><td>0.0         </td><td>nan                  </td><td>nan                   </td><td>8.0                    </td><td>6.0                     </td><td>11.85 </td><td>3.55  </td><td>0.0    </td><td>0.0     </td><td>15.4        </td><td>Credit Card   </td><td>Blue Ribbon Taxi Association Inc.</td><td>41.899602111              </td><td>-87.633308037              </td><td>POINT (-87.6333080367 41.899602111) </td><td>41.944226601               </td><td>-87.655998182               </td><td>POINT (-87.6559981815 41.9442266014)    </td></tr>\n",
       "<tr><td><i style='opacity: 0.6'>37,395,433</i></td><td>d378e1b76a0de5844b9d50a719239bcf878da1fc</td><td>&#x27;fdeaab06ce15ad69658acbc0e591218ef6146a29ef21275...</td><td>05/14/2014 12:45:00 PM</td><td>05/14/2014 12:45:00 PM</td><td>240.0         </td><td>0.0         </td><td>17031839100.0        </td><td>17031833000.0         </td><td>32.0                   </td><td>28.0                    </td><td>5.25  </td><td>3.0   </td><td>0.0    </td><td>1.5     </td><td>9.75        </td><td>Credit Card   </td><td>Taxi Affiliation Services        </td><td>41.880994471              </td><td>-87.632746489              </td><td>POINT (-87.6327464887 41.8809944707)</td><td>41.88528132                </td><td>-87.6572332                 </td><td>POINT (-87.6572331997 41.8852813201)    </td></tr>\n",
       "<tr><td><i style='opacity: 0.6'>37,395,434</i></td><td>d64938a724961d6f2c0ae58932e78e3671784822</td><td>&#x27;a42edac48945c9dab13540adee09290f11b123a513580f2...</td><td>05/14/2014 12:15:00 PM</td><td>05/14/2014 12:15:00 PM</td><td>360.0         </td><td>0.0         </td><td>17031081202.0        </td><td>17031081300.0         </td><td>8.0                    </td><td>8.0                     </td><td>5.05  </td><td>0.0   </td><td>0.0    </td><td>0.0     </td><td>5.05        </td><td>Cash          </td><td>KOAM Taxi Association            </td><td>41.902788048              </td><td>-87.62614559               </td><td>POINT (-87.6261455896 41.9027880476)</td><td>41.898331794               </td><td>-87.620762865               </td><td>POINT (-87.6207628651 41.8983317935)    </td></tr>\n",
       "<tr><td><i style='opacity: 0.6'>37,395,435</i></td><td>ffa438bd0098e226eccd9867c2a134009a13c20d</td><td>&#x27;705cc88d7a216145f6c762aa705905a745a0c5f17e39aa1...</td><td>05/13/2014 11:30:00 PM</td><td>05/13/2014 11:45:00 PM</td><td>840.0         </td><td>3.2         </td><td>17031320100.0        </td><td>17031832600.0         </td><td>32.0                   </td><td>7.0                     </td><td>10.45 </td><td>2.25  </td><td>0.0    </td><td>1.0     </td><td>13.7        </td><td>Credit Card   </td><td>Dispatch Taxi Affiliation        </td><td>41.884987192              </td><td>-87.620992913              </td><td>POINT (-87.6209929134 41.8849871918)</td><td>41.914747305               </td><td>-87.654007029               </td><td>POINT (-87.6540070286 41.9147473049)    </td></tr>\n",
       "</tbody>\n",
       "</table>"
      ],
      "text/plain": [
       "<IPython.core.display.HTML object>"
      ]
     },
     "metadata": {},
     "output_type": "display_data"
    }
   ],
   "source": []
  },
  {
   "cell_type": "code",
   "execution_count": null,
   "metadata": {},
   "outputs": [],
   "source": [
    "# Create GeoJSON column from longitude and latitude\n",
    "def create_geojson(lon, lat):\n",
    "    if lon is not None and lat is not None:\n",
    "        return {\n",
    "            \n",
    "            #gpd.points_from_xy(df[lon], df[lat])\n",
    "            'type': 'POINT',\n",
    "            'coordinates': [float(lon), float(lat)]\n",
    "        }\n",
    "    return None\n",
    "\n",
    "df['Pickup Centroid Location_GEOJSON'] = df.apply(create_geojson, arguments=[df['Pickup Centroid Longitude'], df['Pickup Centroid Latitude']])\n",
    "\n",
    "# Verify the updated column format\n",
    "print(df['Pickup Centroid Location_GEOJSON'].dtype)\n"
   ]
  },
  {
   "cell_type": "code",
   "execution_count": 49,
   "metadata": {},
   "outputs": [
    {
     "name": "stdout",
     "output_type": "stream",
     "text": [
      "string\n"
     ]
    }
   ],
   "source": [
    "# Create GeoJSON column from longitude and latitude\n",
    "def create_geojson(lon, lat):\n",
    "    if lon is not None and lat is not None:\n",
    "        geojson_dict = {\n",
    "            'type': 'Point',\n",
    "            'coordinates': [float(lon), float(lat)]\n",
    "        }\n",
    "        return json.dumps(geojson_dict)\n",
    "    return None\n",
    "\n",
    "df['Pickup Centroid Location_GEOJSON'] = df.apply(create_geojson, arguments=[df['Pickup Centroid Longitude'], df['Pickup Centroid Latitude']])\n",
    "\n",
    "# Verify the updated column format\n",
    "print(df['Pickup Centroid Location_GEOJSON'].dtype)\n",
    "\n"
   ]
  },
  {
   "cell_type": "code",
   "execution_count": 53,
   "metadata": {},
   "outputs": [
    {
     "data": {
      "text/plain": [
       "Expression = point_geometry\n",
       "Length: 37,395,436 dtype: object (column)\n",
       "-----------------------------------------\n",
       "Error evaluating: NameError(\"name 'NaN' is not defined\")"
      ]
     },
     "execution_count": 53,
     "metadata": {},
     "output_type": "execute_result"
    }
   ],
   "source": [
    "# Extract Point geometry from GeoJSON column\n",
    "df['point_geometry'] = df['Pickup Centroid Location_GEOJSON'].apply(lambda x: shape(eval(x)) if x is not None else None)\n",
    "\n",
    "df['point_geometry']"
   ]
  },
  {
   "cell_type": "code",
   "execution_count": null,
   "metadata": {},
   "outputs": [],
   "source": [
    "# Load GeoDataFrame with hexagonal shapes from GeoJSON\n",
    "gdf = gpd.read_file('data/hexagon_files/hexagon_res7.geojson')\n",
    "\n",
    "# Load Vaex DataFrame with points\n",
    "#df = vaex.open('data/trips/trips.hdf5')\n",
    "\n",
    "# Create a spatial index for faster spatial queries\n",
    "gdf.sindex\n",
    "\n",
    "# Define a function to check if a point lies within a hexagon\n",
    "def is_point_inside_hexagon(point, hexagon):\n",
    "    return point.any().within(hexagon)\n",
    "\n",
    "# Create a new column in the Vaex DataFrame to store the join result\n",
    "df['hexagon_tripstart_res7'] = '-1'  # Initialize with a default value indicating no match\n",
    "\n",
    "# Iterate over each row in the GeoDataFrame\n",
    "for index, hexagon in gdf.iterrows():\n",
    "    # print(hexagon[\"geometry\"])\n",
    "    # Check if any point in the Vaex DataFrame lies within the hexagon\n",
    "    points_in_hexagon = df[df['Pickup Centroid Location'].apply(lambda point: is_point_inside_hexagon(point, hexagon))]\n",
    "    if len(points_in_hexagon) > 0:\n",
    "        # Set the hexagon ID for the matching points in the Vaex DataFrame\n",
    "        df.loc[points_in_hexagon.index, 'hexagon_tripstart_res7'] = index\n",
    "\n",
    "# # Save the updated Vaex DataFrame with the hexagon IDs\n",
    "# df.export_hdf5('path/to/joined_vaexfile.hdf5')\n"
   ]
  },
  {
   "cell_type": "code",
   "execution_count": null,
   "metadata": {},
   "outputs": [],
   "source": [
    "# Load Vaex DataFrame\n",
    "df = vaex.open('data/trips/trips.hdf5')\n",
    "\n",
    "# Convert the column from string to GeoJSON format\n",
    "def parse_json(x):\n",
    "    try:\n",
    "        return json.loads(x)\n",
    "    except (json.JSONDecodeError, TypeError):\n",
    "        return None\n",
    "\n",
    "df['Pickup Centroid Location'] = df['Pickup Centroid Location'].apply(parse_json)\n",
    "\n",
    "# Verify the updated column format\n",
    "print(df['Pickup Centroid Location'].dtype)\n",
    "\n",
    "# Save the updated Vaex DataFrame\n",
    "#df.export_hdf5('path/to/updated_vaexfile.hdf5')\n"
   ]
  }
 ],
 "metadata": {
  "kernelspec": {
   "display_name": "ox",
   "language": "python",
   "name": "python3"
  },
  "language_info": {
   "codemirror_mode": {
    "name": "ipython",
    "version": 3
   },
   "file_extension": ".py",
   "mimetype": "text/x-python",
   "name": "python",
   "nbconvert_exporter": "python",
   "pygments_lexer": "ipython3",
   "version": "3.10.11"
  },
  "orig_nbformat": 4
 },
 "nbformat": 4,
 "nbformat_minor": 2
}
