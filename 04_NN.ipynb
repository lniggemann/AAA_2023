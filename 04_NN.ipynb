{
 "cells": [
  {
   "cell_type": "code",
   "execution_count": 5,
   "metadata": {},
   "outputs": [],
   "source": [
    "import vaex\n",
    "import pandas as pd\n",
    "import numpy as np\n",
    "import geopandas as gp"
   ]
  },
  {
   "cell_type": "code",
   "execution_count": 6,
   "metadata": {},
   "outputs": [],
   "source": [
    "timeB = 4\n",
    "resolution = 7\n",
    "hdf = vaex.open(\"data/trips/trips_grouped_\" + str(timeB) + \"h_r\" + str(resolution) + \".hdf5\")\n",
    "df = hdf.to_pandas_df()"
   ]
  },
  {
   "cell_type": "code",
   "execution_count": 7,
   "metadata": {},
   "outputs": [
    {
     "data": {
      "text/html": [
       "<div>\n",
       "<style scoped>\n",
       "    .dataframe tbody tr th:only-of-type {\n",
       "        vertical-align: middle;\n",
       "    }\n",
       "\n",
       "    .dataframe tbody tr th {\n",
       "        vertical-align: top;\n",
       "    }\n",
       "\n",
       "    .dataframe thead th {\n",
       "        text-align: right;\n",
       "    }\n",
       "</style>\n",
       "<table border=\"1\" class=\"dataframe\">\n",
       "  <thead>\n",
       "    <tr style=\"text-align: right;\">\n",
       "      <th></th>\n",
       "      <th>start_day</th>\n",
       "      <th>start_month</th>\n",
       "      <th>start_weekday</th>\n",
       "      <th>start_weekday_sin</th>\n",
       "      <th>start_weekday_cos</th>\n",
       "      <th>ts_start_4_hour</th>\n",
       "      <th>start_4_hour</th>\n",
       "      <th>start_4_hour_sin</th>\n",
       "      <th>start_4_hour_cos</th>\n",
       "      <th>pickup_hex_7</th>\n",
       "      <th>...</th>\n",
       "      <th>Trip Total</th>\n",
       "      <th>Company_encoded</th>\n",
       "      <th>Taxi ID_encoded</th>\n",
       "      <th>Payment Type_Dispute</th>\n",
       "      <th>Payment Type_Unknown</th>\n",
       "      <th>Payment Type_Prcard</th>\n",
       "      <th>Payment Type_Cash</th>\n",
       "      <th>Payment Type_Credit Card</th>\n",
       "      <th>Payment Type_Pcard</th>\n",
       "      <th>Payment Type_No Charge</th>\n",
       "    </tr>\n",
       "  </thead>\n",
       "  <tbody>\n",
       "    <tr>\n",
       "      <th>0</th>\n",
       "      <td>2014-06-22</td>\n",
       "      <td>6</td>\n",
       "      <td>6</td>\n",
       "      <td>-0.781831</td>\n",
       "      <td>0.623490</td>\n",
       "      <td>2014-06-22 08:00:00</td>\n",
       "      <td>8</td>\n",
       "      <td>0.866025</td>\n",
       "      <td>-0.5</td>\n",
       "      <td>872c21191ffffff</td>\n",
       "      <td>...</td>\n",
       "      <td>14.024395</td>\n",
       "      <td>21</td>\n",
       "      <td>906</td>\n",
       "      <td>0</td>\n",
       "      <td>0</td>\n",
       "      <td>0</td>\n",
       "      <td>1137</td>\n",
       "      <td>465</td>\n",
       "      <td>0</td>\n",
       "      <td>2</td>\n",
       "    </tr>\n",
       "    <tr>\n",
       "      <th>1</th>\n",
       "      <td>2014-04-29</td>\n",
       "      <td>4</td>\n",
       "      <td>1</td>\n",
       "      <td>0.781831</td>\n",
       "      <td>0.623490</td>\n",
       "      <td>2014-04-29 04:00:00</td>\n",
       "      <td>4</td>\n",
       "      <td>-0.866025</td>\n",
       "      <td>-0.5</td>\n",
       "      <td>872c21014ffffff</td>\n",
       "      <td>...</td>\n",
       "      <td>18.623750</td>\n",
       "      <td>9</td>\n",
       "      <td>37</td>\n",
       "      <td>0</td>\n",
       "      <td>0</td>\n",
       "      <td>0</td>\n",
       "      <td>33</td>\n",
       "      <td>4</td>\n",
       "      <td>0</td>\n",
       "      <td>3</td>\n",
       "    </tr>\n",
       "    <tr>\n",
       "      <th>2</th>\n",
       "      <td>2014-04-18</td>\n",
       "      <td>4</td>\n",
       "      <td>4</td>\n",
       "      <td>-0.433884</td>\n",
       "      <td>-0.900969</td>\n",
       "      <td>2014-04-18 08:00:00</td>\n",
       "      <td>8</td>\n",
       "      <td>0.866025</td>\n",
       "      <td>-0.5</td>\n",
       "      <td>872c2119cffffff</td>\n",
       "      <td>...</td>\n",
       "      <td>12.019427</td>\n",
       "      <td>24</td>\n",
       "      <td>2092</td>\n",
       "      <td>2</td>\n",
       "      <td>10</td>\n",
       "      <td>1</td>\n",
       "      <td>4062</td>\n",
       "      <td>1678</td>\n",
       "      <td>1</td>\n",
       "      <td>20</td>\n",
       "    </tr>\n",
       "  </tbody>\n",
       "</table>\n",
       "<p>3 rows × 27 columns</p>\n",
       "</div>"
      ],
      "text/plain": [
       "   start_day  start_month  start_weekday  start_weekday_sin  \\\n",
       "0 2014-06-22            6              6          -0.781831   \n",
       "1 2014-04-29            4              1           0.781831   \n",
       "2 2014-04-18            4              4          -0.433884   \n",
       "\n",
       "   start_weekday_cos     ts_start_4_hour  start_4_hour  start_4_hour_sin  \\\n",
       "0           0.623490 2014-06-22 08:00:00             8          0.866025   \n",
       "1           0.623490 2014-04-29 04:00:00             4         -0.866025   \n",
       "2          -0.900969 2014-04-18 08:00:00             8          0.866025   \n",
       "\n",
       "   start_4_hour_cos     pickup_hex_7  ...  Trip Total  Company_encoded  \\\n",
       "0              -0.5  872c21191ffffff  ...   14.024395               21   \n",
       "1              -0.5  872c21014ffffff  ...   18.623750                9   \n",
       "2              -0.5  872c2119cffffff  ...   12.019427               24   \n",
       "\n",
       "   Taxi ID_encoded  Payment Type_Dispute  Payment Type_Unknown  \\\n",
       "0              906                     0                     0   \n",
       "1               37                     0                     0   \n",
       "2             2092                     2                    10   \n",
       "\n",
       "   Payment Type_Prcard  Payment Type_Cash  Payment Type_Credit Card  \\\n",
       "0                    0               1137                       465   \n",
       "1                    0                 33                         4   \n",
       "2                    1               4062                      1678   \n",
       "\n",
       "   Payment Type_Pcard  Payment Type_No Charge  \n",
       "0                   0                       2  \n",
       "1                   0                       3  \n",
       "2                   1                      20  \n",
       "\n",
       "[3 rows x 27 columns]"
      ]
     },
     "execution_count": 7,
     "metadata": {},
     "output_type": "execute_result"
    }
   ],
   "source": [
    "df.head(3)"
   ]
  },
  {
   "cell_type": "code",
   "execution_count": 8,
   "metadata": {},
   "outputs": [
    {
     "data": {
      "text/plain": [
       "Index(['start_day', 'start_month', 'start_weekday', 'start_weekday_sin',\n",
       "       'start_weekday_cos', 'ts_start_4_hour', 'start_4_hour',\n",
       "       'start_4_hour_sin', 'start_4_hour_cos', 'pickup_hex_7', 'demand',\n",
       "       'Trip Seconds', 'Trip Miles', 'Fare', 'Tips', 'Tolls', 'Extras',\n",
       "       'Trip Total', 'Company_encoded', 'Taxi ID_encoded',\n",
       "       'Payment Type_Dispute', 'Payment Type_Unknown', 'Payment Type_Prcard',\n",
       "       'Payment Type_Cash', 'Payment Type_Credit Card', 'Payment Type_Pcard',\n",
       "       'Payment Type_No Charge'],\n",
       "      dtype='object')"
      ]
     },
     "execution_count": 8,
     "metadata": {},
     "output_type": "execute_result"
    }
   ],
   "source": [
    "df.columns"
   ]
  },
  {
   "cell_type": "code",
   "execution_count": 9,
   "metadata": {},
   "outputs": [],
   "source": [
    "# Independent variables columns\n",
    "iVars = [\"start_month\", \"start_weekday\", \"start_4_hour\", \"pickup_hex_7\"]\n",
    "\n",
    "# All interesting columns\n",
    "iColumns = [\"demand\"] + iVars\n",
    "\n",
    "# Select interesting columns\n",
    "sdf = df[iColumns]"
   ]
  },
  {
   "cell_type": "code",
   "execution_count": 10,
   "metadata": {},
   "outputs": [],
   "source": [
    "# Removing Rides without a Hexagon/ Start-Location\n",
    "sdf = sdf[(sdf[\"pickup_hex_7\"].notna()) & (sdf[\"pickup_hex_7\"] != \"None\")]"
   ]
  },
  {
   "cell_type": "code",
   "execution_count": 12,
   "metadata": {},
   "outputs": [
    {
     "data": {
      "text/html": [
       "<div>\n",
       "<style scoped>\n",
       "    .dataframe tbody tr th:only-of-type {\n",
       "        vertical-align: middle;\n",
       "    }\n",
       "\n",
       "    .dataframe tbody tr th {\n",
       "        vertical-align: top;\n",
       "    }\n",
       "\n",
       "    .dataframe thead th {\n",
       "        text-align: right;\n",
       "    }\n",
       "</style>\n",
       "<table border=\"1\" class=\"dataframe\">\n",
       "  <thead>\n",
       "    <tr style=\"text-align: right;\">\n",
       "      <th></th>\n",
       "      <th>demand</th>\n",
       "      <th>start_month</th>\n",
       "      <th>start_weekday</th>\n",
       "      <th>start_4_hour</th>\n",
       "      <th>pickup_hex_7</th>\n",
       "    </tr>\n",
       "  </thead>\n",
       "  <tbody>\n",
       "    <tr>\n",
       "      <th>0</th>\n",
       "      <td>1604</td>\n",
       "      <td>6</td>\n",
       "      <td>6</td>\n",
       "      <td>8</td>\n",
       "      <td>872c21191ffffff</td>\n",
       "    </tr>\n",
       "    <tr>\n",
       "      <th>1</th>\n",
       "      <td>40</td>\n",
       "      <td>4</td>\n",
       "      <td>1</td>\n",
       "      <td>4</td>\n",
       "      <td>872c21014ffffff</td>\n",
       "    </tr>\n",
       "    <tr>\n",
       "      <th>2</th>\n",
       "      <td>5774</td>\n",
       "      <td>4</td>\n",
       "      <td>4</td>\n",
       "      <td>8</td>\n",
       "      <td>872c2119cffffff</td>\n",
       "    </tr>\n",
       "    <tr>\n",
       "      <th>3</th>\n",
       "      <td>10268</td>\n",
       "      <td>4</td>\n",
       "      <td>4</td>\n",
       "      <td>20</td>\n",
       "      <td>872c2119cffffff</td>\n",
       "    </tr>\n",
       "    <tr>\n",
       "      <th>4</th>\n",
       "      <td>766</td>\n",
       "      <td>4</td>\n",
       "      <td>5</td>\n",
       "      <td>16</td>\n",
       "      <td>872c21016ffffff</td>\n",
       "    </tr>\n",
       "    <tr>\n",
       "      <th>...</th>\n",
       "      <td>...</td>\n",
       "      <td>...</td>\n",
       "      <td>...</td>\n",
       "      <td>...</td>\n",
       "      <td>...</td>\n",
       "    </tr>\n",
       "    <tr>\n",
       "      <th>54085</th>\n",
       "      <td>2</td>\n",
       "      <td>4</td>\n",
       "      <td>2</td>\n",
       "      <td>20</td>\n",
       "      <td>872c21cdeffffff</td>\n",
       "    </tr>\n",
       "    <tr>\n",
       "      <th>54086</th>\n",
       "      <td>3</td>\n",
       "      <td>3</td>\n",
       "      <td>5</td>\n",
       "      <td>0</td>\n",
       "      <td>872c21ccbffffff</td>\n",
       "    </tr>\n",
       "    <tr>\n",
       "      <th>54087</th>\n",
       "      <td>1</td>\n",
       "      <td>2</td>\n",
       "      <td>5</td>\n",
       "      <td>0</td>\n",
       "      <td>872c21cd2ffffff</td>\n",
       "    </tr>\n",
       "    <tr>\n",
       "      <th>54088</th>\n",
       "      <td>4</td>\n",
       "      <td>4</td>\n",
       "      <td>3</td>\n",
       "      <td>12</td>\n",
       "      <td>872c21ccaffffff</td>\n",
       "    </tr>\n",
       "    <tr>\n",
       "      <th>54089</th>\n",
       "      <td>2</td>\n",
       "      <td>4</td>\n",
       "      <td>0</td>\n",
       "      <td>8</td>\n",
       "      <td>872c21525ffffff</td>\n",
       "    </tr>\n",
       "  </tbody>\n",
       "</table>\n",
       "<p>49710 rows × 5 columns</p>\n",
       "</div>"
      ],
      "text/plain": [
       "       demand  start_month  start_weekday  start_4_hour     pickup_hex_7\n",
       "0        1604            6              6             8  872c21191ffffff\n",
       "1          40            4              1             4  872c21014ffffff\n",
       "2        5774            4              4             8  872c2119cffffff\n",
       "3       10268            4              4            20  872c2119cffffff\n",
       "4         766            4              5            16  872c21016ffffff\n",
       "...       ...          ...            ...           ...              ...\n",
       "54085       2            4              2            20  872c21cdeffffff\n",
       "54086       3            3              5             0  872c21ccbffffff\n",
       "54087       1            2              5             0  872c21cd2ffffff\n",
       "54088       4            4              3            12  872c21ccaffffff\n",
       "54089       2            4              0             8  872c21525ffffff\n",
       "\n",
       "[49710 rows x 5 columns]"
      ]
     },
     "execution_count": 12,
     "metadata": {},
     "output_type": "execute_result"
    }
   ],
   "source": [
    "sdf"
   ]
  },
  {
   "attachments": {},
   "cell_type": "markdown",
   "metadata": {},
   "source": [
    "## Erstmal zum testen einfach eine Support Vector Machine mit SciKit"
   ]
  },
  {
   "cell_type": "code",
   "execution_count": 13,
   "metadata": {},
   "outputs": [],
   "source": [
    "import sklearn\n",
    "from sklearn.svm import SVR"
   ]
  },
  {
   "cell_type": "code",
   "execution_count": 14,
   "metadata": {},
   "outputs": [],
   "source": [
    "data = sdf.head(100000)"
   ]
  },
  {
   "cell_type": "code",
   "execution_count": 15,
   "metadata": {},
   "outputs": [
    {
     "data": {
      "text/html": [
       "<div>\n",
       "<style scoped>\n",
       "    .dataframe tbody tr th:only-of-type {\n",
       "        vertical-align: middle;\n",
       "    }\n",
       "\n",
       "    .dataframe tbody tr th {\n",
       "        vertical-align: top;\n",
       "    }\n",
       "\n",
       "    .dataframe thead th {\n",
       "        text-align: right;\n",
       "    }\n",
       "</style>\n",
       "<table border=\"1\" class=\"dataframe\">\n",
       "  <thead>\n",
       "    <tr style=\"text-align: right;\">\n",
       "      <th></th>\n",
       "      <th>start_month</th>\n",
       "      <th>start_weekday</th>\n",
       "      <th>start_4_hour</th>\n",
       "      <th>pickup_hex_7</th>\n",
       "    </tr>\n",
       "  </thead>\n",
       "  <tbody>\n",
       "    <tr>\n",
       "      <th>0</th>\n",
       "      <td>6</td>\n",
       "      <td>6</td>\n",
       "      <td>8</td>\n",
       "      <td>872c21191ffffff</td>\n",
       "    </tr>\n",
       "    <tr>\n",
       "      <th>1</th>\n",
       "      <td>4</td>\n",
       "      <td>1</td>\n",
       "      <td>4</td>\n",
       "      <td>872c21014ffffff</td>\n",
       "    </tr>\n",
       "  </tbody>\n",
       "</table>\n",
       "</div>"
      ],
      "text/plain": [
       "   start_month  start_weekday  start_4_hour     pickup_hex_7\n",
       "0            6              6             8  872c21191ffffff\n",
       "1            4              1             4  872c21014ffffff"
      ]
     },
     "execution_count": 15,
     "metadata": {},
     "output_type": "execute_result"
    }
   ],
   "source": [
    "X = data[gbColumns]\n",
    "X.head(2)"
   ]
  },
  {
   "cell_type": "code",
   "execution_count": 16,
   "metadata": {},
   "outputs": [
    {
     "data": {
      "text/html": [
       "<div>\n",
       "<style scoped>\n",
       "    .dataframe tbody tr th:only-of-type {\n",
       "        vertical-align: middle;\n",
       "    }\n",
       "\n",
       "    .dataframe tbody tr th {\n",
       "        vertical-align: top;\n",
       "    }\n",
       "\n",
       "    .dataframe thead th {\n",
       "        text-align: right;\n",
       "    }\n",
       "</style>\n",
       "<table border=\"1\" class=\"dataframe\">\n",
       "  <thead>\n",
       "    <tr style=\"text-align: right;\">\n",
       "      <th></th>\n",
       "      <th>start_month</th>\n",
       "      <th>start_weekday</th>\n",
       "      <th>start_4_hour</th>\n",
       "      <th>pickup_hex_7_872c21002ffffff</th>\n",
       "      <th>pickup_hex_7_872c21003ffffff</th>\n",
       "      <th>pickup_hex_7_872c21010ffffff</th>\n",
       "      <th>pickup_hex_7_872c21011ffffff</th>\n",
       "      <th>pickup_hex_7_872c21014ffffff</th>\n",
       "      <th>pickup_hex_7_872c21015ffffff</th>\n",
       "      <th>pickup_hex_7_872c21016ffffff</th>\n",
       "      <th>...</th>\n",
       "      <th>pickup_hex_7_872c21c98ffffff</th>\n",
       "      <th>pickup_hex_7_872c21c99ffffff</th>\n",
       "      <th>pickup_hex_7_872c21c9bffffff</th>\n",
       "      <th>pickup_hex_7_872c21ccaffffff</th>\n",
       "      <th>pickup_hex_7_872c21ccbffffff</th>\n",
       "      <th>pickup_hex_7_872c21cd2ffffff</th>\n",
       "      <th>pickup_hex_7_872c21cd3ffffff</th>\n",
       "      <th>pickup_hex_7_872c21cd8ffffff</th>\n",
       "      <th>pickup_hex_7_872c21cd9ffffff</th>\n",
       "      <th>pickup_hex_7_872c21cdeffffff</th>\n",
       "    </tr>\n",
       "  </thead>\n",
       "  <tbody>\n",
       "    <tr>\n",
       "      <th>0</th>\n",
       "      <td>6</td>\n",
       "      <td>6</td>\n",
       "      <td>8</td>\n",
       "      <td>False</td>\n",
       "      <td>False</td>\n",
       "      <td>False</td>\n",
       "      <td>False</td>\n",
       "      <td>False</td>\n",
       "      <td>False</td>\n",
       "      <td>False</td>\n",
       "      <td>...</td>\n",
       "      <td>False</td>\n",
       "      <td>False</td>\n",
       "      <td>False</td>\n",
       "      <td>False</td>\n",
       "      <td>False</td>\n",
       "      <td>False</td>\n",
       "      <td>False</td>\n",
       "      <td>False</td>\n",
       "      <td>False</td>\n",
       "      <td>False</td>\n",
       "    </tr>\n",
       "    <tr>\n",
       "      <th>1</th>\n",
       "      <td>4</td>\n",
       "      <td>1</td>\n",
       "      <td>4</td>\n",
       "      <td>False</td>\n",
       "      <td>False</td>\n",
       "      <td>False</td>\n",
       "      <td>False</td>\n",
       "      <td>True</td>\n",
       "      <td>False</td>\n",
       "      <td>False</td>\n",
       "      <td>...</td>\n",
       "      <td>False</td>\n",
       "      <td>False</td>\n",
       "      <td>False</td>\n",
       "      <td>False</td>\n",
       "      <td>False</td>\n",
       "      <td>False</td>\n",
       "      <td>False</td>\n",
       "      <td>False</td>\n",
       "      <td>False</td>\n",
       "      <td>False</td>\n",
       "    </tr>\n",
       "  </tbody>\n",
       "</table>\n",
       "<p>2 rows × 33 columns</p>\n",
       "</div>"
      ],
      "text/plain": [
       "   start_month  start_weekday  start_4_hour  pickup_hex_7_872c21002ffffff  \\\n",
       "0            6              6             8                         False   \n",
       "1            4              1             4                         False   \n",
       "\n",
       "   pickup_hex_7_872c21003ffffff  pickup_hex_7_872c21010ffffff  \\\n",
       "0                         False                         False   \n",
       "1                         False                         False   \n",
       "\n",
       "   pickup_hex_7_872c21011ffffff  pickup_hex_7_872c21014ffffff  \\\n",
       "0                         False                         False   \n",
       "1                         False                          True   \n",
       "\n",
       "   pickup_hex_7_872c21015ffffff  pickup_hex_7_872c21016ffffff  ...  \\\n",
       "0                         False                         False  ...   \n",
       "1                         False                         False  ...   \n",
       "\n",
       "   pickup_hex_7_872c21c98ffffff  pickup_hex_7_872c21c99ffffff  \\\n",
       "0                         False                         False   \n",
       "1                         False                         False   \n",
       "\n",
       "   pickup_hex_7_872c21c9bffffff  pickup_hex_7_872c21ccaffffff  \\\n",
       "0                         False                         False   \n",
       "1                         False                         False   \n",
       "\n",
       "   pickup_hex_7_872c21ccbffffff  pickup_hex_7_872c21cd2ffffff  \\\n",
       "0                         False                         False   \n",
       "1                         False                         False   \n",
       "\n",
       "   pickup_hex_7_872c21cd3ffffff  pickup_hex_7_872c21cd8ffffff  \\\n",
       "0                         False                         False   \n",
       "1                         False                         False   \n",
       "\n",
       "   pickup_hex_7_872c21cd9ffffff  pickup_hex_7_872c21cdeffffff  \n",
       "0                         False                         False  \n",
       "1                         False                         False  \n",
       "\n",
       "[2 rows x 33 columns]"
      ]
     },
     "execution_count": 16,
     "metadata": {},
     "output_type": "execute_result"
    }
   ],
   "source": [
    "X = pd.get_dummies(X, columns = [\"pickup_hex_7\"])\n",
    "X.head(2)"
   ]
  },
  {
   "cell_type": "code",
   "execution_count": 17,
   "metadata": {},
   "outputs": [
    {
     "data": {
      "text/plain": [
       "0    1604\n",
       "1      40\n",
       "Name: demand, dtype: int64"
      ]
     },
     "execution_count": 17,
     "metadata": {},
     "output_type": "execute_result"
    }
   ],
   "source": [
    "y = data[\"demand\"]\n",
    "y.head(2)"
   ]
  },
  {
   "cell_type": "code",
   "execution_count": 18,
   "metadata": {},
   "outputs": [],
   "source": [
    "# Split data \n",
    "from sklearn.model_selection import train_test_split\n",
    "X_train, X_test, y_train, y_test = train_test_split(X, y, test_size = 0.20)"
   ]
  },
  {
   "cell_type": "code",
   "execution_count": 30,
   "metadata": {},
   "outputs": [
    {
     "data": {
      "text/html": [
       "<style>#sk-container-id-2 {color: black;background-color: white;}#sk-container-id-2 pre{padding: 0;}#sk-container-id-2 div.sk-toggleable {background-color: white;}#sk-container-id-2 label.sk-toggleable__label {cursor: pointer;display: block;width: 100%;margin-bottom: 0;padding: 0.3em;box-sizing: border-box;text-align: center;}#sk-container-id-2 label.sk-toggleable__label-arrow:before {content: \"▸\";float: left;margin-right: 0.25em;color: #696969;}#sk-container-id-2 label.sk-toggleable__label-arrow:hover:before {color: black;}#sk-container-id-2 div.sk-estimator:hover label.sk-toggleable__label-arrow:before {color: black;}#sk-container-id-2 div.sk-toggleable__content {max-height: 0;max-width: 0;overflow: hidden;text-align: left;background-color: #f0f8ff;}#sk-container-id-2 div.sk-toggleable__content pre {margin: 0.2em;color: black;border-radius: 0.25em;background-color: #f0f8ff;}#sk-container-id-2 input.sk-toggleable__control:checked~div.sk-toggleable__content {max-height: 200px;max-width: 100%;overflow: auto;}#sk-container-id-2 input.sk-toggleable__control:checked~label.sk-toggleable__label-arrow:before {content: \"▾\";}#sk-container-id-2 div.sk-estimator input.sk-toggleable__control:checked~label.sk-toggleable__label {background-color: #d4ebff;}#sk-container-id-2 div.sk-label input.sk-toggleable__control:checked~label.sk-toggleable__label {background-color: #d4ebff;}#sk-container-id-2 input.sk-hidden--visually {border: 0;clip: rect(1px 1px 1px 1px);clip: rect(1px, 1px, 1px, 1px);height: 1px;margin: -1px;overflow: hidden;padding: 0;position: absolute;width: 1px;}#sk-container-id-2 div.sk-estimator {font-family: monospace;background-color: #f0f8ff;border: 1px dotted black;border-radius: 0.25em;box-sizing: border-box;margin-bottom: 0.5em;}#sk-container-id-2 div.sk-estimator:hover {background-color: #d4ebff;}#sk-container-id-2 div.sk-parallel-item::after {content: \"\";width: 100%;border-bottom: 1px solid gray;flex-grow: 1;}#sk-container-id-2 div.sk-label:hover label.sk-toggleable__label {background-color: #d4ebff;}#sk-container-id-2 div.sk-serial::before {content: \"\";position: absolute;border-left: 1px solid gray;box-sizing: border-box;top: 0;bottom: 0;left: 50%;z-index: 0;}#sk-container-id-2 div.sk-serial {display: flex;flex-direction: column;align-items: center;background-color: white;padding-right: 0.2em;padding-left: 0.2em;position: relative;}#sk-container-id-2 div.sk-item {position: relative;z-index: 1;}#sk-container-id-2 div.sk-parallel {display: flex;align-items: stretch;justify-content: center;background-color: white;position: relative;}#sk-container-id-2 div.sk-item::before, #sk-container-id-2 div.sk-parallel-item::before {content: \"\";position: absolute;border-left: 1px solid gray;box-sizing: border-box;top: 0;bottom: 0;left: 50%;z-index: -1;}#sk-container-id-2 div.sk-parallel-item {display: flex;flex-direction: column;z-index: 1;position: relative;background-color: white;}#sk-container-id-2 div.sk-parallel-item:first-child::after {align-self: flex-end;width: 50%;}#sk-container-id-2 div.sk-parallel-item:last-child::after {align-self: flex-start;width: 50%;}#sk-container-id-2 div.sk-parallel-item:only-child::after {width: 0;}#sk-container-id-2 div.sk-dashed-wrapped {border: 1px dashed gray;margin: 0 0.4em 0.5em 0.4em;box-sizing: border-box;padding-bottom: 0.4em;background-color: white;}#sk-container-id-2 div.sk-label label {font-family: monospace;font-weight: bold;display: inline-block;line-height: 1.2em;}#sk-container-id-2 div.sk-label-container {text-align: center;}#sk-container-id-2 div.sk-container {/* jupyter's `normalize.less` sets `[hidden] { display: none; }` but bootstrap.min.css set `[hidden] { display: none !important; }` so we also need the `!important` here to be able to override the default hidden behavior on the sphinx rendered scikit-learn.org. See: https://github.com/scikit-learn/scikit-learn/issues/21755 */display: inline-block !important;position: relative;}#sk-container-id-2 div.sk-text-repr-fallback {display: none;}</style><div id=\"sk-container-id-2\" class=\"sk-top-container\"><div class=\"sk-text-repr-fallback\"><pre>SVR(C=100, gamma=0.1)</pre><b>In a Jupyter environment, please rerun this cell to show the HTML representation or trust the notebook. <br />On GitHub, the HTML representation is unable to render, please try loading this page with nbviewer.org.</b></div><div class=\"sk-container\" hidden><div class=\"sk-item\"><div class=\"sk-estimator sk-toggleable\"><input class=\"sk-toggleable__control sk-hidden--visually\" id=\"sk-estimator-id-2\" type=\"checkbox\" checked><label for=\"sk-estimator-id-2\" class=\"sk-toggleable__label sk-toggleable__label-arrow\">SVR</label><div class=\"sk-toggleable__content\"><pre>SVR(C=100, gamma=0.1)</pre></div></div></div></div></div>"
      ],
      "text/plain": [
       "SVR(C=100, gamma=0.1)"
      ]
     },
     "execution_count": 30,
     "metadata": {},
     "output_type": "execute_result"
    }
   ],
   "source": [
    "regressor = SVR(kernel=\"rbf\", C=100, gamma=0.1, epsilon=0.1)\n",
    "regressor.fit(X_train,y_train)"
   ]
  },
  {
   "cell_type": "code",
   "execution_count": 31,
   "metadata": {},
   "outputs": [],
   "source": [
    "y_pred = regressor.predict(X_test)"
   ]
  },
  {
   "cell_type": "code",
   "execution_count": 32,
   "metadata": {},
   "outputs": [],
   "source": [
    "from sklearn.metrics import mean_squared_error, mean_absolute_error, r2_score\n",
    "import matplotlib.pyplot as plt"
   ]
  },
  {
   "cell_type": "code",
   "execution_count": 33,
   "metadata": {},
   "outputs": [],
   "source": [
    "def plot_true_vs_prediction(y_pred,y_test):\n",
    "    \n",
    "    # create sorted series for true and predicted values\n",
    "    y_pred_series = pd.Series(np.array(y_pred) ,index = y_test.index) \n",
    "    y_pred_series_sorted = y_pred_series.sort_index()\n",
    "    y_test_sorted = y_test.sort_index()\n",
    "\n",
    "    # plot true vs predicted values\n",
    "    fig,ax = plt.subplots(figsize = (20, 10), dpi = 80) \n",
    "    ax.plot(y_test_sorted, label = \"true\", linewidth = 2, color = \"tab:gray\")\n",
    "    ax.plot(y_pred_series_sorted, label = \"prediction\", linewidth = 1, alpha = 0.6, color = \"tab:blue\")\n",
    "    ax.set_ylabel('Total System-Level Demand')\n",
    "    ax.set_xlabel('Date')\n",
    "    ax.legend()\n",
    "    plt.show()\n",
    "    \n",
    "    # evaluation metrics\n",
    "    print(\"R^2 score:\",r2_score(y_test,y_pred))\n",
    "    print(\"Root Mean Squared Error:\",mean_squared_error(y_test,y_pred)**0.5)\n",
    "    print(\"Mean Absolute Error:\",mean_absolute_error(y_test,y_pred))"
   ]
  },
  {
   "cell_type": "code",
   "execution_count": 34,
   "metadata": {},
   "outputs": [
    {
     "data": {
      "image/png": "[encoded data removed]",
      "text/plain": [
       "<Figure size 1600x800 with 1 Axes>"
      ]
     },
     "metadata": {},
     "output_type": "display_data"
    },
    {
     "name": "stdout",
     "output_type": "stream",
     "text": [
      "R^2 score: 0.4507995501313894\n",
      "Root Mean Squared Error: 1152.8409249776328\n",
      "Mean Absolute Error: 313.03284591371505\n"
     ]
    }
   ],
   "source": [
    "plot_true_vs_prediction(y_pred, y_test)"
   ]
  },
  {
   "cell_type": "code",
   "execution_count": null,
   "metadata": {},
   "outputs": [],
   "source": []
  },
  {
   "attachments": {},
   "cell_type": "markdown",
   "metadata": {},
   "source": [
    "## Jetzt wirklich NN"
   ]
  },
  {
   "attachments": {},
   "cell_type": "markdown",
   "metadata": {},
   "source": []
  }
 ],
 "metadata": {
  "kernelspec": {
   "display_name": "AAA_2023-67gSWIjI",
   "language": "python",
   "name": "python3"
  },
  "language_info": {
   "codemirror_mode": {
    "name": "ipython",
    "version": 3
   },
   "file_extension": ".py",
   "mimetype": "text/x-python",
   "name": "python",
   "nbconvert_exporter": "python",
   "pygments_lexer": "ipython3",
   "version": "3.10.0"
  },
  "orig_nbformat": 4
 },
 "nbformat": 4,
 "nbformat_minor": 2
}
