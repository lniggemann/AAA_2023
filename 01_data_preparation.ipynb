{
 "cells": [
  {
   "attachments": {},
   "cell_type": "markdown",
   "metadata": {},
   "source": [
    "# Data preparation\n",
    "\n",
    "Prepare data for further processing.\n",
    "Steps:\n",
    "- discretizing data (temporal and spatial)\n",
    "- encoding of categorical values\n",
    "- dropping of not necessary columns\n",
    "- persisting the prepared dataset as 'trips_prepared.hdf5'\n",
    "\n",
    "Data description: https://data.cityofchicago.org/Transportation/Taxi-Trips-2014/66as-63gf\n"
   ]
  },
  {
   "cell_type": "code",
   "execution_count": 1,
   "metadata": {},
   "outputs": [],
   "source": [
    "import vaex"
   ]
  },
  {
   "attachments": {},
   "cell_type": "markdown",
   "metadata": {},
   "source": [
    "Load dataset"
   ]
  },
  {
   "cell_type": "code",
   "execution_count": 2,
   "metadata": {},
   "outputs": [],
   "source": [
    "df_trips = vaex.open(\"data/trips/trips.hdf5\")"
   ]
  },
  {
   "cell_type": "code",
   "execution_count": 3,
   "metadata": {},
   "outputs": [
    {
     "data": {
      "text/html": [
       "<style>.vaex-description pre {\n",
       "          max-width : 450px;\n",
       "          white-space : nowrap;\n",
       "          overflow : hidden;\n",
       "          text-overflow: ellipsis;\n",
       "        }\n",
       "\n",
       "        .vex-description pre:hover {\n",
       "          max-width : initial;\n",
       "          white-space: pre;\n",
       "        }</style>"
      ],
      "text/plain": [
       "<IPython.core.display.HTML object>"
      ]
     },
     "metadata": {},
     "output_type": "display_data"
    },
    {
     "data": {
      "text/html": [
       "<div><h2>trips</h2> <b>rows</b>: 37,395,436</div><h2>Columns:</h2><table class='table-striped'><thead><tr><th>column</th><th>type</th><th>unit</th><th>description</th><th>expression</th></tr></thead><tr><td>Trip ID</td><td>str</td><td></td><td ><pre></pre></td><td></td></tr><tr><td>Taxi ID</td><td>str</td><td></td><td ><pre></pre></td><td></td></tr><tr><td>Trip Start Timestamp</td><td>str</td><td></td><td ><pre></pre></td><td></td></tr><tr><td>Trip End Timestamp</td><td>str</td><td></td><td ><pre></pre></td><td></td></tr><tr><td>Trip Seconds</td><td>float64</td><td></td><td ><pre></pre></td><td></td></tr><tr><td>Trip Miles</td><td>float64</td><td></td><td ><pre></pre></td><td></td></tr><tr><td>Pickup Census Tract</td><td>float64</td><td></td><td ><pre></pre></td><td></td></tr><tr><td>Dropoff Census Tract</td><td>float64</td><td></td><td ><pre></pre></td><td></td></tr><tr><td>Pickup Community Area</td><td>float64</td><td></td><td ><pre></pre></td><td></td></tr><tr><td>Dropoff Community Area</td><td>float64</td><td></td><td ><pre></pre></td><td></td></tr><tr><td>Fare</td><td>float64</td><td></td><td ><pre></pre></td><td></td></tr><tr><td>Tips</td><td>float64</td><td></td><td ><pre></pre></td><td></td></tr><tr><td>Tolls</td><td>float64</td><td></td><td ><pre></pre></td><td></td></tr><tr><td>Extras</td><td>float64</td><td></td><td ><pre></pre></td><td></td></tr><tr><td>Trip Total</td><td>float64</td><td></td><td ><pre></pre></td><td></td></tr><tr><td>Payment Type</td><td>str</td><td></td><td ><pre></pre></td><td></td></tr><tr><td>Company</td><td>str</td><td></td><td ><pre></pre></td><td></td></tr><tr><td>Pickup Centroid Latitude</td><td>float64</td><td></td><td ><pre></pre></td><td></td></tr><tr><td>Pickup Centroid Longitude</td><td>float64</td><td></td><td ><pre></pre></td><td></td></tr><tr><td>Pickup Centroid Location</td><td>str</td><td></td><td ><pre></pre></td><td></td></tr><tr><td>Dropoff Centroid Latitude</td><td>float64</td><td></td><td ><pre></pre></td><td></td></tr><tr><td>Dropoff Centroid Longitude</td><td>float64</td><td></td><td ><pre></pre></td><td></td></tr><tr><td>Dropoff Centroid  Location</td><td>str</td><td></td><td ><pre></pre></td><td></td></tr></table><h2>Data:</h2><table>\n",
       "<thead>\n",
       "<tr><th>#                                     </th><th>Trip ID                                 </th><th>Taxi ID                                            </th><th>Trip Start Timestamp  </th><th>Trip End Timestamp    </th><th>Trip Seconds  </th><th>Trip Miles  </th><th>Pickup Census Tract  </th><th>Dropoff Census Tract  </th><th>Pickup Community Area  </th><th>Dropoff Community Area  </th><th>Fare  </th><th>Tips  </th><th>Tolls  </th><th>Extras  </th><th>Trip Total  </th><th>Payment Type  </th><th>Company                          </th><th>Pickup Centroid Latitude  </th><th>Pickup Centroid Longitude  </th><th>Pickup Centroid Location            </th><th>Dropoff Centroid Latitude  </th><th>Dropoff Centroid Longitude  </th><th>Dropoff Centroid  Location              </th></tr>\n",
       "</thead>\n",
       "<tbody>\n",
       "<tr><td><i style='opacity: 0.6'>0</i>         </td><td>506646dd0685bd55094f1b7dfac97cf3b07b6126</td><td>&#x27;1099c684f9da1ac1d0dd253d394f1c8dad37bc1a53d944d...</td><td>05/17/2014 10:45:00 AM</td><td>05/17/2014 11:00:00 AM</td><td>1080.0        </td><td>7.0         </td><td>17031281900.0        </td><td>17031061100.0         </td><td>28.0                   </td><td>6.0                     </td><td>17.45 </td><td>0.0   </td><td>0.0    </td><td>1.5     </td><td>18.95       </td><td>Cash          </td><td>Taxi Affiliation Services        </td><td>41.879255084              </td><td>-87.642648998              </td><td>POINT (-87.642648998 41.8792550844) </td><td>41.949139771               </td><td>-87.656803909               </td><td>POINT (-87.6568039088 41.9491397709)    </td></tr>\n",
       "<tr><td><i style='opacity: 0.6'>1</i>         </td><td>1462669f59c3b5a1730e8a5f511a4102d1998c21</td><td>&#x27;379e0fd9da136cabc9eec3aca37047bbdee373ca2ef7a03...</td><td>04/17/2014 06:30:00 PM</td><td>04/17/2014 07:00:00 PM</td><td>1080.0        </td><td>3.0         </td><td>nan                  </td><td>17031841100.0         </td><td>nan                    </td><td>34.0                    </td><td>11.45 </td><td>0.0   </td><td>0.0    </td><td>1.0     </td><td>12.45       </td><td>Cash          </td><td>Taxi Affiliation Services        </td><td>nan                       </td><td>nan                        </td><td>--                                  </td><td>41.851017824               </td><td>-87.635091856               </td><td>POINT (-87.6350918563 41.8510178239)    </td></tr>\n",
       "<tr><td><i style='opacity: 0.6'>2</i>         </td><td>8d699aec32ce70e3647f7b06147001d3926975cc</td><td>&#x27;6768c7ebfdee8e7e7b3f5ec44739316241895aa2f7edf10...</td><td>05/03/2014 11:30:00 PM</td><td>05/03/2014 11:45:00 PM</td><td>720.0         </td><td>2.1         </td><td>17031081800.0        </td><td>17031081403.0         </td><td>8.0                    </td><td>8.0                     </td><td>8.45  </td><td>2.0   </td><td>0.0    </td><td>1.0     </td><td>11.45       </td><td>Credit Card   </td><td>Dispatch Taxi Affiliation        </td><td>41.89321636               </td><td>-87.63784421               </td><td>POINT (-87.6378442095 41.8932163595)</td><td>41.890922026               </td><td>-87.618868355               </td><td>POINT (-87.6188683546 41.8909220259)    </td></tr>\n",
       "<tr><td><i style='opacity: 0.6'>3</i>         </td><td>ae05f6f7a766b58b059f04c7549892da4dc3cf54</td><td>&#x27;7dc01f4be54a4058ffb81098be25f52c9f1249afc88e3ef...</td><td>05/17/2014 01:30:00 AM</td><td>05/17/2014 01:45:00 AM</td><td>480.0         </td><td>0.0         </td><td>17031071500.0        </td><td>17031062200.0         </td><td>7.0                    </td><td>6.0                     </td><td>7.85  </td><td>3.0   </td><td>0.0    </td><td>1.0     </td><td>11.85       </td><td>Credit Card   </td><td>Taxi Affiliation Services        </td><td>41.914616286              </td><td>-87.631717366              </td><td>POINT (-87.6317173661 41.9146162864)</td><td>41.94258518                </td><td>-87.656644092               </td><td>POINT (-87.6566440918 41.9425851797)    </td></tr>\n",
       "<tr><td><i style='opacity: 0.6'>4</i>         </td><td>b45b42620c3a926ea633b9115dc624a33dcf3b56</td><td>&#x27;9f87b11be025b5dcc55e9472b8c2158664c97d193cf15d9...</td><td>04/25/2014 02:30:00 PM</td><td>04/25/2014 02:30:00 PM</td><td>0.0           </td><td>0.0         </td><td>nan                  </td><td>nan                   </td><td>nan                    </td><td>nan                     </td><td>42.05 </td><td>7.0   </td><td>0.0    </td><td>0.0     </td><td>49.05       </td><td>Credit Card   </td><td>T.A.S. - Payment Only            </td><td>nan                       </td><td>nan                        </td><td>--                                  </td><td>nan                        </td><td>nan                         </td><td>--                                      </td></tr>\n",
       "<tr><td>...                                   </td><td>...                                     </td><td>...                                                </td><td>...                   </td><td>...                   </td><td>...           </td><td>...         </td><td>...                  </td><td>...                   </td><td>...                    </td><td>...                     </td><td>...   </td><td>...   </td><td>...    </td><td>...     </td><td>...         </td><td>...           </td><td>...                              </td><td>...                       </td><td>...                        </td><td>...                                 </td><td>...                        </td><td>...                         </td><td>...                                     </td></tr>\n",
       "<tr><td><i style='opacity: 0.6'>37,395,431</i></td><td>40aa131f22b63a5ca71d1eff4477500e6b875036</td><td>&#x27;8c244243c4123f4b467c2931cf59a691059a45302dc13e3...</td><td>04/03/2014 08:30:00 PM</td><td>04/03/2014 08:45:00 PM</td><td>900.0         </td><td>3.7         </td><td>nan                  </td><td>nan                   </td><td>6.0                    </td><td>24.0                    </td><td>11.25 </td><td>0.0   </td><td>0.0    </td><td>0.0     </td><td>11.25       </td><td>Cash          </td><td>Taxi Affiliation Services        </td><td>41.944226601              </td><td>-87.655998182              </td><td>POINT (-87.6559981815 41.9442266014)</td><td>41.901206994               </td><td>-87.676355989               </td><td>POINT (-87.6763559892 41.90120699410001)</td></tr>\n",
       "<tr><td><i style='opacity: 0.6'>37,395,432</i></td><td>0cd3c0015580380a89b2da5d4ed01016c0399e6a</td><td>&#x27;01480513a7f6f4664d6cc4c41ff3043ae6ecbc8cb17404f...</td><td>05/13/2014 11:30:00 PM</td><td>05/13/2014 11:45:00 PM</td><td>540.0         </td><td>0.0         </td><td>nan                  </td><td>nan                   </td><td>8.0                    </td><td>6.0                     </td><td>11.85 </td><td>3.55  </td><td>0.0    </td><td>0.0     </td><td>15.4        </td><td>Credit Card   </td><td>Blue Ribbon Taxi Association Inc.</td><td>41.899602111              </td><td>-87.633308037              </td><td>POINT (-87.6333080367 41.899602111) </td><td>41.944226601               </td><td>-87.655998182               </td><td>POINT (-87.6559981815 41.9442266014)    </td></tr>\n",
       "<tr><td><i style='opacity: 0.6'>37,395,433</i></td><td>d378e1b76a0de5844b9d50a719239bcf878da1fc</td><td>&#x27;fdeaab06ce15ad69658acbc0e591218ef6146a29ef21275...</td><td>05/14/2014 12:45:00 PM</td><td>05/14/2014 12:45:00 PM</td><td>240.0         </td><td>0.0         </td><td>17031839100.0        </td><td>17031833000.0         </td><td>32.0                   </td><td>28.0                    </td><td>5.25  </td><td>3.0   </td><td>0.0    </td><td>1.5     </td><td>9.75        </td><td>Credit Card   </td><td>Taxi Affiliation Services        </td><td>41.880994471              </td><td>-87.632746489              </td><td>POINT (-87.6327464887 41.8809944707)</td><td>41.88528132                </td><td>-87.6572332                 </td><td>POINT (-87.6572331997 41.8852813201)    </td></tr>\n",
       "<tr><td><i style='opacity: 0.6'>37,395,434</i></td><td>d64938a724961d6f2c0ae58932e78e3671784822</td><td>&#x27;a42edac48945c9dab13540adee09290f11b123a513580f2...</td><td>05/14/2014 12:15:00 PM</td><td>05/14/2014 12:15:00 PM</td><td>360.0         </td><td>0.0         </td><td>17031081202.0        </td><td>17031081300.0         </td><td>8.0                    </td><td>8.0                     </td><td>5.05  </td><td>0.0   </td><td>0.0    </td><td>0.0     </td><td>5.05        </td><td>Cash          </td><td>KOAM Taxi Association            </td><td>41.902788048              </td><td>-87.62614559               </td><td>POINT (-87.6261455896 41.9027880476)</td><td>41.898331794               </td><td>-87.620762865               </td><td>POINT (-87.6207628651 41.8983317935)    </td></tr>\n",
       "<tr><td><i style='opacity: 0.6'>37,395,435</i></td><td>ffa438bd0098e226eccd9867c2a134009a13c20d</td><td>&#x27;705cc88d7a216145f6c762aa705905a745a0c5f17e39aa1...</td><td>05/13/2014 11:30:00 PM</td><td>05/13/2014 11:45:00 PM</td><td>840.0         </td><td>3.2         </td><td>17031320100.0        </td><td>17031832600.0         </td><td>32.0                   </td><td>7.0                     </td><td>10.45 </td><td>2.25  </td><td>0.0    </td><td>1.0     </td><td>13.7        </td><td>Credit Card   </td><td>Dispatch Taxi Affiliation        </td><td>41.884987192              </td><td>-87.620992913              </td><td>POINT (-87.6209929134 41.8849871918)</td><td>41.914747305               </td><td>-87.654007029               </td><td>POINT (-87.6540070286 41.9147473049)    </td></tr>\n",
       "</tbody>\n",
       "</table>"
      ],
      "text/plain": [
       "<IPython.core.display.HTML object>"
      ]
     },
     "metadata": {},
     "output_type": "display_data"
    }
   ],
   "source": [
    "df_trips.info()"
   ]
  },
  {
   "cell_type": "code",
   "execution_count": 4,
   "metadata": {},
   "outputs": [
    {
     "data": {
      "text/html": [
       "<div>\n",
       "<style scoped>\n",
       "    .dataframe tbody tr th:only-of-type {\n",
       "        vertical-align: middle;\n",
       "    }\n",
       "\n",
       "    .dataframe tbody tr th {\n",
       "        vertical-align: top;\n",
       "    }\n",
       "\n",
       "    .dataframe thead th {\n",
       "        text-align: right;\n",
       "    }\n",
       "</style>\n",
       "<table border=\"1\" class=\"dataframe\">\n",
       "  <thead>\n",
       "    <tr style=\"text-align: right;\">\n",
       "      <th></th>\n",
       "      <th>Trip ID</th>\n",
       "      <th>Taxi ID</th>\n",
       "      <th>Trip Start Timestamp</th>\n",
       "      <th>Trip End Timestamp</th>\n",
       "      <th>Trip Seconds</th>\n",
       "      <th>Trip Miles</th>\n",
       "      <th>Pickup Census Tract</th>\n",
       "      <th>Dropoff Census Tract</th>\n",
       "      <th>Pickup Community Area</th>\n",
       "      <th>Dropoff Community Area</th>\n",
       "      <th>...</th>\n",
       "      <th>Extras</th>\n",
       "      <th>Trip Total</th>\n",
       "      <th>Payment Type</th>\n",
       "      <th>Company</th>\n",
       "      <th>Pickup Centroid Latitude</th>\n",
       "      <th>Pickup Centroid Longitude</th>\n",
       "      <th>Pickup Centroid Location</th>\n",
       "      <th>Dropoff Centroid Latitude</th>\n",
       "      <th>Dropoff Centroid Longitude</th>\n",
       "      <th>Dropoff Centroid  Location</th>\n",
       "    </tr>\n",
       "  </thead>\n",
       "  <tbody>\n",
       "    <tr>\n",
       "      <th>data_type</th>\n",
       "      <td>string</td>\n",
       "      <td>large_string</td>\n",
       "      <td>string</td>\n",
       "      <td>string</td>\n",
       "      <td>float64</td>\n",
       "      <td>float64</td>\n",
       "      <td>float64</td>\n",
       "      <td>float64</td>\n",
       "      <td>float64</td>\n",
       "      <td>float64</td>\n",
       "      <td>...</td>\n",
       "      <td>float64</td>\n",
       "      <td>float64</td>\n",
       "      <td>string</td>\n",
       "      <td>string</td>\n",
       "      <td>float64</td>\n",
       "      <td>float64</td>\n",
       "      <td>string</td>\n",
       "      <td>float64</td>\n",
       "      <td>float64</td>\n",
       "      <td>string</td>\n",
       "    </tr>\n",
       "    <tr>\n",
       "      <th>count</th>\n",
       "      <td>37395436</td>\n",
       "      <td>37395079</td>\n",
       "      <td>37395436</td>\n",
       "      <td>37389567</td>\n",
       "      <td>37243185</td>\n",
       "      <td>37395384</td>\n",
       "      <td>25050728</td>\n",
       "      <td>24886904</td>\n",
       "      <td>32799394</td>\n",
       "      <td>32130074</td>\n",
       "      <td>...</td>\n",
       "      <td>37395208</td>\n",
       "      <td>37395208</td>\n",
       "      <td>37395436</td>\n",
       "      <td>31844863</td>\n",
       "      <td>32801555</td>\n",
       "      <td>32801555</td>\n",
       "      <td>32801555</td>\n",
       "      <td>32200561</td>\n",
       "      <td>32200561</td>\n",
       "      <td>32200561</td>\n",
       "    </tr>\n",
       "    <tr>\n",
       "      <th>NA</th>\n",
       "      <td>0</td>\n",
       "      <td>357</td>\n",
       "      <td>0</td>\n",
       "      <td>5869</td>\n",
       "      <td>152251</td>\n",
       "      <td>52</td>\n",
       "      <td>12344708</td>\n",
       "      <td>12508532</td>\n",
       "      <td>4596042</td>\n",
       "      <td>5265362</td>\n",
       "      <td>...</td>\n",
       "      <td>228</td>\n",
       "      <td>228</td>\n",
       "      <td>0</td>\n",
       "      <td>5550573</td>\n",
       "      <td>4593881</td>\n",
       "      <td>4593881</td>\n",
       "      <td>4593881</td>\n",
       "      <td>5194875</td>\n",
       "      <td>5194875</td>\n",
       "      <td>5194875</td>\n",
       "    </tr>\n",
       "    <tr>\n",
       "      <th>mean</th>\n",
       "      <td>--</td>\n",
       "      <td>--</td>\n",
       "      <td>--</td>\n",
       "      <td>--</td>\n",
       "      <td>738.3478666231151</td>\n",
       "      <td>2.8133396897266034</td>\n",
       "      <td>17031344427.137394</td>\n",
       "      <td>17031341742.674603</td>\n",
       "      <td>21.595463349109437</td>\n",
       "      <td>21.015601520245486</td>\n",
       "      <td>...</td>\n",
       "      <td>0.8310885803870883</td>\n",
       "      <td>14.145692225326316</td>\n",
       "      <td>--</td>\n",
       "      <td>--</td>\n",
       "      <td>41.90364831173068</td>\n",
       "      <td>-87.65692684807654</td>\n",
       "      <td>--</td>\n",
       "      <td>41.90365339891111</td>\n",
       "      <td>-87.6556614990743</td>\n",
       "      <td>--</td>\n",
       "    </tr>\n",
       "    <tr>\n",
       "      <th>std</th>\n",
       "      <td>--</td>\n",
       "      <td>--</td>\n",
       "      <td>--</td>\n",
       "      <td>--</td>\n",
       "      <td>1180.184607</td>\n",
       "      <td>5.382278</td>\n",
       "      <td>335409.779512</td>\n",
       "      <td>331581.523249</td>\n",
       "      <td>18.904575</td>\n",
       "      <td>17.88967</td>\n",
       "      <td>...</td>\n",
       "      <td>22.978515</td>\n",
       "      <td>46.635981</td>\n",
       "      <td>--</td>\n",
       "      <td>--</td>\n",
       "      <td>0.037528</td>\n",
       "      <td>0.064712</td>\n",
       "      <td>--</td>\n",
       "      <td>0.038822</td>\n",
       "      <td>0.058391</td>\n",
       "      <td>--</td>\n",
       "    </tr>\n",
       "    <tr>\n",
       "      <th>min</th>\n",
       "      <td>--</td>\n",
       "      <td>--</td>\n",
       "      <td>--</td>\n",
       "      <td>--</td>\n",
       "      <td>0.0</td>\n",
       "      <td>0.0</td>\n",
       "      <td>17031010100.0</td>\n",
       "      <td>17031010100.0</td>\n",
       "      <td>1.0</td>\n",
       "      <td>1.0</td>\n",
       "      <td>...</td>\n",
       "      <td>0.0</td>\n",
       "      <td>0.0</td>\n",
       "      <td>--</td>\n",
       "      <td>--</td>\n",
       "      <td>41.660136</td>\n",
       "      <td>-87.913625</td>\n",
       "      <td>--</td>\n",
       "      <td>41.660136</td>\n",
       "      <td>-87.913625</td>\n",
       "      <td>--</td>\n",
       "    </tr>\n",
       "    <tr>\n",
       "      <th>max</th>\n",
       "      <td>--</td>\n",
       "      <td>--</td>\n",
       "      <td>--</td>\n",
       "      <td>--</td>\n",
       "      <td>86340.0</td>\n",
       "      <td>1530.4</td>\n",
       "      <td>17031990000.0</td>\n",
       "      <td>17031990000.0</td>\n",
       "      <td>77.0</td>\n",
       "      <td>77.0</td>\n",
       "      <td>...</td>\n",
       "      <td>9989.05</td>\n",
       "      <td>9999.82</td>\n",
       "      <td>--</td>\n",
       "      <td>--</td>\n",
       "      <td>42.021224</td>\n",
       "      <td>-87.534903</td>\n",
       "      <td>--</td>\n",
       "      <td>42.021224</td>\n",
       "      <td>-87.534903</td>\n",
       "      <td>--</td>\n",
       "    </tr>\n",
       "  </tbody>\n",
       "</table>\n",
       "<p>7 rows × 23 columns</p>\n",
       "</div>"
      ],
      "text/plain": [
       "            Trip ID       Taxi ID Trip Start Timestamp Trip End Timestamp   \n",
       "data_type    string  large_string               string             string  \\\n",
       "count      37395436      37395079             37395436           37389567   \n",
       "NA                0           357                    0               5869   \n",
       "mean             --            --                   --                 --   \n",
       "std              --            --                   --                 --   \n",
       "min              --            --                   --                 --   \n",
       "max              --            --                   --                 --   \n",
       "\n",
       "                Trip Seconds          Trip Miles Pickup Census Tract   \n",
       "data_type            float64             float64             float64  \\\n",
       "count               37243185            37395384            25050728   \n",
       "NA                    152251                  52            12344708   \n",
       "mean       738.3478666231151  2.8133396897266034  17031344427.137394   \n",
       "std              1180.184607            5.382278       335409.779512   \n",
       "min                      0.0                 0.0       17031010100.0   \n",
       "max                  86340.0              1530.4       17031990000.0   \n",
       "\n",
       "          Dropoff Census Tract Pickup Community Area Dropoff Community Area   \n",
       "data_type              float64               float64                float64  \\\n",
       "count                 24886904              32799394               32130074   \n",
       "NA                    12508532               4596042                5265362   \n",
       "mean        17031341742.674603    21.595463349109437     21.015601520245486   \n",
       "std              331581.523249             18.904575               17.88967   \n",
       "min              17031010100.0                   1.0                    1.0   \n",
       "max              17031990000.0                  77.0                   77.0   \n",
       "\n",
       "           ...              Extras          Trip Total Payment Type   Company   \n",
       "data_type  ...             float64             float64       string    string  \\\n",
       "count      ...            37395208            37395208     37395436  31844863   \n",
       "NA         ...                 228                 228            0   5550573   \n",
       "mean       ...  0.8310885803870883  14.145692225326316           --        --   \n",
       "std        ...           22.978515           46.635981           --        --   \n",
       "min        ...                 0.0                 0.0           --        --   \n",
       "max        ...             9989.05             9999.82           --        --   \n",
       "\n",
       "          Pickup Centroid Latitude Pickup Centroid Longitude   \n",
       "data_type                  float64                   float64  \\\n",
       "count                     32801555                  32801555   \n",
       "NA                         4593881                   4593881   \n",
       "mean             41.90364831173068        -87.65692684807654   \n",
       "std                       0.037528                  0.064712   \n",
       "min                      41.660136                -87.913625   \n",
       "max                      42.021224                -87.534903   \n",
       "\n",
       "          Pickup Centroid Location Dropoff Centroid Latitude   \n",
       "data_type                   string                   float64  \\\n",
       "count                     32801555                  32200561   \n",
       "NA                         4593881                   5194875   \n",
       "mean                            --         41.90365339891111   \n",
       "std                             --                  0.038822   \n",
       "min                             --                 41.660136   \n",
       "max                             --                 42.021224   \n",
       "\n",
       "          Dropoff Centroid Longitude Dropoff Centroid  Location  \n",
       "data_type                    float64                     string  \n",
       "count                       32200561                   32200561  \n",
       "NA                           5194875                    5194875  \n",
       "mean               -87.6556614990743                         --  \n",
       "std                         0.058391                         --  \n",
       "min                       -87.913625                         --  \n",
       "max                       -87.534903                         --  \n",
       "\n",
       "[7 rows x 23 columns]"
      ]
     },
     "execution_count": 4,
     "metadata": {},
     "output_type": "execute_result"
    }
   ],
   "source": [
    "df_trips.describe()"
   ]
  },
  {
   "attachments": {},
   "cell_type": "markdown",
   "metadata": {},
   "source": [
    "## Discretize Data"
   ]
  },
  {
   "attachments": {},
   "cell_type": "markdown",
   "metadata": {},
   "source": [
    "Temporal "
   ]
  },
  {
   "cell_type": "code",
   "execution_count": 5,
   "metadata": {},
   "outputs": [],
   "source": [
    "import numpy as np\n",
    "from datetime import datetime\n",
    "\n",
    "\n",
    "def convert_to_datetime(date_string):\n",
    "    return np.datetime64(datetime.strptime(str(date_string), '%m/%d/%Y %I:%M:%S %p')) if date_string else None\n",
    "\n",
    "\n",
    "df_trips['ts_start']  = df_trips['Trip Start Timestamp'].apply(convert_to_datetime)\n",
    "df_trips['ts_end']    = df_trips['Trip End Timestamp'].apply(convert_to_datetime)\n",
    "\n",
    "\n",
    "# Trip Seconds includes empty cells. If the cell is empty, a trip duration is calculated. Be aware, that it's an estimation since timestamps are rounded to the quarter of an hour\n",
    "df_trips['Trip Seconds'] = df_trips['Trip Seconds'] if df_trips['Trip Seconds'] else (df_trips['ts_end'] - df_trips['ts_start'])/ np.timedelta64(1, 's')"
   ]
  },
  {
   "cell_type": "code",
   "execution_count": 6,
   "metadata": {},
   "outputs": [
    {
     "data": {
      "text/plain": [
       "Expression = df['Trip Seconds']\n",
       "Length: 37,395,436 dtype: float64 (expression)\n",
       "----------------------------------------------\n",
       "       0  1080\n",
       "       1  1080\n",
       "       2   720\n",
       "       3   480\n",
       "       4     0\n",
       "     ...      \n",
       "37395431   900\n",
       "37395432   540\n",
       "37395433   240\n",
       "37395434   360\n",
       "37395435   840"
      ]
     },
     "execution_count": 6,
     "metadata": {},
     "output_type": "execute_result"
    }
   ],
   "source": [
    "df_trips['Trip Seconds']"
   ]
  },
  {
   "cell_type": "code",
   "execution_count": 7,
   "metadata": {},
   "outputs": [],
   "source": [
    "# add hourly data including cyclical features for periodically occurring features (hours, days)\n",
    "# cyclical features are projected to a circle to ensure equal distances between hours or week days when the day or week changes (12 am -> 1 am or sunday -> monday)\n",
    "df_trips['start_day']          = df_trips['ts_start'].dt.floor('D')\n",
    "df_trips['start_weekday']      = df_trips['ts_start'].dt.dayofweek\n",
    "df_trips['start_weekday_sin']  = np.sin(df_trips['start_weekday']*(2.*np.pi/7))\n",
    "df_trips['start_weekday_cos']  = np.cos(df_trips['start_weekday']*(2.*np.pi/7))\n",
    "df_trips['start_month']        = df_trips['ts_start'].dt.month\n",
    "# Hourly features for grouping the data on different granularities (1h/4h/6h bins) \n",
    "df_trips['ts_start_1_hour']  = df_trips['ts_start'].dt.floor('1h')\n",
    "df_trips['start_1_hour']     = df_trips['ts_start'].dt.hour\n",
    "df_trips['start_1_hour_sin'] = np.sin(df_trips['start_1_hour']*(2.*np.pi/24))\n",
    "df_trips['start_1_hour_cos'] = np.cos(df_trips['start_1_hour']*(2.*np.pi/24))\n",
    "df_trips['ts_start_4_hour']  = df_trips['ts_start'].dt.floor('4h')\n",
    "df_trips['start_4_hour']     = df_trips['ts_start'].dt.floor('4h').dt.hour\n",
    "df_trips['start_4_hour_sin'] = np.sin(df_trips['start_4_hour']*(2.*np.pi/6))\n",
    "df_trips['start_4_hour_cos'] = np.cos(df_trips['start_4_hour']*(2.*np.pi/6))\n",
    "df_trips['ts_start_6_hour']  = df_trips['ts_start'].dt.floor('6h')\n",
    "df_trips['start_6_hour']     = df_trips['ts_start'].dt.floor('6h').dt.hour\n",
    "df_trips['start_6_hour_sin'] = np.sin(df_trips['start_6_hour']*(2.*np.pi/4))\n",
    "df_trips['start_6_hour_cos'] = np.cos(df_trips['start_6_hour']*(2.*np.pi/4))"
   ]
  },
  {
   "attachments": {},
   "cell_type": "markdown",
   "metadata": {},
   "source": [
    "Exemplary scatter plots of the cyclical features (ts_start_1_hour and start_weekday)"
   ]
  },
  {
   "cell_type": "code",
   "execution_count": 8,
   "metadata": {},
   "outputs": [
    {
     "data": {
      "text/plain": [
       "<matplotlib.collections.PathCollection at 0x1d505dd1870>"
      ]
     },
     "execution_count": 8,
     "metadata": {},
     "output_type": "execute_result"
    },
    {
     "data": {
      "image/png": "[encoded data removed]",
      "text/plain": [
       "<Figure size 640x480 with 1 Axes>"
      ]
     },
     "metadata": {},
     "output_type": "display_data"
    }
   ],
   "source": [
    "# exemplary plot of the cyclical feature of ts_start_1_hour\n",
    "df_trips[:5000].viz.scatter(df_trips['start_1_hour_sin'], df_trips['start_1_hour_cos']) "
   ]
  },
  {
   "cell_type": "code",
   "execution_count": 9,
   "metadata": {},
   "outputs": [
    {
     "data": {
      "text/plain": [
       "<matplotlib.collections.PathCollection at 0x1d505fb6c20>"
      ]
     },
     "execution_count": 9,
     "metadata": {},
     "output_type": "execute_result"
    },
    {
     "data": {
      "image/png": "[encoded data removed]",
      "text/plain": [
       "<Figure size 640x480 with 1 Axes>"
      ]
     },
     "metadata": {},
     "output_type": "display_data"
    }
   ],
   "source": [
    "# exemplary plot of the cyclical feature of start_weekday\n",
    "df_trips[:5000].viz.scatter(df_trips['start_weekday_sin'], df_trips['start_weekday_cos']) "
   ]
  },
  {
   "attachments": {},
   "cell_type": "markdown",
   "metadata": {},
   "source": [
    "Spatial"
   ]
  },
  {
   "cell_type": "code",
   "execution_count": 10,
   "metadata": {},
   "outputs": [],
   "source": [
    "import h3\n",
    "from shapely import Polygon \n",
    "\n",
    "# docu resolution https://h3geo.org/docs/core-library/restable/\n",
    "\n",
    "def scalar_convert_to_hex_id (lat, lon, resolution):\n",
    "        hex_id = h3.geo_to_h3(lat, lon, resolution)\n",
    "        return hex_id if hex_id != \"0\" else None\n",
    "\n",
    "vec_convert_to_hex = np.vectorize(scalar_convert_to_hex_id)\n",
    "\n",
    "@vaex.register_function(on_expression=False)\n",
    "def convert_to_hex_id (lat, lon, resolution):\n",
    "        return vec_convert_to_hex(lat, lon, resolution)"
   ]
  },
  {
   "cell_type": "code",
   "execution_count": 11,
   "metadata": {},
   "outputs": [],
   "source": [
    "df_trips['pickup_hex_7']   = df_trips.func.convert_to_hex_id(df_trips['Pickup Centroid Latitude'],  df_trips['Pickup Centroid Longitude'],  7)\n",
    "df_trips['dropoff_hex_7']  = df_trips.func.convert_to_hex_id(df_trips['Dropoff Centroid Latitude'], df_trips['Dropoff Centroid Longitude'], 7)\n",
    "df_trips['pickup_hex_8']   = df_trips.func.convert_to_hex_id(df_trips['Pickup Centroid Latitude'],  df_trips['Pickup Centroid Longitude'],  8)\n",
    "df_trips['dropoff_hex_8']  = df_trips.func.convert_to_hex_id(df_trips['Dropoff Centroid Latitude'], df_trips['Dropoff Centroid Longitude'], 8)\n",
    "df_trips['pickup_hex_9']   = df_trips.func.convert_to_hex_id(df_trips['Pickup Centroid Latitude'],  df_trips['Pickup Centroid Longitude'],  9)\n",
    "df_trips['dropoff_hex_9']  = df_trips.func.convert_to_hex_id(df_trips['Dropoff Centroid Latitude'], df_trips['Dropoff Centroid Longitude'], 9)"
   ]
  },
  {
   "cell_type": "code",
   "execution_count": 12,
   "metadata": {},
   "outputs": [
    {
     "data": {
      "text/html": [
       "<table>\n",
       "<thead>\n",
       "<tr><th>#                                     </th><th>Trip ID                                 </th><th>Taxi ID                                            </th><th>Trip Start Timestamp  </th><th>Trip End Timestamp    </th><th>Trip Seconds  </th><th>Trip Miles  </th><th>Pickup Census Tract  </th><th>Dropoff Census Tract  </th><th>Pickup Community Area  </th><th>Dropoff Community Area  </th><th>Fare  </th><th>Tips  </th><th>Tolls  </th><th>Extras  </th><th>Trip Total  </th><th>Payment Type  </th><th>Company                          </th><th>Pickup Centroid Latitude  </th><th>Pickup Centroid Longitude  </th><th>Pickup Centroid Location            </th><th>Dropoff Centroid Latitude  </th><th>Dropoff Centroid Longitude  </th><th>Dropoff Centroid  Location              </th><th>ts_start                  </th><th>ts_end                    </th><th>start_day                 </th><th>start_weekday  </th><th>start_weekday_sin  </th><th>start_weekday_cos   </th><th>start_month  </th><th>ts_start_1_hour           </th><th>start_1_hour  </th><th>start_1_hour_sin      </th><th>start_1_hour_cos       </th><th>ts_start_4_hour           </th><th>start_4_hour  </th><th>start_4_hour_sin      </th><th>start_4_hour_cos   </th><th>ts_start_6_hour           </th><th>start_6_hour  </th><th>start_6_hour_sin      </th><th>start_6_hour_cos  </th><th>pickup_hex_7   </th><th>dropoff_hex_7  </th><th>pickup_hex_8   </th><th>dropoff_hex_8  </th><th>pickup_hex_9   </th><th>dropoff_hex_9  </th></tr>\n",
       "</thead>\n",
       "<tbody>\n",
       "<tr><td><i style='opacity: 0.6'>0</i>         </td><td>506646dd0685bd55094f1b7dfac97cf3b07b6126</td><td>&#x27;1099c684f9da1ac1d0dd253d394f1c8dad37bc1a53d944d...</td><td>05/17/2014 10:45:00 AM</td><td>05/17/2014 11:00:00 AM</td><td>1080.0        </td><td>7.0         </td><td>17031281900.0        </td><td>17031061100.0         </td><td>28.0                   </td><td>6.0                     </td><td>17.45 </td><td>0.0   </td><td>0.0    </td><td>1.5     </td><td>18.95       </td><td>Cash          </td><td>Taxi Affiliation Services        </td><td>41.879255084              </td><td>-87.642648998              </td><td>POINT (-87.642648998 41.8792550844) </td><td>41.949139771               </td><td>-87.656803909               </td><td>POINT (-87.6568039088 41.9491397709)    </td><td>2014-05-17 10:45:00.000000</td><td>2014-05-17 11:00:00.000000</td><td>2014-05-17 00:00:00.000000</td><td>5              </td><td>-0.9749279121818236</td><td>-0.2225209339563146 </td><td>5            </td><td>2014-05-17 10:00:00.000000</td><td>10            </td><td>0.5000000000000003    </td><td>-0.8660254037844385    </td><td>2014-05-17 08:00:00.000000</td><td>8             </td><td>0.8660254037844392    </td><td>-0.4999999999999992</td><td>2014-05-17 06:00:00.000000</td><td>6             </td><td>3.6739403974420594e-16</td><td>-1.0              </td><td>872664c1affffff</td><td>872664c16ffffff</td><td>882664c1adfffff</td><td>882664c161fffff</td><td>892664c1acfffff</td><td>892664c1617ffff</td></tr>\n",
       "<tr><td><i style='opacity: 0.6'>1</i>         </td><td>1462669f59c3b5a1730e8a5f511a4102d1998c21</td><td>&#x27;379e0fd9da136cabc9eec3aca37047bbdee373ca2ef7a03...</td><td>04/17/2014 06:30:00 PM</td><td>04/17/2014 07:00:00 PM</td><td>1080.0        </td><td>3.0         </td><td>nan                  </td><td>17031841100.0         </td><td>nan                    </td><td>34.0                    </td><td>11.45 </td><td>0.0   </td><td>0.0    </td><td>1.0     </td><td>12.45       </td><td>Cash          </td><td>Taxi Affiliation Services        </td><td>nan                       </td><td>nan                        </td><td>--                                  </td><td>41.851017824               </td><td>-87.635091856               </td><td>POINT (-87.6350918563 41.8510178239)    </td><td>2014-04-17 18:30:00.000000</td><td>2014-04-17 19:00:00.000000</td><td>2014-04-17 00:00:00.000000</td><td>3              </td><td>0.43388373911755823</td><td>-0.900968867902419  </td><td>4            </td><td>2014-04-17 18:00:00.000000</td><td>18            </td><td>-1.0                  </td><td>-1.8369701987210297e-16</td><td>2014-04-17 16:00:00.000000</td><td>16            </td><td>-0.8660254037844377   </td><td>-0.5000000000000016</td><td>2014-04-17 18:00:00.000000</td><td>18            </td><td>1.102182119232618e-15 </td><td>-1.0              </td><td>None           </td><td>872664cf4ffffff</td><td>None           </td><td>882664cf4bfffff</td><td>None           </td><td>892664cf4afffff</td></tr>\n",
       "<tr><td><i style='opacity: 0.6'>2</i>         </td><td>8d699aec32ce70e3647f7b06147001d3926975cc</td><td>&#x27;6768c7ebfdee8e7e7b3f5ec44739316241895aa2f7edf10...</td><td>05/03/2014 11:30:00 PM</td><td>05/03/2014 11:45:00 PM</td><td>720.0         </td><td>2.1         </td><td>17031081800.0        </td><td>17031081403.0         </td><td>8.0                    </td><td>8.0                     </td><td>8.45  </td><td>2.0   </td><td>0.0    </td><td>1.0     </td><td>11.45       </td><td>Credit Card   </td><td>Dispatch Taxi Affiliation        </td><td>41.89321636               </td><td>-87.63784421               </td><td>POINT (-87.6378442095 41.8932163595)</td><td>41.890922026               </td><td>-87.618868355               </td><td>POINT (-87.6188683546 41.8909220259)    </td><td>2014-05-03 23:30:00.000000</td><td>2014-05-03 23:45:00.000000</td><td>2014-05-03 00:00:00.000000</td><td>5              </td><td>-0.9749279121818236</td><td>-0.2225209339563146 </td><td>5            </td><td>2014-05-03 23:00:00.000000</td><td>23            </td><td>-0.25881904510252157  </td><td>0.9659258262890681     </td><td>2014-05-03 20:00:00.000000</td><td>20            </td><td>0.8660254037844403    </td><td>-0.4999999999999972</td><td>2014-05-03 18:00:00.000000</td><td>18            </td><td>1.102182119232618e-15 </td><td>-1.0              </td><td>872664c1effffff</td><td>872664c1effffff</td><td>882664c1e5fffff</td><td>882664c1e3fffff</td><td>892664c1e4fffff</td><td>892664c1e33ffff</td></tr>\n",
       "<tr><td><i style='opacity: 0.6'>3</i>         </td><td>ae05f6f7a766b58b059f04c7549892da4dc3cf54</td><td>&#x27;7dc01f4be54a4058ffb81098be25f52c9f1249afc88e3ef...</td><td>05/17/2014 01:30:00 AM</td><td>05/17/2014 01:45:00 AM</td><td>480.0         </td><td>0.0         </td><td>17031071500.0        </td><td>17031062200.0         </td><td>7.0                    </td><td>6.0                     </td><td>7.85  </td><td>3.0   </td><td>0.0    </td><td>1.0     </td><td>11.85       </td><td>Credit Card   </td><td>Taxi Affiliation Services        </td><td>41.914616286              </td><td>-87.631717366              </td><td>POINT (-87.6317173661 41.9146162864)</td><td>41.94258518                </td><td>-87.656644092               </td><td>POINT (-87.6566440918 41.9425851797)    </td><td>2014-05-17 01:30:00.000000</td><td>2014-05-17 01:45:00.000000</td><td>2014-05-17 00:00:00.000000</td><td>5              </td><td>-0.9749279121818236</td><td>-0.2225209339563146 </td><td>5            </td><td>2014-05-17 01:00:00.000000</td><td>1             </td><td>0.25881904510252074   </td><td>0.9659258262890683     </td><td>2014-05-17 00:00:00.000000</td><td>0             </td><td>0.0                   </td><td>1.0                </td><td>2014-05-17 00:00:00.000000</td><td>0             </td><td>0.0                   </td><td>1.0               </td><td>872664c11ffffff</td><td>872664c16ffffff</td><td>882664c115fffff</td><td>882664c163fffff</td><td>892664c114fffff</td><td>892664c163bffff</td></tr>\n",
       "<tr><td><i style='opacity: 0.6'>4</i>         </td><td>b45b42620c3a926ea633b9115dc624a33dcf3b56</td><td>&#x27;9f87b11be025b5dcc55e9472b8c2158664c97d193cf15d9...</td><td>04/25/2014 02:30:00 PM</td><td>04/25/2014 02:30:00 PM</td><td>0.0           </td><td>0.0         </td><td>nan                  </td><td>nan                   </td><td>nan                    </td><td>nan                     </td><td>42.05 </td><td>7.0   </td><td>0.0    </td><td>0.0     </td><td>49.05       </td><td>Credit Card   </td><td>T.A.S. - Payment Only            </td><td>nan                       </td><td>nan                        </td><td>--                                  </td><td>nan                        </td><td>nan                         </td><td>--                                      </td><td>2014-04-25 14:30:00.000000</td><td>2014-04-25 14:30:00.000000</td><td>2014-04-25 00:00:00.000000</td><td>4              </td><td>-0.433883739117558 </td><td>-0.9009688679024191 </td><td>4            </td><td>2014-04-25 14:00:00.000000</td><td>14            </td><td>-0.4999999999999997   </td><td>-0.8660254037844388    </td><td>2014-04-25 12:00:00.000000</td><td>12            </td><td>-4.898587196589413e-16</td><td>1.0                </td><td>2014-04-25 12:00:00.000000</td><td>12            </td><td>-7.347880794884119e-16</td><td>1.0               </td><td>None           </td><td>None           </td><td>None           </td><td>None           </td><td>None           </td><td>None           </td></tr>\n",
       "<tr><td>...                                   </td><td>...                                     </td><td>...                                                </td><td>...                   </td><td>...                   </td><td>...           </td><td>...         </td><td>...                  </td><td>...                   </td><td>...                    </td><td>...                     </td><td>...   </td><td>...   </td><td>...    </td><td>...     </td><td>...         </td><td>...           </td><td>...                              </td><td>...                       </td><td>...                        </td><td>...                                 </td><td>...                        </td><td>...                         </td><td>...                                     </td><td>...                       </td><td>...                       </td><td>...                       </td><td>...            </td><td>...                </td><td>...                 </td><td>...          </td><td>...                       </td><td>...           </td><td>...                   </td><td>...                    </td><td>...                       </td><td>...           </td><td>...                   </td><td>...                </td><td>...                       </td><td>...           </td><td>...                   </td><td>...               </td><td>...            </td><td>...            </td><td>...            </td><td>...            </td><td>...            </td><td>...            </td></tr>\n",
       "<tr><td><i style='opacity: 0.6'>37,395,431</i></td><td>40aa131f22b63a5ca71d1eff4477500e6b875036</td><td>&#x27;8c244243c4123f4b467c2931cf59a691059a45302dc13e3...</td><td>04/03/2014 08:30:00 PM</td><td>04/03/2014 08:45:00 PM</td><td>900.0         </td><td>3.7         </td><td>nan                  </td><td>nan                   </td><td>6.0                    </td><td>24.0                    </td><td>11.25 </td><td>0.0   </td><td>0.0    </td><td>0.0     </td><td>11.25       </td><td>Cash          </td><td>Taxi Affiliation Services        </td><td>41.944226601              </td><td>-87.655998182              </td><td>POINT (-87.6559981815 41.9442266014)</td><td>41.901206994               </td><td>-87.676355989               </td><td>POINT (-87.6763559892 41.90120699410001)</td><td>2014-04-03 20:30:00.000000</td><td>2014-04-03 20:45:00.000000</td><td>2014-04-03 00:00:00.000000</td><td>3              </td><td>0.43388373911755823</td><td>-0.900968867902419  </td><td>4            </td><td>2014-04-03 20:00:00.000000</td><td>20            </td><td>-0.866025403784439    </td><td>0.49999999999999933    </td><td>2014-04-03 20:00:00.000000</td><td>20            </td><td>0.8660254037844403    </td><td>-0.4999999999999972</td><td>2014-04-03 18:00:00.000000</td><td>18            </td><td>1.102182119232618e-15 </td><td>-1.0              </td><td>872664c16ffffff</td><td>872664cacffffff</td><td>882664c163fffff</td><td>882664cac3fffff</td><td>892664c1607ffff</td><td>892664cac3bffff</td></tr>\n",
       "<tr><td><i style='opacity: 0.6'>37,395,432</i></td><td>0cd3c0015580380a89b2da5d4ed01016c0399e6a</td><td>&#x27;01480513a7f6f4664d6cc4c41ff3043ae6ecbc8cb17404f...</td><td>05/13/2014 11:30:00 PM</td><td>05/13/2014 11:45:00 PM</td><td>540.0         </td><td>0.0         </td><td>nan                  </td><td>nan                   </td><td>8.0                    </td><td>6.0                     </td><td>11.85 </td><td>3.55  </td><td>0.0    </td><td>0.0     </td><td>15.4        </td><td>Credit Card   </td><td>Blue Ribbon Taxi Association Inc.</td><td>41.899602111              </td><td>-87.633308037              </td><td>POINT (-87.6333080367 41.899602111) </td><td>41.944226601               </td><td>-87.655998182               </td><td>POINT (-87.6559981815 41.9442266014)    </td><td>2014-05-13 23:30:00.000000</td><td>2014-05-13 23:45:00.000000</td><td>2014-05-13 00:00:00.000000</td><td>1              </td><td>0.7818314824680298 </td><td>0.6234898018587336  </td><td>5            </td><td>2014-05-13 23:00:00.000000</td><td>23            </td><td>-0.25881904510252157  </td><td>0.9659258262890681     </td><td>2014-05-13 20:00:00.000000</td><td>20            </td><td>0.8660254037844403    </td><td>-0.4999999999999972</td><td>2014-05-13 18:00:00.000000</td><td>18            </td><td>1.102182119232618e-15 </td><td>-1.0              </td><td>872664c1effffff</td><td>872664c16ffffff</td><td>882664c1edfffff</td><td>882664c163fffff</td><td>892664c1ecfffff</td><td>892664c1607ffff</td></tr>\n",
       "<tr><td><i style='opacity: 0.6'>37,395,433</i></td><td>d378e1b76a0de5844b9d50a719239bcf878da1fc</td><td>&#x27;fdeaab06ce15ad69658acbc0e591218ef6146a29ef21275...</td><td>05/14/2014 12:45:00 PM</td><td>05/14/2014 12:45:00 PM</td><td>240.0         </td><td>0.0         </td><td>17031839100.0        </td><td>17031833000.0         </td><td>32.0                   </td><td>28.0                    </td><td>5.25  </td><td>3.0   </td><td>0.0    </td><td>1.5     </td><td>9.75        </td><td>Credit Card   </td><td>Taxi Affiliation Services        </td><td>41.880994471              </td><td>-87.632746489              </td><td>POINT (-87.6327464887 41.8809944707)</td><td>41.88528132                </td><td>-87.6572332                 </td><td>POINT (-87.6572331997 41.8852813201)    </td><td>2014-05-14 12:45:00.000000</td><td>2014-05-14 12:45:00.000000</td><td>2014-05-14 00:00:00.000000</td><td>2              </td><td>0.9749279121818236 </td><td>-0.22252093395631434</td><td>5            </td><td>2014-05-14 12:00:00.000000</td><td>12            </td><td>1.2246467991473532e-16</td><td>-1.0                   </td><td>2014-05-14 12:00:00.000000</td><td>12            </td><td>-4.898587196589413e-16</td><td>1.0                </td><td>2014-05-14 12:00:00.000000</td><td>12            </td><td>-7.347880794884119e-16</td><td>1.0               </td><td>872664c1affffff</td><td>872664cadffffff</td><td>882664c1a9fffff</td><td>882664cad7fffff</td><td>892664c1a8bffff</td><td>892664cad77ffff</td></tr>\n",
       "<tr><td><i style='opacity: 0.6'>37,395,434</i></td><td>d64938a724961d6f2c0ae58932e78e3671784822</td><td>&#x27;a42edac48945c9dab13540adee09290f11b123a513580f2...</td><td>05/14/2014 12:15:00 PM</td><td>05/14/2014 12:15:00 PM</td><td>360.0         </td><td>0.0         </td><td>17031081202.0        </td><td>17031081300.0         </td><td>8.0                    </td><td>8.0                     </td><td>5.05  </td><td>0.0   </td><td>0.0    </td><td>0.0     </td><td>5.05        </td><td>Cash          </td><td>KOAM Taxi Association            </td><td>41.902788048              </td><td>-87.62614559               </td><td>POINT (-87.6261455896 41.9027880476)</td><td>41.898331794               </td><td>-87.620762865               </td><td>POINT (-87.6207628651 41.8983317935)    </td><td>2014-05-14 12:15:00.000000</td><td>2014-05-14 12:15:00.000000</td><td>2014-05-14 00:00:00.000000</td><td>2              </td><td>0.9749279121818236 </td><td>-0.22252093395631434</td><td>5            </td><td>2014-05-14 12:00:00.000000</td><td>12            </td><td>1.2246467991473532e-16</td><td>-1.0                   </td><td>2014-05-14 12:00:00.000000</td><td>12            </td><td>-4.898587196589413e-16</td><td>1.0                </td><td>2014-05-14 12:00:00.000000</td><td>12            </td><td>-7.347880794884119e-16</td><td>1.0               </td><td>872664c1effffff</td><td>872664c1effffff</td><td>882664c1edfffff</td><td>882664c1e9fffff</td><td>892664c1ed7ffff</td><td>892664c1e8fffff</td></tr>\n",
       "<tr><td><i style='opacity: 0.6'>37,395,435</i></td><td>ffa438bd0098e226eccd9867c2a134009a13c20d</td><td>&#x27;705cc88d7a216145f6c762aa705905a745a0c5f17e39aa1...</td><td>05/13/2014 11:30:00 PM</td><td>05/13/2014 11:45:00 PM</td><td>840.0         </td><td>3.2         </td><td>17031320100.0        </td><td>17031832600.0         </td><td>32.0                   </td><td>7.0                     </td><td>10.45 </td><td>2.25  </td><td>0.0    </td><td>1.0     </td><td>13.7        </td><td>Credit Card   </td><td>Dispatch Taxi Affiliation        </td><td>41.884987192              </td><td>-87.620992913              </td><td>POINT (-87.6209929134 41.8849871918)</td><td>41.914747305               </td><td>-87.654007029               </td><td>POINT (-87.6540070286 41.9147473049)    </td><td>2014-05-13 23:30:00.000000</td><td>2014-05-13 23:45:00.000000</td><td>2014-05-13 00:00:00.000000</td><td>1              </td><td>0.7818314824680298 </td><td>0.6234898018587336  </td><td>5            </td><td>2014-05-13 23:00:00.000000</td><td>23            </td><td>-0.25881904510252157  </td><td>0.9659258262890681     </td><td>2014-05-13 20:00:00.000000</td><td>20            </td><td>0.8660254037844403    </td><td>-0.4999999999999972</td><td>2014-05-13 18:00:00.000000</td><td>18            </td><td>1.102182119232618e-15 </td><td>-1.0              </td><td>872664c1effffff</td><td>872664c13ffffff</td><td>882664c1e3fffff</td><td>882664c135fffff</td><td>892664c1e2fffff</td><td>892664c13cfffff</td></tr>\n",
       "</tbody>\n",
       "</table>"
      ],
      "text/plain": [
       "#           Trip ID                                   Taxi ID                                              Trip Start Timestamp    Trip End Timestamp      Trip Seconds    Trip Miles    Pickup Census Tract    Dropoff Census Tract    Pickup Community Area    Dropoff Community Area    Fare    Tips    Tolls    Extras    Trip Total    Payment Type    Company                            Pickup Centroid Latitude    Pickup Centroid Longitude    Pickup Centroid Location              Dropoff Centroid Latitude    Dropoff Centroid Longitude    Dropoff Centroid  Location                ts_start                    ts_end                      start_day                   start_weekday    start_weekday_sin    start_weekday_cos     start_month    ts_start_1_hour             start_1_hour    start_1_hour_sin        start_1_hour_cos         ts_start_4_hour             start_4_hour    start_4_hour_sin        start_4_hour_cos     ts_start_6_hour             start_6_hour    start_6_hour_sin        start_6_hour_cos    pickup_hex_7     dropoff_hex_7    pickup_hex_8     dropoff_hex_8    pickup_hex_9     dropoff_hex_9\n",
       "0           506646dd0685bd55094f1b7dfac97cf3b07b6126  '1099c684f9da1ac1d0dd253d394f1c8dad37bc1a53d944d...  05/17/2014 10:45:00 AM  05/17/2014 11:00:00 AM  1080.0          7.0           17031281900.0          17031061100.0           28.0                     6.0                       17.45   0.0     0.0      1.5       18.95         Cash            Taxi Affiliation Services          41.879255084                -87.642648998                POINT (-87.642648998 41.8792550844)   41.949139771                 -87.656803909                 POINT (-87.6568039088 41.9491397709)      2014-05-17 10:45:00.000000  2014-05-17 11:00:00.000000  2014-05-17 00:00:00.000000  5                -0.9749279121818236  -0.2225209339563146   5              2014-05-17 10:00:00.000000  10              0.5000000000000003      -0.8660254037844385      2014-05-17 08:00:00.000000  8               0.8660254037844392      -0.4999999999999992  2014-05-17 06:00:00.000000  6               3.6739403974420594e-16  -1.0                872664c1affffff  872664c16ffffff  882664c1adfffff  882664c161fffff  892664c1acfffff  892664c1617ffff\n",
       "1           1462669f59c3b5a1730e8a5f511a4102d1998c21  '379e0fd9da136cabc9eec3aca37047bbdee373ca2ef7a03...  04/17/2014 06:30:00 PM  04/17/2014 07:00:00 PM  1080.0          3.0           nan                    17031841100.0           nan                      34.0                      11.45   0.0     0.0      1.0       12.45         Cash            Taxi Affiliation Services          nan                         nan                          --                                    41.851017824                 -87.635091856                 POINT (-87.6350918563 41.8510178239)      2014-04-17 18:30:00.000000  2014-04-17 19:00:00.000000  2014-04-17 00:00:00.000000  3                0.43388373911755823  -0.900968867902419    4              2014-04-17 18:00:00.000000  18              -1.0                    -1.8369701987210297e-16  2014-04-17 16:00:00.000000  16              -0.8660254037844377     -0.5000000000000016  2014-04-17 18:00:00.000000  18              1.102182119232618e-15   -1.0                None             872664cf4ffffff  None             882664cf4bfffff  None             892664cf4afffff\n",
       "2           8d699aec32ce70e3647f7b06147001d3926975cc  '6768c7ebfdee8e7e7b3f5ec44739316241895aa2f7edf10...  05/03/2014 11:30:00 PM  05/03/2014 11:45:00 PM  720.0           2.1           17031081800.0          17031081403.0           8.0                      8.0                       8.45    2.0     0.0      1.0       11.45         Credit Card     Dispatch Taxi Affiliation          41.89321636                 -87.63784421                 POINT (-87.6378442095 41.8932163595)  41.890922026                 -87.618868355                 POINT (-87.6188683546 41.8909220259)      2014-05-03 23:30:00.000000  2014-05-03 23:45:00.000000  2014-05-03 00:00:00.000000  5                -0.9749279121818236  -0.2225209339563146   5              2014-05-03 23:00:00.000000  23              -0.25881904510252157    0.9659258262890681       2014-05-03 20:00:00.000000  20              0.8660254037844403      -0.4999999999999972  2014-05-03 18:00:00.000000  18              1.102182119232618e-15   -1.0                872664c1effffff  872664c1effffff  882664c1e5fffff  882664c1e3fffff  892664c1e4fffff  892664c1e33ffff\n",
       "3           ae05f6f7a766b58b059f04c7549892da4dc3cf54  '7dc01f4be54a4058ffb81098be25f52c9f1249afc88e3ef...  05/17/2014 01:30:00 AM  05/17/2014 01:45:00 AM  480.0           0.0           17031071500.0          17031062200.0           7.0                      6.0                       7.85    3.0     0.0      1.0       11.85         Credit Card     Taxi Affiliation Services          41.914616286                -87.631717366                POINT (-87.6317173661 41.9146162864)  41.94258518                  -87.656644092                 POINT (-87.6566440918 41.9425851797)      2014-05-17 01:30:00.000000  2014-05-17 01:45:00.000000  2014-05-17 00:00:00.000000  5                -0.9749279121818236  -0.2225209339563146   5              2014-05-17 01:00:00.000000  1               0.25881904510252074     0.9659258262890683       2014-05-17 00:00:00.000000  0               0.0                     1.0                  2014-05-17 00:00:00.000000  0               0.0                     1.0                 872664c11ffffff  872664c16ffffff  882664c115fffff  882664c163fffff  892664c114fffff  892664c163bffff\n",
       "4           b45b42620c3a926ea633b9115dc624a33dcf3b56  '9f87b11be025b5dcc55e9472b8c2158664c97d193cf15d9...  04/25/2014 02:30:00 PM  04/25/2014 02:30:00 PM  0.0             0.0           nan                    nan                     nan                      nan                       42.05   7.0     0.0      0.0       49.05         Credit Card     T.A.S. - Payment Only              nan                         nan                          --                                    nan                          nan                           --                                        2014-04-25 14:30:00.000000  2014-04-25 14:30:00.000000  2014-04-25 00:00:00.000000  4                -0.433883739117558   -0.9009688679024191   4              2014-04-25 14:00:00.000000  14              -0.4999999999999997     -0.8660254037844388      2014-04-25 12:00:00.000000  12              -4.898587196589413e-16  1.0                  2014-04-25 12:00:00.000000  12              -7.347880794884119e-16  1.0                 None             None             None             None             None             None\n",
       "...         ...                                       ...                                                  ...                     ...                     ...             ...           ...                    ...                     ...                      ...                       ...     ...     ...      ...       ...           ...             ...                                ...                         ...                          ...                                   ...                          ...                           ...                                       ...                         ...                         ...                         ...              ...                  ...                   ...            ...                         ...             ...                     ...                      ...                         ...             ...                     ...                  ...                         ...             ...                     ...                 ...              ...              ...              ...              ...              ...\n",
       "37,395,431  40aa131f22b63a5ca71d1eff4477500e6b875036  '8c244243c4123f4b467c2931cf59a691059a45302dc13e3...  04/03/2014 08:30:00 PM  04/03/2014 08:45:00 PM  900.0           3.7           nan                    nan                     6.0                      24.0                      11.25   0.0     0.0      0.0       11.25         Cash            Taxi Affiliation Services          41.944226601                -87.655998182                POINT (-87.6559981815 41.9442266014)  41.901206994                 -87.676355989                 POINT (-87.6763559892 41.90120699410001)  2014-04-03 20:30:00.000000  2014-04-03 20:45:00.000000  2014-04-03 00:00:00.000000  3                0.43388373911755823  -0.900968867902419    4              2014-04-03 20:00:00.000000  20              -0.866025403784439      0.49999999999999933      2014-04-03 20:00:00.000000  20              0.8660254037844403      -0.4999999999999972  2014-04-03 18:00:00.000000  18              1.102182119232618e-15   -1.0                872664c16ffffff  872664cacffffff  882664c163fffff  882664cac3fffff  892664c1607ffff  892664cac3bffff\n",
       "37,395,432  0cd3c0015580380a89b2da5d4ed01016c0399e6a  '01480513a7f6f4664d6cc4c41ff3043ae6ecbc8cb17404f...  05/13/2014 11:30:00 PM  05/13/2014 11:45:00 PM  540.0           0.0           nan                    nan                     8.0                      6.0                       11.85   3.55    0.0      0.0       15.4          Credit Card     Blue Ribbon Taxi Association Inc.  41.899602111                -87.633308037                POINT (-87.6333080367 41.899602111)   41.944226601                 -87.655998182                 POINT (-87.6559981815 41.9442266014)      2014-05-13 23:30:00.000000  2014-05-13 23:45:00.000000  2014-05-13 00:00:00.000000  1                0.7818314824680298   0.6234898018587336    5              2014-05-13 23:00:00.000000  23              -0.25881904510252157    0.9659258262890681       2014-05-13 20:00:00.000000  20              0.8660254037844403      -0.4999999999999972  2014-05-13 18:00:00.000000  18              1.102182119232618e-15   -1.0                872664c1effffff  872664c16ffffff  882664c1edfffff  882664c163fffff  892664c1ecfffff  892664c1607ffff\n",
       "37,395,433  d378e1b76a0de5844b9d50a719239bcf878da1fc  'fdeaab06ce15ad69658acbc0e591218ef6146a29ef21275...  05/14/2014 12:45:00 PM  05/14/2014 12:45:00 PM  240.0           0.0           17031839100.0          17031833000.0           32.0                     28.0                      5.25    3.0     0.0      1.5       9.75          Credit Card     Taxi Affiliation Services          41.880994471                -87.632746489                POINT (-87.6327464887 41.8809944707)  41.88528132                  -87.6572332                   POINT (-87.6572331997 41.8852813201)      2014-05-14 12:45:00.000000  2014-05-14 12:45:00.000000  2014-05-14 00:00:00.000000  2                0.9749279121818236   -0.22252093395631434  5              2014-05-14 12:00:00.000000  12              1.2246467991473532e-16  -1.0                     2014-05-14 12:00:00.000000  12              -4.898587196589413e-16  1.0                  2014-05-14 12:00:00.000000  12              -7.347880794884119e-16  1.0                 872664c1affffff  872664cadffffff  882664c1a9fffff  882664cad7fffff  892664c1a8bffff  892664cad77ffff\n",
       "37,395,434  d64938a724961d6f2c0ae58932e78e3671784822  'a42edac48945c9dab13540adee09290f11b123a513580f2...  05/14/2014 12:15:00 PM  05/14/2014 12:15:00 PM  360.0           0.0           17031081202.0          17031081300.0           8.0                      8.0                       5.05    0.0     0.0      0.0       5.05          Cash            KOAM Taxi Association              41.902788048                -87.62614559                 POINT (-87.6261455896 41.9027880476)  41.898331794                 -87.620762865                 POINT (-87.6207628651 41.8983317935)      2014-05-14 12:15:00.000000  2014-05-14 12:15:00.000000  2014-05-14 00:00:00.000000  2                0.9749279121818236   -0.22252093395631434  5              2014-05-14 12:00:00.000000  12              1.2246467991473532e-16  -1.0                     2014-05-14 12:00:00.000000  12              -4.898587196589413e-16  1.0                  2014-05-14 12:00:00.000000  12              -7.347880794884119e-16  1.0                 872664c1effffff  872664c1effffff  882664c1edfffff  882664c1e9fffff  892664c1ed7ffff  892664c1e8fffff\n",
       "37,395,435  ffa438bd0098e226eccd9867c2a134009a13c20d  '705cc88d7a216145f6c762aa705905a745a0c5f17e39aa1...  05/13/2014 11:30:00 PM  05/13/2014 11:45:00 PM  840.0           3.2           17031320100.0          17031832600.0           32.0                     7.0                       10.45   2.25    0.0      1.0       13.7          Credit Card     Dispatch Taxi Affiliation          41.884987192                -87.620992913                POINT (-87.6209929134 41.8849871918)  41.914747305                 -87.654007029                 POINT (-87.6540070286 41.9147473049)      2014-05-13 23:30:00.000000  2014-05-13 23:45:00.000000  2014-05-13 00:00:00.000000  1                0.7818314824680298   0.6234898018587336    5              2014-05-13 23:00:00.000000  23              -0.25881904510252157    0.9659258262890681       2014-05-13 20:00:00.000000  20              0.8660254037844403      -0.4999999999999972  2014-05-13 18:00:00.000000  18              1.102182119232618e-15   -1.0                872664c1effffff  872664c13ffffff  882664c1e3fffff  882664c135fffff  892664c1e2fffff  892664c13cfffff"
      ]
     },
     "execution_count": 12,
     "metadata": {},
     "output_type": "execute_result"
    }
   ],
   "source": [
    "df_trips"
   ]
  },
  {
   "attachments": {},
   "cell_type": "markdown",
   "metadata": {},
   "source": [
    "## Analysis of string attribute sizes, lengths etc. Encoding of string categorical values for further processing"
   ]
  },
  {
   "cell_type": "code",
   "execution_count": 13,
   "metadata": {},
   "outputs": [
    {
     "data": {
      "text/plain": [
       "7"
      ]
     },
     "execution_count": 13,
     "metadata": {},
     "output_type": "execute_result"
    }
   ],
   "source": [
    "len(df_trips['Payment Type'].unique())"
   ]
  },
  {
   "cell_type": "code",
   "execution_count": 14,
   "metadata": {},
   "outputs": [
    {
     "data": {
      "text/plain": [
       "['Dispute', 'Unknown', 'Prcard', 'Credit Card', 'Cash', 'Pcard', 'No Charge']"
      ]
     },
     "execution_count": 14,
     "metadata": {},
     "output_type": "execute_result"
    }
   ],
   "source": [
    "df_trips['Payment Type'].unique()"
   ]
  },
  {
   "cell_type": "code",
   "execution_count": 15,
   "metadata": {},
   "outputs": [
    {
     "data": {
      "text/plain": [
       "108"
      ]
     },
     "execution_count": 15,
     "metadata": {},
     "output_type": "execute_result"
    }
   ],
   "source": [
    "len(df_trips['Company'].unique())"
   ]
  },
  {
   "cell_type": "code",
   "execution_count": 16,
   "metadata": {},
   "outputs": [
    {
     "data": {
      "text/plain": [
       "['3556 - 36214 RC Andrews Cab',\n",
       " None,\n",
       " '2823 - Seung Lee',\n",
       " '3094 - G.L.B. Cab Co',\n",
       " '4787 - Reny Cab Co',\n",
       " '5074 - 54002 Ahzmi Inc',\n",
       " '3253 - 91138 Gaither Cab Co.',\n",
       " '0118 - 42111 Godfrey S.Awir',\n",
       " '3897 - 57856 Ilie Malec',\n",
       " 'Blue Ribbon Taxi Association Inc.',\n",
       " '585 - Valley Cab Co',\n",
       " '4732 - Maude Lamy',\n",
       " 'Blue Diamond',\n",
       " '3385 - Eman Cab',\n",
       " '4615 - 83503 Tyrone Henderson',\n",
       " 'Northwest Management LLC',\n",
       " '2733 - Benny Jona',\n",
       " '2192 - Zeymane Corp',\n",
       " '4053 - Adwar H. Nikola',\n",
       " '2767 - Sayed M Badri',\n",
       " '4787 - 56058 Reny Cab Co',\n",
       " '1408 - Donald Barnes',\n",
       " 'nan',\n",
       " 'Flash Cab',\n",
       " '3620 - David K. Cab Corp.',\n",
       " '6488 - Zuha Taxi',\n",
       " '4053 - 40193 Adwar H. Nikola',\n",
       " '6743 - 78771 Luhak Corp',\n",
       " 'Taxi Affiliation Services',\n",
       " 'Chicago Medallion Management',\n",
       " '1408 - 89599 Donald Barnes',\n",
       " \"3591- 63480 Chuk's Cab\",\n",
       " 'Suburban Dispatch LLC',\n",
       " '3385 - 23210  Eman Cab',\n",
       " 'Chicago Elite Cab Corp. (Chicago Carriag',\n",
       " '3623 - 72222 Arrington Enterprises',\n",
       " '0694 - 59280 Chinesco Trans Inc',\n",
       " '5874 - 73628 Sergey Cab Corp.',\n",
       " 'Yellow Cab',\n",
       " 'C & D Cab Co Inc',\n",
       " '2192 - 73487 Zeymane Corp',\n",
       " 'Choice Taxi Association',\n",
       " '5062 - Sam Mestas',\n",
       " '3253 - Gaither Cab Co.',\n",
       " '3152 - 97284 Crystal Abernathy',\n",
       " '3669 - 85800 Jordan Taxi Inc',\n",
       " '3201 - C&D Cab Co Inc',\n",
       " '5006 - Salifu Bawa',\n",
       " '5864 - Thomas Owusu',\n",
       " 'American United',\n",
       " 'Dispatch Taxi Affiliation',\n",
       " '2823 - 73307 Seung Lee',\n",
       " '4623 - Jay Kim',\n",
       " '2092 - 61288 Sbeih company',\n",
       " '3669 - Jordan Taxi Inc',\n",
       " '1085 - N and W Cab Co',\n",
       " '0118 - Godfrey S.Awir',\n",
       " '585 - 88805 Valley Cab Co',\n",
       " '5724 - 75306 KYVI Cab Inc',\n",
       " '0694 - Chinesco Trans Inc',\n",
       " '1247 - 72807 Daniel Ayertey',\n",
       " '5 Star Taxi',\n",
       " '3094 - 24059 G.L.B. Cab Co',\n",
       " '6057 - 24657 Richard Addo',\n",
       " '3897 - Ilie Malec',\n",
       " '4623 - 27290 Jay Kim',\n",
       " 'Top Cab Affiliation',\n",
       " '3141 - Zip Cab',\n",
       " 'DTA Test',\n",
       " '4197 - Royal Star',\n",
       " '5874 - Sergey Cab Corp.',\n",
       " '4615 - Tyrone Henderson',\n",
       " '2241 - Manuel Alonso',\n",
       " 'KOAM Taxi Association',\n",
       " '3385 - 23210 Eman Cab',\n",
       " '2241 - 44667 Manuel Alonso',\n",
       " 'Checker Taxi',\n",
       " '2092 - Sbeih company',\n",
       " \"3591- Chuk's Cab\",\n",
       " '1085 - 72312 N and W Cab Co',\n",
       " '3011 - 66308 JBL Cab Inc.',\n",
       " '5997 - 65283 AW Services Inc.',\n",
       " '6488 - 83287 Zuha Taxi',\n",
       " '6743 - Luhak Corp',\n",
       " 'American United Cab Association',\n",
       " '4197 - 41842 Royal Star',\n",
       " '5062 - 34841 Sam Mestas',\n",
       " '3011 - JBL Cab Inc.',\n",
       " '5006 - 39261 Salifu Bawa',\n",
       " '5997 - AW Services Inc.',\n",
       " '5129 - Mengisti Taxi',\n",
       " '5724 - KYVI Cab Inc',\n",
       " '3623-Arrington Enterprises',\n",
       " '3620 - 52292 David K. Cab Corp.',\n",
       " '5724 - 72965 KYVI Cab Inc',\n",
       " '5864 - 73614 Thomas Owusu',\n",
       " 'Park Ridge Taxi and Livery',\n",
       " '1247 - Daniel Ayertey',\n",
       " '5437 - Great American Cab Co',\n",
       " '5074 - Ahzmi Inc',\n",
       " 'Chicago Elite Cab Corp.',\n",
       " '3385 -  Eman Cab',\n",
       " '3556 - RC Andrews Cab',\n",
       " 'T.A.S. - Payment Only',\n",
       " '2733 - 74600 Benny Jona',\n",
       " '0118 - Godfray S.Awir',\n",
       " '3152 - Crystal Abernathy',\n",
       " '5129 - 98755 Mengisti Taxi']"
      ]
     },
     "execution_count": 16,
     "metadata": {},
     "output_type": "execute_result"
    }
   ],
   "source": [
    "df_trips['Company'].unique()"
   ]
  },
  {
   "cell_type": "code",
   "execution_count": 17,
   "metadata": {},
   "outputs": [
    {
     "data": {
      "text/plain": [
       "7781"
      ]
     },
     "execution_count": 17,
     "metadata": {},
     "output_type": "execute_result"
    }
   ],
   "source": [
    "len(df_trips['Taxi ID'].unique())"
   ]
  },
  {
   "cell_type": "code",
   "execution_count": 18,
   "metadata": {},
   "outputs": [
    {
     "data": {
      "text/plain": [
       "array(127.99877803)"
      ]
     },
     "execution_count": 18,
     "metadata": {},
     "output_type": "execute_result"
    }
   ],
   "source": [
    "df_trips['Taxi ID'].apply(lambda x : len(x) if x != None else 0).mean()"
   ]
  },
  {
   "attachments": {},
   "cell_type": "markdown",
   "metadata": {},
   "source": [
    "## Encode string columns\n",
    "\n",
    "Encoding of the string columns reduces the size of the dataframe and need to be encoded for the ML models."
   ]
  },
  {
   "cell_type": "code",
   "execution_count": 19,
   "metadata": {},
   "outputs": [],
   "source": [
    "def generate_encoding_dict(df, column):\n",
    "    # get categories to encode\n",
    "    categories = df[column].unique()\n",
    "    # generate output the categories are mapped to -> using a simple integer mapping \n",
    "    output = range(len(categories))\n",
    "    # combine categories and output\n",
    "    encoding_dict = dict(zip(categories, output))\n",
    "    return encoding_dict"
   ]
  },
  {
   "cell_type": "code",
   "execution_count": 20,
   "metadata": {},
   "outputs": [],
   "source": [
    "df_trips['Payment Type_encoded'] = df_trips['Payment Type'].map(generate_encoding_dict(df_trips, 'Payment Type'))\n",
    "df_trips['Company_encoded']      = df_trips['Company'].map(generate_encoding_dict(df_trips, 'Company'))\n",
    "df_trips['Taxi ID_encoded']      = df_trips['Taxi ID'].map(generate_encoding_dict(df_trips, 'Taxi ID'))"
   ]
  },
  {
   "cell_type": "code",
   "execution_count": 21,
   "metadata": {},
   "outputs": [
    {
     "name": "stdout",
     "output_type": "stream",
     "text": [
      "export(hdf5) [########################################] 100.00% elapsed time  :     0.30s =  0.0m =  0.0h\n",
      "export(hdf5) [########################################] 100.00% elapsed time  :     0.09s =  0.0m =  0.0h\n",
      "export(hdf5) [########################################] 100.00% elapsed time  :     0.35s =  0.0m =  0.0h\n",
      " "
     ]
    }
   ],
   "source": [
    "# persist mappings\n",
    "# Payment Type\n",
    "df_trips.groupby(by=['Payment Type','Payment Type_encoded']).agg('count').export_hdf5(\"data/trips/trips_mapping_payment_type.hdf5\", progress=True)\n",
    "# Company\n",
    "df_trips.groupby(by=['Company','Company_encoded']).agg('count').export_hdf5(\"data/trips/trips_mapping_company.hdf5\", progress=True)\n",
    "# Taxi ID\n",
    "df_trips.groupby(by=['Taxi ID','Taxi ID_encoded']).agg('count').export_hdf5(\"data/trips/trips_mapping_taxi_id.hdf5\", progress=True)"
   ]
  },
  {
   "cell_type": "code",
   "execution_count": 22,
   "metadata": {},
   "outputs": [],
   "source": [
    "def transpose_category(df, column_name, category):\n",
    "    df[column_name + '_' + category] = df[column_name].apply(lambda x: 1 if x == category else 0)"
   ]
  },
  {
   "cell_type": "code",
   "execution_count": 23,
   "metadata": {},
   "outputs": [],
   "source": [
    "categories = df_trips['Payment Type'].unique()\n",
    "for category in categories:\n",
    "    transpose_category(df_trips, 'Payment Type', category)"
   ]
  },
  {
   "cell_type": "code",
   "execution_count": 24,
   "metadata": {},
   "outputs": [
    {
     "data": {
      "text/html": [
       "<table>\n",
       "<thead>\n",
       "<tr><th>#                                     </th><th>Trip ID                                 </th><th>Taxi ID                                            </th><th>Trip Start Timestamp  </th><th>Trip End Timestamp    </th><th>Trip Seconds  </th><th>Trip Miles  </th><th>Pickup Census Tract  </th><th>Dropoff Census Tract  </th><th>Pickup Community Area  </th><th>Dropoff Community Area  </th><th>Fare  </th><th>Tips  </th><th>Tolls  </th><th>Extras  </th><th>Trip Total  </th><th>Payment Type  </th><th>Company                          </th><th>Pickup Centroid Latitude  </th><th>Pickup Centroid Longitude  </th><th>Pickup Centroid Location            </th><th>Dropoff Centroid Latitude  </th><th>Dropoff Centroid Longitude  </th><th>Dropoff Centroid  Location              </th><th>ts_start                  </th><th>ts_end                    </th><th>start_day                 </th><th>start_weekday  </th><th>start_weekday_sin  </th><th>start_weekday_cos   </th><th>start_month  </th><th>ts_start_1_hour           </th><th>start_1_hour  </th><th>start_1_hour_sin      </th><th>start_1_hour_cos       </th><th>ts_start_4_hour           </th><th>start_4_hour  </th><th>start_4_hour_sin      </th><th>start_4_hour_cos   </th><th>ts_start_6_hour           </th><th>start_6_hour  </th><th>start_6_hour_sin      </th><th>start_6_hour_cos  </th><th>pickup_hex_7   </th><th>dropoff_hex_7  </th><th>pickup_hex_8   </th><th>dropoff_hex_8  </th><th>pickup_hex_9   </th><th>dropoff_hex_9  </th><th>Payment Type_encoded  </th><th>Company_encoded  </th><th>Taxi ID_encoded  </th><th>Payment Type_Dispute  </th><th>Payment Type_Unknown  </th><th>Payment Type_Prcard  </th><th>Payment Type_Cash  </th><th>Payment Type_Credit Card  </th><th>Payment Type_Pcard  </th><th>Payment Type_No Charge  </th></tr>\n",
       "</thead>\n",
       "<tbody>\n",
       "<tr><td><i style='opacity: 0.6'>0</i>         </td><td>506646dd0685bd55094f1b7dfac97cf3b07b6126</td><td>&#x27;1099c684f9da1ac1d0dd253d394f1c8dad37bc1a53d944d...</td><td>05/17/2014 10:45:00 AM</td><td>05/17/2014 11:00:00 AM</td><td>1080.0        </td><td>7.0         </td><td>17031281900.0        </td><td>17031061100.0         </td><td>28.0                   </td><td>6.0                     </td><td>17.45 </td><td>0.0   </td><td>0.0    </td><td>1.5     </td><td>18.95       </td><td>Cash          </td><td>Taxi Affiliation Services        </td><td>41.879255084              </td><td>-87.642648998              </td><td>POINT (-87.642648998 41.8792550844) </td><td>41.949139771               </td><td>-87.656803909               </td><td>POINT (-87.6568039088 41.9491397709)    </td><td>2014-05-17 10:45:00.000000</td><td>2014-05-17 11:00:00.000000</td><td>2014-05-17 00:00:00.000000</td><td>5              </td><td>-0.9749279121818236</td><td>-0.2225209339563146 </td><td>5            </td><td>2014-05-17 10:00:00.000000</td><td>10            </td><td>0.5000000000000003    </td><td>-0.8660254037844385    </td><td>2014-05-17 08:00:00.000000</td><td>8             </td><td>0.8660254037844392    </td><td>-0.4999999999999992</td><td>2014-05-17 06:00:00.000000</td><td>6             </td><td>3.6739403974420594e-16</td><td>-1.0              </td><td>872664c1affffff</td><td>872664c16ffffff</td><td>882664c1adfffff</td><td>882664c161fffff</td><td>892664c1acfffff</td><td>892664c1617ffff</td><td>3                     </td><td>28               </td><td>334              </td><td>0                     </td><td>0                     </td><td>0                    </td><td>1                  </td><td>0                         </td><td>0                   </td><td>0                       </td></tr>\n",
       "<tr><td><i style='opacity: 0.6'>1</i>         </td><td>1462669f59c3b5a1730e8a5f511a4102d1998c21</td><td>&#x27;379e0fd9da136cabc9eec3aca37047bbdee373ca2ef7a03...</td><td>04/17/2014 06:30:00 PM</td><td>04/17/2014 07:00:00 PM</td><td>1080.0        </td><td>3.0         </td><td>nan                  </td><td>17031841100.0         </td><td>nan                    </td><td>34.0                    </td><td>11.45 </td><td>0.0   </td><td>0.0    </td><td>1.0     </td><td>12.45       </td><td>Cash          </td><td>Taxi Affiliation Services        </td><td>nan                       </td><td>nan                        </td><td>--                                  </td><td>41.851017824               </td><td>-87.635091856               </td><td>POINT (-87.6350918563 41.8510178239)    </td><td>2014-04-17 18:30:00.000000</td><td>2014-04-17 19:00:00.000000</td><td>2014-04-17 00:00:00.000000</td><td>3              </td><td>0.43388373911755823</td><td>-0.900968867902419  </td><td>4            </td><td>2014-04-17 18:00:00.000000</td><td>18            </td><td>-1.0                  </td><td>-1.8369701987210297e-16</td><td>2014-04-17 16:00:00.000000</td><td>16            </td><td>-0.8660254037844377   </td><td>-0.5000000000000016</td><td>2014-04-17 18:00:00.000000</td><td>18            </td><td>1.102182119232618e-15 </td><td>-1.0              </td><td>None           </td><td>872664cf4ffffff</td><td>None           </td><td>882664cf4bfffff</td><td>None           </td><td>892664cf4afffff</td><td>3                     </td><td>28               </td><td>4711             </td><td>0                     </td><td>0                     </td><td>0                    </td><td>1                  </td><td>0                         </td><td>0                   </td><td>0                       </td></tr>\n",
       "<tr><td><i style='opacity: 0.6'>2</i>         </td><td>8d699aec32ce70e3647f7b06147001d3926975cc</td><td>&#x27;6768c7ebfdee8e7e7b3f5ec44739316241895aa2f7edf10...</td><td>05/03/2014 11:30:00 PM</td><td>05/03/2014 11:45:00 PM</td><td>720.0         </td><td>2.1         </td><td>17031081800.0        </td><td>17031081403.0         </td><td>8.0                    </td><td>8.0                     </td><td>8.45  </td><td>2.0   </td><td>0.0    </td><td>1.0     </td><td>11.45       </td><td>Credit Card   </td><td>Dispatch Taxi Affiliation        </td><td>41.89321636               </td><td>-87.63784421               </td><td>POINT (-87.6378442095 41.8932163595)</td><td>41.890922026               </td><td>-87.618868355               </td><td>POINT (-87.6188683546 41.8909220259)    </td><td>2014-05-03 23:30:00.000000</td><td>2014-05-03 23:45:00.000000</td><td>2014-05-03 00:00:00.000000</td><td>5              </td><td>-0.9749279121818236</td><td>-0.2225209339563146 </td><td>5            </td><td>2014-05-03 23:00:00.000000</td><td>23            </td><td>-0.25881904510252157  </td><td>0.9659258262890681     </td><td>2014-05-03 20:00:00.000000</td><td>20            </td><td>0.8660254037844403    </td><td>-0.4999999999999972</td><td>2014-05-03 18:00:00.000000</td><td>18            </td><td>1.102182119232618e-15 </td><td>-1.0              </td><td>872664c1effffff</td><td>872664c1effffff</td><td>882664c1e5fffff</td><td>882664c1e3fffff</td><td>892664c1e4fffff</td><td>892664c1e33ffff</td><td>4                     </td><td>50               </td><td>1604             </td><td>0                     </td><td>0                     </td><td>0                    </td><td>0                  </td><td>1                         </td><td>0                   </td><td>0                       </td></tr>\n",
       "<tr><td><i style='opacity: 0.6'>3</i>         </td><td>ae05f6f7a766b58b059f04c7549892da4dc3cf54</td><td>&#x27;7dc01f4be54a4058ffb81098be25f52c9f1249afc88e3ef...</td><td>05/17/2014 01:30:00 AM</td><td>05/17/2014 01:45:00 AM</td><td>480.0         </td><td>0.0         </td><td>17031071500.0        </td><td>17031062200.0         </td><td>7.0                    </td><td>6.0                     </td><td>7.85  </td><td>3.0   </td><td>0.0    </td><td>1.0     </td><td>11.85       </td><td>Credit Card   </td><td>Taxi Affiliation Services        </td><td>41.914616286              </td><td>-87.631717366              </td><td>POINT (-87.6317173661 41.9146162864)</td><td>41.94258518                </td><td>-87.656644092               </td><td>POINT (-87.6566440918 41.9425851797)    </td><td>2014-05-17 01:30:00.000000</td><td>2014-05-17 01:45:00.000000</td><td>2014-05-17 00:00:00.000000</td><td>5              </td><td>-0.9749279121818236</td><td>-0.2225209339563146 </td><td>5            </td><td>2014-05-17 01:00:00.000000</td><td>1             </td><td>0.25881904510252074   </td><td>0.9659258262890683     </td><td>2014-05-17 00:00:00.000000</td><td>0             </td><td>0.0                   </td><td>1.0                </td><td>2014-05-17 00:00:00.000000</td><td>0             </td><td>0.0                   </td><td>1.0               </td><td>872664c11ffffff</td><td>872664c16ffffff</td><td>882664c115fffff</td><td>882664c163fffff</td><td>892664c114fffff</td><td>892664c163bffff</td><td>4                     </td><td>28               </td><td>6859             </td><td>0                     </td><td>0                     </td><td>0                    </td><td>0                  </td><td>1                         </td><td>0                   </td><td>0                       </td></tr>\n",
       "<tr><td><i style='opacity: 0.6'>4</i>         </td><td>b45b42620c3a926ea633b9115dc624a33dcf3b56</td><td>&#x27;9f87b11be025b5dcc55e9472b8c2158664c97d193cf15d9...</td><td>04/25/2014 02:30:00 PM</td><td>04/25/2014 02:30:00 PM</td><td>0.0           </td><td>0.0         </td><td>nan                  </td><td>nan                   </td><td>nan                    </td><td>nan                     </td><td>42.05 </td><td>7.0   </td><td>0.0    </td><td>0.0     </td><td>49.05       </td><td>Credit Card   </td><td>T.A.S. - Payment Only            </td><td>nan                       </td><td>nan                        </td><td>--                                  </td><td>nan                        </td><td>nan                         </td><td>--                                      </td><td>2014-04-25 14:30:00.000000</td><td>2014-04-25 14:30:00.000000</td><td>2014-04-25 00:00:00.000000</td><td>4              </td><td>-0.433883739117558 </td><td>-0.9009688679024191 </td><td>4            </td><td>2014-04-25 14:00:00.000000</td><td>14            </td><td>-0.4999999999999997   </td><td>-0.8660254037844388    </td><td>2014-04-25 12:00:00.000000</td><td>12            </td><td>-4.898587196589413e-16</td><td>1.0                </td><td>2014-04-25 12:00:00.000000</td><td>12            </td><td>-7.347880794884119e-16</td><td>1.0               </td><td>None           </td><td>None           </td><td>None           </td><td>None           </td><td>None           </td><td>None           </td><td>4                     </td><td>103              </td><td>1911             </td><td>0                     </td><td>0                     </td><td>0                    </td><td>0                  </td><td>1                         </td><td>0                   </td><td>0                       </td></tr>\n",
       "<tr><td>...                                   </td><td>...                                     </td><td>...                                                </td><td>...                   </td><td>...                   </td><td>...           </td><td>...         </td><td>...                  </td><td>...                   </td><td>...                    </td><td>...                     </td><td>...   </td><td>...   </td><td>...    </td><td>...     </td><td>...         </td><td>...           </td><td>...                              </td><td>...                       </td><td>...                        </td><td>...                                 </td><td>...                        </td><td>...                         </td><td>...                                     </td><td>...                       </td><td>...                       </td><td>...                       </td><td>...            </td><td>...                </td><td>...                 </td><td>...          </td><td>...                       </td><td>...           </td><td>...                   </td><td>...                    </td><td>...                       </td><td>...           </td><td>...                   </td><td>...                </td><td>...                       </td><td>...           </td><td>...                   </td><td>...               </td><td>...            </td><td>...            </td><td>...            </td><td>...            </td><td>...            </td><td>...            </td><td>...                   </td><td>...              </td><td>...              </td><td>...                   </td><td>...                   </td><td>...                  </td><td>...                </td><td>...                       </td><td>...                 </td><td>...                     </td></tr>\n",
       "<tr><td><i style='opacity: 0.6'>37,395,431</i></td><td>40aa131f22b63a5ca71d1eff4477500e6b875036</td><td>&#x27;8c244243c4123f4b467c2931cf59a691059a45302dc13e3...</td><td>04/03/2014 08:30:00 PM</td><td>04/03/2014 08:45:00 PM</td><td>900.0         </td><td>3.7         </td><td>nan                  </td><td>nan                   </td><td>6.0                    </td><td>24.0                    </td><td>11.25 </td><td>0.0   </td><td>0.0    </td><td>0.0     </td><td>11.25       </td><td>Cash          </td><td>Taxi Affiliation Services        </td><td>41.944226601              </td><td>-87.655998182              </td><td>POINT (-87.6559981815 41.9442266014)</td><td>41.901206994               </td><td>-87.676355989               </td><td>POINT (-87.6763559892 41.90120699410001)</td><td>2014-04-03 20:30:00.000000</td><td>2014-04-03 20:45:00.000000</td><td>2014-04-03 00:00:00.000000</td><td>3              </td><td>0.43388373911755823</td><td>-0.900968867902419  </td><td>4            </td><td>2014-04-03 20:00:00.000000</td><td>20            </td><td>-0.866025403784439    </td><td>0.49999999999999933    </td><td>2014-04-03 20:00:00.000000</td><td>20            </td><td>0.8660254037844403    </td><td>-0.4999999999999972</td><td>2014-04-03 18:00:00.000000</td><td>18            </td><td>1.102182119232618e-15 </td><td>-1.0              </td><td>872664c16ffffff</td><td>872664cacffffff</td><td>882664c163fffff</td><td>882664cac3fffff</td><td>892664c1607ffff</td><td>892664cac3bffff</td><td>3                     </td><td>28               </td><td>1765             </td><td>0                     </td><td>0                     </td><td>0                    </td><td>1                  </td><td>0                         </td><td>0                   </td><td>0                       </td></tr>\n",
       "<tr><td><i style='opacity: 0.6'>37,395,432</i></td><td>0cd3c0015580380a89b2da5d4ed01016c0399e6a</td><td>&#x27;01480513a7f6f4664d6cc4c41ff3043ae6ecbc8cb17404f...</td><td>05/13/2014 11:30:00 PM</td><td>05/13/2014 11:45:00 PM</td><td>540.0         </td><td>0.0         </td><td>nan                  </td><td>nan                   </td><td>8.0                    </td><td>6.0                     </td><td>11.85 </td><td>3.55  </td><td>0.0    </td><td>0.0     </td><td>15.4        </td><td>Credit Card   </td><td>Blue Ribbon Taxi Association Inc.</td><td>41.899602111              </td><td>-87.633308037              </td><td>POINT (-87.6333080367 41.899602111) </td><td>41.944226601               </td><td>-87.655998182               </td><td>POINT (-87.6559981815 41.9442266014)    </td><td>2014-05-13 23:30:00.000000</td><td>2014-05-13 23:45:00.000000</td><td>2014-05-13 00:00:00.000000</td><td>1              </td><td>0.7818314824680298 </td><td>0.6234898018587336  </td><td>5            </td><td>2014-05-13 23:00:00.000000</td><td>23            </td><td>-0.25881904510252157  </td><td>0.9659258262890681     </td><td>2014-05-13 20:00:00.000000</td><td>20            </td><td>0.8660254037844403    </td><td>-0.4999999999999972</td><td>2014-05-13 18:00:00.000000</td><td>18            </td><td>1.102182119232618e-15 </td><td>-1.0              </td><td>872664c1effffff</td><td>872664c16ffffff</td><td>882664c1edfffff</td><td>882664c163fffff</td><td>892664c1ecfffff</td><td>892664c1607ffff</td><td>4                     </td><td>9                </td><td>1037             </td><td>0                     </td><td>0                     </td><td>0                    </td><td>0                  </td><td>1                         </td><td>0                   </td><td>0                       </td></tr>\n",
       "<tr><td><i style='opacity: 0.6'>37,395,433</i></td><td>d378e1b76a0de5844b9d50a719239bcf878da1fc</td><td>&#x27;fdeaab06ce15ad69658acbc0e591218ef6146a29ef21275...</td><td>05/14/2014 12:45:00 PM</td><td>05/14/2014 12:45:00 PM</td><td>240.0         </td><td>0.0         </td><td>17031839100.0        </td><td>17031833000.0         </td><td>32.0                   </td><td>28.0                    </td><td>5.25  </td><td>3.0   </td><td>0.0    </td><td>1.5     </td><td>9.75        </td><td>Credit Card   </td><td>Taxi Affiliation Services        </td><td>41.880994471              </td><td>-87.632746489              </td><td>POINT (-87.6327464887 41.8809944707)</td><td>41.88528132                </td><td>-87.6572332                 </td><td>POINT (-87.6572331997 41.8852813201)    </td><td>2014-05-14 12:45:00.000000</td><td>2014-05-14 12:45:00.000000</td><td>2014-05-14 00:00:00.000000</td><td>2              </td><td>0.9749279121818236 </td><td>-0.22252093395631434</td><td>5            </td><td>2014-05-14 12:00:00.000000</td><td>12            </td><td>1.2246467991473532e-16</td><td>-1.0                   </td><td>2014-05-14 12:00:00.000000</td><td>12            </td><td>-4.898587196589413e-16</td><td>1.0                </td><td>2014-05-14 12:00:00.000000</td><td>12            </td><td>-7.347880794884119e-16</td><td>1.0               </td><td>872664c1affffff</td><td>872664cadffffff</td><td>882664c1a9fffff</td><td>882664cad7fffff</td><td>892664c1a8bffff</td><td>892664cad77ffff</td><td>4                     </td><td>28               </td><td>1044             </td><td>0                     </td><td>0                     </td><td>0                    </td><td>0                  </td><td>1                         </td><td>0                   </td><td>0                       </td></tr>\n",
       "<tr><td><i style='opacity: 0.6'>37,395,434</i></td><td>d64938a724961d6f2c0ae58932e78e3671784822</td><td>&#x27;a42edac48945c9dab13540adee09290f11b123a513580f2...</td><td>05/14/2014 12:15:00 PM</td><td>05/14/2014 12:15:00 PM</td><td>360.0         </td><td>0.0         </td><td>17031081202.0        </td><td>17031081300.0         </td><td>8.0                    </td><td>8.0                     </td><td>5.05  </td><td>0.0   </td><td>0.0    </td><td>0.0     </td><td>5.05        </td><td>Cash          </td><td>KOAM Taxi Association            </td><td>41.902788048              </td><td>-87.62614559               </td><td>POINT (-87.6261455896 41.9027880476)</td><td>41.898331794               </td><td>-87.620762865               </td><td>POINT (-87.6207628651 41.8983317935)    </td><td>2014-05-14 12:15:00.000000</td><td>2014-05-14 12:15:00.000000</td><td>2014-05-14 00:00:00.000000</td><td>2              </td><td>0.9749279121818236 </td><td>-0.22252093395631434</td><td>5            </td><td>2014-05-14 12:00:00.000000</td><td>12            </td><td>1.2246467991473532e-16</td><td>-1.0                   </td><td>2014-05-14 12:00:00.000000</td><td>12            </td><td>-4.898587196589413e-16</td><td>1.0                </td><td>2014-05-14 12:00:00.000000</td><td>12            </td><td>-7.347880794884119e-16</td><td>1.0               </td><td>872664c1effffff</td><td>872664c1effffff</td><td>882664c1edfffff</td><td>882664c1e9fffff</td><td>892664c1ed7ffff</td><td>892664c1e8fffff</td><td>3                     </td><td>73               </td><td>6141             </td><td>0                     </td><td>0                     </td><td>0                    </td><td>1                  </td><td>0                         </td><td>0                   </td><td>0                       </td></tr>\n",
       "<tr><td><i style='opacity: 0.6'>37,395,435</i></td><td>ffa438bd0098e226eccd9867c2a134009a13c20d</td><td>&#x27;705cc88d7a216145f6c762aa705905a745a0c5f17e39aa1...</td><td>05/13/2014 11:30:00 PM</td><td>05/13/2014 11:45:00 PM</td><td>840.0         </td><td>3.2         </td><td>17031320100.0        </td><td>17031832600.0         </td><td>32.0                   </td><td>7.0                     </td><td>10.45 </td><td>2.25  </td><td>0.0    </td><td>1.0     </td><td>13.7        </td><td>Credit Card   </td><td>Dispatch Taxi Affiliation        </td><td>41.884987192              </td><td>-87.620992913              </td><td>POINT (-87.6209929134 41.8849871918)</td><td>41.914747305               </td><td>-87.654007029               </td><td>POINT (-87.6540070286 41.9147473049)    </td><td>2014-05-13 23:30:00.000000</td><td>2014-05-13 23:45:00.000000</td><td>2014-05-13 00:00:00.000000</td><td>1              </td><td>0.7818314824680298 </td><td>0.6234898018587336  </td><td>5            </td><td>2014-05-13 23:00:00.000000</td><td>23            </td><td>-0.25881904510252157  </td><td>0.9659258262890681     </td><td>2014-05-13 20:00:00.000000</td><td>20            </td><td>0.8660254037844403    </td><td>-0.4999999999999972</td><td>2014-05-13 18:00:00.000000</td><td>18            </td><td>1.102182119232618e-15 </td><td>-1.0              </td><td>872664c1effffff</td><td>872664c13ffffff</td><td>882664c1e3fffff</td><td>882664c135fffff</td><td>892664c1e2fffff</td><td>892664c13cfffff</td><td>4                     </td><td>50               </td><td>7533             </td><td>0                     </td><td>0                     </td><td>0                    </td><td>0                  </td><td>1                         </td><td>0                   </td><td>0                       </td></tr>\n",
       "</tbody>\n",
       "</table>"
      ],
      "text/plain": [
       "#           Trip ID                                   Taxi ID                                              Trip Start Timestamp    Trip End Timestamp      Trip Seconds    Trip Miles    Pickup Census Tract    Dropoff Census Tract    Pickup Community Area    Dropoff Community Area    Fare    Tips    Tolls    Extras    Trip Total    Payment Type    Company                            Pickup Centroid Latitude    Pickup Centroid Longitude    Pickup Centroid Location              Dropoff Centroid Latitude    Dropoff Centroid Longitude    Dropoff Centroid  Location                ts_start                    ts_end                      start_day                   start_weekday    start_weekday_sin    start_weekday_cos     start_month    ts_start_1_hour             start_1_hour    start_1_hour_sin        start_1_hour_cos         ts_start_4_hour             start_4_hour    start_4_hour_sin        start_4_hour_cos     ts_start_6_hour             start_6_hour    start_6_hour_sin        start_6_hour_cos    pickup_hex_7     dropoff_hex_7    pickup_hex_8     dropoff_hex_8    pickup_hex_9     dropoff_hex_9    Payment Type_encoded    Company_encoded    Taxi ID_encoded    Payment Type_Dispute    Payment Type_Unknown    Payment Type_Prcard    Payment Type_Cash    Payment Type_Credit Card    Payment Type_Pcard    Payment Type_No Charge\n",
       "0           506646dd0685bd55094f1b7dfac97cf3b07b6126  '1099c684f9da1ac1d0dd253d394f1c8dad37bc1a53d944d...  05/17/2014 10:45:00 AM  05/17/2014 11:00:00 AM  1080.0          7.0           17031281900.0          17031061100.0           28.0                     6.0                       17.45   0.0     0.0      1.5       18.95         Cash            Taxi Affiliation Services          41.879255084                -87.642648998                POINT (-87.642648998 41.8792550844)   41.949139771                 -87.656803909                 POINT (-87.6568039088 41.9491397709)      2014-05-17 10:45:00.000000  2014-05-17 11:00:00.000000  2014-05-17 00:00:00.000000  5                -0.9749279121818236  -0.2225209339563146   5              2014-05-17 10:00:00.000000  10              0.5000000000000003      -0.8660254037844385      2014-05-17 08:00:00.000000  8               0.8660254037844392      -0.4999999999999992  2014-05-17 06:00:00.000000  6               3.6739403974420594e-16  -1.0                872664c1affffff  872664c16ffffff  882664c1adfffff  882664c161fffff  892664c1acfffff  892664c1617ffff  3                       28                 334                0                       0                       0                      1                    0                           0                     0\n",
       "1           1462669f59c3b5a1730e8a5f511a4102d1998c21  '379e0fd9da136cabc9eec3aca37047bbdee373ca2ef7a03...  04/17/2014 06:30:00 PM  04/17/2014 07:00:00 PM  1080.0          3.0           nan                    17031841100.0           nan                      34.0                      11.45   0.0     0.0      1.0       12.45         Cash            Taxi Affiliation Services          nan                         nan                          --                                    41.851017824                 -87.635091856                 POINT (-87.6350918563 41.8510178239)      2014-04-17 18:30:00.000000  2014-04-17 19:00:00.000000  2014-04-17 00:00:00.000000  3                0.43388373911755823  -0.900968867902419    4              2014-04-17 18:00:00.000000  18              -1.0                    -1.8369701987210297e-16  2014-04-17 16:00:00.000000  16              -0.8660254037844377     -0.5000000000000016  2014-04-17 18:00:00.000000  18              1.102182119232618e-15   -1.0                None             872664cf4ffffff  None             882664cf4bfffff  None             892664cf4afffff  3                       28                 4711               0                       0                       0                      1                    0                           0                     0\n",
       "2           8d699aec32ce70e3647f7b06147001d3926975cc  '6768c7ebfdee8e7e7b3f5ec44739316241895aa2f7edf10...  05/03/2014 11:30:00 PM  05/03/2014 11:45:00 PM  720.0           2.1           17031081800.0          17031081403.0           8.0                      8.0                       8.45    2.0     0.0      1.0       11.45         Credit Card     Dispatch Taxi Affiliation          41.89321636                 -87.63784421                 POINT (-87.6378442095 41.8932163595)  41.890922026                 -87.618868355                 POINT (-87.6188683546 41.8909220259)      2014-05-03 23:30:00.000000  2014-05-03 23:45:00.000000  2014-05-03 00:00:00.000000  5                -0.9749279121818236  -0.2225209339563146   5              2014-05-03 23:00:00.000000  23              -0.25881904510252157    0.9659258262890681       2014-05-03 20:00:00.000000  20              0.8660254037844403      -0.4999999999999972  2014-05-03 18:00:00.000000  18              1.102182119232618e-15   -1.0                872664c1effffff  872664c1effffff  882664c1e5fffff  882664c1e3fffff  892664c1e4fffff  892664c1e33ffff  4                       50                 1604               0                       0                       0                      0                    1                           0                     0\n",
       "3           ae05f6f7a766b58b059f04c7549892da4dc3cf54  '7dc01f4be54a4058ffb81098be25f52c9f1249afc88e3ef...  05/17/2014 01:30:00 AM  05/17/2014 01:45:00 AM  480.0           0.0           17031071500.0          17031062200.0           7.0                      6.0                       7.85    3.0     0.0      1.0       11.85         Credit Card     Taxi Affiliation Services          41.914616286                -87.631717366                POINT (-87.6317173661 41.9146162864)  41.94258518                  -87.656644092                 POINT (-87.6566440918 41.9425851797)      2014-05-17 01:30:00.000000  2014-05-17 01:45:00.000000  2014-05-17 00:00:00.000000  5                -0.9749279121818236  -0.2225209339563146   5              2014-05-17 01:00:00.000000  1               0.25881904510252074     0.9659258262890683       2014-05-17 00:00:00.000000  0               0.0                     1.0                  2014-05-17 00:00:00.000000  0               0.0                     1.0                 872664c11ffffff  872664c16ffffff  882664c115fffff  882664c163fffff  892664c114fffff  892664c163bffff  4                       28                 6859               0                       0                       0                      0                    1                           0                     0\n",
       "4           b45b42620c3a926ea633b9115dc624a33dcf3b56  '9f87b11be025b5dcc55e9472b8c2158664c97d193cf15d9...  04/25/2014 02:30:00 PM  04/25/2014 02:30:00 PM  0.0             0.0           nan                    nan                     nan                      nan                       42.05   7.0     0.0      0.0       49.05         Credit Card     T.A.S. - Payment Only              nan                         nan                          --                                    nan                          nan                           --                                        2014-04-25 14:30:00.000000  2014-04-25 14:30:00.000000  2014-04-25 00:00:00.000000  4                -0.433883739117558   -0.9009688679024191   4              2014-04-25 14:00:00.000000  14              -0.4999999999999997     -0.8660254037844388      2014-04-25 12:00:00.000000  12              -4.898587196589413e-16  1.0                  2014-04-25 12:00:00.000000  12              -7.347880794884119e-16  1.0                 None             None             None             None             None             None             4                       103                1911               0                       0                       0                      0                    1                           0                     0\n",
       "...         ...                                       ...                                                  ...                     ...                     ...             ...           ...                    ...                     ...                      ...                       ...     ...     ...      ...       ...           ...             ...                                ...                         ...                          ...                                   ...                          ...                           ...                                       ...                         ...                         ...                         ...              ...                  ...                   ...            ...                         ...             ...                     ...                      ...                         ...             ...                     ...                  ...                         ...             ...                     ...                 ...              ...              ...              ...              ...              ...              ...                     ...                ...                ...                     ...                     ...                    ...                  ...                         ...                   ...\n",
       "37,395,431  40aa131f22b63a5ca71d1eff4477500e6b875036  '8c244243c4123f4b467c2931cf59a691059a45302dc13e3...  04/03/2014 08:30:00 PM  04/03/2014 08:45:00 PM  900.0           3.7           nan                    nan                     6.0                      24.0                      11.25   0.0     0.0      0.0       11.25         Cash            Taxi Affiliation Services          41.944226601                -87.655998182                POINT (-87.6559981815 41.9442266014)  41.901206994                 -87.676355989                 POINT (-87.6763559892 41.90120699410001)  2014-04-03 20:30:00.000000  2014-04-03 20:45:00.000000  2014-04-03 00:00:00.000000  3                0.43388373911755823  -0.900968867902419    4              2014-04-03 20:00:00.000000  20              -0.866025403784439      0.49999999999999933      2014-04-03 20:00:00.000000  20              0.8660254037844403      -0.4999999999999972  2014-04-03 18:00:00.000000  18              1.102182119232618e-15   -1.0                872664c16ffffff  872664cacffffff  882664c163fffff  882664cac3fffff  892664c1607ffff  892664cac3bffff  3                       28                 1765               0                       0                       0                      1                    0                           0                     0\n",
       "37,395,432  0cd3c0015580380a89b2da5d4ed01016c0399e6a  '01480513a7f6f4664d6cc4c41ff3043ae6ecbc8cb17404f...  05/13/2014 11:30:00 PM  05/13/2014 11:45:00 PM  540.0           0.0           nan                    nan                     8.0                      6.0                       11.85   3.55    0.0      0.0       15.4          Credit Card     Blue Ribbon Taxi Association Inc.  41.899602111                -87.633308037                POINT (-87.6333080367 41.899602111)   41.944226601                 -87.655998182                 POINT (-87.6559981815 41.9442266014)      2014-05-13 23:30:00.000000  2014-05-13 23:45:00.000000  2014-05-13 00:00:00.000000  1                0.7818314824680298   0.6234898018587336    5              2014-05-13 23:00:00.000000  23              -0.25881904510252157    0.9659258262890681       2014-05-13 20:00:00.000000  20              0.8660254037844403      -0.4999999999999972  2014-05-13 18:00:00.000000  18              1.102182119232618e-15   -1.0                872664c1effffff  872664c16ffffff  882664c1edfffff  882664c163fffff  892664c1ecfffff  892664c1607ffff  4                       9                  1037               0                       0                       0                      0                    1                           0                     0\n",
       "37,395,433  d378e1b76a0de5844b9d50a719239bcf878da1fc  'fdeaab06ce15ad69658acbc0e591218ef6146a29ef21275...  05/14/2014 12:45:00 PM  05/14/2014 12:45:00 PM  240.0           0.0           17031839100.0          17031833000.0           32.0                     28.0                      5.25    3.0     0.0      1.5       9.75          Credit Card     Taxi Affiliation Services          41.880994471                -87.632746489                POINT (-87.6327464887 41.8809944707)  41.88528132                  -87.6572332                   POINT (-87.6572331997 41.8852813201)      2014-05-14 12:45:00.000000  2014-05-14 12:45:00.000000  2014-05-14 00:00:00.000000  2                0.9749279121818236   -0.22252093395631434  5              2014-05-14 12:00:00.000000  12              1.2246467991473532e-16  -1.0                     2014-05-14 12:00:00.000000  12              -4.898587196589413e-16  1.0                  2014-05-14 12:00:00.000000  12              -7.347880794884119e-16  1.0                 872664c1affffff  872664cadffffff  882664c1a9fffff  882664cad7fffff  892664c1a8bffff  892664cad77ffff  4                       28                 1044               0                       0                       0                      0                    1                           0                     0\n",
       "37,395,434  d64938a724961d6f2c0ae58932e78e3671784822  'a42edac48945c9dab13540adee09290f11b123a513580f2...  05/14/2014 12:15:00 PM  05/14/2014 12:15:00 PM  360.0           0.0           17031081202.0          17031081300.0           8.0                      8.0                       5.05    0.0     0.0      0.0       5.05          Cash            KOAM Taxi Association              41.902788048                -87.62614559                 POINT (-87.6261455896 41.9027880476)  41.898331794                 -87.620762865                 POINT (-87.6207628651 41.8983317935)      2014-05-14 12:15:00.000000  2014-05-14 12:15:00.000000  2014-05-14 00:00:00.000000  2                0.9749279121818236   -0.22252093395631434  5              2014-05-14 12:00:00.000000  12              1.2246467991473532e-16  -1.0                     2014-05-14 12:00:00.000000  12              -4.898587196589413e-16  1.0                  2014-05-14 12:00:00.000000  12              -7.347880794884119e-16  1.0                 872664c1effffff  872664c1effffff  882664c1edfffff  882664c1e9fffff  892664c1ed7ffff  892664c1e8fffff  3                       73                 6141               0                       0                       0                      1                    0                           0                     0\n",
       "37,395,435  ffa438bd0098e226eccd9867c2a134009a13c20d  '705cc88d7a216145f6c762aa705905a745a0c5f17e39aa1...  05/13/2014 11:30:00 PM  05/13/2014 11:45:00 PM  840.0           3.2           17031320100.0          17031832600.0           32.0                     7.0                       10.45   2.25    0.0      1.0       13.7          Credit Card     Dispatch Taxi Affiliation          41.884987192                -87.620992913                POINT (-87.6209929134 41.8849871918)  41.914747305                 -87.654007029                 POINT (-87.6540070286 41.9147473049)      2014-05-13 23:30:00.000000  2014-05-13 23:45:00.000000  2014-05-13 00:00:00.000000  1                0.7818314824680298   0.6234898018587336    5              2014-05-13 23:00:00.000000  23              -0.25881904510252157    0.9659258262890681       2014-05-13 20:00:00.000000  20              0.8660254037844403      -0.4999999999999972  2014-05-13 18:00:00.000000  18              1.102182119232618e-15   -1.0                872664c1effffff  872664c13ffffff  882664c1e3fffff  882664c135fffff  892664c1e2fffff  892664c13cfffff  4                       50                 7533               0                       0                       0                      0                    1                           0                     0"
      ]
     },
     "execution_count": 24,
     "metadata": {},
     "output_type": "execute_result"
    }
   ],
   "source": [
    "df_trips"
   ]
  },
  {
   "attachments": {},
   "cell_type": "markdown",
   "metadata": {},
   "source": [
    "## Drop redundant and not needed columns\n",
    "\n",
    "Trip ID is an unique identifier but not needed for the further processing.\n",
    "Location data is present in different formats. The encoded h3-hexagon values are used in the further processing.\n",
    "All Timestamps are dropped since the time data is discretized and on an higher granularity. Start timestamp and Trip duration are sufficient for the further processing. The End timestamp is not analyzed."
   ]
  },
  {
   "cell_type": "code",
   "execution_count": 25,
   "metadata": {},
   "outputs": [
    {
     "data": {
      "text/html": [
       "<table>\n",
       "<thead>\n",
       "<tr><th>#                                     </th><th>Taxi ID                                            </th><th>Trip Seconds  </th><th>Trip Miles  </th><th>Pickup Census Tract  </th><th>Dropoff Census Tract  </th><th>Pickup Community Area  </th><th>Dropoff Community Area  </th><th>Fare  </th><th>Tips  </th><th>Tolls  </th><th>Extras  </th><th>Trip Total  </th><th>Payment Type  </th><th>Company                          </th><th>ts_start                  </th><th>ts_end                    </th><th>start_day                 </th><th>start_weekday  </th><th>start_weekday_sin  </th><th>start_weekday_cos   </th><th>start_month  </th><th>ts_start_1_hour           </th><th>start_1_hour  </th><th>start_1_hour_sin      </th><th>start_1_hour_cos       </th><th>ts_start_4_hour           </th><th>start_4_hour  </th><th>start_4_hour_sin      </th><th>start_4_hour_cos   </th><th>ts_start_6_hour           </th><th>start_6_hour  </th><th>start_6_hour_sin      </th><th>start_6_hour_cos  </th><th>pickup_hex_7   </th><th>dropoff_hex_7  </th><th>pickup_hex_8   </th><th>dropoff_hex_8  </th><th>pickup_hex_9   </th><th>dropoff_hex_9  </th><th>Payment Type_encoded  </th><th>Company_encoded  </th><th>Taxi ID_encoded  </th><th>Payment Type_Dispute  </th><th>Payment Type_Unknown  </th><th>Payment Type_Prcard  </th><th>Payment Type_Cash  </th><th>Payment Type_Credit Card  </th><th>Payment Type_Pcard  </th><th>Payment Type_No Charge  </th></tr>\n",
       "</thead>\n",
       "<tbody>\n",
       "<tr><td><i style='opacity: 0.6'>0</i>         </td><td>&#x27;1099c684f9da1ac1d0dd253d394f1c8dad37bc1a53d944d...</td><td>1080.0        </td><td>7.0         </td><td>17031281900.0        </td><td>17031061100.0         </td><td>28.0                   </td><td>6.0                     </td><td>17.45 </td><td>0.0   </td><td>0.0    </td><td>1.5     </td><td>18.95       </td><td>Cash          </td><td>Taxi Affiliation Services        </td><td>2014-05-17 10:45:00.000000</td><td>2014-05-17 11:00:00.000000</td><td>2014-05-17 00:00:00.000000</td><td>5              </td><td>-0.9749279121818236</td><td>-0.2225209339563146 </td><td>5            </td><td>2014-05-17 10:00:00.000000</td><td>10            </td><td>0.5000000000000003    </td><td>-0.8660254037844385    </td><td>2014-05-17 08:00:00.000000</td><td>8             </td><td>0.8660254037844392    </td><td>-0.4999999999999992</td><td>2014-05-17 06:00:00.000000</td><td>6             </td><td>3.6739403974420594e-16</td><td>-1.0              </td><td>872664c1affffff</td><td>872664c16ffffff</td><td>882664c1adfffff</td><td>882664c161fffff</td><td>892664c1acfffff</td><td>892664c1617ffff</td><td>3                     </td><td>28               </td><td>334              </td><td>0                     </td><td>0                     </td><td>0                    </td><td>1                  </td><td>0                         </td><td>0                   </td><td>0                       </td></tr>\n",
       "<tr><td><i style='opacity: 0.6'>1</i>         </td><td>&#x27;379e0fd9da136cabc9eec3aca37047bbdee373ca2ef7a03...</td><td>1080.0        </td><td>3.0         </td><td>nan                  </td><td>17031841100.0         </td><td>nan                    </td><td>34.0                    </td><td>11.45 </td><td>0.0   </td><td>0.0    </td><td>1.0     </td><td>12.45       </td><td>Cash          </td><td>Taxi Affiliation Services        </td><td>2014-04-17 18:30:00.000000</td><td>2014-04-17 19:00:00.000000</td><td>2014-04-17 00:00:00.000000</td><td>3              </td><td>0.43388373911755823</td><td>-0.900968867902419  </td><td>4            </td><td>2014-04-17 18:00:00.000000</td><td>18            </td><td>-1.0                  </td><td>-1.8369701987210297e-16</td><td>2014-04-17 16:00:00.000000</td><td>16            </td><td>-0.8660254037844377   </td><td>-0.5000000000000016</td><td>2014-04-17 18:00:00.000000</td><td>18            </td><td>1.102182119232618e-15 </td><td>-1.0              </td><td>None           </td><td>872664cf4ffffff</td><td>None           </td><td>882664cf4bfffff</td><td>None           </td><td>892664cf4afffff</td><td>3                     </td><td>28               </td><td>4711             </td><td>0                     </td><td>0                     </td><td>0                    </td><td>1                  </td><td>0                         </td><td>0                   </td><td>0                       </td></tr>\n",
       "<tr><td><i style='opacity: 0.6'>2</i>         </td><td>&#x27;6768c7ebfdee8e7e7b3f5ec44739316241895aa2f7edf10...</td><td>720.0         </td><td>2.1         </td><td>17031081800.0        </td><td>17031081403.0         </td><td>8.0                    </td><td>8.0                     </td><td>8.45  </td><td>2.0   </td><td>0.0    </td><td>1.0     </td><td>11.45       </td><td>Credit Card   </td><td>Dispatch Taxi Affiliation        </td><td>2014-05-03 23:30:00.000000</td><td>2014-05-03 23:45:00.000000</td><td>2014-05-03 00:00:00.000000</td><td>5              </td><td>-0.9749279121818236</td><td>-0.2225209339563146 </td><td>5            </td><td>2014-05-03 23:00:00.000000</td><td>23            </td><td>-0.25881904510252157  </td><td>0.9659258262890681     </td><td>2014-05-03 20:00:00.000000</td><td>20            </td><td>0.8660254037844403    </td><td>-0.4999999999999972</td><td>2014-05-03 18:00:00.000000</td><td>18            </td><td>1.102182119232618e-15 </td><td>-1.0              </td><td>872664c1effffff</td><td>872664c1effffff</td><td>882664c1e5fffff</td><td>882664c1e3fffff</td><td>892664c1e4fffff</td><td>892664c1e33ffff</td><td>4                     </td><td>50               </td><td>1604             </td><td>0                     </td><td>0                     </td><td>0                    </td><td>0                  </td><td>1                         </td><td>0                   </td><td>0                       </td></tr>\n",
       "<tr><td><i style='opacity: 0.6'>3</i>         </td><td>&#x27;7dc01f4be54a4058ffb81098be25f52c9f1249afc88e3ef...</td><td>480.0         </td><td>0.0         </td><td>17031071500.0        </td><td>17031062200.0         </td><td>7.0                    </td><td>6.0                     </td><td>7.85  </td><td>3.0   </td><td>0.0    </td><td>1.0     </td><td>11.85       </td><td>Credit Card   </td><td>Taxi Affiliation Services        </td><td>2014-05-17 01:30:00.000000</td><td>2014-05-17 01:45:00.000000</td><td>2014-05-17 00:00:00.000000</td><td>5              </td><td>-0.9749279121818236</td><td>-0.2225209339563146 </td><td>5            </td><td>2014-05-17 01:00:00.000000</td><td>1             </td><td>0.25881904510252074   </td><td>0.9659258262890683     </td><td>2014-05-17 00:00:00.000000</td><td>0             </td><td>0.0                   </td><td>1.0                </td><td>2014-05-17 00:00:00.000000</td><td>0             </td><td>0.0                   </td><td>1.0               </td><td>872664c11ffffff</td><td>872664c16ffffff</td><td>882664c115fffff</td><td>882664c163fffff</td><td>892664c114fffff</td><td>892664c163bffff</td><td>4                     </td><td>28               </td><td>6859             </td><td>0                     </td><td>0                     </td><td>0                    </td><td>0                  </td><td>1                         </td><td>0                   </td><td>0                       </td></tr>\n",
       "<tr><td><i style='opacity: 0.6'>4</i>         </td><td>&#x27;9f87b11be025b5dcc55e9472b8c2158664c97d193cf15d9...</td><td>0.0           </td><td>0.0         </td><td>nan                  </td><td>nan                   </td><td>nan                    </td><td>nan                     </td><td>42.05 </td><td>7.0   </td><td>0.0    </td><td>0.0     </td><td>49.05       </td><td>Credit Card   </td><td>T.A.S. - Payment Only            </td><td>2014-04-25 14:30:00.000000</td><td>2014-04-25 14:30:00.000000</td><td>2014-04-25 00:00:00.000000</td><td>4              </td><td>-0.433883739117558 </td><td>-0.9009688679024191 </td><td>4            </td><td>2014-04-25 14:00:00.000000</td><td>14            </td><td>-0.4999999999999997   </td><td>-0.8660254037844388    </td><td>2014-04-25 12:00:00.000000</td><td>12            </td><td>-4.898587196589413e-16</td><td>1.0                </td><td>2014-04-25 12:00:00.000000</td><td>12            </td><td>-7.347880794884119e-16</td><td>1.0               </td><td>None           </td><td>None           </td><td>None           </td><td>None           </td><td>None           </td><td>None           </td><td>4                     </td><td>103              </td><td>1911             </td><td>0                     </td><td>0                     </td><td>0                    </td><td>0                  </td><td>1                         </td><td>0                   </td><td>0                       </td></tr>\n",
       "<tr><td>...                                   </td><td>...                                                </td><td>...           </td><td>...         </td><td>...                  </td><td>...                   </td><td>...                    </td><td>...                     </td><td>...   </td><td>...   </td><td>...    </td><td>...     </td><td>...         </td><td>...           </td><td>...                              </td><td>...                       </td><td>...                       </td><td>...                       </td><td>...            </td><td>...                </td><td>...                 </td><td>...          </td><td>...                       </td><td>...           </td><td>...                   </td><td>...                    </td><td>...                       </td><td>...           </td><td>...                   </td><td>...                </td><td>...                       </td><td>...           </td><td>...                   </td><td>...               </td><td>...            </td><td>...            </td><td>...            </td><td>...            </td><td>...            </td><td>...            </td><td>...                   </td><td>...              </td><td>...              </td><td>...                   </td><td>...                   </td><td>...                  </td><td>...                </td><td>...                       </td><td>...                 </td><td>...                     </td></tr>\n",
       "<tr><td><i style='opacity: 0.6'>37,395,431</i></td><td>&#x27;8c244243c4123f4b467c2931cf59a691059a45302dc13e3...</td><td>900.0         </td><td>3.7         </td><td>nan                  </td><td>nan                   </td><td>6.0                    </td><td>24.0                    </td><td>11.25 </td><td>0.0   </td><td>0.0    </td><td>0.0     </td><td>11.25       </td><td>Cash          </td><td>Taxi Affiliation Services        </td><td>2014-04-03 20:30:00.000000</td><td>2014-04-03 20:45:00.000000</td><td>2014-04-03 00:00:00.000000</td><td>3              </td><td>0.43388373911755823</td><td>-0.900968867902419  </td><td>4            </td><td>2014-04-03 20:00:00.000000</td><td>20            </td><td>-0.866025403784439    </td><td>0.49999999999999933    </td><td>2014-04-03 20:00:00.000000</td><td>20            </td><td>0.8660254037844403    </td><td>-0.4999999999999972</td><td>2014-04-03 18:00:00.000000</td><td>18            </td><td>1.102182119232618e-15 </td><td>-1.0              </td><td>872664c16ffffff</td><td>872664cacffffff</td><td>882664c163fffff</td><td>882664cac3fffff</td><td>892664c1607ffff</td><td>892664cac3bffff</td><td>3                     </td><td>28               </td><td>1765             </td><td>0                     </td><td>0                     </td><td>0                    </td><td>1                  </td><td>0                         </td><td>0                   </td><td>0                       </td></tr>\n",
       "<tr><td><i style='opacity: 0.6'>37,395,432</i></td><td>&#x27;01480513a7f6f4664d6cc4c41ff3043ae6ecbc8cb17404f...</td><td>540.0         </td><td>0.0         </td><td>nan                  </td><td>nan                   </td><td>8.0                    </td><td>6.0                     </td><td>11.85 </td><td>3.55  </td><td>0.0    </td><td>0.0     </td><td>15.4        </td><td>Credit Card   </td><td>Blue Ribbon Taxi Association Inc.</td><td>2014-05-13 23:30:00.000000</td><td>2014-05-13 23:45:00.000000</td><td>2014-05-13 00:00:00.000000</td><td>1              </td><td>0.7818314824680298 </td><td>0.6234898018587336  </td><td>5            </td><td>2014-05-13 23:00:00.000000</td><td>23            </td><td>-0.25881904510252157  </td><td>0.9659258262890681     </td><td>2014-05-13 20:00:00.000000</td><td>20            </td><td>0.8660254037844403    </td><td>-0.4999999999999972</td><td>2014-05-13 18:00:00.000000</td><td>18            </td><td>1.102182119232618e-15 </td><td>-1.0              </td><td>872664c1effffff</td><td>872664c16ffffff</td><td>882664c1edfffff</td><td>882664c163fffff</td><td>892664c1ecfffff</td><td>892664c1607ffff</td><td>4                     </td><td>9                </td><td>1037             </td><td>0                     </td><td>0                     </td><td>0                    </td><td>0                  </td><td>1                         </td><td>0                   </td><td>0                       </td></tr>\n",
       "<tr><td><i style='opacity: 0.6'>37,395,433</i></td><td>&#x27;fdeaab06ce15ad69658acbc0e591218ef6146a29ef21275...</td><td>240.0         </td><td>0.0         </td><td>17031839100.0        </td><td>17031833000.0         </td><td>32.0                   </td><td>28.0                    </td><td>5.25  </td><td>3.0   </td><td>0.0    </td><td>1.5     </td><td>9.75        </td><td>Credit Card   </td><td>Taxi Affiliation Services        </td><td>2014-05-14 12:45:00.000000</td><td>2014-05-14 12:45:00.000000</td><td>2014-05-14 00:00:00.000000</td><td>2              </td><td>0.9749279121818236 </td><td>-0.22252093395631434</td><td>5            </td><td>2014-05-14 12:00:00.000000</td><td>12            </td><td>1.2246467991473532e-16</td><td>-1.0                   </td><td>2014-05-14 12:00:00.000000</td><td>12            </td><td>-4.898587196589413e-16</td><td>1.0                </td><td>2014-05-14 12:00:00.000000</td><td>12            </td><td>-7.347880794884119e-16</td><td>1.0               </td><td>872664c1affffff</td><td>872664cadffffff</td><td>882664c1a9fffff</td><td>882664cad7fffff</td><td>892664c1a8bffff</td><td>892664cad77ffff</td><td>4                     </td><td>28               </td><td>1044             </td><td>0                     </td><td>0                     </td><td>0                    </td><td>0                  </td><td>1                         </td><td>0                   </td><td>0                       </td></tr>\n",
       "<tr><td><i style='opacity: 0.6'>37,395,434</i></td><td>&#x27;a42edac48945c9dab13540adee09290f11b123a513580f2...</td><td>360.0         </td><td>0.0         </td><td>17031081202.0        </td><td>17031081300.0         </td><td>8.0                    </td><td>8.0                     </td><td>5.05  </td><td>0.0   </td><td>0.0    </td><td>0.0     </td><td>5.05        </td><td>Cash          </td><td>KOAM Taxi Association            </td><td>2014-05-14 12:15:00.000000</td><td>2014-05-14 12:15:00.000000</td><td>2014-05-14 00:00:00.000000</td><td>2              </td><td>0.9749279121818236 </td><td>-0.22252093395631434</td><td>5            </td><td>2014-05-14 12:00:00.000000</td><td>12            </td><td>1.2246467991473532e-16</td><td>-1.0                   </td><td>2014-05-14 12:00:00.000000</td><td>12            </td><td>-4.898587196589413e-16</td><td>1.0                </td><td>2014-05-14 12:00:00.000000</td><td>12            </td><td>-7.347880794884119e-16</td><td>1.0               </td><td>872664c1effffff</td><td>872664c1effffff</td><td>882664c1edfffff</td><td>882664c1e9fffff</td><td>892664c1ed7ffff</td><td>892664c1e8fffff</td><td>3                     </td><td>73               </td><td>6141             </td><td>0                     </td><td>0                     </td><td>0                    </td><td>1                  </td><td>0                         </td><td>0                   </td><td>0                       </td></tr>\n",
       "<tr><td><i style='opacity: 0.6'>37,395,435</i></td><td>&#x27;705cc88d7a216145f6c762aa705905a745a0c5f17e39aa1...</td><td>840.0         </td><td>3.2         </td><td>17031320100.0        </td><td>17031832600.0         </td><td>32.0                   </td><td>7.0                     </td><td>10.45 </td><td>2.25  </td><td>0.0    </td><td>1.0     </td><td>13.7        </td><td>Credit Card   </td><td>Dispatch Taxi Affiliation        </td><td>2014-05-13 23:30:00.000000</td><td>2014-05-13 23:45:00.000000</td><td>2014-05-13 00:00:00.000000</td><td>1              </td><td>0.7818314824680298 </td><td>0.6234898018587336  </td><td>5            </td><td>2014-05-13 23:00:00.000000</td><td>23            </td><td>-0.25881904510252157  </td><td>0.9659258262890681     </td><td>2014-05-13 20:00:00.000000</td><td>20            </td><td>0.8660254037844403    </td><td>-0.4999999999999972</td><td>2014-05-13 18:00:00.000000</td><td>18            </td><td>1.102182119232618e-15 </td><td>-1.0              </td><td>872664c1effffff</td><td>872664c13ffffff</td><td>882664c1e3fffff</td><td>882664c135fffff</td><td>892664c1e2fffff</td><td>892664c13cfffff</td><td>4                     </td><td>50               </td><td>7533             </td><td>0                     </td><td>0                     </td><td>0                    </td><td>0                  </td><td>1                         </td><td>0                   </td><td>0                       </td></tr>\n",
       "</tbody>\n",
       "</table>"
      ],
      "text/plain": [
       "#           Taxi ID                                              Trip Seconds    Trip Miles    Pickup Census Tract    Dropoff Census Tract    Pickup Community Area    Dropoff Community Area    Fare    Tips    Tolls    Extras    Trip Total    Payment Type    Company                            ts_start                    ts_end                      start_day                   start_weekday    start_weekday_sin    start_weekday_cos     start_month    ts_start_1_hour             start_1_hour    start_1_hour_sin        start_1_hour_cos         ts_start_4_hour             start_4_hour    start_4_hour_sin        start_4_hour_cos     ts_start_6_hour             start_6_hour    start_6_hour_sin        start_6_hour_cos    pickup_hex_7     dropoff_hex_7    pickup_hex_8     dropoff_hex_8    pickup_hex_9     dropoff_hex_9    Payment Type_encoded    Company_encoded    Taxi ID_encoded    Payment Type_Dispute    Payment Type_Unknown    Payment Type_Prcard    Payment Type_Cash    Payment Type_Credit Card    Payment Type_Pcard    Payment Type_No Charge\n",
       "0           '1099c684f9da1ac1d0dd253d394f1c8dad37bc1a53d944d...  1080.0          7.0           17031281900.0          17031061100.0           28.0                     6.0                       17.45   0.0     0.0      1.5       18.95         Cash            Taxi Affiliation Services          2014-05-17 10:45:00.000000  2014-05-17 11:00:00.000000  2014-05-17 00:00:00.000000  5                -0.9749279121818236  -0.2225209339563146   5              2014-05-17 10:00:00.000000  10              0.5000000000000003      -0.8660254037844385      2014-05-17 08:00:00.000000  8               0.8660254037844392      -0.4999999999999992  2014-05-17 06:00:00.000000  6               3.6739403974420594e-16  -1.0                872664c1affffff  872664c16ffffff  882664c1adfffff  882664c161fffff  892664c1acfffff  892664c1617ffff  3                       28                 334                0                       0                       0                      1                    0                           0                     0\n",
       "1           '379e0fd9da136cabc9eec3aca37047bbdee373ca2ef7a03...  1080.0          3.0           nan                    17031841100.0           nan                      34.0                      11.45   0.0     0.0      1.0       12.45         Cash            Taxi Affiliation Services          2014-04-17 18:30:00.000000  2014-04-17 19:00:00.000000  2014-04-17 00:00:00.000000  3                0.43388373911755823  -0.900968867902419    4              2014-04-17 18:00:00.000000  18              -1.0                    -1.8369701987210297e-16  2014-04-17 16:00:00.000000  16              -0.8660254037844377     -0.5000000000000016  2014-04-17 18:00:00.000000  18              1.102182119232618e-15   -1.0                None             872664cf4ffffff  None             882664cf4bfffff  None             892664cf4afffff  3                       28                 4711               0                       0                       0                      1                    0                           0                     0\n",
       "2           '6768c7ebfdee8e7e7b3f5ec44739316241895aa2f7edf10...  720.0           2.1           17031081800.0          17031081403.0           8.0                      8.0                       8.45    2.0     0.0      1.0       11.45         Credit Card     Dispatch Taxi Affiliation          2014-05-03 23:30:00.000000  2014-05-03 23:45:00.000000  2014-05-03 00:00:00.000000  5                -0.9749279121818236  -0.2225209339563146   5              2014-05-03 23:00:00.000000  23              -0.25881904510252157    0.9659258262890681       2014-05-03 20:00:00.000000  20              0.8660254037844403      -0.4999999999999972  2014-05-03 18:00:00.000000  18              1.102182119232618e-15   -1.0                872664c1effffff  872664c1effffff  882664c1e5fffff  882664c1e3fffff  892664c1e4fffff  892664c1e33ffff  4                       50                 1604               0                       0                       0                      0                    1                           0                     0\n",
       "3           '7dc01f4be54a4058ffb81098be25f52c9f1249afc88e3ef...  480.0           0.0           17031071500.0          17031062200.0           7.0                      6.0                       7.85    3.0     0.0      1.0       11.85         Credit Card     Taxi Affiliation Services          2014-05-17 01:30:00.000000  2014-05-17 01:45:00.000000  2014-05-17 00:00:00.000000  5                -0.9749279121818236  -0.2225209339563146   5              2014-05-17 01:00:00.000000  1               0.25881904510252074     0.9659258262890683       2014-05-17 00:00:00.000000  0               0.0                     1.0                  2014-05-17 00:00:00.000000  0               0.0                     1.0                 872664c11ffffff  872664c16ffffff  882664c115fffff  882664c163fffff  892664c114fffff  892664c163bffff  4                       28                 6859               0                       0                       0                      0                    1                           0                     0\n",
       "4           '9f87b11be025b5dcc55e9472b8c2158664c97d193cf15d9...  0.0             0.0           nan                    nan                     nan                      nan                       42.05   7.0     0.0      0.0       49.05         Credit Card     T.A.S. - Payment Only              2014-04-25 14:30:00.000000  2014-04-25 14:30:00.000000  2014-04-25 00:00:00.000000  4                -0.433883739117558   -0.9009688679024191   4              2014-04-25 14:00:00.000000  14              -0.4999999999999997     -0.8660254037844388      2014-04-25 12:00:00.000000  12              -4.898587196589413e-16  1.0                  2014-04-25 12:00:00.000000  12              -7.347880794884119e-16  1.0                 None             None             None             None             None             None             4                       103                1911               0                       0                       0                      0                    1                           0                     0\n",
       "...         ...                                                  ...             ...           ...                    ...                     ...                      ...                       ...     ...     ...      ...       ...           ...             ...                                ...                         ...                         ...                         ...              ...                  ...                   ...            ...                         ...             ...                     ...                      ...                         ...             ...                     ...                  ...                         ...             ...                     ...                 ...              ...              ...              ...              ...              ...              ...                     ...                ...                ...                     ...                     ...                    ...                  ...                         ...                   ...\n",
       "37,395,431  '8c244243c4123f4b467c2931cf59a691059a45302dc13e3...  900.0           3.7           nan                    nan                     6.0                      24.0                      11.25   0.0     0.0      0.0       11.25         Cash            Taxi Affiliation Services          2014-04-03 20:30:00.000000  2014-04-03 20:45:00.000000  2014-04-03 00:00:00.000000  3                0.43388373911755823  -0.900968867902419    4              2014-04-03 20:00:00.000000  20              -0.866025403784439      0.49999999999999933      2014-04-03 20:00:00.000000  20              0.8660254037844403      -0.4999999999999972  2014-04-03 18:00:00.000000  18              1.102182119232618e-15   -1.0                872664c16ffffff  872664cacffffff  882664c163fffff  882664cac3fffff  892664c1607ffff  892664cac3bffff  3                       28                 1765               0                       0                       0                      1                    0                           0                     0\n",
       "37,395,432  '01480513a7f6f4664d6cc4c41ff3043ae6ecbc8cb17404f...  540.0           0.0           nan                    nan                     8.0                      6.0                       11.85   3.55    0.0      0.0       15.4          Credit Card     Blue Ribbon Taxi Association Inc.  2014-05-13 23:30:00.000000  2014-05-13 23:45:00.000000  2014-05-13 00:00:00.000000  1                0.7818314824680298   0.6234898018587336    5              2014-05-13 23:00:00.000000  23              -0.25881904510252157    0.9659258262890681       2014-05-13 20:00:00.000000  20              0.8660254037844403      -0.4999999999999972  2014-05-13 18:00:00.000000  18              1.102182119232618e-15   -1.0                872664c1effffff  872664c16ffffff  882664c1edfffff  882664c163fffff  892664c1ecfffff  892664c1607ffff  4                       9                  1037               0                       0                       0                      0                    1                           0                     0\n",
       "37,395,433  'fdeaab06ce15ad69658acbc0e591218ef6146a29ef21275...  240.0           0.0           17031839100.0          17031833000.0           32.0                     28.0                      5.25    3.0     0.0      1.5       9.75          Credit Card     Taxi Affiliation Services          2014-05-14 12:45:00.000000  2014-05-14 12:45:00.000000  2014-05-14 00:00:00.000000  2                0.9749279121818236   -0.22252093395631434  5              2014-05-14 12:00:00.000000  12              1.2246467991473532e-16  -1.0                     2014-05-14 12:00:00.000000  12              -4.898587196589413e-16  1.0                  2014-05-14 12:00:00.000000  12              -7.347880794884119e-16  1.0                 872664c1affffff  872664cadffffff  882664c1a9fffff  882664cad7fffff  892664c1a8bffff  892664cad77ffff  4                       28                 1044               0                       0                       0                      0                    1                           0                     0\n",
       "37,395,434  'a42edac48945c9dab13540adee09290f11b123a513580f2...  360.0           0.0           17031081202.0          17031081300.0           8.0                      8.0                       5.05    0.0     0.0      0.0       5.05          Cash            KOAM Taxi Association              2014-05-14 12:15:00.000000  2014-05-14 12:15:00.000000  2014-05-14 00:00:00.000000  2                0.9749279121818236   -0.22252093395631434  5              2014-05-14 12:00:00.000000  12              1.2246467991473532e-16  -1.0                     2014-05-14 12:00:00.000000  12              -4.898587196589413e-16  1.0                  2014-05-14 12:00:00.000000  12              -7.347880794884119e-16  1.0                 872664c1effffff  872664c1effffff  882664c1edfffff  882664c1e9fffff  892664c1ed7ffff  892664c1e8fffff  3                       73                 6141               0                       0                       0                      1                    0                           0                     0\n",
       "37,395,435  '705cc88d7a216145f6c762aa705905a745a0c5f17e39aa1...  840.0           3.2           17031320100.0          17031832600.0           32.0                     7.0                       10.45   2.25    0.0      1.0       13.7          Credit Card     Dispatch Taxi Affiliation          2014-05-13 23:30:00.000000  2014-05-13 23:45:00.000000  2014-05-13 00:00:00.000000  1                0.7818314824680298   0.6234898018587336    5              2014-05-13 23:00:00.000000  23              -0.25881904510252157    0.9659258262890681       2014-05-13 20:00:00.000000  20              0.8660254037844403      -0.4999999999999972  2014-05-13 18:00:00.000000  18              1.102182119232618e-15   -1.0                872664c1effffff  872664c13ffffff  882664c1e3fffff  882664c135fffff  892664c1e2fffff  892664c13cfffff  4                       50                 7533               0                       0                       0                      0                    1                           0                     0"
      ]
     },
     "execution_count": 25,
     "metadata": {},
     "output_type": "execute_result"
    }
   ],
   "source": [
    "df_trips.drop(['Trip ID', 'Trip Start Timestamp', 'Trip End Timestamp',  'Pickup Centroid Latitude', 'Pickup Centroid Longitude', 'Dropoff Centroid Latitude', 'Dropoff Centroid Longitude', 'Pickup Centroid Location', 'Dropoff Centroid  Location'], inplace=True)"
   ]
  },
  {
   "attachments": {},
   "cell_type": "markdown",
   "metadata": {},
   "source": [
    "## Final dataset"
   ]
  },
  {
   "cell_type": "code",
   "execution_count": 26,
   "metadata": {},
   "outputs": [
    {
     "data": {
      "text/plain": [
       "['Taxi ID',\n",
       " '__Trip Start Timestamp',\n",
       " '__Trip End Timestamp',\n",
       " 'Trip Seconds',\n",
       " '__Trip Seconds',\n",
       " 'Trip Miles',\n",
       " 'Pickup Census Tract',\n",
       " 'Dropoff Census Tract',\n",
       " 'Pickup Community Area',\n",
       " 'Dropoff Community Area',\n",
       " 'Fare',\n",
       " 'Tips',\n",
       " 'Tolls',\n",
       " 'Extras',\n",
       " 'Trip Total',\n",
       " 'Payment Type',\n",
       " 'Company',\n",
       " '__Pickup Centroid Latitude',\n",
       " '__Pickup Centroid Longitude',\n",
       " '__Dropoff Centroid Latitude',\n",
       " '__Dropoff Centroid Longitude',\n",
       " 'ts_start',\n",
       " 'ts_end',\n",
       " 'start_day',\n",
       " 'start_weekday',\n",
       " 'start_weekday_sin',\n",
       " 'start_weekday_cos',\n",
       " 'start_month',\n",
       " 'ts_start_1_hour',\n",
       " 'start_1_hour',\n",
       " 'start_1_hour_sin',\n",
       " 'start_1_hour_cos',\n",
       " 'ts_start_4_hour',\n",
       " 'start_4_hour',\n",
       " 'start_4_hour_sin',\n",
       " 'start_4_hour_cos',\n",
       " 'ts_start_6_hour',\n",
       " 'start_6_hour',\n",
       " 'start_6_hour_sin',\n",
       " 'start_6_hour_cos',\n",
       " 'pickup_hex_7',\n",
       " 'dropoff_hex_7',\n",
       " 'pickup_hex_8',\n",
       " 'dropoff_hex_8',\n",
       " 'pickup_hex_9',\n",
       " 'dropoff_hex_9',\n",
       " 'Payment Type_encoded',\n",
       " 'Company_encoded',\n",
       " 'Taxi ID_encoded',\n",
       " 'Payment Type_Dispute',\n",
       " 'Payment Type_Unknown',\n",
       " 'Payment Type_Prcard',\n",
       " 'Payment Type_Cash',\n",
       " 'Payment Type_Credit Card',\n",
       " 'Payment Type_Pcard',\n",
       " 'Payment Type_No Charge']"
      ]
     },
     "execution_count": 26,
     "metadata": {},
     "output_type": "execute_result"
    }
   ],
   "source": [
    "df_trips.column_names"
   ]
  },
  {
   "cell_type": "code",
   "execution_count": 27,
   "metadata": {},
   "outputs": [],
   "source": [
    "df_trips_export_cols = ['Taxi ID_encoded',\n",
    "                        'Company',\n",
    "                        'Company_encoded',\n",
    "                        'ts_start',\n",
    "                        'ts_end',\n",
    "                        'start_day',\n",
    "                        'start_weekday',\n",
    "                        'start_month',\n",
    "                        'Trip Seconds',\n",
    "                        'Trip Miles',\n",
    "                        'Fare',\n",
    "                        'Tips',\n",
    "                        'Tolls',\n",
    "                        'Extras',\n",
    "                        'Trip Total',\n",
    "                        'Payment Type',\n",
    "                        'Payment Type_encoded',\n",
    "                        'Pickup Census Tract',\n",
    "                        'Dropoff Census Tract',\n",
    "                        'Pickup Community Area', \n",
    "                        'Dropoff Community Area',\n",
    "                        'pickup_hex_7',\n",
    "                        'dropoff_hex_7',\n",
    "                        'pickup_hex_8',\n",
    "                        'dropoff_hex_8',\n",
    "                        'pickup_hex_9',\n",
    "                        'dropoff_hex_9', \n",
    "                        'ts_start_1_hour',\n",
    "                        'start_1_hour',\n",
    "                        'start_1_hour_sin',\n",
    "                        'start_1_hour_cos',\n",
    "                        'ts_start_4_hour',\n",
    "                        'start_4_hour',\n",
    "                        'start_4_hour_sin',\n",
    "                        'start_4_hour_cos',\n",
    "                        'ts_start_6_hour',\n",
    "                        'start_6_hour',\n",
    "                        'start_6_hour_sin',\n",
    "                        'start_6_hour_cos',  \n",
    "                        'start_weekday_sin',\n",
    "                        'start_weekday_cos',\n",
    "                        'Payment Type_Dispute',\n",
    "                        'Payment Type_Unknown',\n",
    "                        'Payment Type_Prcard',\n",
    "                        'Payment Type_Cash',\n",
    "                        'Payment Type_Credit Card',\n",
    "                        'Payment Type_Pcard',\n",
    "                        'Payment Type_No Charge'\n",
    "                        ]\n"
   ]
  },
  {
   "cell_type": "code",
   "execution_count": 28,
   "metadata": {},
   "outputs": [
    {
     "data": {
      "text/html": [
       "<style>.vaex-description pre {\n",
       "          max-width : 450px;\n",
       "          white-space : nowrap;\n",
       "          overflow : hidden;\n",
       "          text-overflow: ellipsis;\n",
       "        }\n",
       "\n",
       "        .vex-description pre:hover {\n",
       "          max-width : initial;\n",
       "          white-space: pre;\n",
       "        }</style>"
      ],
      "text/plain": [
       "<IPython.core.display.HTML object>"
      ]
     },
     "metadata": {},
     "output_type": "display_data"
    },
    {
     "data": {
      "text/html": [
       "<div><h2>no-name</h2> <b>rows</b>: 37,395,436</div><h2>Columns:</h2><table class='table-striped'><thead><tr><th>column</th><th>type</th><th>unit</th><th>description</th><th>expression</th></tr></thead><tr><td>Taxi ID_encoded</td><td></i>virtual column</i></td><td></td><td ><pre></pre></td><td><code>_map(df['__Taxi ID'], map_key_hash_map_unique_2, map_choices_2, axis=None)</code></td></tr><tr><td>Company</td><td>str</td><td></td><td ><pre></pre></td><td></td></tr><tr><td>Company_encoded</td><td></i>virtual column</i></td><td></td><td ><pre></pre></td><td><code>_map(Company, map_key_hash_map_unique_1, map_choices_1, axis=None)</code></td></tr><tr><td>ts_start</td><td></i>virtual column</i></td><td></td><td ><pre></pre></td><td><code>lambda_function(df['____Trip Start Timestamp'])</code></td></tr><tr><td>ts_end</td><td></i>virtual column</i></td><td></td><td ><pre></pre></td><td><code>lambda_function_1(df['____Trip End Timestamp'])</code></td></tr><tr><td>start_day</td><td></i>virtual column</i></td><td></td><td ><pre></pre></td><td><code>dt_floor(ts_start, 'D')</code></td></tr><tr><td>start_weekday</td><td></i>virtual column</i></td><td></td><td ><pre></pre></td><td><code>dt_dayofweek(ts_start)</code></td></tr><tr><td>start_month</td><td></i>virtual column</i></td><td></td><td ><pre></pre></td><td><code>dt_month(ts_start)</code></td></tr><tr><td>Trip Seconds</td><td></i>virtual column</i></td><td></td><td ><pre></pre></td><td><code>df['____Trip Seconds']</code></td></tr><tr><td>Trip Miles</td><td>float64</td><td></td><td ><pre></pre></td><td></td></tr><tr><td>Fare</td><td>float64</td><td></td><td ><pre></pre></td><td></td></tr><tr><td>Tips</td><td>float64</td><td></td><td ><pre></pre></td><td></td></tr><tr><td>Tolls</td><td>float64</td><td></td><td ><pre></pre></td><td></td></tr><tr><td>Extras</td><td>float64</td><td></td><td ><pre></pre></td><td></td></tr><tr><td>Trip Total</td><td>float64</td><td></td><td ><pre></pre></td><td></td></tr><tr><td>Payment Type</td><td>str</td><td></td><td ><pre></pre></td><td></td></tr><tr><td>Payment Type_encoded</td><td></i>virtual column</i></td><td></td><td ><pre></pre></td><td><code>_map(df['Payment Type'], map_key_hash_map_unique, map_choices, axis=None)</code></td></tr><tr><td>Pickup Census Tract</td><td>float64</td><td></td><td ><pre></pre></td><td></td></tr><tr><td>Dropoff Census Tract</td><td>float64</td><td></td><td ><pre></pre></td><td></td></tr><tr><td>Pickup Community Area</td><td>float64</td><td></td><td ><pre></pre></td><td></td></tr><tr><td>Dropoff Community Area</td><td>float64</td><td></td><td ><pre></pre></td><td></td></tr><tr><td>pickup_hex_7</td><td></i>virtual column</i></td><td></td><td ><pre></pre></td><td><code>convert_to_hex_id(df['____Pickup Centroid Latitude'], df['____Pickup Centroid Longitude'], 7)</code></td></tr><tr><td>dropoff_hex_7</td><td></i>virtual column</i></td><td></td><td ><pre></pre></td><td><code>convert_to_hex_id(df['____Dropoff Centroid Latitude'], df['____Dropoff Centroid Longitude'], 7)</code></td></tr><tr><td>pickup_hex_8</td><td></i>virtual column</i></td><td></td><td ><pre></pre></td><td><code>convert_to_hex_id(df['____Pickup Centroid Latitude'], df['____Pickup Centroid Longitude'], 8)</code></td></tr><tr><td>dropoff_hex_8</td><td></i>virtual column</i></td><td></td><td ><pre></pre></td><td><code>convert_to_hex_id(df['____Dropoff Centroid Latitude'], df['____Dropoff Centroid Longitude'], 8)</code></td></tr><tr><td>pickup_hex_9</td><td></i>virtual column</i></td><td></td><td ><pre></pre></td><td><code>convert_to_hex_id(df['____Pickup Centroid Latitude'], df['____Pickup Centroid Longitude'], 9)</code></td></tr><tr><td>dropoff_hex_9</td><td></i>virtual column</i></td><td></td><td ><pre></pre></td><td><code>convert_to_hex_id(df['____Dropoff Centroid Latitude'], df['____Dropoff Centroid Longitude'], 9)</code></td></tr><tr><td>ts_start_1_hour</td><td></i>virtual column</i></td><td></td><td ><pre></pre></td><td><code>dt_floor(ts_start, '1h')</code></td></tr><tr><td>start_1_hour</td><td></i>virtual column</i></td><td></td><td ><pre></pre></td><td><code>dt_hour(ts_start)</code></td></tr><tr><td>start_1_hour_sin</td><td></i>virtual column</i></td><td></td><td ><pre></pre></td><td><code>sin((start_1_hour * 0.2617993877991494))</code></td></tr><tr><td>start_1_hour_cos</td><td></i>virtual column</i></td><td></td><td ><pre></pre></td><td><code>cos((start_1_hour * 0.2617993877991494))</code></td></tr><tr><td>ts_start_4_hour</td><td></i>virtual column</i></td><td></td><td ><pre></pre></td><td><code>dt_floor(ts_start, '4h')</code></td></tr><tr><td>start_4_hour</td><td></i>virtual column</i></td><td></td><td ><pre></pre></td><td><code>dt_hour(dt_floor(ts_start, '4h'))</code></td></tr><tr><td>start_4_hour_sin</td><td></i>virtual column</i></td><td></td><td ><pre></pre></td><td><code>sin((start_4_hour * 1.0471975511965976))</code></td></tr><tr><td>start_4_hour_cos</td><td></i>virtual column</i></td><td></td><td ><pre></pre></td><td><code>cos((start_4_hour * 1.0471975511965976))</code></td></tr><tr><td>ts_start_6_hour</td><td></i>virtual column</i></td><td></td><td ><pre></pre></td><td><code>dt_floor(ts_start, '6h')</code></td></tr><tr><td>start_6_hour</td><td></i>virtual column</i></td><td></td><td ><pre></pre></td><td><code>dt_hour(dt_floor(ts_start, '6h'))</code></td></tr><tr><td>start_6_hour_sin</td><td></i>virtual column</i></td><td></td><td ><pre></pre></td><td><code>sin((start_6_hour * 1.5707963267948966))</code></td></tr><tr><td>start_6_hour_cos</td><td></i>virtual column</i></td><td></td><td ><pre></pre></td><td><code>cos((start_6_hour * 1.5707963267948966))</code></td></tr><tr><td>start_weekday_sin</td><td></i>virtual column</i></td><td></td><td ><pre></pre></td><td><code>sin((start_weekday * 0.8975979010256552))</code></td></tr><tr><td>start_weekday_cos</td><td></i>virtual column</i></td><td></td><td ><pre></pre></td><td><code>cos((start_weekday * 0.8975979010256552))</code></td></tr><tr><td>Payment Type_Dispute</td><td></i>virtual column</i></td><td></td><td ><pre></pre></td><td><code>lambda_function_3(df['Payment Type'])</code></td></tr><tr><td>Payment Type_Unknown</td><td></i>virtual column</i></td><td></td><td ><pre></pre></td><td><code>lambda_function_4(df['Payment Type'])</code></td></tr><tr><td>Payment Type_Prcard</td><td></i>virtual column</i></td><td></td><td ><pre></pre></td><td><code>lambda_function_5(df['Payment Type'])</code></td></tr><tr><td>Payment Type_Cash</td><td></i>virtual column</i></td><td></td><td ><pre></pre></td><td><code>lambda_function_6(df['Payment Type'])</code></td></tr><tr><td>Payment Type_Credit Card</td><td></i>virtual column</i></td><td></td><td ><pre></pre></td><td><code>lambda_function_7(df['Payment Type'])</code></td></tr><tr><td>Payment Type_Pcard</td><td></i>virtual column</i></td><td></td><td ><pre></pre></td><td><code>lambda_function_8(df['Payment Type'])</code></td></tr><tr><td>Payment Type_No Charge</td><td></i>virtual column</i></td><td></td><td ><pre></pre></td><td><code>lambda_function_9(df['Payment Type'])</code></td></tr></table><h2>Variables:</h2><table class='table-striped'><thead><tr><th>variable</th><th>type</th><th>unit</th><th>description</th><th>expression</th></tr></thead><tr><td>map_key_hash_map_unique</td><td><class 'type'></td><td>$\\mathrm{}$</td><td ><pre></pre></td><td><code><vaex.hash.HashMapUnique object at 0x000001D50783AB60></code></td></tr><tr><td>map_choices</td><td><class 'type'></td><td>$\\mathrm{}$</td><td ><pre></pre></td><td><code>[\n",
       "  null,\n",
       "  0,\n",
       "  1,\n",
       "  2,\n",
       "  3,\n",
       "  4,\n",
       "  5,\n",
       "  6\n",
       "]</code></td></tr><tr><td>map_key_hash_map_unique_1</td><td><class 'type'></td><td>$\\mathrm{}$</td><td ><pre></pre></td><td><code><vaex.hash.HashMapUnique object at 0x000001D5060AF7C0></code></td></tr><tr><td>map_choices_1</td><td><class 'type'></td><td>$\\mathrm{}$</td><td ><pre></pre></td><td><code>[\n",
       "  null,\n",
       "  0,\n",
       "  1,\n",
       "  2,\n",
       "  3,\n",
       "  4,\n",
       "  5,\n",
       "  6,\n",
       "  7,\n",
       "  8,\n",
       "  ...\n",
       "  98,\n",
       "  99,\n",
       "  100,\n",
       "  101,\n",
       "  102,\n",
       "  103,\n",
       "  104,\n",
       "  105,\n",
       "  106,\n",
       "  107\n",
       "]</code></td></tr><tr><td>map_key_hash_map_unique_2</td><td><class 'type'></td><td>$\\mathrm{}$</td><td ><pre></pre></td><td><code><vaex.hash.HashMapUnique object at 0x000001D5078108E0></code></td></tr><tr><td>map_choices_2</td><td><class 'type'></td><td>$\\mathrm{}$</td><td ><pre></pre></td><td><code>[\n",
       "  null,\n",
       "  0,\n",
       "  1,\n",
       "  2,\n",
       "  3,\n",
       "  4,\n",
       "  5,\n",
       "  6,\n",
       "  7,\n",
       "  8,\n",
       "  ...\n",
       "  7771,\n",
       "  7772,\n",
       "  7773,\n",
       "  7774,\n",
       "  7775,\n",
       "  7776,\n",
       "  7777,\n",
       "  7778,\n",
       "  7779,\n",
       "  7780\n",
       "]</code></td></tr></table><h2>Data:</h2><table>\n",
       "<thead>\n",
       "<tr><th>#                                     </th><th>Taxi ID_encoded  </th><th>Company                          </th><th>Company_encoded  </th><th>ts_start                  </th><th>ts_end                    </th><th>start_day                 </th><th>start_weekday  </th><th>start_month  </th><th>Trip Seconds  </th><th>Trip Miles  </th><th>Fare  </th><th>Tips  </th><th>Tolls  </th><th>Extras  </th><th>Trip Total  </th><th>Payment Type  </th><th>Payment Type_encoded  </th><th>Pickup Census Tract  </th><th>Dropoff Census Tract  </th><th>Pickup Community Area  </th><th>Dropoff Community Area  </th><th>pickup_hex_7   </th><th>dropoff_hex_7  </th><th>pickup_hex_8   </th><th>dropoff_hex_8  </th><th>pickup_hex_9   </th><th>dropoff_hex_9  </th><th>ts_start_1_hour           </th><th>start_1_hour  </th><th>start_1_hour_sin      </th><th>start_1_hour_cos       </th><th>ts_start_4_hour           </th><th>start_4_hour  </th><th>start_4_hour_sin      </th><th>start_4_hour_cos   </th><th>ts_start_6_hour           </th><th>start_6_hour  </th><th>start_6_hour_sin      </th><th>start_6_hour_cos  </th><th>start_weekday_sin  </th><th>start_weekday_cos   </th><th>Payment Type_Dispute  </th><th>Payment Type_Unknown  </th><th>Payment Type_Prcard  </th><th>Payment Type_Cash  </th><th>Payment Type_Credit Card  </th><th>Payment Type_Pcard  </th><th>Payment Type_No Charge  </th></tr>\n",
       "</thead>\n",
       "<tbody>\n",
       "<tr><td><i style='opacity: 0.6'>0</i>         </td><td>334              </td><td>Taxi Affiliation Services        </td><td>28               </td><td>2014-05-17 10:45:00.000000</td><td>2014-05-17 11:00:00.000000</td><td>2014-05-17 00:00:00.000000</td><td>5              </td><td>5            </td><td>1080.0        </td><td>7.0         </td><td>17.45 </td><td>0.0   </td><td>0.0    </td><td>1.5     </td><td>18.95       </td><td>Cash          </td><td>3                     </td><td>17031281900.0        </td><td>17031061100.0         </td><td>28.0                   </td><td>6.0                     </td><td>872664c1affffff</td><td>872664c16ffffff</td><td>882664c1adfffff</td><td>882664c161fffff</td><td>892664c1acfffff</td><td>892664c1617ffff</td><td>2014-05-17 10:00:00.000000</td><td>10            </td><td>0.5000000000000003    </td><td>-0.8660254037844385    </td><td>2014-05-17 08:00:00.000000</td><td>8             </td><td>0.8660254037844392    </td><td>-0.4999999999999992</td><td>2014-05-17 06:00:00.000000</td><td>6             </td><td>3.6739403974420594e-16</td><td>-1.0              </td><td>-0.9749279121818236</td><td>-0.2225209339563146 </td><td>0                     </td><td>0                     </td><td>0                    </td><td>1                  </td><td>0                         </td><td>0                   </td><td>0                       </td></tr>\n",
       "<tr><td><i style='opacity: 0.6'>1</i>         </td><td>4711             </td><td>Taxi Affiliation Services        </td><td>28               </td><td>2014-04-17 18:30:00.000000</td><td>2014-04-17 19:00:00.000000</td><td>2014-04-17 00:00:00.000000</td><td>3              </td><td>4            </td><td>1080.0        </td><td>3.0         </td><td>11.45 </td><td>0.0   </td><td>0.0    </td><td>1.0     </td><td>12.45       </td><td>Cash          </td><td>3                     </td><td>nan                  </td><td>17031841100.0         </td><td>nan                    </td><td>34.0                    </td><td>None           </td><td>872664cf4ffffff</td><td>None           </td><td>882664cf4bfffff</td><td>None           </td><td>892664cf4afffff</td><td>2014-04-17 18:00:00.000000</td><td>18            </td><td>-1.0                  </td><td>-1.8369701987210297e-16</td><td>2014-04-17 16:00:00.000000</td><td>16            </td><td>-0.8660254037844377   </td><td>-0.5000000000000016</td><td>2014-04-17 18:00:00.000000</td><td>18            </td><td>1.102182119232618e-15 </td><td>-1.0              </td><td>0.43388373911755823</td><td>-0.900968867902419  </td><td>0                     </td><td>0                     </td><td>0                    </td><td>1                  </td><td>0                         </td><td>0                   </td><td>0                       </td></tr>\n",
       "<tr><td><i style='opacity: 0.6'>2</i>         </td><td>1604             </td><td>Dispatch Taxi Affiliation        </td><td>50               </td><td>2014-05-03 23:30:00.000000</td><td>2014-05-03 23:45:00.000000</td><td>2014-05-03 00:00:00.000000</td><td>5              </td><td>5            </td><td>720.0         </td><td>2.1         </td><td>8.45  </td><td>2.0   </td><td>0.0    </td><td>1.0     </td><td>11.45       </td><td>Credit Card   </td><td>4                     </td><td>17031081800.0        </td><td>17031081403.0         </td><td>8.0                    </td><td>8.0                     </td><td>872664c1effffff</td><td>872664c1effffff</td><td>882664c1e5fffff</td><td>882664c1e3fffff</td><td>892664c1e4fffff</td><td>892664c1e33ffff</td><td>2014-05-03 23:00:00.000000</td><td>23            </td><td>-0.25881904510252157  </td><td>0.9659258262890681     </td><td>2014-05-03 20:00:00.000000</td><td>20            </td><td>0.8660254037844403    </td><td>-0.4999999999999972</td><td>2014-05-03 18:00:00.000000</td><td>18            </td><td>1.102182119232618e-15 </td><td>-1.0              </td><td>-0.9749279121818236</td><td>-0.2225209339563146 </td><td>0                     </td><td>0                     </td><td>0                    </td><td>0                  </td><td>1                         </td><td>0                   </td><td>0                       </td></tr>\n",
       "<tr><td><i style='opacity: 0.6'>3</i>         </td><td>6859             </td><td>Taxi Affiliation Services        </td><td>28               </td><td>2014-05-17 01:30:00.000000</td><td>2014-05-17 01:45:00.000000</td><td>2014-05-17 00:00:00.000000</td><td>5              </td><td>5            </td><td>480.0         </td><td>0.0         </td><td>7.85  </td><td>3.0   </td><td>0.0    </td><td>1.0     </td><td>11.85       </td><td>Credit Card   </td><td>4                     </td><td>17031071500.0        </td><td>17031062200.0         </td><td>7.0                    </td><td>6.0                     </td><td>872664c11ffffff</td><td>872664c16ffffff</td><td>882664c115fffff</td><td>882664c163fffff</td><td>892664c114fffff</td><td>892664c163bffff</td><td>2014-05-17 01:00:00.000000</td><td>1             </td><td>0.25881904510252074   </td><td>0.9659258262890683     </td><td>2014-05-17 00:00:00.000000</td><td>0             </td><td>0.0                   </td><td>1.0                </td><td>2014-05-17 00:00:00.000000</td><td>0             </td><td>0.0                   </td><td>1.0               </td><td>-0.9749279121818236</td><td>-0.2225209339563146 </td><td>0                     </td><td>0                     </td><td>0                    </td><td>0                  </td><td>1                         </td><td>0                   </td><td>0                       </td></tr>\n",
       "<tr><td><i style='opacity: 0.6'>4</i>         </td><td>1911             </td><td>T.A.S. - Payment Only            </td><td>103              </td><td>2014-04-25 14:30:00.000000</td><td>2014-04-25 14:30:00.000000</td><td>2014-04-25 00:00:00.000000</td><td>4              </td><td>4            </td><td>0.0           </td><td>0.0         </td><td>42.05 </td><td>7.0   </td><td>0.0    </td><td>0.0     </td><td>49.05       </td><td>Credit Card   </td><td>4                     </td><td>nan                  </td><td>nan                   </td><td>nan                    </td><td>nan                     </td><td>None           </td><td>None           </td><td>None           </td><td>None           </td><td>None           </td><td>None           </td><td>2014-04-25 14:00:00.000000</td><td>14            </td><td>-0.4999999999999997   </td><td>-0.8660254037844388    </td><td>2014-04-25 12:00:00.000000</td><td>12            </td><td>-4.898587196589413e-16</td><td>1.0                </td><td>2014-04-25 12:00:00.000000</td><td>12            </td><td>-7.347880794884119e-16</td><td>1.0               </td><td>-0.433883739117558 </td><td>-0.9009688679024191 </td><td>0                     </td><td>0                     </td><td>0                    </td><td>0                  </td><td>1                         </td><td>0                   </td><td>0                       </td></tr>\n",
       "<tr><td>...                                   </td><td>...              </td><td>...                              </td><td>...              </td><td>...                       </td><td>...                       </td><td>...                       </td><td>...            </td><td>...          </td><td>...           </td><td>...         </td><td>...   </td><td>...   </td><td>...    </td><td>...     </td><td>...         </td><td>...           </td><td>...                   </td><td>...                  </td><td>...                   </td><td>...                    </td><td>...                     </td><td>...            </td><td>...            </td><td>...            </td><td>...            </td><td>...            </td><td>...            </td><td>...                       </td><td>...           </td><td>...                   </td><td>...                    </td><td>...                       </td><td>...           </td><td>...                   </td><td>...                </td><td>...                       </td><td>...           </td><td>...                   </td><td>...               </td><td>...                </td><td>...                 </td><td>...                   </td><td>...                   </td><td>...                  </td><td>...                </td><td>...                       </td><td>...                 </td><td>...                     </td></tr>\n",
       "<tr><td><i style='opacity: 0.6'>37,395,431</i></td><td>1765             </td><td>Taxi Affiliation Services        </td><td>28               </td><td>2014-04-03 20:30:00.000000</td><td>2014-04-03 20:45:00.000000</td><td>2014-04-03 00:00:00.000000</td><td>3              </td><td>4            </td><td>900.0         </td><td>3.7         </td><td>11.25 </td><td>0.0   </td><td>0.0    </td><td>0.0     </td><td>11.25       </td><td>Cash          </td><td>3                     </td><td>nan                  </td><td>nan                   </td><td>6.0                    </td><td>24.0                    </td><td>872664c16ffffff</td><td>872664cacffffff</td><td>882664c163fffff</td><td>882664cac3fffff</td><td>892664c1607ffff</td><td>892664cac3bffff</td><td>2014-04-03 20:00:00.000000</td><td>20            </td><td>-0.866025403784439    </td><td>0.49999999999999933    </td><td>2014-04-03 20:00:00.000000</td><td>20            </td><td>0.8660254037844403    </td><td>-0.4999999999999972</td><td>2014-04-03 18:00:00.000000</td><td>18            </td><td>1.102182119232618e-15 </td><td>-1.0              </td><td>0.43388373911755823</td><td>-0.900968867902419  </td><td>0                     </td><td>0                     </td><td>0                    </td><td>1                  </td><td>0                         </td><td>0                   </td><td>0                       </td></tr>\n",
       "<tr><td><i style='opacity: 0.6'>37,395,432</i></td><td>1037             </td><td>Blue Ribbon Taxi Association Inc.</td><td>9                </td><td>2014-05-13 23:30:00.000000</td><td>2014-05-13 23:45:00.000000</td><td>2014-05-13 00:00:00.000000</td><td>1              </td><td>5            </td><td>540.0         </td><td>0.0         </td><td>11.85 </td><td>3.55  </td><td>0.0    </td><td>0.0     </td><td>15.4        </td><td>Credit Card   </td><td>4                     </td><td>nan                  </td><td>nan                   </td><td>8.0                    </td><td>6.0                     </td><td>872664c1effffff</td><td>872664c16ffffff</td><td>882664c1edfffff</td><td>882664c163fffff</td><td>892664c1ecfffff</td><td>892664c1607ffff</td><td>2014-05-13 23:00:00.000000</td><td>23            </td><td>-0.25881904510252157  </td><td>0.9659258262890681     </td><td>2014-05-13 20:00:00.000000</td><td>20            </td><td>0.8660254037844403    </td><td>-0.4999999999999972</td><td>2014-05-13 18:00:00.000000</td><td>18            </td><td>1.102182119232618e-15 </td><td>-1.0              </td><td>0.7818314824680298 </td><td>0.6234898018587336  </td><td>0                     </td><td>0                     </td><td>0                    </td><td>0                  </td><td>1                         </td><td>0                   </td><td>0                       </td></tr>\n",
       "<tr><td><i style='opacity: 0.6'>37,395,433</i></td><td>1044             </td><td>Taxi Affiliation Services        </td><td>28               </td><td>2014-05-14 12:45:00.000000</td><td>2014-05-14 12:45:00.000000</td><td>2014-05-14 00:00:00.000000</td><td>2              </td><td>5            </td><td>240.0         </td><td>0.0         </td><td>5.25  </td><td>3.0   </td><td>0.0    </td><td>1.5     </td><td>9.75        </td><td>Credit Card   </td><td>4                     </td><td>17031839100.0        </td><td>17031833000.0         </td><td>32.0                   </td><td>28.0                    </td><td>872664c1affffff</td><td>872664cadffffff</td><td>882664c1a9fffff</td><td>882664cad7fffff</td><td>892664c1a8bffff</td><td>892664cad77ffff</td><td>2014-05-14 12:00:00.000000</td><td>12            </td><td>1.2246467991473532e-16</td><td>-1.0                   </td><td>2014-05-14 12:00:00.000000</td><td>12            </td><td>-4.898587196589413e-16</td><td>1.0                </td><td>2014-05-14 12:00:00.000000</td><td>12            </td><td>-7.347880794884119e-16</td><td>1.0               </td><td>0.9749279121818236 </td><td>-0.22252093395631434</td><td>0                     </td><td>0                     </td><td>0                    </td><td>0                  </td><td>1                         </td><td>0                   </td><td>0                       </td></tr>\n",
       "<tr><td><i style='opacity: 0.6'>37,395,434</i></td><td>6141             </td><td>KOAM Taxi Association            </td><td>73               </td><td>2014-05-14 12:15:00.000000</td><td>2014-05-14 12:15:00.000000</td><td>2014-05-14 00:00:00.000000</td><td>2              </td><td>5            </td><td>360.0         </td><td>0.0         </td><td>5.05  </td><td>0.0   </td><td>0.0    </td><td>0.0     </td><td>5.05        </td><td>Cash          </td><td>3                     </td><td>17031081202.0        </td><td>17031081300.0         </td><td>8.0                    </td><td>8.0                     </td><td>872664c1effffff</td><td>872664c1effffff</td><td>882664c1edfffff</td><td>882664c1e9fffff</td><td>892664c1ed7ffff</td><td>892664c1e8fffff</td><td>2014-05-14 12:00:00.000000</td><td>12            </td><td>1.2246467991473532e-16</td><td>-1.0                   </td><td>2014-05-14 12:00:00.000000</td><td>12            </td><td>-4.898587196589413e-16</td><td>1.0                </td><td>2014-05-14 12:00:00.000000</td><td>12            </td><td>-7.347880794884119e-16</td><td>1.0               </td><td>0.9749279121818236 </td><td>-0.22252093395631434</td><td>0                     </td><td>0                     </td><td>0                    </td><td>1                  </td><td>0                         </td><td>0                   </td><td>0                       </td></tr>\n",
       "<tr><td><i style='opacity: 0.6'>37,395,435</i></td><td>7533             </td><td>Dispatch Taxi Affiliation        </td><td>50               </td><td>2014-05-13 23:30:00.000000</td><td>2014-05-13 23:45:00.000000</td><td>2014-05-13 00:00:00.000000</td><td>1              </td><td>5            </td><td>840.0         </td><td>3.2         </td><td>10.45 </td><td>2.25  </td><td>0.0    </td><td>1.0     </td><td>13.7        </td><td>Credit Card   </td><td>4                     </td><td>17031320100.0        </td><td>17031832600.0         </td><td>32.0                   </td><td>7.0                     </td><td>872664c1effffff</td><td>872664c13ffffff</td><td>882664c1e3fffff</td><td>882664c135fffff</td><td>892664c1e2fffff</td><td>892664c13cfffff</td><td>2014-05-13 23:00:00.000000</td><td>23            </td><td>-0.25881904510252157  </td><td>0.9659258262890681     </td><td>2014-05-13 20:00:00.000000</td><td>20            </td><td>0.8660254037844403    </td><td>-0.4999999999999972</td><td>2014-05-13 18:00:00.000000</td><td>18            </td><td>1.102182119232618e-15 </td><td>-1.0              </td><td>0.7818314824680298 </td><td>0.6234898018587336  </td><td>0                     </td><td>0                     </td><td>0                    </td><td>0                  </td><td>1                         </td><td>0                   </td><td>0                       </td></tr>\n",
       "</tbody>\n",
       "</table>"
      ],
      "text/plain": [
       "<IPython.core.display.HTML object>"
      ]
     },
     "metadata": {},
     "output_type": "display_data"
    }
   ],
   "source": [
    "df_trips[df_trips_export_cols].info()"
   ]
  },
  {
   "attachments": {},
   "cell_type": "markdown",
   "metadata": {},
   "source": [
    "## Persist dataset as 'trips_prepared.hdf5'"
   ]
  },
  {
   "cell_type": "code",
   "execution_count": 29,
   "metadata": {},
   "outputs": [
    {
     "name": "stdout",
     "output_type": "stream",
     "text": [
      "export(hdf5) [########################################] 100.00% elapsed time  :  8648.94s =  144.1m =  2.4h                                                                           \n",
      " "
     ]
    }
   ],
   "source": [
    "df_trips[df_trips_export_cols].export_hdf5(\"data/trips/trips_prepared.hdf5\", progress=True)"
   ]
  },
  {
   "attachments": {},
   "cell_type": "markdown",
   "metadata": {},
   "source": [
    "## Persist aggregated data sets (relevant for further processing)"
   ]
  },
  {
   "cell_type": "code",
   "execution_count": 30,
   "metadata": {},
   "outputs": [],
   "source": [
    "# load df_trips to avoid calculations of columns again and enable independent calculation of the different groupings\n",
    "\n",
    "df_trips = vaex.open(\"data/trips/trips_prepared.hdf5\", progress=True)"
   ]
  },
  {
   "cell_type": "code",
   "execution_count": 31,
   "metadata": {},
   "outputs": [],
   "source": [
    "aggregation = { 'demand':'count',\n",
    "                'Trip Seconds':'mean', \n",
    "                'Trip Miles':'mean', \n",
    "                'Fare':'mean', \n",
    "                'Tips':'mean', \n",
    "                'Tolls':'mean', \n",
    "                'Extras':'mean', \n",
    "                'Trip Total':'mean',\n",
    "                'Company_encoded':'nunique',\n",
    "                'Taxi ID_encoded':'nunique',\n",
    "                'Payment Type_Dispute':'sum',\n",
    "                'Payment Type_Unknown':'sum',\n",
    "                'Payment Type_Prcard':'sum',\n",
    "                'Payment Type_Cash':'sum',\n",
    "                'Payment Type_Credit Card':'sum',\n",
    "                'Payment Type_Pcard':'sum',\n",
    "                'Payment Type_No Charge':'sum'}"
   ]
  },
  {
   "cell_type": "code",
   "execution_count": 32,
   "metadata": {},
   "outputs": [],
   "source": [
    "def generate_grouping(df, granularity_hour, granularity_location):\n",
    "    group_by  = [df['ts_start_' + str(granularity_hour) + '_hour'], df['start_' + str(granularity_hour) + '_hour'], df['start_' + str(granularity_hour) + '_hour_sin'], df['start_' + str(granularity_hour) + '_hour_cos']]\n",
    "    if isinstance(granularity_location, int):\n",
    "        group_by.append(df['pickup_hex_' + str(granularity_location)])\n",
    "    else:\n",
    "        group_by.append(df[granularity_location])\n",
    "    return group_by\n",
    "\n",
    "# group_by_general -> grouping of overarching attributes\n",
    "group_by_general = [df_trips.start_day, df_trips.start_month, df_trips.start_weekday, df_trips.start_weekday_sin, df_trips.start_weekday_cos]"
   ]
  },
  {
   "cell_type": "code",
   "execution_count": 33,
   "metadata": {},
   "outputs": [
    {
     "name": "stdout",
     "output_type": "stream",
     "text": [
      "groupby [################################--------] 80.00% estimated time:     1.99s =  0.0m =  0.0h  "
     ]
    }
   ],
   "source": [
    "# aggregation to 1h and resolutions 7, 8, 9\n",
    "df_trips.groupby(by=group_by_general + generate_grouping(df_trips, 1, 7), progress=True).agg(aggregation).export_hdf5(\"data/trips/trips_grouped_1h_r7.hdf5\", progress=True)\n",
    "df_trips.groupby(by=group_by_general + generate_grouping(df_trips, 1, 8), progress=True).agg(aggregation).export_hdf5(\"data/trips/trips_grouped_1h_r8.hdf5\", progress=True)\n",
    "df_trips.groupby(by=group_by_general + generate_grouping(df_trips, 1, 9), progress=True).agg(aggregation).export_hdf5(\"data/trips/trips_grouped_1h_r9.hdf5\", progress=True)\n",
    "# aggregation to 4h and resolutions 7, 8, 9\n",
    "df_trips.groupby(by=group_by_general + generate_grouping(df_trips, 4, 7), progress=True).agg(aggregation).export_hdf5(\"data/trips/trips_grouped_4h_r7.hdf5\", progress=True)\n",
    "df_trips.groupby(by=group_by_general + generate_grouping(df_trips, 4, 8), progress=True).agg(aggregation).export_hdf5(\"data/trips/trips_grouped_4h_r8.hdf5\", progress=True)\n",
    "df_trips.groupby(by=group_by_general + generate_grouping(df_trips, 4, 9), progress=True).agg(aggregation).export_hdf5(\"data/trips/trips_grouped_4h_r9.hdf5\", progress=True)\n",
    "# aggregation to 6h and resolutions 7, 8, 9\n",
    "df_trips.groupby(by=group_by_general + generate_grouping(df_trips, 6, 7), progress=True).agg(aggregation).export_hdf5(\"data/trips/trips_grouped_6h_r7.hdf5\", progress=True)\n",
    "df_trips.groupby(by=group_by_general + generate_grouping(df_trips, 6, 8), progress=True).agg(aggregation).export_hdf5(\"data/trips/trips_grouped_6h_r8.hdf5\", progress=True)\n",
    "df_trips.groupby(by=group_by_general + generate_grouping(df_trips, 6, 9), progress=True).agg(aggregation).export_hdf5(\"data/trips/trips_grouped_6h_r9.hdf5\", progress=True)\n",
    "\n",
    "# aggregation to 1h, 4h, 6h and resolution census tract\n",
    "df_trips.groupby(by=group_by_general + generate_grouping(df_trips, 1, 'Pickup Census Tract'), progress=True).agg(aggregation).export_hdf5(\"data/trips/trips_grouped_1h_census.hdf5\", progress=True)\n",
    "df_trips.groupby(by=group_by_general + generate_grouping(df_trips, 4, 'Pickup Census Tract'), progress=True).agg(aggregation).export_hdf5(\"data/trips/trips_grouped_4h_census.hdf5\", progress=True)\n",
    "df_trips.groupby(by=group_by_general + generate_grouping(df_trips, 6, 'Pickup Census Tract'), progress=True).agg(aggregation).export_hdf5(\"data/trips/trips_grouped_6h_census.hdf5\", progress=True)\n",
    "\n",
    "# aggregation to 1h, 4h, 6h and resolution census tract\n",
    "df_trips.groupby(by=group_by_general + generate_grouping(df_trips, 1, 'Pickup Community Area'), progress=True).agg(aggregation).export_hdf5(\"data/trips/trips_grouped_1h_comArea.hdf5\", progress=True)\n",
    "df_trips.groupby(by=group_by_general + generate_grouping(df_trips, 4, 'Pickup Community Area'), progress=True).agg(aggregation).export_hdf5(\"data/trips/trips_grouped_4h_comArea.hdf5\", progress=True)\n",
    "df_trips.groupby(by=group_by_general + generate_grouping(df_trips, 6, 'Pickup Community Area'), progress=True).agg(aggregation).export_hdf5(\"data/trips/trips_grouped_6h_comArea.hdf5\", progress=True)\n"
   ]
  },
  {
   "attachments": {},
   "cell_type": "markdown",
   "metadata": {},
   "source": [
    "Dataset including dropoff -> routes"
   ]
  },
  {
   "cell_type": "code",
   "execution_count": null,
   "metadata": {},
   "outputs": [
    {
     "name": "stdout",
     "output_type": "stream",
     "text": [
      "groupby [########################################] 100.00% elapsed time  :    31.88s =  0.5m =  0.0h  \n",
      "groupby [########################################] 100.00% elapsed time  :    37.67s =  0.6m =  0.0h\n",
      " "
     ]
    }
   ],
   "source": [
    "df_trips.groupby(by=group_by_general + generate_grouping(df_trips, 1, 9) + [df_trips['dropoff_hex_9']], progress=True).agg(aggregation).export_hdf5(\"data/trips/trips_grouped_1h_r9_routes.hdf5\", progress=True)"
   ]
  }
 ],
 "metadata": {
  "kernelspec": {
   "display_name": "AAA_2023-Ne9h4ijP",
   "language": "python",
   "name": "python3"
  },
  "language_info": {
   "codemirror_mode": {
    "name": "ipython",
    "version": 3
   },
   "file_extension": ".py",
   "mimetype": "text/x-python",
   "name": "python",
   "nbconvert_exporter": "python",
   "pygments_lexer": "ipython3",
   "version": "3.10.11"
  },
  "orig_nbformat": 4
 },
 "nbformat": 4,
 "nbformat_minor": 2
}
