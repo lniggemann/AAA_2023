{
 "cells": [
  {
   "attachments": {},
   "cell_type": "markdown",
   "metadata": {},
   "source": [
    "# Data preparation\n",
    "\n",
    "Prepare data for further processing.\n",
    "Steps:\n",
    "- discretizing data (temporal and spatial)\n",
    "- encoding of categorical values\n",
    "- dropping of not necessary columns\n",
    "- persisting the prepared dataset as 'trips_prepared.hdf5'\n"
   ]
  },
  {
   "cell_type": "code",
   "execution_count": 2,
   "metadata": {},
   "outputs": [],
   "source": [
    "import vaex"
   ]
  },
  {
   "attachments": {},
   "cell_type": "markdown",
   "metadata": {},
   "source": [
    "Load dataset"
   ]
  },
  {
   "cell_type": "code",
   "execution_count": 3,
   "metadata": {},
   "outputs": [],
   "source": [
    "df_trips = vaex.open(\"data/trips/trips.hdf5\")"
   ]
  },
  {
   "cell_type": "code",
   "execution_count": 4,
   "metadata": {},
   "outputs": [
    {
     "data": {
      "text/html": [
       "<style>.vaex-description pre {\n",
       "          max-width : 450px;\n",
       "          white-space : nowrap;\n",
       "          overflow : hidden;\n",
       "          text-overflow: ellipsis;\n",
       "        }\n",
       "\n",
       "        .vex-description pre:hover {\n",
       "          max-width : initial;\n",
       "          white-space: pre;\n",
       "        }</style>"
      ],
      "text/plain": [
       "<IPython.core.display.HTML object>"
      ]
     },
     "metadata": {},
     "output_type": "display_data"
    },
    {
     "data": {
      "text/html": [
       "<div><h2>trips</h2> <b>rows</b>: 37,395,436</div><h2>Columns:</h2><table class='table-striped'><thead><tr><th>column</th><th>type</th><th>unit</th><th>description</th><th>expression</th></tr></thead><tr><td>Trip ID</td><td>str</td><td></td><td ><pre></pre></td><td></td></tr><tr><td>Taxi ID</td><td>str</td><td></td><td ><pre></pre></td><td></td></tr><tr><td>Trip Start Timestamp</td><td>str</td><td></td><td ><pre></pre></td><td></td></tr><tr><td>Trip End Timestamp</td><td>str</td><td></td><td ><pre></pre></td><td></td></tr><tr><td>Trip Seconds</td><td>float64</td><td></td><td ><pre></pre></td><td></td></tr><tr><td>Trip Miles</td><td>float64</td><td></td><td ><pre></pre></td><td></td></tr><tr><td>Pickup Census Tract</td><td>float64</td><td></td><td ><pre></pre></td><td></td></tr><tr><td>Dropoff Census Tract</td><td>float64</td><td></td><td ><pre></pre></td><td></td></tr><tr><td>Pickup Community Area</td><td>float64</td><td></td><td ><pre></pre></td><td></td></tr><tr><td>Dropoff Community Area</td><td>float64</td><td></td><td ><pre></pre></td><td></td></tr><tr><td>Fare</td><td>float64</td><td></td><td ><pre></pre></td><td></td></tr><tr><td>Tips</td><td>float64</td><td></td><td ><pre></pre></td><td></td></tr><tr><td>Tolls</td><td>float64</td><td></td><td ><pre></pre></td><td></td></tr><tr><td>Extras</td><td>float64</td><td></td><td ><pre></pre></td><td></td></tr><tr><td>Trip Total</td><td>float64</td><td></td><td ><pre></pre></td><td></td></tr><tr><td>Payment Type</td><td>str</td><td></td><td ><pre></pre></td><td></td></tr><tr><td>Company</td><td>str</td><td></td><td ><pre></pre></td><td></td></tr><tr><td>Pickup Centroid Latitude</td><td>float64</td><td></td><td ><pre></pre></td><td></td></tr><tr><td>Pickup Centroid Longitude</td><td>float64</td><td></td><td ><pre></pre></td><td></td></tr><tr><td>Pickup Centroid Location</td><td>str</td><td></td><td ><pre></pre></td><td></td></tr><tr><td>Dropoff Centroid Latitude</td><td>float64</td><td></td><td ><pre></pre></td><td></td></tr><tr><td>Dropoff Centroid Longitude</td><td>float64</td><td></td><td ><pre></pre></td><td></td></tr><tr><td>Dropoff Centroid  Location</td><td>str</td><td></td><td ><pre></pre></td><td></td></tr></table><h2>Data:</h2><table>\n",
       "<thead>\n",
       "<tr><th>#                                     </th><th>Trip ID                                 </th><th>Taxi ID                                            </th><th>Trip Start Timestamp  </th><th>Trip End Timestamp    </th><th>Trip Seconds  </th><th>Trip Miles  </th><th>Pickup Census Tract  </th><th>Dropoff Census Tract  </th><th>Pickup Community Area  </th><th>Dropoff Community Area  </th><th>Fare  </th><th>Tips  </th><th>Tolls  </th><th>Extras  </th><th>Trip Total  </th><th>Payment Type  </th><th>Company                          </th><th>Pickup Centroid Latitude  </th><th>Pickup Centroid Longitude  </th><th>Pickup Centroid Location            </th><th>Dropoff Centroid Latitude  </th><th>Dropoff Centroid Longitude  </th><th>Dropoff Centroid  Location              </th></tr>\n",
       "</thead>\n",
       "<tbody>\n",
       "<tr><td><i style='opacity: 0.6'>0</i>         </td><td>506646dd0685bd55094f1b7dfac97cf3b07b6126</td><td>&#x27;1099c684f9da1ac1d0dd253d394f1c8dad37bc1a53d944d...</td><td>05/17/2014 10:45:00 AM</td><td>05/17/2014 11:00:00 AM</td><td>1080.0        </td><td>7.0         </td><td>17031281900.0        </td><td>17031061100.0         </td><td>28.0                   </td><td>6.0                     </td><td>17.45 </td><td>0.0   </td><td>0.0    </td><td>1.5     </td><td>18.95       </td><td>Cash          </td><td>Taxi Affiliation Services        </td><td>41.879255084              </td><td>-87.642648998              </td><td>POINT (-87.642648998 41.8792550844) </td><td>41.949139771               </td><td>-87.656803909               </td><td>POINT (-87.6568039088 41.9491397709)    </td></tr>\n",
       "<tr><td><i style='opacity: 0.6'>1</i>         </td><td>1462669f59c3b5a1730e8a5f511a4102d1998c21</td><td>&#x27;379e0fd9da136cabc9eec3aca37047bbdee373ca2ef7a03...</td><td>04/17/2014 06:30:00 PM</td><td>04/17/2014 07:00:00 PM</td><td>1080.0        </td><td>3.0         </td><td>nan                  </td><td>17031841100.0         </td><td>nan                    </td><td>34.0                    </td><td>11.45 </td><td>0.0   </td><td>0.0    </td><td>1.0     </td><td>12.45       </td><td>Cash          </td><td>Taxi Affiliation Services        </td><td>nan                       </td><td>nan                        </td><td>--                                  </td><td>41.851017824               </td><td>-87.635091856               </td><td>POINT (-87.6350918563 41.8510178239)    </td></tr>\n",
       "<tr><td><i style='opacity: 0.6'>2</i>         </td><td>8d699aec32ce70e3647f7b06147001d3926975cc</td><td>&#x27;6768c7ebfdee8e7e7b3f5ec44739316241895aa2f7edf10...</td><td>05/03/2014 11:30:00 PM</td><td>05/03/2014 11:45:00 PM</td><td>720.0         </td><td>2.1         </td><td>17031081800.0        </td><td>17031081403.0         </td><td>8.0                    </td><td>8.0                     </td><td>8.45  </td><td>2.0   </td><td>0.0    </td><td>1.0     </td><td>11.45       </td><td>Credit Card   </td><td>Dispatch Taxi Affiliation        </td><td>41.89321636               </td><td>-87.63784421               </td><td>POINT (-87.6378442095 41.8932163595)</td><td>41.890922026               </td><td>-87.618868355               </td><td>POINT (-87.6188683546 41.8909220259)    </td></tr>\n",
       "<tr><td><i style='opacity: 0.6'>3</i>         </td><td>ae05f6f7a766b58b059f04c7549892da4dc3cf54</td><td>&#x27;7dc01f4be54a4058ffb81098be25f52c9f1249afc88e3ef...</td><td>05/17/2014 01:30:00 AM</td><td>05/17/2014 01:45:00 AM</td><td>480.0         </td><td>0.0         </td><td>17031071500.0        </td><td>17031062200.0         </td><td>7.0                    </td><td>6.0                     </td><td>7.85  </td><td>3.0   </td><td>0.0    </td><td>1.0     </td><td>11.85       </td><td>Credit Card   </td><td>Taxi Affiliation Services        </td><td>41.914616286              </td><td>-87.631717366              </td><td>POINT (-87.6317173661 41.9146162864)</td><td>41.94258518                </td><td>-87.656644092               </td><td>POINT (-87.6566440918 41.9425851797)    </td></tr>\n",
       "<tr><td><i style='opacity: 0.6'>4</i>         </td><td>b45b42620c3a926ea633b9115dc624a33dcf3b56</td><td>&#x27;9f87b11be025b5dcc55e9472b8c2158664c97d193cf15d9...</td><td>04/25/2014 02:30:00 PM</td><td>04/25/2014 02:30:00 PM</td><td>0.0           </td><td>0.0         </td><td>nan                  </td><td>nan                   </td><td>nan                    </td><td>nan                     </td><td>42.05 </td><td>7.0   </td><td>0.0    </td><td>0.0     </td><td>49.05       </td><td>Credit Card   </td><td>T.A.S. - Payment Only            </td><td>nan                       </td><td>nan                        </td><td>--                                  </td><td>nan                        </td><td>nan                         </td><td>--                                      </td></tr>\n",
       "<tr><td>...                                   </td><td>...                                     </td><td>...                                                </td><td>...                   </td><td>...                   </td><td>...           </td><td>...         </td><td>...                  </td><td>...                   </td><td>...                    </td><td>...                     </td><td>...   </td><td>...   </td><td>...    </td><td>...     </td><td>...         </td><td>...           </td><td>...                              </td><td>...                       </td><td>...                        </td><td>...                                 </td><td>...                        </td><td>...                         </td><td>...                                     </td></tr>\n",
       "<tr><td><i style='opacity: 0.6'>37,395,431</i></td><td>40aa131f22b63a5ca71d1eff4477500e6b875036</td><td>&#x27;8c244243c4123f4b467c2931cf59a691059a45302dc13e3...</td><td>04/03/2014 08:30:00 PM</td><td>04/03/2014 08:45:00 PM</td><td>900.0         </td><td>3.7         </td><td>nan                  </td><td>nan                   </td><td>6.0                    </td><td>24.0                    </td><td>11.25 </td><td>0.0   </td><td>0.0    </td><td>0.0     </td><td>11.25       </td><td>Cash          </td><td>Taxi Affiliation Services        </td><td>41.944226601              </td><td>-87.655998182              </td><td>POINT (-87.6559981815 41.9442266014)</td><td>41.901206994               </td><td>-87.676355989               </td><td>POINT (-87.6763559892 41.90120699410001)</td></tr>\n",
       "<tr><td><i style='opacity: 0.6'>37,395,432</i></td><td>0cd3c0015580380a89b2da5d4ed01016c0399e6a</td><td>&#x27;01480513a7f6f4664d6cc4c41ff3043ae6ecbc8cb17404f...</td><td>05/13/2014 11:30:00 PM</td><td>05/13/2014 11:45:00 PM</td><td>540.0         </td><td>0.0         </td><td>nan                  </td><td>nan                   </td><td>8.0                    </td><td>6.0                     </td><td>11.85 </td><td>3.55  </td><td>0.0    </td><td>0.0     </td><td>15.4        </td><td>Credit Card   </td><td>Blue Ribbon Taxi Association Inc.</td><td>41.899602111              </td><td>-87.633308037              </td><td>POINT (-87.6333080367 41.899602111) </td><td>41.944226601               </td><td>-87.655998182               </td><td>POINT (-87.6559981815 41.9442266014)    </td></tr>\n",
       "<tr><td><i style='opacity: 0.6'>37,395,433</i></td><td>d378e1b76a0de5844b9d50a719239bcf878da1fc</td><td>&#x27;fdeaab06ce15ad69658acbc0e591218ef6146a29ef21275...</td><td>05/14/2014 12:45:00 PM</td><td>05/14/2014 12:45:00 PM</td><td>240.0         </td><td>0.0         </td><td>17031839100.0        </td><td>17031833000.0         </td><td>32.0                   </td><td>28.0                    </td><td>5.25  </td><td>3.0   </td><td>0.0    </td><td>1.5     </td><td>9.75        </td><td>Credit Card   </td><td>Taxi Affiliation Services        </td><td>41.880994471              </td><td>-87.632746489              </td><td>POINT (-87.6327464887 41.8809944707)</td><td>41.88528132                </td><td>-87.6572332                 </td><td>POINT (-87.6572331997 41.8852813201)    </td></tr>\n",
       "<tr><td><i style='opacity: 0.6'>37,395,434</i></td><td>d64938a724961d6f2c0ae58932e78e3671784822</td><td>&#x27;a42edac48945c9dab13540adee09290f11b123a513580f2...</td><td>05/14/2014 12:15:00 PM</td><td>05/14/2014 12:15:00 PM</td><td>360.0         </td><td>0.0         </td><td>17031081202.0        </td><td>17031081300.0         </td><td>8.0                    </td><td>8.0                     </td><td>5.05  </td><td>0.0   </td><td>0.0    </td><td>0.0     </td><td>5.05        </td><td>Cash          </td><td>KOAM Taxi Association            </td><td>41.902788048              </td><td>-87.62614559               </td><td>POINT (-87.6261455896 41.9027880476)</td><td>41.898331794               </td><td>-87.620762865               </td><td>POINT (-87.6207628651 41.8983317935)    </td></tr>\n",
       "<tr><td><i style='opacity: 0.6'>37,395,435</i></td><td>ffa438bd0098e226eccd9867c2a134009a13c20d</td><td>&#x27;705cc88d7a216145f6c762aa705905a745a0c5f17e39aa1...</td><td>05/13/2014 11:30:00 PM</td><td>05/13/2014 11:45:00 PM</td><td>840.0         </td><td>3.2         </td><td>17031320100.0        </td><td>17031832600.0         </td><td>32.0                   </td><td>7.0                     </td><td>10.45 </td><td>2.25  </td><td>0.0    </td><td>1.0     </td><td>13.7        </td><td>Credit Card   </td><td>Dispatch Taxi Affiliation        </td><td>41.884987192              </td><td>-87.620992913              </td><td>POINT (-87.6209929134 41.8849871918)</td><td>41.914747305               </td><td>-87.654007029               </td><td>POINT (-87.6540070286 41.9147473049)    </td></tr>\n",
       "</tbody>\n",
       "</table>"
      ],
      "text/plain": [
       "<IPython.core.display.HTML object>"
      ]
     },
     "metadata": {},
     "output_type": "display_data"
    }
   ],
   "source": [
    "df_trips.info()"
   ]
  },
  {
   "attachments": {},
   "cell_type": "markdown",
   "metadata": {},
   "source": [
    "## Discretize Data"
   ]
  },
  {
   "attachments": {},
   "cell_type": "markdown",
   "metadata": {},
   "source": [
    "Temporal "
   ]
  },
  {
   "cell_type": "code",
   "execution_count": 5,
   "metadata": {},
   "outputs": [],
   "source": [
    "import numpy as np\n",
    "from datetime import datetime\n",
    "\n",
    "def convert_to_datetime(date_string):\n",
    "    return np.datetime64(datetime.strptime(str(date_string), \"%m/%d/%Y %I:%M:%S %p\"))\n",
    "\n",
    "df_trips['ts_start']  = df_trips[\"Trip Start Timestamp\"].apply(convert_to_datetime)"
   ]
  },
  {
   "cell_type": "code",
   "execution_count": 6,
   "metadata": {},
   "outputs": [],
   "source": [
    "# add hourly data including cyclical features for periodically occurring features (hours, days)\n",
    "# cyclical features are projected to a circle to ensure equal distances between hours or week days when the day or week changes (12 am -> 1 am or sunday -> monday)\n",
    "df_trips['ts_start_1_hour']     = df_trips['ts_start'].dt.hour\n",
    "df_trips['ts_start_1_hour_sin'] = np.sin(df_trips['ts_start_1_hour']*(2.*np.pi/24))\n",
    "df_trips['ts_start_1_hour_cos'] = np.cos(df_trips['ts_start_1_hour']*(2.*np.pi/24))\n",
    "df_trips['ts_start_4_hour']     = df_trips['ts_start'].dt.floor('4h').dt.hour\n",
    "df_trips['ts_start_4_hour_sin'] = np.sin(df_trips['ts_start_4_hour']*(2.*np.pi/6))\n",
    "df_trips['ts_start_4_hour_cos'] = np.cos(df_trips['ts_start_4_hour']*(2.*np.pi/6))\n",
    "df_trips['ts_start_6_hour']     = df_trips['ts_start'].dt.floor('6h').dt.hour\n",
    "df_trips['ts_start_6_hour_sin'] = np.sin(df_trips['ts_start_6_hour']*(2.*np.pi/4))\n",
    "df_trips['ts_start_6_hour_cos'] = np.cos(df_trips['ts_start_6_hour']*(2.*np.pi/4))\n",
    "\n",
    "df_trips['ts_start_day']       = df_trips['ts_start'].dt.date\n",
    "df_trips['start_weekday']      = df_trips['ts_start'].dt.dayofweek\n",
    "df_trips['start_weekday_sin']  = np.sin(df_trips['start_weekday']*(2.*np.pi/7))\n",
    "df_trips['start_weekday_cos']  = np.cos(df_trips['start_weekday']*(2.*np.pi/7))\n",
    "df_trips['start_month']        = df_trips['ts_start'].dt.month"
   ]
  },
  {
   "attachments": {},
   "cell_type": "markdown",
   "metadata": {},
   "source": [
    "Exemplary scatter plots of the cyclical features (ts_start_1_hour and start_weekday)"
   ]
  },
  {
   "cell_type": "code",
   "execution_count": 7,
   "metadata": {},
   "outputs": [
    {
     "data": {
      "text/plain": [
       "<matplotlib.collections.PathCollection at 0x1e600391990>"
      ]
     },
     "execution_count": 7,
     "metadata": {},
     "output_type": "execute_result"
    },
    {
     "data": {
      "image/png": "[encoded data removed]",
      "text/plain": [
       "<Figure size 640x480 with 1 Axes>"
      ]
     },
     "metadata": {},
     "output_type": "display_data"
    }
   ],
   "source": [
    "# exemplary plot of the cyclical feature of ts_start_1_hour\n",
    "df_trips[:5000].viz.scatter(df_trips['ts_start_1_hour_sin'], df_trips['ts_start_1_hour_cos']) "
   ]
  },
  {
   "cell_type": "code",
   "execution_count": 8,
   "metadata": {},
   "outputs": [
    {
     "data": {
      "text/plain": [
       "<matplotlib.collections.PathCollection at 0x1e602af1990>"
      ]
     },
     "execution_count": 8,
     "metadata": {},
     "output_type": "execute_result"
    },
    {
     "data": {
      "image/png": "[encoded data removed]",
      "text/plain": [
       "<Figure size 640x480 with 1 Axes>"
      ]
     },
     "metadata": {},
     "output_type": "display_data"
    }
   ],
   "source": [
    "# exemplary plot of the cyclical feature of start_weekday\n",
    "df_trips[:5000].viz.scatter(df_trips['start_weekday_sin'], df_trips['start_weekday_cos']) "
   ]
  },
  {
   "attachments": {},
   "cell_type": "markdown",
   "metadata": {},
   "source": [
    "Spatial"
   ]
  },
  {
   "cell_type": "code",
   "execution_count": 9,
   "metadata": {},
   "outputs": [],
   "source": [
    "import h3\n",
    "from shapely import Polygon \n",
    "\n",
    "# docu resolution https://h3geo.org/docs/core-library/restable/\n",
    "\n",
    "def convert_to_hex_id (lat, lon, resolution):\n",
    "        hex_id = h3.geo_to_h3(lat, lon, resolution)\n",
    "        return hex_id if hex_id != \"0\" else None\n",
    "\n",
    "def convert_hex_to_polygon(hex):\n",
    "        polygon = None\n",
    "        if hex:\n",
    "               polygon = Polygon(h3.h3_to_geo_boundary(hex, geo_json=True))         \n",
    "        return polygon\n"
   ]
  },
  {
   "cell_type": "code",
   "execution_count": 10,
   "metadata": {},
   "outputs": [],
   "source": [
    "# define multiple convert functions, since vaex_df.apply() only supports column arguments\n",
    "\n",
    "def convert_to_hex_id_7 (lat, lon):\n",
    "    return convert_to_hex_id (lat, lon, 7)\n",
    "def convert_to_hex_id_8 (lat, lon):\n",
    "    return convert_to_hex_id (lat, lon, 8)\n",
    "def convert_to_hex_id_9 (lat, lon):\n",
    "    return convert_to_hex_id (lat, lon, 9)\n"
   ]
  },
  {
   "cell_type": "code",
   "execution_count": 11,
   "metadata": {},
   "outputs": [],
   "source": [
    "df_trips['pickup_hex_7']  = df_trips.apply(convert_to_hex_id_7, arguments=[df_trips['Pickup Centroid Latitude'],  df_trips['Pickup Centroid Latitude']])\n",
    "df_trips['dropoff_hex_7'] = df_trips.apply(convert_to_hex_id_7, arguments=[df_trips['Dropoff Centroid Latitude'], df_trips['Dropoff Centroid Latitude']])\n",
    "df_trips['pickup_hex_8']  = df_trips.apply(convert_to_hex_id_8, arguments=[df_trips['Pickup Centroid Latitude'],  df_trips['Pickup Centroid Latitude']])\n",
    "df_trips['dropoff_hex_8'] = df_trips.apply(convert_to_hex_id_8, arguments=[df_trips['Dropoff Centroid Latitude'], df_trips['Dropoff Centroid Latitude']])\n",
    "df_trips['pickup_hex_9']  = df_trips.apply(convert_to_hex_id_9, arguments=[df_trips['Pickup Centroid Latitude'],  df_trips['Pickup Centroid Latitude']])\n",
    "df_trips['dropoff_hex_9'] = df_trips.apply(convert_to_hex_id_9, arguments=[df_trips['Dropoff Centroid Latitude'], df_trips['Dropoff Centroid Latitude']])"
   ]
  },
  {
   "cell_type": "code",
   "execution_count": 12,
   "metadata": {},
   "outputs": [],
   "source": [
    "df_trips['pickup_pol_7']  = df_trips['pickup_hex_7'].apply(convert_hex_to_polygon)\n",
    "df_trips['dropoff_pol_7'] = df_trips['dropoff_hex_7'].apply(convert_hex_to_polygon)\n",
    "df_trips['pickup_pol_8']  = df_trips['pickup_hex_8'].apply(convert_hex_to_polygon) \n",
    "df_trips['dropoff_pol_8'] = df_trips['dropoff_hex_8'].apply(convert_hex_to_polygon)\n",
    "df_trips['pickup_pol_9']  = df_trips['pickup_hex_9'].apply(convert_hex_to_polygon) \n",
    "df_trips['dropoff_pol_9'] = df_trips['dropoff_hex_9'].apply(convert_hex_to_polygon)"
   ]
  },
  {
   "attachments": {},
   "cell_type": "markdown",
   "metadata": {},
   "source": [
    "## Analysis of string attribute sizes, lengths etc. Encoding of string categorical values for further processing"
   ]
  },
  {
   "cell_type": "code",
   "execution_count": 14,
   "metadata": {},
   "outputs": [
    {
     "data": {
      "text/plain": [
       "7"
      ]
     },
     "execution_count": 14,
     "metadata": {},
     "output_type": "execute_result"
    }
   ],
   "source": [
    "len(df_trips['Payment Type'].unique())"
   ]
  },
  {
   "cell_type": "code",
   "execution_count": 15,
   "metadata": {},
   "outputs": [
    {
     "data": {
      "text/plain": [
       "['Dispute', 'Unknown', 'Prcard', 'Cash', 'Credit Card', 'Pcard', 'No Charge']"
      ]
     },
     "execution_count": 15,
     "metadata": {},
     "output_type": "execute_result"
    }
   ],
   "source": [
    "df_trips['Payment Type'].unique()"
   ]
  },
  {
   "cell_type": "code",
   "execution_count": 16,
   "metadata": {},
   "outputs": [
    {
     "data": {
      "text/plain": [
       "108"
      ]
     },
     "execution_count": 16,
     "metadata": {},
     "output_type": "execute_result"
    }
   ],
   "source": [
    "len(df_trips['Company'].unique())"
   ]
  },
  {
   "cell_type": "code",
   "execution_count": 17,
   "metadata": {},
   "outputs": [
    {
     "data": {
      "text/plain": [
       "['3556 - 36214 RC Andrews Cab',\n",
       " None,\n",
       " '3094 - G.L.B. Cab Co',\n",
       " '2823 - Seung Lee',\n",
       " '4787 - Reny Cab Co',\n",
       " '5074 - 54002 Ahzmi Inc',\n",
       " '3897 - 57856 Ilie Malec',\n",
       " '0118 - 42111 Godfrey S.Awir',\n",
       " '3253 - 91138 Gaither Cab Co.',\n",
       " 'Blue Ribbon Taxi Association Inc.',\n",
       " '585 - Valley Cab Co',\n",
       " '4732 - Maude Lamy',\n",
       " 'Blue Diamond',\n",
       " '3385 - Eman Cab',\n",
       " '4615 - 83503 Tyrone Henderson',\n",
       " 'Northwest Management LLC',\n",
       " '2733 - Benny Jona',\n",
       " '4053 - Adwar H. Nikola',\n",
       " '2192 - Zeymane Corp',\n",
       " '2767 - Sayed M Badri',\n",
       " '1408 - Donald Barnes',\n",
       " '4787 - 56058 Reny Cab Co',\n",
       " 'nan',\n",
       " 'Flash Cab',\n",
       " '3620 - David K. Cab Corp.',\n",
       " '6488 - Zuha Taxi',\n",
       " '4053 - 40193 Adwar H. Nikola',\n",
       " '6743 - 78771 Luhak Corp',\n",
       " 'Taxi Affiliation Services',\n",
       " 'Chicago Medallion Management',\n",
       " \"3591- 63480 Chuk's Cab\",\n",
       " 'Suburban Dispatch LLC',\n",
       " '1408 - 89599 Donald Barnes',\n",
       " '3385 - 23210  Eman Cab',\n",
       " 'Chicago Elite Cab Corp. (Chicago Carriag',\n",
       " '3623 - 72222 Arrington Enterprises',\n",
       " '0694 - 59280 Chinesco Trans Inc',\n",
       " '5874 - 73628 Sergey Cab Corp.',\n",
       " 'Yellow Cab',\n",
       " 'C & D Cab Co Inc',\n",
       " '2192 - 73487 Zeymane Corp',\n",
       " 'Choice Taxi Association',\n",
       " '5062 - Sam Mestas',\n",
       " '3253 - Gaither Cab Co.',\n",
       " '3152 - 97284 Crystal Abernathy',\n",
       " '3201 - C&D Cab Co Inc',\n",
       " '3669 - 85800 Jordan Taxi Inc',\n",
       " '5006 - Salifu Bawa',\n",
       " '5864 - Thomas Owusu',\n",
       " 'American United',\n",
       " 'Dispatch Taxi Affiliation',\n",
       " '2823 - 73307 Seung Lee',\n",
       " '4623 - Jay Kim',\n",
       " '2092 - 61288 Sbeih company',\n",
       " '3669 - Jordan Taxi Inc',\n",
       " '0118 - Godfrey S.Awir',\n",
       " '1085 - N and W Cab Co',\n",
       " '585 - 88805 Valley Cab Co',\n",
       " '5724 - 75306 KYVI Cab Inc',\n",
       " '0694 - Chinesco Trans Inc',\n",
       " '1247 - 72807 Daniel Ayertey',\n",
       " '5 Star Taxi',\n",
       " '3094 - 24059 G.L.B. Cab Co',\n",
       " '6057 - 24657 Richard Addo',\n",
       " '3897 - Ilie Malec',\n",
       " '4623 - 27290 Jay Kim',\n",
       " 'Top Cab Affiliation',\n",
       " '3141 - Zip Cab',\n",
       " 'DTA Test',\n",
       " '4197 - Royal Star',\n",
       " '4615 - Tyrone Henderson',\n",
       " '5874 - Sergey Cab Corp.',\n",
       " '2241 - Manuel Alonso',\n",
       " 'KOAM Taxi Association',\n",
       " '3385 - 23210 Eman Cab',\n",
       " '2241 - 44667 Manuel Alonso',\n",
       " 'Checker Taxi',\n",
       " '2092 - Sbeih company',\n",
       " '1085 - 72312 N and W Cab Co',\n",
       " \"3591- Chuk's Cab\",\n",
       " '3011 - 66308 JBL Cab Inc.',\n",
       " '5997 - 65283 AW Services Inc.',\n",
       " '6488 - 83287 Zuha Taxi',\n",
       " '6743 - Luhak Corp',\n",
       " '4197 - 41842 Royal Star',\n",
       " 'American United Cab Association',\n",
       " '5062 - 34841 Sam Mestas',\n",
       " '3011 - JBL Cab Inc.',\n",
       " '5006 - 39261 Salifu Bawa',\n",
       " '5997 - AW Services Inc.',\n",
       " '5724 - KYVI Cab Inc',\n",
       " '5129 - Mengisti Taxi',\n",
       " '3623-Arrington Enterprises',\n",
       " '3620 - 52292 David K. Cab Corp.',\n",
       " '5724 - 72965 KYVI Cab Inc',\n",
       " '5864 - 73614 Thomas Owusu',\n",
       " 'Park Ridge Taxi and Livery',\n",
       " '1247 - Daniel Ayertey',\n",
       " '5437 - Great American Cab Co',\n",
       " '5074 - Ahzmi Inc',\n",
       " 'Chicago Elite Cab Corp.',\n",
       " '3385 -  Eman Cab',\n",
       " '3556 - RC Andrews Cab',\n",
       " 'T.A.S. - Payment Only',\n",
       " '2733 - 74600 Benny Jona',\n",
       " '0118 - Godfray S.Awir',\n",
       " '3152 - Crystal Abernathy',\n",
       " '5129 - 98755 Mengisti Taxi']"
      ]
     },
     "execution_count": 17,
     "metadata": {},
     "output_type": "execute_result"
    }
   ],
   "source": [
    "df_trips['Company'].unique()"
   ]
  },
  {
   "cell_type": "code",
   "execution_count": 18,
   "metadata": {},
   "outputs": [
    {
     "data": {
      "text/plain": [
       "7781"
      ]
     },
     "execution_count": 18,
     "metadata": {},
     "output_type": "execute_result"
    }
   ],
   "source": [
    "len(df_trips['Taxi ID'].unique())"
   ]
  },
  {
   "cell_type": "code",
   "execution_count": 19,
   "metadata": {},
   "outputs": [
    {
     "data": {
      "text/plain": [
       "array(127.99877803)"
      ]
     },
     "execution_count": 19,
     "metadata": {},
     "output_type": "execute_result"
    }
   ],
   "source": [
    "df_trips['Taxi ID'].apply(lambda x : len(x) if x != None else 0).mean()"
   ]
  },
  {
   "attachments": {},
   "cell_type": "markdown",
   "metadata": {},
   "source": [
    "Encode string columns"
   ]
  },
  {
   "cell_type": "code",
   "execution_count": 20,
   "metadata": {},
   "outputs": [],
   "source": [
    "def generate_encoding_dict(df, column):\n",
    "    # get categories to encode\n",
    "    categories = df[column].unique()\n",
    "    # generate output the categories are mapped to -> using a simple integer mapping \n",
    "    output = range(len(categories))\n",
    "    # combine categories and output\n",
    "    encoding_dict = dict(zip(categories, output))\n",
    "    return encoding_dict"
   ]
  },
  {
   "cell_type": "code",
   "execution_count": 21,
   "metadata": {},
   "outputs": [],
   "source": [
    "df_trips['Payment Type_encoded'] = df_trips['Payment Type'].map(generate_encoding_dict(df_trips, 'Payment Type'))\n",
    "df_trips['Company_encoded']      = df_trips['Company'].map(generate_encoding_dict(df_trips, 'Company'))\n",
    "df_trips['Taxi ID_encoded']      = df_trips['Taxi ID'].map(generate_encoding_dict(df_trips, 'Taxi ID'))"
   ]
  },
  {
   "cell_type": "code",
   "execution_count": 22,
   "metadata": {},
   "outputs": [],
   "source": [
    "def transpose_category(df, column_name, category):\n",
    "    df[column_name + '_' + category] = df[column_name].apply(lambda x: 1 if x == category else 0)"
   ]
  },
  {
   "cell_type": "code",
   "execution_count": 23,
   "metadata": {},
   "outputs": [],
   "source": [
    "categories = df_trips['Payment Type'].unique()\n",
    "for category in categories:\n",
    "    transpose_category(df_trips, 'Payment Type', category)"
   ]
  },
  {
   "cell_type": "code",
   "execution_count": 24,
   "metadata": {},
   "outputs": [
    {
     "data": {
      "text/html": [
       "<table>\n",
       "<thead>\n",
       "<tr><th>#                                     </th><th>Trip ID                                 </th><th>Taxi ID                                            </th><th>Trip Start Timestamp  </th><th>Trip End Timestamp    </th><th>Trip Seconds  </th><th>Trip Miles  </th><th>Pickup Census Tract  </th><th>Dropoff Census Tract  </th><th>Pickup Community Area  </th><th>Dropoff Community Area  </th><th>Fare  </th><th>Tips  </th><th>Tolls  </th><th>Extras  </th><th>Trip Total  </th><th>Payment Type  </th><th>Company                          </th><th>Pickup Centroid Latitude  </th><th>Pickup Centroid Longitude  </th><th>Pickup Centroid Location            </th><th>Dropoff Centroid Latitude  </th><th>Dropoff Centroid Longitude  </th><th>Dropoff Centroid  Location              </th><th>ts_start                  </th><th>ts_start_1_hour  </th><th>ts_start_1_hour_sin   </th><th>ts_start_1_hour_cos    </th><th>ts_start_4_hour  </th><th>ts_start_4_hour_sin   </th><th>ts_start_4_hour_cos  </th><th>ts_start_6_hour  </th><th>ts_start_6_hour_sin   </th><th>ts_start_6_hour_cos  </th><th>ts_start_day  </th><th>start_weekday  </th><th>start_weekday_sin  </th><th>start_weekday_cos   </th><th>start_month  </th><th>pickup_hex_7   </th><th>dropoff_hex_7  </th><th>pickup_hex_8   </th><th>dropoff_hex_8  </th><th>pickup_hex_9   </th><th>dropoff_hex_9  </th><th>pickup_pol_7                                       </th><th>dropoff_pol_7                                      </th><th>pickup_pol_8                                       </th><th>dropoff_pol_8                                      </th><th>pickup_pol_9                                       </th><th>dropoff_pol_9                                      </th><th>Payment Type_encoded  </th><th>Company_encoded  </th><th>Taxi ID_encoded  </th><th>Payment Type_Dispute  </th><th>Payment Type_Unknown  </th><th>Payment Type_Prcard  </th><th>Payment Type_Cash  </th><th>Payment Type_Credit Card  </th><th>Payment Type_Pcard  </th><th>Payment Type_No Charge  </th></tr>\n",
       "</thead>\n",
       "<tbody>\n",
       "<tr><td><i style='opacity: 0.6'>0</i>         </td><td>506646dd0685bd55094f1b7dfac97cf3b07b6126</td><td>&#x27;1099c684f9da1ac1d0dd253d394f1c8dad37bc1a53d944d...</td><td>05/17/2014 10:45:00 AM</td><td>05/17/2014 11:00:00 AM</td><td>1080.0        </td><td>7.0         </td><td>17031281900.0        </td><td>17031061100.0         </td><td>28.0                   </td><td>6.0                     </td><td>17.45 </td><td>0.0   </td><td>0.0    </td><td>1.5     </td><td>18.95       </td><td>Cash          </td><td>Taxi Affiliation Services        </td><td>41.879255084              </td><td>-87.642648998              </td><td>POINT (-87.642648998 41.8792550844) </td><td>41.949139771               </td><td>-87.656803909               </td><td>POINT (-87.6568039088 41.9491397709)    </td><td>2014-05-17 10:45:00.000000</td><td>10               </td><td>0.5000000000000003    </td><td>-0.8660254037844385    </td><td>8                </td><td>0.8660254037844392    </td><td>-0.4999999999999992  </td><td>6                </td><td>3.6739403974420594e-16</td><td>-1.0                 </td><td>2014-05-17    </td><td>5              </td><td>-0.9749279121818236</td><td>-0.2225209339563146 </td><td>5            </td><td>872c21191ffffff</td><td>872c2118bffffff</td><td>882c211913fffff</td><td>882c2118bbfffff</td><td>892c211913bffff</td><td>892c2118ba3ffff</td><td>&#x27;&lt;POLYGON ((41.859 41.887, 41.856 41.875, 41.869...</td><td>&#x27;&lt;POLYGON ((41.936 41.95, 41.933 41.937, 41.945 ...</td><td>&#x27;&lt;POLYGON ((41.878 41.886, 41.875 41.882, 41.878...</td><td>&#x27;&lt;POLYGON ((41.946 41.953, 41.942 41.949, 41.946...</td><td>&#x27;&lt;POLYGON ((41.877 41.881, 41.876 41.879, 41.878...</td><td>&#x27;&lt;POLYGON ((41.947 41.95, 41.947 41.948, 41.948 ...</td><td>3                     </td><td>28               </td><td>338              </td><td>0                     </td><td>0                     </td><td>0                    </td><td>1                  </td><td>0                         </td><td>0                   </td><td>0                       </td></tr>\n",
       "<tr><td><i style='opacity: 0.6'>1</i>         </td><td>1462669f59c3b5a1730e8a5f511a4102d1998c21</td><td>&#x27;379e0fd9da136cabc9eec3aca37047bbdee373ca2ef7a03...</td><td>04/17/2014 06:30:00 PM</td><td>04/17/2014 07:00:00 PM</td><td>1080.0        </td><td>3.0         </td><td>nan                  </td><td>17031841100.0         </td><td>nan                    </td><td>34.0                    </td><td>11.45 </td><td>0.0   </td><td>0.0    </td><td>1.0     </td><td>12.45       </td><td>Cash          </td><td>Taxi Affiliation Services        </td><td>nan                       </td><td>nan                        </td><td>--                                  </td><td>41.851017824               </td><td>-87.635091856               </td><td>POINT (-87.6350918563 41.8510178239)    </td><td>2014-04-17 18:30:00.000000</td><td>18               </td><td>-1.0                  </td><td>-1.8369701987210297e-16</td><td>16               </td><td>-0.8660254037844377   </td><td>-0.5000000000000016  </td><td>18               </td><td>1.102182119232618e-15 </td><td>-1.0                 </td><td>2014-04-17    </td><td>3              </td><td>0.43388373911755823</td><td>-0.900968867902419  </td><td>4            </td><td>None           </td><td>872c21190ffffff</td><td>None           </td><td>882c211905fffff</td><td>None           </td><td>892c211905bffff</td><td>None                                               </td><td>&#x27;&lt;POLYGON ((41.84 41.871, 41.837 41.859, 41.849 ...</td><td>None                                               </td><td>&#x27;&lt;POLYGON ((41.85 41.858, 41.846 41.854, 41.849 ...</td><td>None                                               </td><td>&#x27;&lt;POLYGON ((41.848 41.853, 41.848 41.851, 41.849...</td><td>3                     </td><td>28               </td><td>4709             </td><td>0                     </td><td>0                     </td><td>0                    </td><td>1                  </td><td>0                         </td><td>0                   </td><td>0                       </td></tr>\n",
       "<tr><td><i style='opacity: 0.6'>2</i>         </td><td>8d699aec32ce70e3647f7b06147001d3926975cc</td><td>&#x27;6768c7ebfdee8e7e7b3f5ec44739316241895aa2f7edf10...</td><td>05/03/2014 11:30:00 PM</td><td>05/03/2014 11:45:00 PM</td><td>720.0         </td><td>2.1         </td><td>17031081800.0        </td><td>17031081403.0         </td><td>8.0                    </td><td>8.0                     </td><td>8.45  </td><td>2.0   </td><td>0.0    </td><td>1.0     </td><td>11.45       </td><td>Credit Card   </td><td>Dispatch Taxi Affiliation        </td><td>41.89321636               </td><td>-87.63784421               </td><td>POINT (-87.6378442095 41.8932163595)</td><td>41.890922026               </td><td>-87.618868355               </td><td>POINT (-87.6188683546 41.8909220259)    </td><td>2014-05-03 23:30:00.000000</td><td>23               </td><td>-0.25881904510252157  </td><td>0.9659258262890681     </td><td>20               </td><td>0.8660254037844403    </td><td>-0.4999999999999972  </td><td>18               </td><td>1.102182119232618e-15 </td><td>-1.0                 </td><td>2014-05-03    </td><td>5              </td><td>-0.9749279121818236</td><td>-0.2225209339563146 </td><td>5            </td><td>872c2119cffffff</td><td>872c2119cffffff</td><td>882c2119c1fffff</td><td>882c2119c1fffff</td><td>892c2119c0fffff</td><td>892c2119c0bffff</td><td>&#x27;&lt;POLYGON ((41.879 41.903, 41.875 41.89, 41.888 ...</td><td>&#x27;&lt;POLYGON ((41.879 41.903, 41.875 41.89, 41.888 ...</td><td>&#x27;&lt;POLYGON ((41.888 41.898, 41.885 41.894, 41.888...</td><td>&#x27;&lt;POLYGON ((41.888 41.898, 41.885 41.894, 41.888...</td><td>&#x27;&lt;POLYGON ((41.893 41.894, 41.893 41.892, 41.895...</td><td>&#x27;&lt;POLYGON ((41.891 41.892, 41.89 41.89, 41.892 4...</td><td>4                     </td><td>50               </td><td>1596             </td><td>0                     </td><td>0                     </td><td>0                    </td><td>0                  </td><td>1                         </td><td>0                   </td><td>0                       </td></tr>\n",
       "<tr><td><i style='opacity: 0.6'>3</i>         </td><td>ae05f6f7a766b58b059f04c7549892da4dc3cf54</td><td>&#x27;7dc01f4be54a4058ffb81098be25f52c9f1249afc88e3ef...</td><td>05/17/2014 01:30:00 AM</td><td>05/17/2014 01:45:00 AM</td><td>480.0         </td><td>0.0         </td><td>17031071500.0        </td><td>17031062200.0         </td><td>7.0                    </td><td>6.0                     </td><td>7.85  </td><td>3.0   </td><td>0.0    </td><td>1.0     </td><td>11.85       </td><td>Credit Card   </td><td>Taxi Affiliation Services        </td><td>41.914616286              </td><td>-87.631717366              </td><td>POINT (-87.6317173661 41.9146162864)</td><td>41.94258518                </td><td>-87.656644092               </td><td>POINT (-87.6566440918 41.9425851797)    </td><td>2014-05-17 01:30:00.000000</td><td>1                </td><td>0.25881904510252074   </td><td>0.9659258262890683     </td><td>0                </td><td>0.0                   </td><td>1.0                  </td><td>0                </td><td>0.0                   </td><td>1.0                  </td><td>2014-05-17    </td><td>5              </td><td>-0.9749279121818236</td><td>-0.2225209339563146 </td><td>5            </td><td>872c2119dffffff</td><td>872c2118bffffff</td><td>882c2119d3fffff</td><td>882c2118b9fffff</td><td>892c2119d33ffff</td><td>892c2118b8bffff</td><td>&#x27;&lt;POLYGON ((41.898 41.918, 41.894 41.906, 41.907...</td><td>&#x27;&lt;POLYGON ((41.936 41.95, 41.933 41.937, 41.945 ...</td><td>&#x27;&lt;POLYGON ((41.917 41.917, 41.914 41.913, 41.917...</td><td>&#x27;&lt;POLYGON ((41.936 41.95, 41.933 41.946, 41.936 ...</td><td>&#x27;&lt;POLYGON ((41.914 41.915, 41.914 41.913, 41.915...</td><td>&#x27;&lt;POLYGON ((41.939 41.944, 41.938 41.942, 41.94 ...</td><td>4                     </td><td>28               </td><td>6881             </td><td>0                     </td><td>0                     </td><td>0                    </td><td>0                  </td><td>1                         </td><td>0                   </td><td>0                       </td></tr>\n",
       "<tr><td><i style='opacity: 0.6'>4</i>         </td><td>b45b42620c3a926ea633b9115dc624a33dcf3b56</td><td>&#x27;9f87b11be025b5dcc55e9472b8c2158664c97d193cf15d9...</td><td>04/25/2014 02:30:00 PM</td><td>04/25/2014 02:30:00 PM</td><td>0.0           </td><td>0.0         </td><td>nan                  </td><td>nan                   </td><td>nan                    </td><td>nan                     </td><td>42.05 </td><td>7.0   </td><td>0.0    </td><td>0.0     </td><td>49.05       </td><td>Credit Card   </td><td>T.A.S. - Payment Only            </td><td>nan                       </td><td>nan                        </td><td>--                                  </td><td>nan                        </td><td>nan                         </td><td>--                                      </td><td>2014-04-25 14:30:00.000000</td><td>14               </td><td>-0.4999999999999997   </td><td>-0.8660254037844388    </td><td>12               </td><td>-4.898587196589413e-16</td><td>1.0                  </td><td>12               </td><td>-7.347880794884119e-16</td><td>1.0                  </td><td>2014-04-25    </td><td>4              </td><td>-0.433883739117558 </td><td>-0.9009688679024191 </td><td>4            </td><td>None           </td><td>None           </td><td>None           </td><td>None           </td><td>None           </td><td>None           </td><td>None                                               </td><td>None                                               </td><td>None                                               </td><td>None                                               </td><td>None                                               </td><td>None                                               </td><td>4                     </td><td>103              </td><td>1980             </td><td>0                     </td><td>0                     </td><td>0                    </td><td>0                  </td><td>1                         </td><td>0                   </td><td>0                       </td></tr>\n",
       "<tr><td>...                                   </td><td>...                                     </td><td>...                                                </td><td>...                   </td><td>...                   </td><td>...           </td><td>...         </td><td>...                  </td><td>...                   </td><td>...                    </td><td>...                     </td><td>...   </td><td>...   </td><td>...    </td><td>...     </td><td>...         </td><td>...           </td><td>...                              </td><td>...                       </td><td>...                        </td><td>...                                 </td><td>...                        </td><td>...                         </td><td>...                                     </td><td>...                       </td><td>...              </td><td>...                   </td><td>...                    </td><td>...              </td><td>...                   </td><td>...                  </td><td>...              </td><td>...                   </td><td>...                  </td><td>...           </td><td>...            </td><td>...                </td><td>...                 </td><td>...          </td><td>...            </td><td>...            </td><td>...            </td><td>...            </td><td>...            </td><td>...            </td><td>...                                                </td><td>...                                                </td><td>...                                                </td><td>...                                                </td><td>...                                                </td><td>...                                                </td><td>...                   </td><td>...              </td><td>...              </td><td>...                   </td><td>...                   </td><td>...                  </td><td>...                </td><td>...                       </td><td>...                 </td><td>...                     </td></tr>\n",
       "<tr><td><i style='opacity: 0.6'>37,395,431</i></td><td>40aa131f22b63a5ca71d1eff4477500e6b875036</td><td>&#x27;8c244243c4123f4b467c2931cf59a691059a45302dc13e3...</td><td>04/03/2014 08:30:00 PM</td><td>04/03/2014 08:45:00 PM</td><td>900.0         </td><td>3.7         </td><td>nan                  </td><td>nan                   </td><td>6.0                    </td><td>24.0                    </td><td>11.25 </td><td>0.0   </td><td>0.0    </td><td>0.0     </td><td>11.25       </td><td>Cash          </td><td>Taxi Affiliation Services        </td><td>41.944226601              </td><td>-87.655998182              </td><td>POINT (-87.6559981815 41.9442266014)</td><td>41.901206994               </td><td>-87.676355989               </td><td>POINT (-87.6763559892 41.90120699410001)</td><td>2014-04-03 20:30:00.000000</td><td>20               </td><td>-0.866025403784439    </td><td>0.49999999999999933    </td><td>20               </td><td>0.8660254037844403    </td><td>-0.4999999999999972  </td><td>18               </td><td>1.102182119232618e-15 </td><td>-1.0                 </td><td>2014-04-03    </td><td>3              </td><td>0.43388373911755823</td><td>-0.900968867902419  </td><td>4            </td><td>872c2118bffffff</td><td>872c2119dffffff</td><td>882c2118b9fffff</td><td>882c2119c3fffff</td><td>892c2118b8fffff</td><td>892c2119dcbffff</td><td>&#x27;&lt;POLYGON ((41.936 41.95, 41.933 41.937, 41.945 ...</td><td>&#x27;&lt;POLYGON ((41.898 41.918, 41.894 41.906, 41.907...</td><td>&#x27;&lt;POLYGON ((41.936 41.95, 41.933 41.946, 41.936 ...</td><td>&#x27;&lt;POLYGON ((41.898 41.902, 41.894 41.898, 41.897...</td><td>&#x27;&lt;POLYGON ((41.941 41.946, 41.941 41.944, 41.943...</td><td>&#x27;&lt;POLYGON ((41.9 41.904, 41.9 41.902, 41.902 41....</td><td>3                     </td><td>28               </td><td>1789             </td><td>0                     </td><td>0                     </td><td>0                    </td><td>1                  </td><td>0                         </td><td>0                   </td><td>0                       </td></tr>\n",
       "<tr><td><i style='opacity: 0.6'>37,395,432</i></td><td>0cd3c0015580380a89b2da5d4ed01016c0399e6a</td><td>&#x27;01480513a7f6f4664d6cc4c41ff3043ae6ecbc8cb17404f...</td><td>05/13/2014 11:30:00 PM</td><td>05/13/2014 11:45:00 PM</td><td>540.0         </td><td>0.0         </td><td>nan                  </td><td>nan                   </td><td>8.0                    </td><td>6.0                     </td><td>11.85 </td><td>3.55  </td><td>0.0    </td><td>0.0     </td><td>15.4        </td><td>Credit Card   </td><td>Blue Ribbon Taxi Association Inc.</td><td>41.899602111              </td><td>-87.633308037              </td><td>POINT (-87.6333080367 41.899602111) </td><td>41.944226601               </td><td>-87.655998182               </td><td>POINT (-87.6559981815 41.9442266014)    </td><td>2014-05-13 23:30:00.000000</td><td>23               </td><td>-0.25881904510252157  </td><td>0.9659258262890681     </td><td>20               </td><td>0.8660254037844403    </td><td>-0.4999999999999972  </td><td>18               </td><td>1.102182119232618e-15 </td><td>-1.0                 </td><td>2014-05-13    </td><td>1              </td><td>0.7818314824680298 </td><td>0.6234898018587336  </td><td>5            </td><td>872c2119cffffff</td><td>872c2118bffffff</td><td>882c2119c3fffff</td><td>882c2118b9fffff</td><td>892c2119c37ffff</td><td>892c2118b8fffff</td><td>&#x27;&lt;POLYGON ((41.879 41.903, 41.875 41.89, 41.888 ...</td><td>&#x27;&lt;POLYGON ((41.936 41.95, 41.933 41.937, 41.945 ...</td><td>&#x27;&lt;POLYGON ((41.898 41.902, 41.894 41.898, 41.897...</td><td>&#x27;&lt;POLYGON ((41.936 41.95, 41.933 41.946, 41.936 ...</td><td>&#x27;&lt;POLYGON ((41.898 41.902, 41.897 41.9, 41.899 4...</td><td>&#x27;&lt;POLYGON ((41.941 41.946, 41.941 41.944, 41.943...</td><td>4                     </td><td>9                </td><td>1021             </td><td>0                     </td><td>0                     </td><td>0                    </td><td>0                  </td><td>1                         </td><td>0                   </td><td>0                       </td></tr>\n",
       "<tr><td><i style='opacity: 0.6'>37,395,433</i></td><td>d378e1b76a0de5844b9d50a719239bcf878da1fc</td><td>&#x27;fdeaab06ce15ad69658acbc0e591218ef6146a29ef21275...</td><td>05/14/2014 12:45:00 PM</td><td>05/14/2014 12:45:00 PM</td><td>240.0         </td><td>0.0         </td><td>17031839100.0        </td><td>17031833000.0         </td><td>32.0                   </td><td>28.0                    </td><td>5.25  </td><td>3.0   </td><td>0.0    </td><td>1.5     </td><td>9.75        </td><td>Credit Card   </td><td>Taxi Affiliation Services        </td><td>41.880994471              </td><td>-87.632746489              </td><td>POINT (-87.6327464887 41.8809944707)</td><td>41.88528132                </td><td>-87.6572332                 </td><td>POINT (-87.6572331997 41.8852813201)    </td><td>2014-05-14 12:45:00.000000</td><td>12               </td><td>1.2246467991473532e-16</td><td>-1.0                   </td><td>12               </td><td>-4.898587196589413e-16</td><td>1.0                  </td><td>12               </td><td>-7.347880794884119e-16</td><td>1.0                  </td><td>2014-05-14    </td><td>2              </td><td>0.9749279121818236 </td><td>-0.22252093395631434</td><td>5            </td><td>872c21191ffffff</td><td>872c2119cffffff</td><td>882c211913fffff</td><td>882c2119c5fffff</td><td>892c2119123ffff</td><td>892c2119c53ffff</td><td>&#x27;&lt;POLYGON ((41.859 41.887, 41.856 41.875, 41.869...</td><td>&#x27;&lt;POLYGON ((41.879 41.903, 41.875 41.89, 41.888 ...</td><td>&#x27;&lt;POLYGON ((41.878 41.886, 41.875 41.882, 41.878...</td><td>&#x27;&lt;POLYGON ((41.888 41.89, 41.885 41.886, 41.888 ...</td><td>&#x27;&lt;POLYGON ((41.88 41.883, 41.879 41.881, 41.881 ...</td><td>&#x27;&lt;POLYGON ((41.885 41.887, 41.885 41.886, 41.887...</td><td>4                     </td><td>28               </td><td>1039             </td><td>0                     </td><td>0                     </td><td>0                    </td><td>0                  </td><td>1                         </td><td>0                   </td><td>0                       </td></tr>\n",
       "<tr><td><i style='opacity: 0.6'>37,395,434</i></td><td>d64938a724961d6f2c0ae58932e78e3671784822</td><td>&#x27;a42edac48945c9dab13540adee09290f11b123a513580f2...</td><td>05/14/2014 12:15:00 PM</td><td>05/14/2014 12:15:00 PM</td><td>360.0         </td><td>0.0         </td><td>17031081202.0        </td><td>17031081300.0         </td><td>8.0                    </td><td>8.0                     </td><td>5.05  </td><td>0.0   </td><td>0.0    </td><td>0.0     </td><td>5.05        </td><td>Cash          </td><td>KOAM Taxi Association            </td><td>41.902788048              </td><td>-87.62614559               </td><td>POINT (-87.6261455896 41.9027880476)</td><td>41.898331794               </td><td>-87.620762865               </td><td>POINT (-87.6207628651 41.8983317935)    </td><td>2014-05-14 12:15:00.000000</td><td>12               </td><td>1.2246467991473532e-16</td><td>-1.0                   </td><td>12               </td><td>-4.898587196589413e-16</td><td>1.0                  </td><td>12               </td><td>-7.347880794884119e-16</td><td>1.0                  </td><td>2014-05-14    </td><td>2              </td><td>0.9749279121818236 </td><td>-0.22252093395631434</td><td>5            </td><td>872c2119dffffff</td><td>872c2119cffffff</td><td>882c2119ddfffff</td><td>882c2119c3fffff</td><td>892c2119dcbffff</td><td>892c2119c33ffff</td><td>&#x27;&lt;POLYGON ((41.898 41.918, 41.894 41.906, 41.907...</td><td>&#x27;&lt;POLYGON ((41.879 41.903, 41.875 41.89, 41.888 ...</td><td>&#x27;&lt;POLYGON ((41.898 41.91, 41.894 41.906, 41.898 ...</td><td>&#x27;&lt;POLYGON ((41.898 41.902, 41.894 41.898, 41.897...</td><td>&#x27;&lt;POLYGON ((41.9 41.904, 41.9 41.902, 41.902 41....</td><td>&#x27;&lt;POLYGON ((41.895 41.899, 41.894 41.898, 41.896...</td><td>3                     </td><td>73               </td><td>6134             </td><td>0                     </td><td>0                     </td><td>0                    </td><td>1                  </td><td>0                         </td><td>0                   </td><td>0                       </td></tr>\n",
       "<tr><td><i style='opacity: 0.6'>37,395,435</i></td><td>ffa438bd0098e226eccd9867c2a134009a13c20d</td><td>&#x27;705cc88d7a216145f6c762aa705905a745a0c5f17e39aa1...</td><td>05/13/2014 11:30:00 PM</td><td>05/13/2014 11:45:00 PM</td><td>840.0         </td><td>3.2         </td><td>17031320100.0        </td><td>17031832600.0         </td><td>32.0                   </td><td>7.0                     </td><td>10.45 </td><td>2.25  </td><td>0.0    </td><td>1.0     </td><td>13.7        </td><td>Credit Card   </td><td>Dispatch Taxi Affiliation        </td><td>41.884987192              </td><td>-87.620992913              </td><td>POINT (-87.6209929134 41.8849871918)</td><td>41.914747305               </td><td>-87.654007029               </td><td>POINT (-87.6540070286 41.9147473049)    </td><td>2014-05-13 23:30:00.000000</td><td>23               </td><td>-0.25881904510252157  </td><td>0.9659258262890681     </td><td>20               </td><td>0.8660254037844403    </td><td>-0.4999999999999972  </td><td>18               </td><td>1.102182119232618e-15 </td><td>-1.0                 </td><td>2014-05-13    </td><td>1              </td><td>0.7818314824680298 </td><td>0.6234898018587336  </td><td>5            </td><td>872c2119cffffff</td><td>872c2119dffffff</td><td>882c211913fffff</td><td>882c2119d3fffff</td><td>892c2119127ffff</td><td>892c2119d33ffff</td><td>&#x27;&lt;POLYGON ((41.879 41.903, 41.875 41.89, 41.888 ...</td><td>&#x27;&lt;POLYGON ((41.898 41.918, 41.894 41.906, 41.907...</td><td>&#x27;&lt;POLYGON ((41.878 41.886, 41.875 41.882, 41.878...</td><td>&#x27;&lt;POLYGON ((41.917 41.917, 41.914 41.913, 41.917...</td><td>&#x27;&lt;POLYGON ((41.882 41.885, 41.882 41.883, 41.884...</td><td>&#x27;&lt;POLYGON ((41.914 41.915, 41.914 41.913, 41.915...</td><td>4                     </td><td>50               </td><td>7565             </td><td>0                     </td><td>0                     </td><td>0                    </td><td>0                  </td><td>1                         </td><td>0                   </td><td>0                       </td></tr>\n",
       "</tbody>\n",
       "</table>"
      ],
      "text/plain": [
       "#           Trip ID                                   Taxi ID                                              Trip Start Timestamp    Trip End Timestamp      Trip Seconds    Trip Miles    Pickup Census Tract    Dropoff Census Tract    Pickup Community Area    Dropoff Community Area    Fare    Tips    Tolls    Extras    Trip Total    Payment Type    Company                            Pickup Centroid Latitude    Pickup Centroid Longitude    Pickup Centroid Location              Dropoff Centroid Latitude    Dropoff Centroid Longitude    Dropoff Centroid  Location                ts_start                    ts_start_1_hour    ts_start_1_hour_sin     ts_start_1_hour_cos      ts_start_4_hour    ts_start_4_hour_sin     ts_start_4_hour_cos    ts_start_6_hour    ts_start_6_hour_sin     ts_start_6_hour_cos    ts_start_day    start_weekday    start_weekday_sin    start_weekday_cos     start_month    pickup_hex_7     dropoff_hex_7    pickup_hex_8     dropoff_hex_8    pickup_hex_9     dropoff_hex_9    pickup_pol_7                                         dropoff_pol_7                                        pickup_pol_8                                         dropoff_pol_8                                        pickup_pol_9                                         dropoff_pol_9                                        Payment Type_encoded    Company_encoded    Taxi ID_encoded    Payment Type_Dispute    Payment Type_Unknown    Payment Type_Prcard    Payment Type_Cash    Payment Type_Credit Card    Payment Type_Pcard    Payment Type_No Charge\n",
       "0           506646dd0685bd55094f1b7dfac97cf3b07b6126  '1099c684f9da1ac1d0dd253d394f1c8dad37bc1a53d944d...  05/17/2014 10:45:00 AM  05/17/2014 11:00:00 AM  1080.0          7.0           17031281900.0          17031061100.0           28.0                     6.0                       17.45   0.0     0.0      1.5       18.95         Cash            Taxi Affiliation Services          41.879255084                -87.642648998                POINT (-87.642648998 41.8792550844)   41.949139771                 -87.656803909                 POINT (-87.6568039088 41.9491397709)      2014-05-17 10:45:00.000000  10                 0.5000000000000003      -0.8660254037844385      8                  0.8660254037844392      -0.4999999999999992    6                  3.6739403974420594e-16  -1.0                   2014-05-17      5                -0.9749279121818236  -0.2225209339563146   5              872c21191ffffff  872c2118bffffff  882c211913fffff  882c2118bbfffff  892c211913bffff  892c2118ba3ffff  '<POLYGON ((41.859 41.887, 41.856 41.875, 41.869...  '<POLYGON ((41.936 41.95, 41.933 41.937, 41.945 ...  '<POLYGON ((41.878 41.886, 41.875 41.882, 41.878...  '<POLYGON ((41.946 41.953, 41.942 41.949, 41.946...  '<POLYGON ((41.877 41.881, 41.876 41.879, 41.878...  '<POLYGON ((41.947 41.95, 41.947 41.948, 41.948 ...  3                       28                 338                0                       0                       0                      1                    0                           0                     0\n",
       "1           1462669f59c3b5a1730e8a5f511a4102d1998c21  '379e0fd9da136cabc9eec3aca37047bbdee373ca2ef7a03...  04/17/2014 06:30:00 PM  04/17/2014 07:00:00 PM  1080.0          3.0           nan                    17031841100.0           nan                      34.0                      11.45   0.0     0.0      1.0       12.45         Cash            Taxi Affiliation Services          nan                         nan                          --                                    41.851017824                 -87.635091856                 POINT (-87.6350918563 41.8510178239)      2014-04-17 18:30:00.000000  18                 -1.0                    -1.8369701987210297e-16  16                 -0.8660254037844377     -0.5000000000000016    18                 1.102182119232618e-15   -1.0                   2014-04-17      3                0.43388373911755823  -0.900968867902419    4              None             872c21190ffffff  None             882c211905fffff  None             892c211905bffff  None                                                 '<POLYGON ((41.84 41.871, 41.837 41.859, 41.849 ...  None                                                 '<POLYGON ((41.85 41.858, 41.846 41.854, 41.849 ...  None                                                 '<POLYGON ((41.848 41.853, 41.848 41.851, 41.849...  3                       28                 4709               0                       0                       0                      1                    0                           0                     0\n",
       "2           8d699aec32ce70e3647f7b06147001d3926975cc  '6768c7ebfdee8e7e7b3f5ec44739316241895aa2f7edf10...  05/03/2014 11:30:00 PM  05/03/2014 11:45:00 PM  720.0           2.1           17031081800.0          17031081403.0           8.0                      8.0                       8.45    2.0     0.0      1.0       11.45         Credit Card     Dispatch Taxi Affiliation          41.89321636                 -87.63784421                 POINT (-87.6378442095 41.8932163595)  41.890922026                 -87.618868355                 POINT (-87.6188683546 41.8909220259)      2014-05-03 23:30:00.000000  23                 -0.25881904510252157    0.9659258262890681       20                 0.8660254037844403      -0.4999999999999972    18                 1.102182119232618e-15   -1.0                   2014-05-03      5                -0.9749279121818236  -0.2225209339563146   5              872c2119cffffff  872c2119cffffff  882c2119c1fffff  882c2119c1fffff  892c2119c0fffff  892c2119c0bffff  '<POLYGON ((41.879 41.903, 41.875 41.89, 41.888 ...  '<POLYGON ((41.879 41.903, 41.875 41.89, 41.888 ...  '<POLYGON ((41.888 41.898, 41.885 41.894, 41.888...  '<POLYGON ((41.888 41.898, 41.885 41.894, 41.888...  '<POLYGON ((41.893 41.894, 41.893 41.892, 41.895...  '<POLYGON ((41.891 41.892, 41.89 41.89, 41.892 4...  4                       50                 1596               0                       0                       0                      0                    1                           0                     0\n",
       "3           ae05f6f7a766b58b059f04c7549892da4dc3cf54  '7dc01f4be54a4058ffb81098be25f52c9f1249afc88e3ef...  05/17/2014 01:30:00 AM  05/17/2014 01:45:00 AM  480.0           0.0           17031071500.0          17031062200.0           7.0                      6.0                       7.85    3.0     0.0      1.0       11.85         Credit Card     Taxi Affiliation Services          41.914616286                -87.631717366                POINT (-87.6317173661 41.9146162864)  41.94258518                  -87.656644092                 POINT (-87.6566440918 41.9425851797)      2014-05-17 01:30:00.000000  1                  0.25881904510252074     0.9659258262890683       0                  0.0                     1.0                    0                  0.0                     1.0                    2014-05-17      5                -0.9749279121818236  -0.2225209339563146   5              872c2119dffffff  872c2118bffffff  882c2119d3fffff  882c2118b9fffff  892c2119d33ffff  892c2118b8bffff  '<POLYGON ((41.898 41.918, 41.894 41.906, 41.907...  '<POLYGON ((41.936 41.95, 41.933 41.937, 41.945 ...  '<POLYGON ((41.917 41.917, 41.914 41.913, 41.917...  '<POLYGON ((41.936 41.95, 41.933 41.946, 41.936 ...  '<POLYGON ((41.914 41.915, 41.914 41.913, 41.915...  '<POLYGON ((41.939 41.944, 41.938 41.942, 41.94 ...  4                       28                 6881               0                       0                       0                      0                    1                           0                     0\n",
       "4           b45b42620c3a926ea633b9115dc624a33dcf3b56  '9f87b11be025b5dcc55e9472b8c2158664c97d193cf15d9...  04/25/2014 02:30:00 PM  04/25/2014 02:30:00 PM  0.0             0.0           nan                    nan                     nan                      nan                       42.05   7.0     0.0      0.0       49.05         Credit Card     T.A.S. - Payment Only              nan                         nan                          --                                    nan                          nan                           --                                        2014-04-25 14:30:00.000000  14                 -0.4999999999999997     -0.8660254037844388      12                 -4.898587196589413e-16  1.0                    12                 -7.347880794884119e-16  1.0                    2014-04-25      4                -0.433883739117558   -0.9009688679024191   4              None             None             None             None             None             None             None                                                 None                                                 None                                                 None                                                 None                                                 None                                                 4                       103                1980               0                       0                       0                      0                    1                           0                     0\n",
       "...         ...                                       ...                                                  ...                     ...                     ...             ...           ...                    ...                     ...                      ...                       ...     ...     ...      ...       ...           ...             ...                                ...                         ...                          ...                                   ...                          ...                           ...                                       ...                         ...                ...                     ...                      ...                ...                     ...                    ...                ...                     ...                    ...             ...              ...                  ...                   ...            ...              ...              ...              ...              ...              ...              ...                                                  ...                                                  ...                                                  ...                                                  ...                                                  ...                                                  ...                     ...                ...                ...                     ...                     ...                    ...                  ...                         ...                   ...\n",
       "37,395,431  40aa131f22b63a5ca71d1eff4477500e6b875036  '8c244243c4123f4b467c2931cf59a691059a45302dc13e3...  04/03/2014 08:30:00 PM  04/03/2014 08:45:00 PM  900.0           3.7           nan                    nan                     6.0                      24.0                      11.25   0.0     0.0      0.0       11.25         Cash            Taxi Affiliation Services          41.944226601                -87.655998182                POINT (-87.6559981815 41.9442266014)  41.901206994                 -87.676355989                 POINT (-87.6763559892 41.90120699410001)  2014-04-03 20:30:00.000000  20                 -0.866025403784439      0.49999999999999933      20                 0.8660254037844403      -0.4999999999999972    18                 1.102182119232618e-15   -1.0                   2014-04-03      3                0.43388373911755823  -0.900968867902419    4              872c2118bffffff  872c2119dffffff  882c2118b9fffff  882c2119c3fffff  892c2118b8fffff  892c2119dcbffff  '<POLYGON ((41.936 41.95, 41.933 41.937, 41.945 ...  '<POLYGON ((41.898 41.918, 41.894 41.906, 41.907...  '<POLYGON ((41.936 41.95, 41.933 41.946, 41.936 ...  '<POLYGON ((41.898 41.902, 41.894 41.898, 41.897...  '<POLYGON ((41.941 41.946, 41.941 41.944, 41.943...  '<POLYGON ((41.9 41.904, 41.9 41.902, 41.902 41....  3                       28                 1789               0                       0                       0                      1                    0                           0                     0\n",
       "37,395,432  0cd3c0015580380a89b2da5d4ed01016c0399e6a  '01480513a7f6f4664d6cc4c41ff3043ae6ecbc8cb17404f...  05/13/2014 11:30:00 PM  05/13/2014 11:45:00 PM  540.0           0.0           nan                    nan                     8.0                      6.0                       11.85   3.55    0.0      0.0       15.4          Credit Card     Blue Ribbon Taxi Association Inc.  41.899602111                -87.633308037                POINT (-87.6333080367 41.899602111)   41.944226601                 -87.655998182                 POINT (-87.6559981815 41.9442266014)      2014-05-13 23:30:00.000000  23                 -0.25881904510252157    0.9659258262890681       20                 0.8660254037844403      -0.4999999999999972    18                 1.102182119232618e-15   -1.0                   2014-05-13      1                0.7818314824680298   0.6234898018587336    5              872c2119cffffff  872c2118bffffff  882c2119c3fffff  882c2118b9fffff  892c2119c37ffff  892c2118b8fffff  '<POLYGON ((41.879 41.903, 41.875 41.89, 41.888 ...  '<POLYGON ((41.936 41.95, 41.933 41.937, 41.945 ...  '<POLYGON ((41.898 41.902, 41.894 41.898, 41.897...  '<POLYGON ((41.936 41.95, 41.933 41.946, 41.936 ...  '<POLYGON ((41.898 41.902, 41.897 41.9, 41.899 4...  '<POLYGON ((41.941 41.946, 41.941 41.944, 41.943...  4                       9                  1021               0                       0                       0                      0                    1                           0                     0\n",
       "37,395,433  d378e1b76a0de5844b9d50a719239bcf878da1fc  'fdeaab06ce15ad69658acbc0e591218ef6146a29ef21275...  05/14/2014 12:45:00 PM  05/14/2014 12:45:00 PM  240.0           0.0           17031839100.0          17031833000.0           32.0                     28.0                      5.25    3.0     0.0      1.5       9.75          Credit Card     Taxi Affiliation Services          41.880994471                -87.632746489                POINT (-87.6327464887 41.8809944707)  41.88528132                  -87.6572332                   POINT (-87.6572331997 41.8852813201)      2014-05-14 12:45:00.000000  12                 1.2246467991473532e-16  -1.0                     12                 -4.898587196589413e-16  1.0                    12                 -7.347880794884119e-16  1.0                    2014-05-14      2                0.9749279121818236   -0.22252093395631434  5              872c21191ffffff  872c2119cffffff  882c211913fffff  882c2119c5fffff  892c2119123ffff  892c2119c53ffff  '<POLYGON ((41.859 41.887, 41.856 41.875, 41.869...  '<POLYGON ((41.879 41.903, 41.875 41.89, 41.888 ...  '<POLYGON ((41.878 41.886, 41.875 41.882, 41.878...  '<POLYGON ((41.888 41.89, 41.885 41.886, 41.888 ...  '<POLYGON ((41.88 41.883, 41.879 41.881, 41.881 ...  '<POLYGON ((41.885 41.887, 41.885 41.886, 41.887...  4                       28                 1039               0                       0                       0                      0                    1                           0                     0\n",
       "37,395,434  d64938a724961d6f2c0ae58932e78e3671784822  'a42edac48945c9dab13540adee09290f11b123a513580f2...  05/14/2014 12:15:00 PM  05/14/2014 12:15:00 PM  360.0           0.0           17031081202.0          17031081300.0           8.0                      8.0                       5.05    0.0     0.0      0.0       5.05          Cash            KOAM Taxi Association              41.902788048                -87.62614559                 POINT (-87.6261455896 41.9027880476)  41.898331794                 -87.620762865                 POINT (-87.6207628651 41.8983317935)      2014-05-14 12:15:00.000000  12                 1.2246467991473532e-16  -1.0                     12                 -4.898587196589413e-16  1.0                    12                 -7.347880794884119e-16  1.0                    2014-05-14      2                0.9749279121818236   -0.22252093395631434  5              872c2119dffffff  872c2119cffffff  882c2119ddfffff  882c2119c3fffff  892c2119dcbffff  892c2119c33ffff  '<POLYGON ((41.898 41.918, 41.894 41.906, 41.907...  '<POLYGON ((41.879 41.903, 41.875 41.89, 41.888 ...  '<POLYGON ((41.898 41.91, 41.894 41.906, 41.898 ...  '<POLYGON ((41.898 41.902, 41.894 41.898, 41.897...  '<POLYGON ((41.9 41.904, 41.9 41.902, 41.902 41....  '<POLYGON ((41.895 41.899, 41.894 41.898, 41.896...  3                       73                 6134               0                       0                       0                      1                    0                           0                     0\n",
       "37,395,435  ffa438bd0098e226eccd9867c2a134009a13c20d  '705cc88d7a216145f6c762aa705905a745a0c5f17e39aa1...  05/13/2014 11:30:00 PM  05/13/2014 11:45:00 PM  840.0           3.2           17031320100.0          17031832600.0           32.0                     7.0                       10.45   2.25    0.0      1.0       13.7          Credit Card     Dispatch Taxi Affiliation          41.884987192                -87.620992913                POINT (-87.6209929134 41.8849871918)  41.914747305                 -87.654007029                 POINT (-87.6540070286 41.9147473049)      2014-05-13 23:30:00.000000  23                 -0.25881904510252157    0.9659258262890681       20                 0.8660254037844403      -0.4999999999999972    18                 1.102182119232618e-15   -1.0                   2014-05-13      1                0.7818314824680298   0.6234898018587336    5              872c2119cffffff  872c2119dffffff  882c211913fffff  882c2119d3fffff  892c2119127ffff  892c2119d33ffff  '<POLYGON ((41.879 41.903, 41.875 41.89, 41.888 ...  '<POLYGON ((41.898 41.918, 41.894 41.906, 41.907...  '<POLYGON ((41.878 41.886, 41.875 41.882, 41.878...  '<POLYGON ((41.917 41.917, 41.914 41.913, 41.917...  '<POLYGON ((41.882 41.885, 41.882 41.883, 41.884...  '<POLYGON ((41.914 41.915, 41.914 41.913, 41.915...  4                       50                 7565               0                       0                       0                      0                    1                           0                     0"
      ]
     },
     "execution_count": 24,
     "metadata": {},
     "output_type": "execute_result"
    }
   ],
   "source": [
    "df_trips"
   ]
  },
  {
   "attachments": {},
   "cell_type": "markdown",
   "metadata": {},
   "source": [
    "## Drop redundant and not needed columns\n",
    "\n",
    "Location data is present in different formats. Latitude and Longitude are used in the further processing.\n",
    "The Trip End Timestamp is dropped as well since the start timestamp and Trip duration are sufficient for the further processing"
   ]
  },
  {
   "cell_type": "code",
   "execution_count": 25,
   "metadata": {},
   "outputs": [
    {
     "data": {
      "text/html": [
       "<table>\n",
       "<thead>\n",
       "<tr><th>#                                     </th><th>Trip ID                                 </th><th>Taxi ID                                            </th><th>Trip Start Timestamp  </th><th>Trip Seconds  </th><th>Trip Miles  </th><th>Fare  </th><th>Tips  </th><th>Tolls  </th><th>Extras  </th><th>Trip Total  </th><th>Payment Type  </th><th>Company                          </th><th>ts_start                  </th><th>ts_start_1_hour  </th><th>ts_start_1_hour_sin   </th><th>ts_start_1_hour_cos    </th><th>ts_start_4_hour  </th><th>ts_start_4_hour_sin   </th><th>ts_start_4_hour_cos  </th><th>ts_start_6_hour  </th><th>ts_start_6_hour_sin   </th><th>ts_start_6_hour_cos  </th><th>ts_start_day  </th><th>start_weekday  </th><th>start_weekday_sin  </th><th>start_weekday_cos   </th><th>start_month  </th><th>pickup_hex_7   </th><th>dropoff_hex_7  </th><th>pickup_hex_8   </th><th>dropoff_hex_8  </th><th>pickup_hex_9   </th><th>dropoff_hex_9  </th><th>pickup_pol_7                                       </th><th>dropoff_pol_7                                      </th><th>pickup_pol_8                                       </th><th>dropoff_pol_8                                      </th><th>pickup_pol_9                                       </th><th>dropoff_pol_9                                      </th><th>Payment Type_encoded  </th><th>Company_encoded  </th><th>Taxi ID_encoded  </th><th>Payment Type_Dispute  </th><th>Payment Type_Unknown  </th><th>Payment Type_Prcard  </th><th>Payment Type_Cash  </th><th>Payment Type_Credit Card  </th><th>Payment Type_Pcard  </th><th>Payment Type_No Charge  </th></tr>\n",
       "</thead>\n",
       "<tbody>\n",
       "<tr><td><i style='opacity: 0.6'>0</i>         </td><td>506646dd0685bd55094f1b7dfac97cf3b07b6126</td><td>&#x27;1099c684f9da1ac1d0dd253d394f1c8dad37bc1a53d944d...</td><td>05/17/2014 10:45:00 AM</td><td>1080.0        </td><td>7.0         </td><td>17.45 </td><td>0.0   </td><td>0.0    </td><td>1.5     </td><td>18.95       </td><td>Cash          </td><td>Taxi Affiliation Services        </td><td>2014-05-17 10:45:00.000000</td><td>10               </td><td>0.5000000000000003    </td><td>-0.8660254037844385    </td><td>8                </td><td>0.8660254037844392    </td><td>-0.4999999999999992  </td><td>6                </td><td>3.6739403974420594e-16</td><td>-1.0                 </td><td>2014-05-17    </td><td>5              </td><td>-0.9749279121818236</td><td>-0.2225209339563146 </td><td>5            </td><td>872c21191ffffff</td><td>872c2118bffffff</td><td>882c211913fffff</td><td>882c2118bbfffff</td><td>892c211913bffff</td><td>892c2118ba3ffff</td><td>&#x27;&lt;POLYGON ((41.859 41.887, 41.856 41.875, 41.869...</td><td>&#x27;&lt;POLYGON ((41.936 41.95, 41.933 41.937, 41.945 ...</td><td>&#x27;&lt;POLYGON ((41.878 41.886, 41.875 41.882, 41.878...</td><td>&#x27;&lt;POLYGON ((41.946 41.953, 41.942 41.949, 41.946...</td><td>&#x27;&lt;POLYGON ((41.877 41.881, 41.876 41.879, 41.878...</td><td>&#x27;&lt;POLYGON ((41.947 41.95, 41.947 41.948, 41.948 ...</td><td>3                     </td><td>28               </td><td>338              </td><td>0                     </td><td>0                     </td><td>0                    </td><td>1                  </td><td>0                         </td><td>0                   </td><td>0                       </td></tr>\n",
       "<tr><td><i style='opacity: 0.6'>1</i>         </td><td>1462669f59c3b5a1730e8a5f511a4102d1998c21</td><td>&#x27;379e0fd9da136cabc9eec3aca37047bbdee373ca2ef7a03...</td><td>04/17/2014 06:30:00 PM</td><td>1080.0        </td><td>3.0         </td><td>11.45 </td><td>0.0   </td><td>0.0    </td><td>1.0     </td><td>12.45       </td><td>Cash          </td><td>Taxi Affiliation Services        </td><td>2014-04-17 18:30:00.000000</td><td>18               </td><td>-1.0                  </td><td>-1.8369701987210297e-16</td><td>16               </td><td>-0.8660254037844377   </td><td>-0.5000000000000016  </td><td>18               </td><td>1.102182119232618e-15 </td><td>-1.0                 </td><td>2014-04-17    </td><td>3              </td><td>0.43388373911755823</td><td>-0.900968867902419  </td><td>4            </td><td>None           </td><td>872c21190ffffff</td><td>None           </td><td>882c211905fffff</td><td>None           </td><td>892c211905bffff</td><td>None                                               </td><td>&#x27;&lt;POLYGON ((41.84 41.871, 41.837 41.859, 41.849 ...</td><td>None                                               </td><td>&#x27;&lt;POLYGON ((41.85 41.858, 41.846 41.854, 41.849 ...</td><td>None                                               </td><td>&#x27;&lt;POLYGON ((41.848 41.853, 41.848 41.851, 41.849...</td><td>3                     </td><td>28               </td><td>4709             </td><td>0                     </td><td>0                     </td><td>0                    </td><td>1                  </td><td>0                         </td><td>0                   </td><td>0                       </td></tr>\n",
       "<tr><td><i style='opacity: 0.6'>2</i>         </td><td>8d699aec32ce70e3647f7b06147001d3926975cc</td><td>&#x27;6768c7ebfdee8e7e7b3f5ec44739316241895aa2f7edf10...</td><td>05/03/2014 11:30:00 PM</td><td>720.0         </td><td>2.1         </td><td>8.45  </td><td>2.0   </td><td>0.0    </td><td>1.0     </td><td>11.45       </td><td>Credit Card   </td><td>Dispatch Taxi Affiliation        </td><td>2014-05-03 23:30:00.000000</td><td>23               </td><td>-0.25881904510252157  </td><td>0.9659258262890681     </td><td>20               </td><td>0.8660254037844403    </td><td>-0.4999999999999972  </td><td>18               </td><td>1.102182119232618e-15 </td><td>-1.0                 </td><td>2014-05-03    </td><td>5              </td><td>-0.9749279121818236</td><td>-0.2225209339563146 </td><td>5            </td><td>872c2119cffffff</td><td>872c2119cffffff</td><td>882c2119c1fffff</td><td>882c2119c1fffff</td><td>892c2119c0fffff</td><td>892c2119c0bffff</td><td>&#x27;&lt;POLYGON ((41.879 41.903, 41.875 41.89, 41.888 ...</td><td>&#x27;&lt;POLYGON ((41.879 41.903, 41.875 41.89, 41.888 ...</td><td>&#x27;&lt;POLYGON ((41.888 41.898, 41.885 41.894, 41.888...</td><td>&#x27;&lt;POLYGON ((41.888 41.898, 41.885 41.894, 41.888...</td><td>&#x27;&lt;POLYGON ((41.893 41.894, 41.893 41.892, 41.895...</td><td>&#x27;&lt;POLYGON ((41.891 41.892, 41.89 41.89, 41.892 4...</td><td>4                     </td><td>50               </td><td>1596             </td><td>0                     </td><td>0                     </td><td>0                    </td><td>0                  </td><td>1                         </td><td>0                   </td><td>0                       </td></tr>\n",
       "<tr><td><i style='opacity: 0.6'>3</i>         </td><td>ae05f6f7a766b58b059f04c7549892da4dc3cf54</td><td>&#x27;7dc01f4be54a4058ffb81098be25f52c9f1249afc88e3ef...</td><td>05/17/2014 01:30:00 AM</td><td>480.0         </td><td>0.0         </td><td>7.85  </td><td>3.0   </td><td>0.0    </td><td>1.0     </td><td>11.85       </td><td>Credit Card   </td><td>Taxi Affiliation Services        </td><td>2014-05-17 01:30:00.000000</td><td>1                </td><td>0.25881904510252074   </td><td>0.9659258262890683     </td><td>0                </td><td>0.0                   </td><td>1.0                  </td><td>0                </td><td>0.0                   </td><td>1.0                  </td><td>2014-05-17    </td><td>5              </td><td>-0.9749279121818236</td><td>-0.2225209339563146 </td><td>5            </td><td>872c2119dffffff</td><td>872c2118bffffff</td><td>882c2119d3fffff</td><td>882c2118b9fffff</td><td>892c2119d33ffff</td><td>892c2118b8bffff</td><td>&#x27;&lt;POLYGON ((41.898 41.918, 41.894 41.906, 41.907...</td><td>&#x27;&lt;POLYGON ((41.936 41.95, 41.933 41.937, 41.945 ...</td><td>&#x27;&lt;POLYGON ((41.917 41.917, 41.914 41.913, 41.917...</td><td>&#x27;&lt;POLYGON ((41.936 41.95, 41.933 41.946, 41.936 ...</td><td>&#x27;&lt;POLYGON ((41.914 41.915, 41.914 41.913, 41.915...</td><td>&#x27;&lt;POLYGON ((41.939 41.944, 41.938 41.942, 41.94 ...</td><td>4                     </td><td>28               </td><td>6881             </td><td>0                     </td><td>0                     </td><td>0                    </td><td>0                  </td><td>1                         </td><td>0                   </td><td>0                       </td></tr>\n",
       "<tr><td><i style='opacity: 0.6'>4</i>         </td><td>b45b42620c3a926ea633b9115dc624a33dcf3b56</td><td>&#x27;9f87b11be025b5dcc55e9472b8c2158664c97d193cf15d9...</td><td>04/25/2014 02:30:00 PM</td><td>0.0           </td><td>0.0         </td><td>42.05 </td><td>7.0   </td><td>0.0    </td><td>0.0     </td><td>49.05       </td><td>Credit Card   </td><td>T.A.S. - Payment Only            </td><td>2014-04-25 14:30:00.000000</td><td>14               </td><td>-0.4999999999999997   </td><td>-0.8660254037844388    </td><td>12               </td><td>-4.898587196589413e-16</td><td>1.0                  </td><td>12               </td><td>-7.347880794884119e-16</td><td>1.0                  </td><td>2014-04-25    </td><td>4              </td><td>-0.433883739117558 </td><td>-0.9009688679024191 </td><td>4            </td><td>None           </td><td>None           </td><td>None           </td><td>None           </td><td>None           </td><td>None           </td><td>None                                               </td><td>None                                               </td><td>None                                               </td><td>None                                               </td><td>None                                               </td><td>None                                               </td><td>4                     </td><td>103              </td><td>1980             </td><td>0                     </td><td>0                     </td><td>0                    </td><td>0                  </td><td>1                         </td><td>0                   </td><td>0                       </td></tr>\n",
       "<tr><td>...                                   </td><td>...                                     </td><td>...                                                </td><td>...                   </td><td>...           </td><td>...         </td><td>...   </td><td>...   </td><td>...    </td><td>...     </td><td>...         </td><td>...           </td><td>...                              </td><td>...                       </td><td>...              </td><td>...                   </td><td>...                    </td><td>...              </td><td>...                   </td><td>...                  </td><td>...              </td><td>...                   </td><td>...                  </td><td>...           </td><td>...            </td><td>...                </td><td>...                 </td><td>...          </td><td>...            </td><td>...            </td><td>...            </td><td>...            </td><td>...            </td><td>...            </td><td>...                                                </td><td>...                                                </td><td>...                                                </td><td>...                                                </td><td>...                                                </td><td>...                                                </td><td>...                   </td><td>...              </td><td>...              </td><td>...                   </td><td>...                   </td><td>...                  </td><td>...                </td><td>...                       </td><td>...                 </td><td>...                     </td></tr>\n",
       "<tr><td><i style='opacity: 0.6'>37,395,431</i></td><td>40aa131f22b63a5ca71d1eff4477500e6b875036</td><td>&#x27;8c244243c4123f4b467c2931cf59a691059a45302dc13e3...</td><td>04/03/2014 08:30:00 PM</td><td>900.0         </td><td>3.7         </td><td>11.25 </td><td>0.0   </td><td>0.0    </td><td>0.0     </td><td>11.25       </td><td>Cash          </td><td>Taxi Affiliation Services        </td><td>2014-04-03 20:30:00.000000</td><td>20               </td><td>-0.866025403784439    </td><td>0.49999999999999933    </td><td>20               </td><td>0.8660254037844403    </td><td>-0.4999999999999972  </td><td>18               </td><td>1.102182119232618e-15 </td><td>-1.0                 </td><td>2014-04-03    </td><td>3              </td><td>0.43388373911755823</td><td>-0.900968867902419  </td><td>4            </td><td>872c2118bffffff</td><td>872c2119dffffff</td><td>882c2118b9fffff</td><td>882c2119c3fffff</td><td>892c2118b8fffff</td><td>892c2119dcbffff</td><td>&#x27;&lt;POLYGON ((41.936 41.95, 41.933 41.937, 41.945 ...</td><td>&#x27;&lt;POLYGON ((41.898 41.918, 41.894 41.906, 41.907...</td><td>&#x27;&lt;POLYGON ((41.936 41.95, 41.933 41.946, 41.936 ...</td><td>&#x27;&lt;POLYGON ((41.898 41.902, 41.894 41.898, 41.897...</td><td>&#x27;&lt;POLYGON ((41.941 41.946, 41.941 41.944, 41.943...</td><td>&#x27;&lt;POLYGON ((41.9 41.904, 41.9 41.902, 41.902 41....</td><td>3                     </td><td>28               </td><td>1789             </td><td>0                     </td><td>0                     </td><td>0                    </td><td>1                  </td><td>0                         </td><td>0                   </td><td>0                       </td></tr>\n",
       "<tr><td><i style='opacity: 0.6'>37,395,432</i></td><td>0cd3c0015580380a89b2da5d4ed01016c0399e6a</td><td>&#x27;01480513a7f6f4664d6cc4c41ff3043ae6ecbc8cb17404f...</td><td>05/13/2014 11:30:00 PM</td><td>540.0         </td><td>0.0         </td><td>11.85 </td><td>3.55  </td><td>0.0    </td><td>0.0     </td><td>15.4        </td><td>Credit Card   </td><td>Blue Ribbon Taxi Association Inc.</td><td>2014-05-13 23:30:00.000000</td><td>23               </td><td>-0.25881904510252157  </td><td>0.9659258262890681     </td><td>20               </td><td>0.8660254037844403    </td><td>-0.4999999999999972  </td><td>18               </td><td>1.102182119232618e-15 </td><td>-1.0                 </td><td>2014-05-13    </td><td>1              </td><td>0.7818314824680298 </td><td>0.6234898018587336  </td><td>5            </td><td>872c2119cffffff</td><td>872c2118bffffff</td><td>882c2119c3fffff</td><td>882c2118b9fffff</td><td>892c2119c37ffff</td><td>892c2118b8fffff</td><td>&#x27;&lt;POLYGON ((41.879 41.903, 41.875 41.89, 41.888 ...</td><td>&#x27;&lt;POLYGON ((41.936 41.95, 41.933 41.937, 41.945 ...</td><td>&#x27;&lt;POLYGON ((41.898 41.902, 41.894 41.898, 41.897...</td><td>&#x27;&lt;POLYGON ((41.936 41.95, 41.933 41.946, 41.936 ...</td><td>&#x27;&lt;POLYGON ((41.898 41.902, 41.897 41.9, 41.899 4...</td><td>&#x27;&lt;POLYGON ((41.941 41.946, 41.941 41.944, 41.943...</td><td>4                     </td><td>9                </td><td>1021             </td><td>0                     </td><td>0                     </td><td>0                    </td><td>0                  </td><td>1                         </td><td>0                   </td><td>0                       </td></tr>\n",
       "<tr><td><i style='opacity: 0.6'>37,395,433</i></td><td>d378e1b76a0de5844b9d50a719239bcf878da1fc</td><td>&#x27;fdeaab06ce15ad69658acbc0e591218ef6146a29ef21275...</td><td>05/14/2014 12:45:00 PM</td><td>240.0         </td><td>0.0         </td><td>5.25  </td><td>3.0   </td><td>0.0    </td><td>1.5     </td><td>9.75        </td><td>Credit Card   </td><td>Taxi Affiliation Services        </td><td>2014-05-14 12:45:00.000000</td><td>12               </td><td>1.2246467991473532e-16</td><td>-1.0                   </td><td>12               </td><td>-4.898587196589413e-16</td><td>1.0                  </td><td>12               </td><td>-7.347880794884119e-16</td><td>1.0                  </td><td>2014-05-14    </td><td>2              </td><td>0.9749279121818236 </td><td>-0.22252093395631434</td><td>5            </td><td>872c21191ffffff</td><td>872c2119cffffff</td><td>882c211913fffff</td><td>882c2119c5fffff</td><td>892c2119123ffff</td><td>892c2119c53ffff</td><td>&#x27;&lt;POLYGON ((41.859 41.887, 41.856 41.875, 41.869...</td><td>&#x27;&lt;POLYGON ((41.879 41.903, 41.875 41.89, 41.888 ...</td><td>&#x27;&lt;POLYGON ((41.878 41.886, 41.875 41.882, 41.878...</td><td>&#x27;&lt;POLYGON ((41.888 41.89, 41.885 41.886, 41.888 ...</td><td>&#x27;&lt;POLYGON ((41.88 41.883, 41.879 41.881, 41.881 ...</td><td>&#x27;&lt;POLYGON ((41.885 41.887, 41.885 41.886, 41.887...</td><td>4                     </td><td>28               </td><td>1039             </td><td>0                     </td><td>0                     </td><td>0                    </td><td>0                  </td><td>1                         </td><td>0                   </td><td>0                       </td></tr>\n",
       "<tr><td><i style='opacity: 0.6'>37,395,434</i></td><td>d64938a724961d6f2c0ae58932e78e3671784822</td><td>&#x27;a42edac48945c9dab13540adee09290f11b123a513580f2...</td><td>05/14/2014 12:15:00 PM</td><td>360.0         </td><td>0.0         </td><td>5.05  </td><td>0.0   </td><td>0.0    </td><td>0.0     </td><td>5.05        </td><td>Cash          </td><td>KOAM Taxi Association            </td><td>2014-05-14 12:15:00.000000</td><td>12               </td><td>1.2246467991473532e-16</td><td>-1.0                   </td><td>12               </td><td>-4.898587196589413e-16</td><td>1.0                  </td><td>12               </td><td>-7.347880794884119e-16</td><td>1.0                  </td><td>2014-05-14    </td><td>2              </td><td>0.9749279121818236 </td><td>-0.22252093395631434</td><td>5            </td><td>872c2119dffffff</td><td>872c2119cffffff</td><td>882c2119ddfffff</td><td>882c2119c3fffff</td><td>892c2119dcbffff</td><td>892c2119c33ffff</td><td>&#x27;&lt;POLYGON ((41.898 41.918, 41.894 41.906, 41.907...</td><td>&#x27;&lt;POLYGON ((41.879 41.903, 41.875 41.89, 41.888 ...</td><td>&#x27;&lt;POLYGON ((41.898 41.91, 41.894 41.906, 41.898 ...</td><td>&#x27;&lt;POLYGON ((41.898 41.902, 41.894 41.898, 41.897...</td><td>&#x27;&lt;POLYGON ((41.9 41.904, 41.9 41.902, 41.902 41....</td><td>&#x27;&lt;POLYGON ((41.895 41.899, 41.894 41.898, 41.896...</td><td>3                     </td><td>73               </td><td>6134             </td><td>0                     </td><td>0                     </td><td>0                    </td><td>1                  </td><td>0                         </td><td>0                   </td><td>0                       </td></tr>\n",
       "<tr><td><i style='opacity: 0.6'>37,395,435</i></td><td>ffa438bd0098e226eccd9867c2a134009a13c20d</td><td>&#x27;705cc88d7a216145f6c762aa705905a745a0c5f17e39aa1...</td><td>05/13/2014 11:30:00 PM</td><td>840.0         </td><td>3.2         </td><td>10.45 </td><td>2.25  </td><td>0.0    </td><td>1.0     </td><td>13.7        </td><td>Credit Card   </td><td>Dispatch Taxi Affiliation        </td><td>2014-05-13 23:30:00.000000</td><td>23               </td><td>-0.25881904510252157  </td><td>0.9659258262890681     </td><td>20               </td><td>0.8660254037844403    </td><td>-0.4999999999999972  </td><td>18               </td><td>1.102182119232618e-15 </td><td>-1.0                 </td><td>2014-05-13    </td><td>1              </td><td>0.7818314824680298 </td><td>0.6234898018587336  </td><td>5            </td><td>872c2119cffffff</td><td>872c2119dffffff</td><td>882c211913fffff</td><td>882c2119d3fffff</td><td>892c2119127ffff</td><td>892c2119d33ffff</td><td>&#x27;&lt;POLYGON ((41.879 41.903, 41.875 41.89, 41.888 ...</td><td>&#x27;&lt;POLYGON ((41.898 41.918, 41.894 41.906, 41.907...</td><td>&#x27;&lt;POLYGON ((41.878 41.886, 41.875 41.882, 41.878...</td><td>&#x27;&lt;POLYGON ((41.917 41.917, 41.914 41.913, 41.917...</td><td>&#x27;&lt;POLYGON ((41.882 41.885, 41.882 41.883, 41.884...</td><td>&#x27;&lt;POLYGON ((41.914 41.915, 41.914 41.913, 41.915...</td><td>4                     </td><td>50               </td><td>7565             </td><td>0                     </td><td>0                     </td><td>0                    </td><td>0                  </td><td>1                         </td><td>0                   </td><td>0                       </td></tr>\n",
       "</tbody>\n",
       "</table>"
      ],
      "text/plain": [
       "#           Trip ID                                   Taxi ID                                              Trip Start Timestamp    Trip Seconds    Trip Miles    Fare    Tips    Tolls    Extras    Trip Total    Payment Type    Company                            ts_start                    ts_start_1_hour    ts_start_1_hour_sin     ts_start_1_hour_cos      ts_start_4_hour    ts_start_4_hour_sin     ts_start_4_hour_cos    ts_start_6_hour    ts_start_6_hour_sin     ts_start_6_hour_cos    ts_start_day    start_weekday    start_weekday_sin    start_weekday_cos     start_month    pickup_hex_7     dropoff_hex_7    pickup_hex_8     dropoff_hex_8    pickup_hex_9     dropoff_hex_9    pickup_pol_7                                         dropoff_pol_7                                        pickup_pol_8                                         dropoff_pol_8                                        pickup_pol_9                                         dropoff_pol_9                                        Payment Type_encoded    Company_encoded    Taxi ID_encoded    Payment Type_Dispute    Payment Type_Unknown    Payment Type_Prcard    Payment Type_Cash    Payment Type_Credit Card    Payment Type_Pcard    Payment Type_No Charge\n",
       "0           506646dd0685bd55094f1b7dfac97cf3b07b6126  '1099c684f9da1ac1d0dd253d394f1c8dad37bc1a53d944d...  05/17/2014 10:45:00 AM  1080.0          7.0           17.45   0.0     0.0      1.5       18.95         Cash            Taxi Affiliation Services          2014-05-17 10:45:00.000000  10                 0.5000000000000003      -0.8660254037844385      8                  0.8660254037844392      -0.4999999999999992    6                  3.6739403974420594e-16  -1.0                   2014-05-17      5                -0.9749279121818236  -0.2225209339563146   5              872c21191ffffff  872c2118bffffff  882c211913fffff  882c2118bbfffff  892c211913bffff  892c2118ba3ffff  '<POLYGON ((41.859 41.887, 41.856 41.875, 41.869...  '<POLYGON ((41.936 41.95, 41.933 41.937, 41.945 ...  '<POLYGON ((41.878 41.886, 41.875 41.882, 41.878...  '<POLYGON ((41.946 41.953, 41.942 41.949, 41.946...  '<POLYGON ((41.877 41.881, 41.876 41.879, 41.878...  '<POLYGON ((41.947 41.95, 41.947 41.948, 41.948 ...  3                       28                 338                0                       0                       0                      1                    0                           0                     0\n",
       "1           1462669f59c3b5a1730e8a5f511a4102d1998c21  '379e0fd9da136cabc9eec3aca37047bbdee373ca2ef7a03...  04/17/2014 06:30:00 PM  1080.0          3.0           11.45   0.0     0.0      1.0       12.45         Cash            Taxi Affiliation Services          2014-04-17 18:30:00.000000  18                 -1.0                    -1.8369701987210297e-16  16                 -0.8660254037844377     -0.5000000000000016    18                 1.102182119232618e-15   -1.0                   2014-04-17      3                0.43388373911755823  -0.900968867902419    4              None             872c21190ffffff  None             882c211905fffff  None             892c211905bffff  None                                                 '<POLYGON ((41.84 41.871, 41.837 41.859, 41.849 ...  None                                                 '<POLYGON ((41.85 41.858, 41.846 41.854, 41.849 ...  None                                                 '<POLYGON ((41.848 41.853, 41.848 41.851, 41.849...  3                       28                 4709               0                       0                       0                      1                    0                           0                     0\n",
       "2           8d699aec32ce70e3647f7b06147001d3926975cc  '6768c7ebfdee8e7e7b3f5ec44739316241895aa2f7edf10...  05/03/2014 11:30:00 PM  720.0           2.1           8.45    2.0     0.0      1.0       11.45         Credit Card     Dispatch Taxi Affiliation          2014-05-03 23:30:00.000000  23                 -0.25881904510252157    0.9659258262890681       20                 0.8660254037844403      -0.4999999999999972    18                 1.102182119232618e-15   -1.0                   2014-05-03      5                -0.9749279121818236  -0.2225209339563146   5              872c2119cffffff  872c2119cffffff  882c2119c1fffff  882c2119c1fffff  892c2119c0fffff  892c2119c0bffff  '<POLYGON ((41.879 41.903, 41.875 41.89, 41.888 ...  '<POLYGON ((41.879 41.903, 41.875 41.89, 41.888 ...  '<POLYGON ((41.888 41.898, 41.885 41.894, 41.888...  '<POLYGON ((41.888 41.898, 41.885 41.894, 41.888...  '<POLYGON ((41.893 41.894, 41.893 41.892, 41.895...  '<POLYGON ((41.891 41.892, 41.89 41.89, 41.892 4...  4                       50                 1596               0                       0                       0                      0                    1                           0                     0\n",
       "3           ae05f6f7a766b58b059f04c7549892da4dc3cf54  '7dc01f4be54a4058ffb81098be25f52c9f1249afc88e3ef...  05/17/2014 01:30:00 AM  480.0           0.0           7.85    3.0     0.0      1.0       11.85         Credit Card     Taxi Affiliation Services          2014-05-17 01:30:00.000000  1                  0.25881904510252074     0.9659258262890683       0                  0.0                     1.0                    0                  0.0                     1.0                    2014-05-17      5                -0.9749279121818236  -0.2225209339563146   5              872c2119dffffff  872c2118bffffff  882c2119d3fffff  882c2118b9fffff  892c2119d33ffff  892c2118b8bffff  '<POLYGON ((41.898 41.918, 41.894 41.906, 41.907...  '<POLYGON ((41.936 41.95, 41.933 41.937, 41.945 ...  '<POLYGON ((41.917 41.917, 41.914 41.913, 41.917...  '<POLYGON ((41.936 41.95, 41.933 41.946, 41.936 ...  '<POLYGON ((41.914 41.915, 41.914 41.913, 41.915...  '<POLYGON ((41.939 41.944, 41.938 41.942, 41.94 ...  4                       28                 6881               0                       0                       0                      0                    1                           0                     0\n",
       "4           b45b42620c3a926ea633b9115dc624a33dcf3b56  '9f87b11be025b5dcc55e9472b8c2158664c97d193cf15d9...  04/25/2014 02:30:00 PM  0.0             0.0           42.05   7.0     0.0      0.0       49.05         Credit Card     T.A.S. - Payment Only              2014-04-25 14:30:00.000000  14                 -0.4999999999999997     -0.8660254037844388      12                 -4.898587196589413e-16  1.0                    12                 -7.347880794884119e-16  1.0                    2014-04-25      4                -0.433883739117558   -0.9009688679024191   4              None             None             None             None             None             None             None                                                 None                                                 None                                                 None                                                 None                                                 None                                                 4                       103                1980               0                       0                       0                      0                    1                           0                     0\n",
       "...         ...                                       ...                                                  ...                     ...             ...           ...     ...     ...      ...       ...           ...             ...                                ...                         ...                ...                     ...                      ...                ...                     ...                    ...                ...                     ...                    ...             ...              ...                  ...                   ...            ...              ...              ...              ...              ...              ...              ...                                                  ...                                                  ...                                                  ...                                                  ...                                                  ...                                                  ...                     ...                ...                ...                     ...                     ...                    ...                  ...                         ...                   ...\n",
       "37,395,431  40aa131f22b63a5ca71d1eff4477500e6b875036  '8c244243c4123f4b467c2931cf59a691059a45302dc13e3...  04/03/2014 08:30:00 PM  900.0           3.7           11.25   0.0     0.0      0.0       11.25         Cash            Taxi Affiliation Services          2014-04-03 20:30:00.000000  20                 -0.866025403784439      0.49999999999999933      20                 0.8660254037844403      -0.4999999999999972    18                 1.102182119232618e-15   -1.0                   2014-04-03      3                0.43388373911755823  -0.900968867902419    4              872c2118bffffff  872c2119dffffff  882c2118b9fffff  882c2119c3fffff  892c2118b8fffff  892c2119dcbffff  '<POLYGON ((41.936 41.95, 41.933 41.937, 41.945 ...  '<POLYGON ((41.898 41.918, 41.894 41.906, 41.907...  '<POLYGON ((41.936 41.95, 41.933 41.946, 41.936 ...  '<POLYGON ((41.898 41.902, 41.894 41.898, 41.897...  '<POLYGON ((41.941 41.946, 41.941 41.944, 41.943...  '<POLYGON ((41.9 41.904, 41.9 41.902, 41.902 41....  3                       28                 1789               0                       0                       0                      1                    0                           0                     0\n",
       "37,395,432  0cd3c0015580380a89b2da5d4ed01016c0399e6a  '01480513a7f6f4664d6cc4c41ff3043ae6ecbc8cb17404f...  05/13/2014 11:30:00 PM  540.0           0.0           11.85   3.55    0.0      0.0       15.4          Credit Card     Blue Ribbon Taxi Association Inc.  2014-05-13 23:30:00.000000  23                 -0.25881904510252157    0.9659258262890681       20                 0.8660254037844403      -0.4999999999999972    18                 1.102182119232618e-15   -1.0                   2014-05-13      1                0.7818314824680298   0.6234898018587336    5              872c2119cffffff  872c2118bffffff  882c2119c3fffff  882c2118b9fffff  892c2119c37ffff  892c2118b8fffff  '<POLYGON ((41.879 41.903, 41.875 41.89, 41.888 ...  '<POLYGON ((41.936 41.95, 41.933 41.937, 41.945 ...  '<POLYGON ((41.898 41.902, 41.894 41.898, 41.897...  '<POLYGON ((41.936 41.95, 41.933 41.946, 41.936 ...  '<POLYGON ((41.898 41.902, 41.897 41.9, 41.899 4...  '<POLYGON ((41.941 41.946, 41.941 41.944, 41.943...  4                       9                  1021               0                       0                       0                      0                    1                           0                     0\n",
       "37,395,433  d378e1b76a0de5844b9d50a719239bcf878da1fc  'fdeaab06ce15ad69658acbc0e591218ef6146a29ef21275...  05/14/2014 12:45:00 PM  240.0           0.0           5.25    3.0     0.0      1.5       9.75          Credit Card     Taxi Affiliation Services          2014-05-14 12:45:00.000000  12                 1.2246467991473532e-16  -1.0                     12                 -4.898587196589413e-16  1.0                    12                 -7.347880794884119e-16  1.0                    2014-05-14      2                0.9749279121818236   -0.22252093395631434  5              872c21191ffffff  872c2119cffffff  882c211913fffff  882c2119c5fffff  892c2119123ffff  892c2119c53ffff  '<POLYGON ((41.859 41.887, 41.856 41.875, 41.869...  '<POLYGON ((41.879 41.903, 41.875 41.89, 41.888 ...  '<POLYGON ((41.878 41.886, 41.875 41.882, 41.878...  '<POLYGON ((41.888 41.89, 41.885 41.886, 41.888 ...  '<POLYGON ((41.88 41.883, 41.879 41.881, 41.881 ...  '<POLYGON ((41.885 41.887, 41.885 41.886, 41.887...  4                       28                 1039               0                       0                       0                      0                    1                           0                     0\n",
       "37,395,434  d64938a724961d6f2c0ae58932e78e3671784822  'a42edac48945c9dab13540adee09290f11b123a513580f2...  05/14/2014 12:15:00 PM  360.0           0.0           5.05    0.0     0.0      0.0       5.05          Cash            KOAM Taxi Association              2014-05-14 12:15:00.000000  12                 1.2246467991473532e-16  -1.0                     12                 -4.898587196589413e-16  1.0                    12                 -7.347880794884119e-16  1.0                    2014-05-14      2                0.9749279121818236   -0.22252093395631434  5              872c2119dffffff  872c2119cffffff  882c2119ddfffff  882c2119c3fffff  892c2119dcbffff  892c2119c33ffff  '<POLYGON ((41.898 41.918, 41.894 41.906, 41.907...  '<POLYGON ((41.879 41.903, 41.875 41.89, 41.888 ...  '<POLYGON ((41.898 41.91, 41.894 41.906, 41.898 ...  '<POLYGON ((41.898 41.902, 41.894 41.898, 41.897...  '<POLYGON ((41.9 41.904, 41.9 41.902, 41.902 41....  '<POLYGON ((41.895 41.899, 41.894 41.898, 41.896...  3                       73                 6134               0                       0                       0                      1                    0                           0                     0\n",
       "37,395,435  ffa438bd0098e226eccd9867c2a134009a13c20d  '705cc88d7a216145f6c762aa705905a745a0c5f17e39aa1...  05/13/2014 11:30:00 PM  840.0           3.2           10.45   2.25    0.0      1.0       13.7          Credit Card     Dispatch Taxi Affiliation          2014-05-13 23:30:00.000000  23                 -0.25881904510252157    0.9659258262890681       20                 0.8660254037844403      -0.4999999999999972    18                 1.102182119232618e-15   -1.0                   2014-05-13      1                0.7818314824680298   0.6234898018587336    5              872c2119cffffff  872c2119dffffff  882c211913fffff  882c2119d3fffff  892c2119127ffff  892c2119d33ffff  '<POLYGON ((41.879 41.903, 41.875 41.89, 41.888 ...  '<POLYGON ((41.898 41.918, 41.894 41.906, 41.907...  '<POLYGON ((41.878 41.886, 41.875 41.882, 41.878...  '<POLYGON ((41.917 41.917, 41.914 41.913, 41.917...  '<POLYGON ((41.882 41.885, 41.882 41.883, 41.884...  '<POLYGON ((41.914 41.915, 41.914 41.913, 41.915...  4                       50                 7565               0                       0                       0                      0                    1                           0                     0"
      ]
     },
     "execution_count": 25,
     "metadata": {},
     "output_type": "execute_result"
    }
   ],
   "source": [
    "df_trips.drop(['Pickup Census Tract','Dropoff Census Tract','Pickup Community Area', 'Dropoff Community Area', 'Pickup Centroid Latitude', 'Pickup Centroid Longitude', 'Dropoff Centroid Latitude', 'Dropoff Centroid Longitude', 'Pickup Centroid Location', 'Dropoff Centroid  Location', 'Trip End Timestamp'], inplace=True)"
   ]
  },
  {
   "attachments": {},
   "cell_type": "markdown",
   "metadata": {},
   "source": [
    "## Final dataset"
   ]
  },
  {
   "cell_type": "code",
   "execution_count": 26,
   "metadata": {},
   "outputs": [
    {
     "data": {
      "text/html": [
       "<style>.vaex-description pre {\n",
       "          max-width : 450px;\n",
       "          white-space : nowrap;\n",
       "          overflow : hidden;\n",
       "          text-overflow: ellipsis;\n",
       "        }\n",
       "\n",
       "        .vex-description pre:hover {\n",
       "          max-width : initial;\n",
       "          white-space: pre;\n",
       "        }</style>"
      ],
      "text/plain": [
       "<IPython.core.display.HTML object>"
      ]
     },
     "metadata": {},
     "output_type": "display_data"
    },
    {
     "data": {
      "text/html": [
       "<div><h2>trips</h2> <b>rows</b>: 37,395,436</div><h2>Columns:</h2><table class='table-striped'><thead><tr><th>column</th><th>type</th><th>unit</th><th>description</th><th>expression</th></tr></thead><tr><td>Trip ID</td><td>str</td><td></td><td ><pre></pre></td><td></td></tr><tr><td>Taxi ID</td><td>str</td><td></td><td ><pre></pre></td><td></td></tr><tr><td>Trip Start Timestamp</td><td>str</td><td></td><td ><pre></pre></td><td></td></tr><tr><td>Trip Seconds</td><td>float64</td><td></td><td ><pre></pre></td><td></td></tr><tr><td>Trip Miles</td><td>float64</td><td></td><td ><pre></pre></td><td></td></tr><tr><td>Fare</td><td>float64</td><td></td><td ><pre></pre></td><td></td></tr><tr><td>Tips</td><td>float64</td><td></td><td ><pre></pre></td><td></td></tr><tr><td>Tolls</td><td>float64</td><td></td><td ><pre></pre></td><td></td></tr><tr><td>Extras</td><td>float64</td><td></td><td ><pre></pre></td><td></td></tr><tr><td>Trip Total</td><td>float64</td><td></td><td ><pre></pre></td><td></td></tr><tr><td>Payment Type</td><td>str</td><td></td><td ><pre></pre></td><td></td></tr><tr><td>Company</td><td>str</td><td></td><td ><pre></pre></td><td></td></tr><tr><td>ts_start</td><td></i>virtual column</i></td><td></td><td ><pre></pre></td><td><code>lambda_function(df['Trip Start Timestamp'])</code></td></tr><tr><td>ts_start_1_hour</td><td></i>virtual column</i></td><td></td><td ><pre></pre></td><td><code>dt_hour(ts_start)</code></td></tr><tr><td>ts_start_1_hour_sin</td><td></i>virtual column</i></td><td></td><td ><pre></pre></td><td><code>sin((ts_start_1_hour * 0.2617993877991494))</code></td></tr><tr><td>ts_start_1_hour_cos</td><td></i>virtual column</i></td><td></td><td ><pre></pre></td><td><code>cos((ts_start_1_hour * 0.2617993877991494))</code></td></tr><tr><td>ts_start_4_hour</td><td></i>virtual column</i></td><td></td><td ><pre></pre></td><td><code>dt_hour(dt_floor(ts_start, '4h'))</code></td></tr><tr><td>ts_start_4_hour_sin</td><td></i>virtual column</i></td><td></td><td ><pre></pre></td><td><code>sin((ts_start_4_hour * 1.0471975511965976))</code></td></tr><tr><td>ts_start_4_hour_cos</td><td></i>virtual column</i></td><td></td><td ><pre></pre></td><td><code>cos((ts_start_4_hour * 1.0471975511965976))</code></td></tr><tr><td>ts_start_6_hour</td><td></i>virtual column</i></td><td></td><td ><pre></pre></td><td><code>dt_hour(dt_floor(ts_start, '6h'))</code></td></tr><tr><td>ts_start_6_hour_sin</td><td></i>virtual column</i></td><td></td><td ><pre></pre></td><td><code>sin((ts_start_6_hour * 1.5707963267948966))</code></td></tr><tr><td>ts_start_6_hour_cos</td><td></i>virtual column</i></td><td></td><td ><pre></pre></td><td><code>cos((ts_start_6_hour * 1.5707963267948966))</code></td></tr><tr><td>ts_start_day</td><td></i>virtual column</i></td><td></td><td ><pre></pre></td><td><code>dt_date(ts_start)</code></td></tr><tr><td>start_weekday</td><td></i>virtual column</i></td><td></td><td ><pre></pre></td><td><code>dt_dayofweek(ts_start)</code></td></tr><tr><td>start_weekday_sin</td><td></i>virtual column</i></td><td></td><td ><pre></pre></td><td><code>sin((start_weekday * 0.8975979010256552))</code></td></tr><tr><td>start_weekday_cos</td><td></i>virtual column</i></td><td></td><td ><pre></pre></td><td><code>cos((start_weekday * 0.8975979010256552))</code></td></tr><tr><td>start_month</td><td></i>virtual column</i></td><td></td><td ><pre></pre></td><td><code>dt_month(ts_start)</code></td></tr><tr><td>pickup_hex_7</td><td></i>virtual column</i></td><td></td><td ><pre></pre></td><td><code>lambda_function_1(df['__Pickup Centroid Latitude'], df['__Pickup Centroid Latitude'])</code></td></tr><tr><td>dropoff_hex_7</td><td></i>virtual column</i></td><td></td><td ><pre></pre></td><td><code>lambda_function_2(df['__Dropoff Centroid Latitude'], df['__Dropoff Centroid Latitude'])</code></td></tr><tr><td>pickup_hex_8</td><td></i>virtual column</i></td><td></td><td ><pre></pre></td><td><code>lambda_function_3(df['__Pickup Centroid Latitude'], df['__Pickup Centroid Latitude'])</code></td></tr><tr><td>dropoff_hex_8</td><td></i>virtual column</i></td><td></td><td ><pre></pre></td><td><code>lambda_function_4(df['__Dropoff Centroid Latitude'], df['__Dropoff Centroid Latitude'])</code></td></tr><tr><td>pickup_hex_9</td><td></i>virtual column</i></td><td></td><td ><pre></pre></td><td><code>lambda_function_5(df['__Pickup Centroid Latitude'], df['__Pickup Centroid Latitude'])</code></td></tr><tr><td>dropoff_hex_9</td><td></i>virtual column</i></td><td></td><td ><pre></pre></td><td><code>lambda_function_6(df['__Dropoff Centroid Latitude'], df['__Dropoff Centroid Latitude'])</code></td></tr><tr><td>pickup_pol_7</td><td></i>virtual column</i></td><td></td><td ><pre></pre></td><td><code>lambda_function_7(pickup_hex_7)</code></td></tr><tr><td>dropoff_pol_7</td><td></i>virtual column</i></td><td></td><td ><pre></pre></td><td><code>lambda_function_8(dropoff_hex_7)</code></td></tr><tr><td>pickup_pol_8</td><td></i>virtual column</i></td><td></td><td ><pre></pre></td><td><code>lambda_function_9(pickup_hex_8)</code></td></tr><tr><td>dropoff_pol_8</td><td></i>virtual column</i></td><td></td><td ><pre></pre></td><td><code>lambda_function_10(dropoff_hex_8)</code></td></tr><tr><td>pickup_pol_9</td><td></i>virtual column</i></td><td></td><td ><pre></pre></td><td><code>lambda_function_11(pickup_hex_9)</code></td></tr><tr><td>dropoff_pol_9</td><td></i>virtual column</i></td><td></td><td ><pre></pre></td><td><code>lambda_function_12(dropoff_hex_9)</code></td></tr><tr><td>Payment Type_encoded</td><td></i>virtual column</i></td><td></td><td ><pre></pre></td><td><code>_map(df['Payment Type'], map_key_hash_map_unique, map_choices, axis=None)</code></td></tr><tr><td>Company_encoded</td><td></i>virtual column</i></td><td></td><td ><pre></pre></td><td><code>_map(Company, map_key_hash_map_unique_1, map_choices_1, axis=None)</code></td></tr><tr><td>Taxi ID_encoded</td><td></i>virtual column</i></td><td></td><td ><pre></pre></td><td><code>_map(df['Taxi ID'], map_key_hash_map_unique_2, map_choices_2, axis=None)</code></td></tr><tr><td>Payment Type_Dispute</td><td></i>virtual column</i></td><td></td><td ><pre></pre></td><td><code>lambda_function_14(df['Payment Type'])</code></td></tr><tr><td>Payment Type_Unknown</td><td></i>virtual column</i></td><td></td><td ><pre></pre></td><td><code>lambda_function_15(df['Payment Type'])</code></td></tr><tr><td>Payment Type_Prcard</td><td></i>virtual column</i></td><td></td><td ><pre></pre></td><td><code>lambda_function_16(df['Payment Type'])</code></td></tr><tr><td>Payment Type_Cash</td><td></i>virtual column</i></td><td></td><td ><pre></pre></td><td><code>lambda_function_17(df['Payment Type'])</code></td></tr><tr><td>Payment Type_Credit Card</td><td></i>virtual column</i></td><td></td><td ><pre></pre></td><td><code>lambda_function_18(df['Payment Type'])</code></td></tr><tr><td>Payment Type_Pcard</td><td></i>virtual column</i></td><td></td><td ><pre></pre></td><td><code>lambda_function_19(df['Payment Type'])</code></td></tr><tr><td>Payment Type_No Charge</td><td></i>virtual column</i></td><td></td><td ><pre></pre></td><td><code>lambda_function_20(df['Payment Type'])</code></td></tr></table><h2>Variables:</h2><table class='table-striped'><thead><tr><th>variable</th><th>type</th><th>unit</th><th>description</th><th>expression</th></tr></thead><tr><td>map_key_hash_map_unique</td><td><class 'type'></td><td>$\\mathrm{}$</td><td ><pre></pre></td><td><code><vaex.hash.HashMapUnique object at 0x000001E602C9FE20></code></td></tr><tr><td>map_choices</td><td><class 'type'></td><td>$\\mathrm{}$</td><td ><pre></pre></td><td><code>[\n",
       "  null,\n",
       "  0,\n",
       "  1,\n",
       "  2,\n",
       "  3,\n",
       "  4,\n",
       "  5,\n",
       "  6\n",
       "]</code></td></tr><tr><td>map_key_hash_map_unique_1</td><td><class 'type'></td><td>$\\mathrm{}$</td><td ><pre></pre></td><td><code><vaex.hash.HashMapUnique object at 0x000001E602C9FBB0></code></td></tr><tr><td>map_choices_1</td><td><class 'type'></td><td>$\\mathrm{}$</td><td ><pre></pre></td><td><code>[\n",
       "  null,\n",
       "  0,\n",
       "  1,\n",
       "  2,\n",
       "  3,\n",
       "  4,\n",
       "  5,\n",
       "  6,\n",
       "  7,\n",
       "  8,\n",
       "  ...\n",
       "  98,\n",
       "  99,\n",
       "  100,\n",
       "  101,\n",
       "  102,\n",
       "  103,\n",
       "  104,\n",
       "  105,\n",
       "  106,\n",
       "  107\n",
       "]</code></td></tr><tr><td>map_key_hash_map_unique_2</td><td><class 'type'></td><td>$\\mathrm{}$</td><td ><pre></pre></td><td><code><vaex.hash.HashMapUnique object at 0x000001E602C9DE10></code></td></tr><tr><td>map_choices_2</td><td><class 'type'></td><td>$\\mathrm{}$</td><td ><pre></pre></td><td><code>[\n",
       "  null,\n",
       "  0,\n",
       "  1,\n",
       "  2,\n",
       "  3,\n",
       "  4,\n",
       "  5,\n",
       "  6,\n",
       "  7,\n",
       "  8,\n",
       "  ...\n",
       "  7771,\n",
       "  7772,\n",
       "  7773,\n",
       "  7774,\n",
       "  7775,\n",
       "  7776,\n",
       "  7777,\n",
       "  7778,\n",
       "  7779,\n",
       "  7780\n",
       "]</code></td></tr></table><h2>Data:</h2><table>\n",
       "<thead>\n",
       "<tr><th>#                                     </th><th>Trip ID                                 </th><th>Taxi ID                                            </th><th>Trip Start Timestamp  </th><th>Trip Seconds  </th><th>Trip Miles  </th><th>Fare  </th><th>Tips  </th><th>Tolls  </th><th>Extras  </th><th>Trip Total  </th><th>Payment Type  </th><th>Company                          </th><th>ts_start                  </th><th>ts_start_1_hour  </th><th>ts_start_1_hour_sin   </th><th>ts_start_1_hour_cos    </th><th>ts_start_4_hour  </th><th>ts_start_4_hour_sin   </th><th>ts_start_4_hour_cos  </th><th>ts_start_6_hour  </th><th>ts_start_6_hour_sin   </th><th>ts_start_6_hour_cos  </th><th>ts_start_day  </th><th>start_weekday  </th><th>start_weekday_sin  </th><th>start_weekday_cos   </th><th>start_month  </th><th>pickup_hex_7   </th><th>dropoff_hex_7  </th><th>pickup_hex_8   </th><th>dropoff_hex_8  </th><th>pickup_hex_9   </th><th>dropoff_hex_9  </th><th>pickup_pol_7                                       </th><th>dropoff_pol_7                                      </th><th>pickup_pol_8                                       </th><th>dropoff_pol_8                                      </th><th>pickup_pol_9                                       </th><th>dropoff_pol_9                                      </th><th>Payment Type_encoded  </th><th>Company_encoded  </th><th>Taxi ID_encoded  </th><th>Payment Type_Dispute  </th><th>Payment Type_Unknown  </th><th>Payment Type_Prcard  </th><th>Payment Type_Cash  </th><th>Payment Type_Credit Card  </th><th>Payment Type_Pcard  </th><th>Payment Type_No Charge  </th></tr>\n",
       "</thead>\n",
       "<tbody>\n",
       "<tr><td><i style='opacity: 0.6'>0</i>         </td><td>506646dd0685bd55094f1b7dfac97cf3b07b6126</td><td>&#x27;1099c684f9da1ac1d0dd253d394f1c8dad37bc1a53d944d...</td><td>05/17/2014 10:45:00 AM</td><td>1080.0        </td><td>7.0         </td><td>17.45 </td><td>0.0   </td><td>0.0    </td><td>1.5     </td><td>18.95       </td><td>Cash          </td><td>Taxi Affiliation Services        </td><td>2014-05-17 10:45:00.000000</td><td>10               </td><td>0.5000000000000003    </td><td>-0.8660254037844385    </td><td>8                </td><td>0.8660254037844392    </td><td>-0.4999999999999992  </td><td>6                </td><td>3.6739403974420594e-16</td><td>-1.0                 </td><td>2014-05-17    </td><td>5              </td><td>-0.9749279121818236</td><td>-0.2225209339563146 </td><td>5            </td><td>872c21191ffffff</td><td>872c2118bffffff</td><td>882c211913fffff</td><td>882c2118bbfffff</td><td>892c211913bffff</td><td>892c2118ba3ffff</td><td>&#x27;&lt;POLYGON ((41.859 41.887, 41.856 41.875, 41.869...</td><td>&#x27;&lt;POLYGON ((41.936 41.95, 41.933 41.937, 41.945 ...</td><td>&#x27;&lt;POLYGON ((41.878 41.886, 41.875 41.882, 41.878...</td><td>&#x27;&lt;POLYGON ((41.946 41.953, 41.942 41.949, 41.946...</td><td>&#x27;&lt;POLYGON ((41.877 41.881, 41.876 41.879, 41.878...</td><td>&#x27;&lt;POLYGON ((41.947 41.95, 41.947 41.948, 41.948 ...</td><td>3                     </td><td>28               </td><td>338              </td><td>0                     </td><td>0                     </td><td>0                    </td><td>1                  </td><td>0                         </td><td>0                   </td><td>0                       </td></tr>\n",
       "<tr><td><i style='opacity: 0.6'>1</i>         </td><td>1462669f59c3b5a1730e8a5f511a4102d1998c21</td><td>&#x27;379e0fd9da136cabc9eec3aca37047bbdee373ca2ef7a03...</td><td>04/17/2014 06:30:00 PM</td><td>1080.0        </td><td>3.0         </td><td>11.45 </td><td>0.0   </td><td>0.0    </td><td>1.0     </td><td>12.45       </td><td>Cash          </td><td>Taxi Affiliation Services        </td><td>2014-04-17 18:30:00.000000</td><td>18               </td><td>-1.0                  </td><td>-1.8369701987210297e-16</td><td>16               </td><td>-0.8660254037844377   </td><td>-0.5000000000000016  </td><td>18               </td><td>1.102182119232618e-15 </td><td>-1.0                 </td><td>2014-04-17    </td><td>3              </td><td>0.43388373911755823</td><td>-0.900968867902419  </td><td>4            </td><td>None           </td><td>872c21190ffffff</td><td>None           </td><td>882c211905fffff</td><td>None           </td><td>892c211905bffff</td><td>None                                               </td><td>&#x27;&lt;POLYGON ((41.84 41.871, 41.837 41.859, 41.849 ...</td><td>None                                               </td><td>&#x27;&lt;POLYGON ((41.85 41.858, 41.846 41.854, 41.849 ...</td><td>None                                               </td><td>&#x27;&lt;POLYGON ((41.848 41.853, 41.848 41.851, 41.849...</td><td>3                     </td><td>28               </td><td>4709             </td><td>0                     </td><td>0                     </td><td>0                    </td><td>1                  </td><td>0                         </td><td>0                   </td><td>0                       </td></tr>\n",
       "<tr><td><i style='opacity: 0.6'>2</i>         </td><td>8d699aec32ce70e3647f7b06147001d3926975cc</td><td>&#x27;6768c7ebfdee8e7e7b3f5ec44739316241895aa2f7edf10...</td><td>05/03/2014 11:30:00 PM</td><td>720.0         </td><td>2.1         </td><td>8.45  </td><td>2.0   </td><td>0.0    </td><td>1.0     </td><td>11.45       </td><td>Credit Card   </td><td>Dispatch Taxi Affiliation        </td><td>2014-05-03 23:30:00.000000</td><td>23               </td><td>-0.25881904510252157  </td><td>0.9659258262890681     </td><td>20               </td><td>0.8660254037844403    </td><td>-0.4999999999999972  </td><td>18               </td><td>1.102182119232618e-15 </td><td>-1.0                 </td><td>2014-05-03    </td><td>5              </td><td>-0.9749279121818236</td><td>-0.2225209339563146 </td><td>5            </td><td>872c2119cffffff</td><td>872c2119cffffff</td><td>882c2119c1fffff</td><td>882c2119c1fffff</td><td>892c2119c0fffff</td><td>892c2119c0bffff</td><td>&#x27;&lt;POLYGON ((41.879 41.903, 41.875 41.89, 41.888 ...</td><td>&#x27;&lt;POLYGON ((41.879 41.903, 41.875 41.89, 41.888 ...</td><td>&#x27;&lt;POLYGON ((41.888 41.898, 41.885 41.894, 41.888...</td><td>&#x27;&lt;POLYGON ((41.888 41.898, 41.885 41.894, 41.888...</td><td>&#x27;&lt;POLYGON ((41.893 41.894, 41.893 41.892, 41.895...</td><td>&#x27;&lt;POLYGON ((41.891 41.892, 41.89 41.89, 41.892 4...</td><td>4                     </td><td>50               </td><td>1596             </td><td>0                     </td><td>0                     </td><td>0                    </td><td>0                  </td><td>1                         </td><td>0                   </td><td>0                       </td></tr>\n",
       "<tr><td><i style='opacity: 0.6'>3</i>         </td><td>ae05f6f7a766b58b059f04c7549892da4dc3cf54</td><td>&#x27;7dc01f4be54a4058ffb81098be25f52c9f1249afc88e3ef...</td><td>05/17/2014 01:30:00 AM</td><td>480.0         </td><td>0.0         </td><td>7.85  </td><td>3.0   </td><td>0.0    </td><td>1.0     </td><td>11.85       </td><td>Credit Card   </td><td>Taxi Affiliation Services        </td><td>2014-05-17 01:30:00.000000</td><td>1                </td><td>0.25881904510252074   </td><td>0.9659258262890683     </td><td>0                </td><td>0.0                   </td><td>1.0                  </td><td>0                </td><td>0.0                   </td><td>1.0                  </td><td>2014-05-17    </td><td>5              </td><td>-0.9749279121818236</td><td>-0.2225209339563146 </td><td>5            </td><td>872c2119dffffff</td><td>872c2118bffffff</td><td>882c2119d3fffff</td><td>882c2118b9fffff</td><td>892c2119d33ffff</td><td>892c2118b8bffff</td><td>&#x27;&lt;POLYGON ((41.898 41.918, 41.894 41.906, 41.907...</td><td>&#x27;&lt;POLYGON ((41.936 41.95, 41.933 41.937, 41.945 ...</td><td>&#x27;&lt;POLYGON ((41.917 41.917, 41.914 41.913, 41.917...</td><td>&#x27;&lt;POLYGON ((41.936 41.95, 41.933 41.946, 41.936 ...</td><td>&#x27;&lt;POLYGON ((41.914 41.915, 41.914 41.913, 41.915...</td><td>&#x27;&lt;POLYGON ((41.939 41.944, 41.938 41.942, 41.94 ...</td><td>4                     </td><td>28               </td><td>6881             </td><td>0                     </td><td>0                     </td><td>0                    </td><td>0                  </td><td>1                         </td><td>0                   </td><td>0                       </td></tr>\n",
       "<tr><td><i style='opacity: 0.6'>4</i>         </td><td>b45b42620c3a926ea633b9115dc624a33dcf3b56</td><td>&#x27;9f87b11be025b5dcc55e9472b8c2158664c97d193cf15d9...</td><td>04/25/2014 02:30:00 PM</td><td>0.0           </td><td>0.0         </td><td>42.05 </td><td>7.0   </td><td>0.0    </td><td>0.0     </td><td>49.05       </td><td>Credit Card   </td><td>T.A.S. - Payment Only            </td><td>2014-04-25 14:30:00.000000</td><td>14               </td><td>-0.4999999999999997   </td><td>-0.8660254037844388    </td><td>12               </td><td>-4.898587196589413e-16</td><td>1.0                  </td><td>12               </td><td>-7.347880794884119e-16</td><td>1.0                  </td><td>2014-04-25    </td><td>4              </td><td>-0.433883739117558 </td><td>-0.9009688679024191 </td><td>4            </td><td>None           </td><td>None           </td><td>None           </td><td>None           </td><td>None           </td><td>None           </td><td>None                                               </td><td>None                                               </td><td>None                                               </td><td>None                                               </td><td>None                                               </td><td>None                                               </td><td>4                     </td><td>103              </td><td>1980             </td><td>0                     </td><td>0                     </td><td>0                    </td><td>0                  </td><td>1                         </td><td>0                   </td><td>0                       </td></tr>\n",
       "<tr><td>...                                   </td><td>...                                     </td><td>...                                                </td><td>...                   </td><td>...           </td><td>...         </td><td>...   </td><td>...   </td><td>...    </td><td>...     </td><td>...         </td><td>...           </td><td>...                              </td><td>...                       </td><td>...              </td><td>...                   </td><td>...                    </td><td>...              </td><td>...                   </td><td>...                  </td><td>...              </td><td>...                   </td><td>...                  </td><td>...           </td><td>...            </td><td>...                </td><td>...                 </td><td>...          </td><td>...            </td><td>...            </td><td>...            </td><td>...            </td><td>...            </td><td>...            </td><td>...                                                </td><td>...                                                </td><td>...                                                </td><td>...                                                </td><td>...                                                </td><td>...                                                </td><td>...                   </td><td>...              </td><td>...              </td><td>...                   </td><td>...                   </td><td>...                  </td><td>...                </td><td>...                       </td><td>...                 </td><td>...                     </td></tr>\n",
       "<tr><td><i style='opacity: 0.6'>37,395,431</i></td><td>40aa131f22b63a5ca71d1eff4477500e6b875036</td><td>&#x27;8c244243c4123f4b467c2931cf59a691059a45302dc13e3...</td><td>04/03/2014 08:30:00 PM</td><td>900.0         </td><td>3.7         </td><td>11.25 </td><td>0.0   </td><td>0.0    </td><td>0.0     </td><td>11.25       </td><td>Cash          </td><td>Taxi Affiliation Services        </td><td>2014-04-03 20:30:00.000000</td><td>20               </td><td>-0.866025403784439    </td><td>0.49999999999999933    </td><td>20               </td><td>0.8660254037844403    </td><td>-0.4999999999999972  </td><td>18               </td><td>1.102182119232618e-15 </td><td>-1.0                 </td><td>2014-04-03    </td><td>3              </td><td>0.43388373911755823</td><td>-0.900968867902419  </td><td>4            </td><td>872c2118bffffff</td><td>872c2119dffffff</td><td>882c2118b9fffff</td><td>882c2119c3fffff</td><td>892c2118b8fffff</td><td>892c2119dcbffff</td><td>&#x27;&lt;POLYGON ((41.936 41.95, 41.933 41.937, 41.945 ...</td><td>&#x27;&lt;POLYGON ((41.898 41.918, 41.894 41.906, 41.907...</td><td>&#x27;&lt;POLYGON ((41.936 41.95, 41.933 41.946, 41.936 ...</td><td>&#x27;&lt;POLYGON ((41.898 41.902, 41.894 41.898, 41.897...</td><td>&#x27;&lt;POLYGON ((41.941 41.946, 41.941 41.944, 41.943...</td><td>&#x27;&lt;POLYGON ((41.9 41.904, 41.9 41.902, 41.902 41....</td><td>3                     </td><td>28               </td><td>1789             </td><td>0                     </td><td>0                     </td><td>0                    </td><td>1                  </td><td>0                         </td><td>0                   </td><td>0                       </td></tr>\n",
       "<tr><td><i style='opacity: 0.6'>37,395,432</i></td><td>0cd3c0015580380a89b2da5d4ed01016c0399e6a</td><td>&#x27;01480513a7f6f4664d6cc4c41ff3043ae6ecbc8cb17404f...</td><td>05/13/2014 11:30:00 PM</td><td>540.0         </td><td>0.0         </td><td>11.85 </td><td>3.55  </td><td>0.0    </td><td>0.0     </td><td>15.4        </td><td>Credit Card   </td><td>Blue Ribbon Taxi Association Inc.</td><td>2014-05-13 23:30:00.000000</td><td>23               </td><td>-0.25881904510252157  </td><td>0.9659258262890681     </td><td>20               </td><td>0.8660254037844403    </td><td>-0.4999999999999972  </td><td>18               </td><td>1.102182119232618e-15 </td><td>-1.0                 </td><td>2014-05-13    </td><td>1              </td><td>0.7818314824680298 </td><td>0.6234898018587336  </td><td>5            </td><td>872c2119cffffff</td><td>872c2118bffffff</td><td>882c2119c3fffff</td><td>882c2118b9fffff</td><td>892c2119c37ffff</td><td>892c2118b8fffff</td><td>&#x27;&lt;POLYGON ((41.879 41.903, 41.875 41.89, 41.888 ...</td><td>&#x27;&lt;POLYGON ((41.936 41.95, 41.933 41.937, 41.945 ...</td><td>&#x27;&lt;POLYGON ((41.898 41.902, 41.894 41.898, 41.897...</td><td>&#x27;&lt;POLYGON ((41.936 41.95, 41.933 41.946, 41.936 ...</td><td>&#x27;&lt;POLYGON ((41.898 41.902, 41.897 41.9, 41.899 4...</td><td>&#x27;&lt;POLYGON ((41.941 41.946, 41.941 41.944, 41.943...</td><td>4                     </td><td>9                </td><td>1021             </td><td>0                     </td><td>0                     </td><td>0                    </td><td>0                  </td><td>1                         </td><td>0                   </td><td>0                       </td></tr>\n",
       "<tr><td><i style='opacity: 0.6'>37,395,433</i></td><td>d378e1b76a0de5844b9d50a719239bcf878da1fc</td><td>&#x27;fdeaab06ce15ad69658acbc0e591218ef6146a29ef21275...</td><td>05/14/2014 12:45:00 PM</td><td>240.0         </td><td>0.0         </td><td>5.25  </td><td>3.0   </td><td>0.0    </td><td>1.5     </td><td>9.75        </td><td>Credit Card   </td><td>Taxi Affiliation Services        </td><td>2014-05-14 12:45:00.000000</td><td>12               </td><td>1.2246467991473532e-16</td><td>-1.0                   </td><td>12               </td><td>-4.898587196589413e-16</td><td>1.0                  </td><td>12               </td><td>-7.347880794884119e-16</td><td>1.0                  </td><td>2014-05-14    </td><td>2              </td><td>0.9749279121818236 </td><td>-0.22252093395631434</td><td>5            </td><td>872c21191ffffff</td><td>872c2119cffffff</td><td>882c211913fffff</td><td>882c2119c5fffff</td><td>892c2119123ffff</td><td>892c2119c53ffff</td><td>&#x27;&lt;POLYGON ((41.859 41.887, 41.856 41.875, 41.869...</td><td>&#x27;&lt;POLYGON ((41.879 41.903, 41.875 41.89, 41.888 ...</td><td>&#x27;&lt;POLYGON ((41.878 41.886, 41.875 41.882, 41.878...</td><td>&#x27;&lt;POLYGON ((41.888 41.89, 41.885 41.886, 41.888 ...</td><td>&#x27;&lt;POLYGON ((41.88 41.883, 41.879 41.881, 41.881 ...</td><td>&#x27;&lt;POLYGON ((41.885 41.887, 41.885 41.886, 41.887...</td><td>4                     </td><td>28               </td><td>1039             </td><td>0                     </td><td>0                     </td><td>0                    </td><td>0                  </td><td>1                         </td><td>0                   </td><td>0                       </td></tr>\n",
       "<tr><td><i style='opacity: 0.6'>37,395,434</i></td><td>d64938a724961d6f2c0ae58932e78e3671784822</td><td>&#x27;a42edac48945c9dab13540adee09290f11b123a513580f2...</td><td>05/14/2014 12:15:00 PM</td><td>360.0         </td><td>0.0         </td><td>5.05  </td><td>0.0   </td><td>0.0    </td><td>0.0     </td><td>5.05        </td><td>Cash          </td><td>KOAM Taxi Association            </td><td>2014-05-14 12:15:00.000000</td><td>12               </td><td>1.2246467991473532e-16</td><td>-1.0                   </td><td>12               </td><td>-4.898587196589413e-16</td><td>1.0                  </td><td>12               </td><td>-7.347880794884119e-16</td><td>1.0                  </td><td>2014-05-14    </td><td>2              </td><td>0.9749279121818236 </td><td>-0.22252093395631434</td><td>5            </td><td>872c2119dffffff</td><td>872c2119cffffff</td><td>882c2119ddfffff</td><td>882c2119c3fffff</td><td>892c2119dcbffff</td><td>892c2119c33ffff</td><td>&#x27;&lt;POLYGON ((41.898 41.918, 41.894 41.906, 41.907...</td><td>&#x27;&lt;POLYGON ((41.879 41.903, 41.875 41.89, 41.888 ...</td><td>&#x27;&lt;POLYGON ((41.898 41.91, 41.894 41.906, 41.898 ...</td><td>&#x27;&lt;POLYGON ((41.898 41.902, 41.894 41.898, 41.897...</td><td>&#x27;&lt;POLYGON ((41.9 41.904, 41.9 41.902, 41.902 41....</td><td>&#x27;&lt;POLYGON ((41.895 41.899, 41.894 41.898, 41.896...</td><td>3                     </td><td>73               </td><td>6134             </td><td>0                     </td><td>0                     </td><td>0                    </td><td>1                  </td><td>0                         </td><td>0                   </td><td>0                       </td></tr>\n",
       "<tr><td><i style='opacity: 0.6'>37,395,435</i></td><td>ffa438bd0098e226eccd9867c2a134009a13c20d</td><td>&#x27;705cc88d7a216145f6c762aa705905a745a0c5f17e39aa1...</td><td>05/13/2014 11:30:00 PM</td><td>840.0         </td><td>3.2         </td><td>10.45 </td><td>2.25  </td><td>0.0    </td><td>1.0     </td><td>13.7        </td><td>Credit Card   </td><td>Dispatch Taxi Affiliation        </td><td>2014-05-13 23:30:00.000000</td><td>23               </td><td>-0.25881904510252157  </td><td>0.9659258262890681     </td><td>20               </td><td>0.8660254037844403    </td><td>-0.4999999999999972  </td><td>18               </td><td>1.102182119232618e-15 </td><td>-1.0                 </td><td>2014-05-13    </td><td>1              </td><td>0.7818314824680298 </td><td>0.6234898018587336  </td><td>5            </td><td>872c2119cffffff</td><td>872c2119dffffff</td><td>882c211913fffff</td><td>882c2119d3fffff</td><td>892c2119127ffff</td><td>892c2119d33ffff</td><td>&#x27;&lt;POLYGON ((41.879 41.903, 41.875 41.89, 41.888 ...</td><td>&#x27;&lt;POLYGON ((41.898 41.918, 41.894 41.906, 41.907...</td><td>&#x27;&lt;POLYGON ((41.878 41.886, 41.875 41.882, 41.878...</td><td>&#x27;&lt;POLYGON ((41.917 41.917, 41.914 41.913, 41.917...</td><td>&#x27;&lt;POLYGON ((41.882 41.885, 41.882 41.883, 41.884...</td><td>&#x27;&lt;POLYGON ((41.914 41.915, 41.914 41.913, 41.915...</td><td>4                     </td><td>50               </td><td>7565             </td><td>0                     </td><td>0                     </td><td>0                    </td><td>0                  </td><td>1                         </td><td>0                   </td><td>0                       </td></tr>\n",
       "</tbody>\n",
       "</table>"
      ],
      "text/plain": [
       "<IPython.core.display.HTML object>"
      ]
     },
     "metadata": {},
     "output_type": "display_data"
    }
   ],
   "source": [
    "df_trips.info()"
   ]
  },
  {
   "attachments": {},
   "cell_type": "markdown",
   "metadata": {},
   "source": [
    "## Persist dataset as 'trips_prepared.hdf5'"
   ]
  },
  {
   "cell_type": "code",
   "execution_count": 14,
   "metadata": {},
   "outputs": [
    {
     "name": "stdout",
     "output_type": "stream",
     "text": [
      "export(hdf5) [########################################] 98.90% estimated time:    30.52s =  0.5m =  0.0h                                                                                          "
     ]
    }
   ],
   "source": [
    "df_trips.export_hdf5(\"data/trips/trips_prepared.hdf5\", progress=True)"
   ]
  },
  {
   "cell_type": "code",
   "execution_count": 44,
   "metadata": {},
   "outputs": [
    {
     "data": {
      "text/plain": [
       "''"
      ]
     },
     "execution_count": 44,
     "metadata": {},
     "output_type": "execute_result"
    }
   ],
   "source": [
    "# just to stop you from executing the stuff below ;)\n",
    "# \n",
    "input()"
   ]
  },
  {
   "attachments": {},
   "cell_type": "markdown",
   "metadata": {},
   "source": [
    "## Persist aggregated data sets (relevant for further processing)"
   ]
  },
  {
   "cell_type": "code",
   "execution_count": 34,
   "metadata": {},
   "outputs": [],
   "source": [
    "aggregation = { 'demand':'count',\n",
    "                'Trip Seconds':'mean', \n",
    "                'Trip Miles':'mean', \n",
    "                'Fare':'mean', \n",
    "                'Tips':'mean', \n",
    "                'Tolls':'mean', \n",
    "                'Extras':'mean', \n",
    "                'Trip Total':'mean',\n",
    "                'Company_encoded':'nunique',\n",
    "                'Taxi ID_encoded':'nunique',\n",
    "                'Payment Type_Dispute':'sum',\n",
    "                'Payment Type_Unknown':'sum',\n",
    "                'Payment Type_Prcard':'sum',\n",
    "                'Payment Type_Cash':'sum',\n",
    "                'Payment Type_Credit Card':'sum',\n",
    "                'Payment Type_Pcard':'sum',\n",
    "                'Payment Type_No Charge':'sum'}"
   ]
  },
  {
   "cell_type": "code",
   "execution_count": 43,
   "metadata": {},
   "outputs": [
    {
     "name": "stdout",
     "output_type": "stream",
     "text": [
      "groupby [########################################] 100.00% elapsed time  :     0.20s =  0.0m =  0.0h\n",
      "groupby [########################################] 100.00% elapsed time  :     0.35s =  0.0m =  0.0h\n",
      "groupby [########################################] 100.00% elapsed time  :     0.18s =  0.0m =  0.0h\n",
      "groupby [########################################] 100.00% elapsed time  :     0.33s =  0.0m =  0.0h\n",
      "groupby [########################################] 100.00% elapsed time  :     0.16s =  0.0m =  0.0h\n",
      "groupby [########################################] 100.00% elapsed time  :     0.35s =  0.0m =  0.0h\n",
      "groupby [########################################] 100.00% elapsed time  :     0.29s =  0.0m =  0.0h\n",
      "groupby [########################################] 100.00% elapsed time  :     0.51s =  0.0m =  0.0h \n",
      "groupby [########################################] 100.00% elapsed time  :     0.18s =  0.0m =  0.0h\n",
      "groupby [########################################] 100.00% elapsed time  :     0.32s =  0.0m =  0.0h\n",
      "groupby [########################################] 100.00% elapsed time  :     0.18s =  0.0m =  0.0h\n",
      "groupby [########################################] 100.00% elapsed time  :     0.35s =  0.0m =  0.0h\n",
      "groupby [########################################] 100.00% elapsed time  :     0.17s =  0.0m =  0.0h\n",
      "groupby [########################################] 100.00% elapsed time  :     0.33s =  0.0m =  0.0h\n",
      "groupby [########################################] 100.00% elapsed time  :     0.21s =  0.0m =  0.0h\n",
      "groupby [########################################] 100.00% elapsed time  :     0.44s =  0.0m =  0.0h\n",
      "groupby [########################################] 100.00% elapsed time  :     0.25s =  0.0m =  0.0h\n",
      "groupby [########################################] 100.00% elapsed time  :     0.42s =  0.0m =  0.0h\n",
      "groupby [########################################] 100.00% elapsed time  :     0.16s =  0.0m =  0.0h\n",
      "groupby [########################################] 100.00% elapsed time  :     0.32s =  0.0m =  0.0h\n",
      "groupby [########################################] 100.00% elapsed time  :     0.22s =  0.0m =  0.0h\n",
      "groupby [########################################] 100.00% elapsed time  :     0.44s =  0.0m =  0.0h\n",
      "groupby [########################################] 100.00% elapsed time  :     0.18s =  0.0m =  0.0h\n",
      "groupby [########################################] 100.00% elapsed time  :     0.36s =  0.0m =  0.0h\n",
      "groupby [########################################] 100.00% elapsed time  :     0.16s =  0.0m =  0.0h\n",
      "groupby [########################################] 100.00% elapsed time  :     0.30s =  0.0m =  0.0h\n",
      "groupby [########################################] 100.00% elapsed time  :     0.16s =  0.0m =  0.0h\n",
      "groupby [########################################] 100.00% elapsed time  :     0.30s =  0.0m =  0.0h\n",
      "groupby [########################################] 100.00% elapsed time  :     0.16s =  0.0m =  0.0h\n",
      "groupby [########################################] 100.00% elapsed time  :     0.30s =  0.0m =  0.0h\n",
      "groupby [########################################] 100.00% elapsed time  :     0.10s =  0.0m =  0.0h\n",
      "groupby [########################################] 100.00% elapsed time  :     0.21s =  0.0m =  0.0h \n",
      "groupby [########################################] 100.00% elapsed time  :     0.10s =  0.0m =  0.0h\n",
      "groupby [########################################] 100.00% elapsed time  :     0.20s =  0.0m =  0.0h\n",
      "groupby [########################################] 100.00% elapsed time  :     0.18s =  0.0m =  0.0h\n",
      "groupby [########################################] 100.00% elapsed time  :     0.42s =  0.0m =  0.0h\n",
      " "
     ]
    },
    {
     "data": {
      "text/html": [
       "<table>\n",
       "<thead>\n",
       "<tr><th>#                              </th><th>start_month  </th><th>pickup_hex_9   </th><th>demand  </th><th>Trip Seconds  </th><th>Trip Miles        </th><th>Fare              </th><th>Tips              </th><th>Tolls  </th><th>Extras            </th><th>Trip Total        </th><th>Company_encoded  </th><th>Taxi ID_encoded  </th><th>Payment Type_Dispute  </th><th>Payment Type_Unknown  </th><th>Payment Type_Prcard  </th><th>Payment Type_Cash  </th><th>Payment Type_Credit Card  </th><th>Payment Type_Pcard  </th><th>Payment Type_No Charge  </th></tr>\n",
       "</thead>\n",
       "<tbody>\n",
       "<tr><td><i style='opacity: 0.6'>0</i>  </td><td>5            </td><td>892c210146fffff</td><td>1       </td><td>1320.0        </td><td>7.8               </td><td>18.85             </td><td>0.0               </td><td>0.0    </td><td>0.0               </td><td>18.85             </td><td>1                </td><td>1                </td><td>0                     </td><td>0                     </td><td>0                    </td><td>1                  </td><td>0                         </td><td>0                   </td><td>0                       </td></tr>\n",
       "<tr><td><i style='opacity: 0.6'>1</i>  </td><td>5            </td><td>892c211915bffff</td><td>2       </td><td>600.0         </td><td>4.4               </td><td>11.85             </td><td>2.75              </td><td>0.0    </td><td>1.0               </td><td>15.6              </td><td>1                </td><td>2                </td><td>0                     </td><td>0                     </td><td>0                    </td><td>0                  </td><td>2                         </td><td>0                   </td><td>0                       </td></tr>\n",
       "<tr><td><i style='opacity: 0.6'>2</i>  </td><td>5            </td><td>892c2101687ffff</td><td>3       </td><td>700.0         </td><td>2.8333333333333335</td><td>11.983333333333334</td><td>2.1666666666666665</td><td>0.0    </td><td>0.3333333333333333</td><td>14.483333333333334</td><td>3                </td><td>3                </td><td>0                     </td><td>0                     </td><td>0                    </td><td>1                  </td><td>2                         </td><td>0                   </td><td>0                       </td></tr>\n",
       "<tr><td><i style='opacity: 0.6'>3</i>  </td><td>4            </td><td>892c2119dafffff</td><td>1       </td><td>0.0           </td><td>0.0               </td><td>3.25              </td><td>0.0               </td><td>0.0    </td><td>0.0               </td><td>3.25              </td><td>1                </td><td>1                </td><td>0                     </td><td>0                     </td><td>0                    </td><td>1                  </td><td>0                         </td><td>0                   </td><td>0                       </td></tr>\n",
       "<tr><td><i style='opacity: 0.6'>4</i>  </td><td>5            </td><td>892c2119dafffff</td><td>2       </td><td>510.0         </td><td>3.4               </td><td>9.85              </td><td>2.075             </td><td>0.0    </td><td>0.0               </td><td>11.925            </td><td>2                </td><td>2                </td><td>0                     </td><td>0                     </td><td>0                    </td><td>1                  </td><td>1                         </td><td>0                   </td><td>0                       </td></tr>\n",
       "<tr><td>...                            </td><td>...          </td><td>...            </td><td>...     </td><td>...           </td><td>...               </td><td>...               </td><td>...               </td><td>...    </td><td>...               </td><td>...               </td><td>...              </td><td>...              </td><td>...                   </td><td>...                   </td><td>...                  </td><td>...                </td><td>...                       </td><td>...                 </td><td>...                     </td></tr>\n",
       "<tr><td><i style='opacity: 0.6'>124</i></td><td>4            </td><td>892c2119c03ffff</td><td>3       </td><td>180.0         </td><td>0.0               </td><td>4.716666666666667 </td><td>0.0               </td><td>0.0    </td><td>0.8333333333333334</td><td>5.55              </td><td>2                </td><td>3                </td><td>0                     </td><td>0                     </td><td>0                    </td><td>2                  </td><td>0                         </td><td>0                   </td><td>1                       </td></tr>\n",
       "<tr><td><i style='opacity: 0.6'>125</i></td><td>5            </td><td>892c2101193ffff</td><td>1       </td><td>1020.0        </td><td>0.0               </td><td>20.65             </td><td>0.0               </td><td>0.0    </td><td>3.5               </td><td>24.15             </td><td>1                </td><td>1                </td><td>0                     </td><td>0                     </td><td>0                    </td><td>1                  </td><td>0                         </td><td>0                   </td><td>0                       </td></tr>\n",
       "<tr><td><i style='opacity: 0.6'>126</i></td><td>5            </td><td>892c211905bffff</td><td>1       </td><td>540.0         </td><td>2.6               </td><td>8.45              </td><td>0.0               </td><td>0.0    </td><td>0.0               </td><td>8.45              </td><td>1                </td><td>1                </td><td>0                     </td><td>0                     </td><td>0                    </td><td>1                  </td><td>0                         </td><td>0                   </td><td>0                       </td></tr>\n",
       "<tr><td><i style='opacity: 0.6'>127</i></td><td>4            </td><td>892c2119073ffff</td><td>3       </td><td>620.0         </td><td>1.3666666666666665</td><td>8.516666666666666 </td><td>0.0               </td><td>0.0    </td><td>0.5               </td><td>9.016666666666666 </td><td>1                </td><td>3                </td><td>0                     </td><td>0                     </td><td>0                    </td><td>3                  </td><td>0                         </td><td>0                   </td><td>0                       </td></tr>\n",
       "<tr><td><i style='opacity: 0.6'>128</i></td><td>5            </td><td>892c2119073ffff</td><td>8       </td><td>1155.0        </td><td>1.125             </td><td>13.700000000000001</td><td>1.70625           </td><td>0.0    </td><td>0.5               </td><td>15.90625          </td><td>3                </td><td>8                </td><td>0                     </td><td>0                     </td><td>0                    </td><td>6                  </td><td>2                         </td><td>0                   </td><td>0                       </td></tr>\n",
       "</tbody>\n",
       "</table>"
      ],
      "text/plain": [
       "#    start_month    pickup_hex_9     demand    Trip Seconds    Trip Miles          Fare                Tips                Tolls    Extras              Trip Total          Company_encoded    Taxi ID_encoded    Payment Type_Dispute    Payment Type_Unknown    Payment Type_Prcard    Payment Type_Cash    Payment Type_Credit Card    Payment Type_Pcard    Payment Type_No Charge\n",
       "0    5              892c210146fffff  1         1320.0          7.8                 18.85               0.0                 0.0      0.0                 18.85               1                  1                  0                       0                       0                      1                    0                           0                     0\n",
       "1    5              892c211915bffff  2         600.0           4.4                 11.85               2.75                0.0      1.0                 15.6                1                  2                  0                       0                       0                      0                    2                           0                     0\n",
       "2    5              892c2101687ffff  3         700.0           2.8333333333333335  11.983333333333334  2.1666666666666665  0.0      0.3333333333333333  14.483333333333334  3                  3                  0                       0                       0                      1                    2                           0                     0\n",
       "3    4              892c2119dafffff  1         0.0             0.0                 3.25                0.0                 0.0      0.0                 3.25                1                  1                  0                       0                       0                      1                    0                           0                     0\n",
       "4    5              892c2119dafffff  2         510.0           3.4                 9.85                2.075               0.0      0.0                 11.925              2                  2                  0                       0                       0                      1                    1                           0                     0\n",
       "...  ...            ...              ...       ...             ...                 ...                 ...                 ...      ...                 ...                 ...                ...                ...                     ...                     ...                    ...                  ...                         ...                   ...\n",
       "124  4              892c2119c03ffff  3         180.0           0.0                 4.716666666666667   0.0                 0.0      0.8333333333333334  5.55                2                  3                  0                       0                       0                      2                    0                           0                     1\n",
       "125  5              892c2101193ffff  1         1020.0          0.0                 20.65               0.0                 0.0      3.5                 24.15               1                  1                  0                       0                       0                      1                    0                           0                     0\n",
       "126  5              892c211905bffff  1         540.0           2.6                 8.45                0.0                 0.0      0.0                 8.45                1                  1                  0                       0                       0                      1                    0                           0                     0\n",
       "127  4              892c2119073ffff  3         620.0           1.3666666666666665  8.516666666666666   0.0                 0.0      0.5                 9.016666666666666   1                  3                  0                       0                       0                      3                    0                           0                     0\n",
       "128  5              892c2119073ffff  8         1155.0          1.125               13.700000000000001  1.70625             0.0      0.5                 15.90625            3                  8                  0                       0                       0                      6                    2                           0                     0"
      ]
     },
     "execution_count": 43,
     "metadata": {},
     "output_type": "execute_result"
    }
   ],
   "source": [
    "# 1_hour_hex\n",
    "df_trips[:100].groupby(by=[df_trips.ts_start_1_hour, df_trips.ts_start_1_hour_sin, df_trips.ts_start_1_hour_cos, df_trips.pickup_hex_7], progress=True).agg(aggregation)\n",
    "df_trips[:100].groupby(by=[df_trips.ts_start_1_hour, df_trips.ts_start_1_hour_sin, df_trips.ts_start_1_hour_cos, df_trips.pickup_hex_8], progress=True).agg(aggregation)\n",
    "df_trips[:100].groupby(by=[df_trips.ts_start_1_hour, df_trips.ts_start_1_hour_sin, df_trips.ts_start_1_hour_cos, df_trips.pickup_hex_9], progress=True).agg(aggregation)\n",
    "# 4_hour_hex\n",
    "df_trips[:100].groupby(by=[df_trips.ts_start_4_hour, df_trips.ts_start_4_hour_sin, df_trips.ts_start_4_hour_cos, df_trips.pickup_hex_7], progress=True).agg(aggregation)\n",
    "df_trips[:100].groupby(by=[df_trips.ts_start_4_hour, df_trips.ts_start_4_hour_sin, df_trips.ts_start_4_hour_cos, df_trips.pickup_hex_8], progress=True).agg(aggregation)\n",
    "df_trips[:100].groupby(by=[df_trips.ts_start_4_hour, df_trips.ts_start_4_hour_sin, df_trips.ts_start_4_hour_cos, df_trips.pickup_hex_9], progress=True).agg(aggregation)\n",
    "# 6_hour_hex\n",
    "df_trips[:100].groupby(by=[df_trips.ts_start_6_hour, df_trips.ts_start_6_hour_sin, df_trips.ts_start_6_hour_cos, df_trips.pickup_hex_7], progress=True).agg(aggregation)\n",
    "df_trips[:100].groupby(by=[df_trips.ts_start_6_hour, df_trips.ts_start_6_hour_sin, df_trips.ts_start_6_hour_cos, df_trips.pickup_hex_8], progress=True).agg(aggregation)\n",
    "df_trips[:100].groupby(by=[df_trips.ts_start_6_hour, df_trips.ts_start_6_hour_sin, df_trips.ts_start_6_hour_cos, df_trips.pickup_hex_9], progress=True).agg(aggregation)\n",
    "# day_hex\n",
    "df_trips[:100].groupby(by=[df_trips.ts_start_day, df_trips.start_weekday, df_trips.start_month, df_trips.pickup_hex_7], progress=True).agg(aggregation)\n",
    "df_trips[:100].groupby(by=[df_trips.ts_start_day, df_trips.start_weekday, df_trips.start_month, df_trips.pickup_hex_8], progress=True).agg(aggregation)\n",
    "df_trips[:100].groupby(by=[df_trips.ts_start_day, df_trips.start_weekday, df_trips.start_month, df_trips.pickup_hex_9], progress=True).agg(aggregation)\n",
    "# weekday_hex\n",
    "df_trips[:100].groupby(by=[df_trips.start_weekday, df_trips.start_weekday_sin, df_trips.start_weekday_cos, df_trips.pickup_hex_7], progress=True).agg(aggregation)\n",
    "df_trips[:100].groupby(by=[df_trips.start_weekday, df_trips.start_weekday_sin, df_trips.start_weekday_cos, df_trips.pickup_hex_8], progress=True).agg(aggregation)\n",
    "df_trips[:100].groupby(by=[df_trips.start_weekday, df_trips.start_weekday_sin, df_trips.start_weekday_cos, df_trips.pickup_hex_9], progress=True).agg(aggregation)\n",
    "# month_hex\n",
    "df_trips[:100].groupby(by=[df_trips.start_month, df_trips.pickup_hex_7], progress=True).agg(aggregation)\n",
    "df_trips[:100].groupby(by=[df_trips.start_month, df_trips.pickup_hex_8], progress=True).agg(aggregation)\n",
    "df_trips[:1000].groupby(by=[df_trips.start_month, df_trips.pickup_hex_9], progress=True).agg(aggregation)"
   ]
  }
 ],
 "metadata": {
  "kernelspec": {
   "display_name": "AAA_2023-Ne9h4ijP",
   "language": "python",
   "name": "python3"
  },
  "language_info": {
   "codemirror_mode": {
    "name": "ipython",
    "version": 3
   },
   "file_extension": ".py",
   "mimetype": "text/x-python",
   "name": "python",
   "nbconvert_exporter": "python",
   "pygments_lexer": "ipython3",
   "version": "3.10.10"
  },
  "orig_nbformat": 4
 },
 "nbformat": 4,
 "nbformat_minor": 2
}
