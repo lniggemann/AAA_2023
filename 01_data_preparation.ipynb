{
 "cells": [
  {
   "attachments": {},
   "cell_type": "markdown",
   "metadata": {},
   "source": [
    "# Data preparation\n",
    "\n",
    "Prepare data for further processing.\n",
    "Steps:\n",
    "- dropping of not necessary columns\n",
    "- discretizing data (temporal and spatial)\n",
    "- encoding of categorical values\n",
    "- persisting the prepared dataset as 'trips_prepared.hdf5'\n"
   ]
  },
  {
   "cell_type": "code",
   "execution_count": 3,
   "metadata": {},
   "outputs": [],
   "source": [
    "import vaex"
   ]
  },
  {
   "attachments": {},
   "cell_type": "markdown",
   "metadata": {},
   "source": [
    "Load dataset"
   ]
  },
  {
   "cell_type": "code",
   "execution_count": 4,
   "metadata": {},
   "outputs": [],
   "source": [
    "df_trips = vaex.open(\"data/trips/trips.hdf5\")"
   ]
  },
  {
   "cell_type": "code",
   "execution_count": 5,
   "metadata": {},
   "outputs": [
    {
     "data": {
      "text/html": [
       "<style>.vaex-description pre {\n",
       "          max-width : 450px;\n",
       "          white-space : nowrap;\n",
       "          overflow : hidden;\n",
       "          text-overflow: ellipsis;\n",
       "        }\n",
       "\n",
       "        .vex-description pre:hover {\n",
       "          max-width : initial;\n",
       "          white-space: pre;\n",
       "        }</style>"
      ],
      "text/plain": [
       "<IPython.core.display.HTML object>"
      ]
     },
     "metadata": {},
     "output_type": "display_data"
    },
    {
     "data": {
      "text/html": [
       "<div><h2>trips</h2> <b>rows</b>: 37,395,436</div><h2>Columns:</h2><table class='table-striped'><thead><tr><th>column</th><th>type</th><th>unit</th><th>description</th><th>expression</th></tr></thead><tr><td>Trip ID</td><td>str</td><td></td><td ><pre></pre></td><td></td></tr><tr><td>Taxi ID</td><td>str</td><td></td><td ><pre></pre></td><td></td></tr><tr><td>Trip Start Timestamp</td><td>str</td><td></td><td ><pre></pre></td><td></td></tr><tr><td>Trip End Timestamp</td><td>str</td><td></td><td ><pre></pre></td><td></td></tr><tr><td>Trip Seconds</td><td>float64</td><td></td><td ><pre></pre></td><td></td></tr><tr><td>Trip Miles</td><td>float64</td><td></td><td ><pre></pre></td><td></td></tr><tr><td>Pickup Census Tract</td><td>float64</td><td></td><td ><pre></pre></td><td></td></tr><tr><td>Dropoff Census Tract</td><td>float64</td><td></td><td ><pre></pre></td><td></td></tr><tr><td>Pickup Community Area</td><td>float64</td><td></td><td ><pre></pre></td><td></td></tr><tr><td>Dropoff Community Area</td><td>float64</td><td></td><td ><pre></pre></td><td></td></tr><tr><td>Fare</td><td>float64</td><td></td><td ><pre></pre></td><td></td></tr><tr><td>Tips</td><td>float64</td><td></td><td ><pre></pre></td><td></td></tr><tr><td>Tolls</td><td>float64</td><td></td><td ><pre></pre></td><td></td></tr><tr><td>Extras</td><td>float64</td><td></td><td ><pre></pre></td><td></td></tr><tr><td>Trip Total</td><td>float64</td><td></td><td ><pre></pre></td><td></td></tr><tr><td>Payment Type</td><td>str</td><td></td><td ><pre></pre></td><td></td></tr><tr><td>Company</td><td>str</td><td></td><td ><pre></pre></td><td></td></tr><tr><td>Pickup Centroid Latitude</td><td>float64</td><td></td><td ><pre></pre></td><td></td></tr><tr><td>Pickup Centroid Longitude</td><td>float64</td><td></td><td ><pre></pre></td><td></td></tr><tr><td>Pickup Centroid Location</td><td>str</td><td></td><td ><pre></pre></td><td></td></tr><tr><td>Dropoff Centroid Latitude</td><td>float64</td><td></td><td ><pre></pre></td><td></td></tr><tr><td>Dropoff Centroid Longitude</td><td>float64</td><td></td><td ><pre></pre></td><td></td></tr><tr><td>Dropoff Centroid  Location</td><td>str</td><td></td><td ><pre></pre></td><td></td></tr></table><h2>Data:</h2><table>\n",
       "<thead>\n",
       "<tr><th>#                                     </th><th>Trip ID                                 </th><th>Taxi ID                                            </th><th>Trip Start Timestamp  </th><th>Trip End Timestamp    </th><th>Trip Seconds  </th><th>Trip Miles  </th><th>Pickup Census Tract  </th><th>Dropoff Census Tract  </th><th>Pickup Community Area  </th><th>Dropoff Community Area  </th><th>Fare  </th><th>Tips  </th><th>Tolls  </th><th>Extras  </th><th>Trip Total  </th><th>Payment Type  </th><th>Company                          </th><th>Pickup Centroid Latitude  </th><th>Pickup Centroid Longitude  </th><th>Pickup Centroid Location            </th><th>Dropoff Centroid Latitude  </th><th>Dropoff Centroid Longitude  </th><th>Dropoff Centroid  Location              </th></tr>\n",
       "</thead>\n",
       "<tbody>\n",
       "<tr><td><i style='opacity: 0.6'>0</i>         </td><td>506646dd0685bd55094f1b7dfac97cf3b07b6126</td><td>&#x27;1099c684f9da1ac1d0dd253d394f1c8dad37bc1a53d944d...</td><td>05/17/2014 10:45:00 AM</td><td>05/17/2014 11:00:00 AM</td><td>1080.0        </td><td>7.0         </td><td>17031281900.0        </td><td>17031061100.0         </td><td>28.0                   </td><td>6.0                     </td><td>17.45 </td><td>0.0   </td><td>0.0    </td><td>1.5     </td><td>18.95       </td><td>Cash          </td><td>Taxi Affiliation Services        </td><td>41.879255084              </td><td>-87.642648998              </td><td>POINT (-87.642648998 41.8792550844) </td><td>41.949139771               </td><td>-87.656803909               </td><td>POINT (-87.6568039088 41.9491397709)    </td></tr>\n",
       "<tr><td><i style='opacity: 0.6'>1</i>         </td><td>1462669f59c3b5a1730e8a5f511a4102d1998c21</td><td>&#x27;379e0fd9da136cabc9eec3aca37047bbdee373ca2ef7a03...</td><td>04/17/2014 06:30:00 PM</td><td>04/17/2014 07:00:00 PM</td><td>1080.0        </td><td>3.0         </td><td>nan                  </td><td>17031841100.0         </td><td>nan                    </td><td>34.0                    </td><td>11.45 </td><td>0.0   </td><td>0.0    </td><td>1.0     </td><td>12.45       </td><td>Cash          </td><td>Taxi Affiliation Services        </td><td>nan                       </td><td>nan                        </td><td>--                                  </td><td>41.851017824               </td><td>-87.635091856               </td><td>POINT (-87.6350918563 41.8510178239)    </td></tr>\n",
       "<tr><td><i style='opacity: 0.6'>2</i>         </td><td>8d699aec32ce70e3647f7b06147001d3926975cc</td><td>&#x27;6768c7ebfdee8e7e7b3f5ec44739316241895aa2f7edf10...</td><td>05/03/2014 11:30:00 PM</td><td>05/03/2014 11:45:00 PM</td><td>720.0         </td><td>2.1         </td><td>17031081800.0        </td><td>17031081403.0         </td><td>8.0                    </td><td>8.0                     </td><td>8.45  </td><td>2.0   </td><td>0.0    </td><td>1.0     </td><td>11.45       </td><td>Credit Card   </td><td>Dispatch Taxi Affiliation        </td><td>41.89321636               </td><td>-87.63784421               </td><td>POINT (-87.6378442095 41.8932163595)</td><td>41.890922026               </td><td>-87.618868355               </td><td>POINT (-87.6188683546 41.8909220259)    </td></tr>\n",
       "<tr><td><i style='opacity: 0.6'>3</i>         </td><td>ae05f6f7a766b58b059f04c7549892da4dc3cf54</td><td>&#x27;7dc01f4be54a4058ffb81098be25f52c9f1249afc88e3ef...</td><td>05/17/2014 01:30:00 AM</td><td>05/17/2014 01:45:00 AM</td><td>480.0         </td><td>0.0         </td><td>17031071500.0        </td><td>17031062200.0         </td><td>7.0                    </td><td>6.0                     </td><td>7.85  </td><td>3.0   </td><td>0.0    </td><td>1.0     </td><td>11.85       </td><td>Credit Card   </td><td>Taxi Affiliation Services        </td><td>41.914616286              </td><td>-87.631717366              </td><td>POINT (-87.6317173661 41.9146162864)</td><td>41.94258518                </td><td>-87.656644092               </td><td>POINT (-87.6566440918 41.9425851797)    </td></tr>\n",
       "<tr><td><i style='opacity: 0.6'>4</i>         </td><td>b45b42620c3a926ea633b9115dc624a33dcf3b56</td><td>&#x27;9f87b11be025b5dcc55e9472b8c2158664c97d193cf15d9...</td><td>04/25/2014 02:30:00 PM</td><td>04/25/2014 02:30:00 PM</td><td>0.0           </td><td>0.0         </td><td>nan                  </td><td>nan                   </td><td>nan                    </td><td>nan                     </td><td>42.05 </td><td>7.0   </td><td>0.0    </td><td>0.0     </td><td>49.05       </td><td>Credit Card   </td><td>T.A.S. - Payment Only            </td><td>nan                       </td><td>nan                        </td><td>--                                  </td><td>nan                        </td><td>nan                         </td><td>--                                      </td></tr>\n",
       "<tr><td>...                                   </td><td>...                                     </td><td>...                                                </td><td>...                   </td><td>...                   </td><td>...           </td><td>...         </td><td>...                  </td><td>...                   </td><td>...                    </td><td>...                     </td><td>...   </td><td>...   </td><td>...    </td><td>...     </td><td>...         </td><td>...           </td><td>...                              </td><td>...                       </td><td>...                        </td><td>...                                 </td><td>...                        </td><td>...                         </td><td>...                                     </td></tr>\n",
       "<tr><td><i style='opacity: 0.6'>37,395,431</i></td><td>40aa131f22b63a5ca71d1eff4477500e6b875036</td><td>&#x27;8c244243c4123f4b467c2931cf59a691059a45302dc13e3...</td><td>04/03/2014 08:30:00 PM</td><td>04/03/2014 08:45:00 PM</td><td>900.0         </td><td>3.7         </td><td>nan                  </td><td>nan                   </td><td>6.0                    </td><td>24.0                    </td><td>11.25 </td><td>0.0   </td><td>0.0    </td><td>0.0     </td><td>11.25       </td><td>Cash          </td><td>Taxi Affiliation Services        </td><td>41.944226601              </td><td>-87.655998182              </td><td>POINT (-87.6559981815 41.9442266014)</td><td>41.901206994               </td><td>-87.676355989               </td><td>POINT (-87.6763559892 41.90120699410001)</td></tr>\n",
       "<tr><td><i style='opacity: 0.6'>37,395,432</i></td><td>0cd3c0015580380a89b2da5d4ed01016c0399e6a</td><td>&#x27;01480513a7f6f4664d6cc4c41ff3043ae6ecbc8cb17404f...</td><td>05/13/2014 11:30:00 PM</td><td>05/13/2014 11:45:00 PM</td><td>540.0         </td><td>0.0         </td><td>nan                  </td><td>nan                   </td><td>8.0                    </td><td>6.0                     </td><td>11.85 </td><td>3.55  </td><td>0.0    </td><td>0.0     </td><td>15.4        </td><td>Credit Card   </td><td>Blue Ribbon Taxi Association Inc.</td><td>41.899602111              </td><td>-87.633308037              </td><td>POINT (-87.6333080367 41.899602111) </td><td>41.944226601               </td><td>-87.655998182               </td><td>POINT (-87.6559981815 41.9442266014)    </td></tr>\n",
       "<tr><td><i style='opacity: 0.6'>37,395,433</i></td><td>d378e1b76a0de5844b9d50a719239bcf878da1fc</td><td>&#x27;fdeaab06ce15ad69658acbc0e591218ef6146a29ef21275...</td><td>05/14/2014 12:45:00 PM</td><td>05/14/2014 12:45:00 PM</td><td>240.0         </td><td>0.0         </td><td>17031839100.0        </td><td>17031833000.0         </td><td>32.0                   </td><td>28.0                    </td><td>5.25  </td><td>3.0   </td><td>0.0    </td><td>1.5     </td><td>9.75        </td><td>Credit Card   </td><td>Taxi Affiliation Services        </td><td>41.880994471              </td><td>-87.632746489              </td><td>POINT (-87.6327464887 41.8809944707)</td><td>41.88528132                </td><td>-87.6572332                 </td><td>POINT (-87.6572331997 41.8852813201)    </td></tr>\n",
       "<tr><td><i style='opacity: 0.6'>37,395,434</i></td><td>d64938a724961d6f2c0ae58932e78e3671784822</td><td>&#x27;a42edac48945c9dab13540adee09290f11b123a513580f2...</td><td>05/14/2014 12:15:00 PM</td><td>05/14/2014 12:15:00 PM</td><td>360.0         </td><td>0.0         </td><td>17031081202.0        </td><td>17031081300.0         </td><td>8.0                    </td><td>8.0                     </td><td>5.05  </td><td>0.0   </td><td>0.0    </td><td>0.0     </td><td>5.05        </td><td>Cash          </td><td>KOAM Taxi Association            </td><td>41.902788048              </td><td>-87.62614559               </td><td>POINT (-87.6261455896 41.9027880476)</td><td>41.898331794               </td><td>-87.620762865               </td><td>POINT (-87.6207628651 41.8983317935)    </td></tr>\n",
       "<tr><td><i style='opacity: 0.6'>37,395,435</i></td><td>ffa438bd0098e226eccd9867c2a134009a13c20d</td><td>&#x27;705cc88d7a216145f6c762aa705905a745a0c5f17e39aa1...</td><td>05/13/2014 11:30:00 PM</td><td>05/13/2014 11:45:00 PM</td><td>840.0         </td><td>3.2         </td><td>17031320100.0        </td><td>17031832600.0         </td><td>32.0                   </td><td>7.0                     </td><td>10.45 </td><td>2.25  </td><td>0.0    </td><td>1.0     </td><td>13.7        </td><td>Credit Card   </td><td>Dispatch Taxi Affiliation        </td><td>41.884987192              </td><td>-87.620992913              </td><td>POINT (-87.6209929134 41.8849871918)</td><td>41.914747305               </td><td>-87.654007029               </td><td>POINT (-87.6540070286 41.9147473049)    </td></tr>\n",
       "</tbody>\n",
       "</table>"
      ],
      "text/plain": [
       "<IPython.core.display.HTML object>"
      ]
     },
     "metadata": {},
     "output_type": "display_data"
    }
   ],
   "source": [
    "df_trips.info()"
   ]
  },
  {
   "attachments": {},
   "cell_type": "markdown",
   "metadata": {},
   "source": [
    "## Drop redundant and not needed columns\n",
    "\n",
    "Location data is present in different formats. Latitude and Longitude are used in the further processing.\n",
    "The Trip End Timestamp is dropped as well since the start timestamp and Trip duration are sufficient for the further processing"
   ]
  },
  {
   "cell_type": "code",
   "execution_count": 6,
   "metadata": {},
   "outputs": [
    {
     "data": {
      "text/html": [
       "<table>\n",
       "<thead>\n",
       "<tr><th>#                                     </th><th>Trip ID                                 </th><th>Taxi ID                                            </th><th>Trip Start Timestamp  </th><th>Trip Seconds  </th><th>Trip Miles  </th><th>Fare  </th><th>Tips  </th><th>Tolls  </th><th>Extras  </th><th>Trip Total  </th><th>Payment Type  </th><th>Company                          </th><th>Pickup Centroid Latitude  </th><th>Pickup Centroid Longitude  </th><th>Dropoff Centroid Latitude  </th><th>Dropoff Centroid Longitude  </th></tr>\n",
       "</thead>\n",
       "<tbody>\n",
       "<tr><td><i style='opacity: 0.6'>0</i>         </td><td>506646dd0685bd55094f1b7dfac97cf3b07b6126</td><td>&#x27;1099c684f9da1ac1d0dd253d394f1c8dad37bc1a53d944d...</td><td>05/17/2014 10:45:00 AM</td><td>1080.0        </td><td>7.0         </td><td>17.45 </td><td>0.0   </td><td>0.0    </td><td>1.5     </td><td>18.95       </td><td>Cash          </td><td>Taxi Affiliation Services        </td><td>41.879255084              </td><td>-87.642648998              </td><td>41.949139771               </td><td>-87.656803909               </td></tr>\n",
       "<tr><td><i style='opacity: 0.6'>1</i>         </td><td>1462669f59c3b5a1730e8a5f511a4102d1998c21</td><td>&#x27;379e0fd9da136cabc9eec3aca37047bbdee373ca2ef7a03...</td><td>04/17/2014 06:30:00 PM</td><td>1080.0        </td><td>3.0         </td><td>11.45 </td><td>0.0   </td><td>0.0    </td><td>1.0     </td><td>12.45       </td><td>Cash          </td><td>Taxi Affiliation Services        </td><td>nan                       </td><td>nan                        </td><td>41.851017824               </td><td>-87.635091856               </td></tr>\n",
       "<tr><td><i style='opacity: 0.6'>2</i>         </td><td>8d699aec32ce70e3647f7b06147001d3926975cc</td><td>&#x27;6768c7ebfdee8e7e7b3f5ec44739316241895aa2f7edf10...</td><td>05/03/2014 11:30:00 PM</td><td>720.0         </td><td>2.1         </td><td>8.45  </td><td>2.0   </td><td>0.0    </td><td>1.0     </td><td>11.45       </td><td>Credit Card   </td><td>Dispatch Taxi Affiliation        </td><td>41.89321636               </td><td>-87.63784421               </td><td>41.890922026               </td><td>-87.618868355               </td></tr>\n",
       "<tr><td><i style='opacity: 0.6'>3</i>         </td><td>ae05f6f7a766b58b059f04c7549892da4dc3cf54</td><td>&#x27;7dc01f4be54a4058ffb81098be25f52c9f1249afc88e3ef...</td><td>05/17/2014 01:30:00 AM</td><td>480.0         </td><td>0.0         </td><td>7.85  </td><td>3.0   </td><td>0.0    </td><td>1.0     </td><td>11.85       </td><td>Credit Card   </td><td>Taxi Affiliation Services        </td><td>41.914616286              </td><td>-87.631717366              </td><td>41.94258518                </td><td>-87.656644092               </td></tr>\n",
       "<tr><td><i style='opacity: 0.6'>4</i>         </td><td>b45b42620c3a926ea633b9115dc624a33dcf3b56</td><td>&#x27;9f87b11be025b5dcc55e9472b8c2158664c97d193cf15d9...</td><td>04/25/2014 02:30:00 PM</td><td>0.0           </td><td>0.0         </td><td>42.05 </td><td>7.0   </td><td>0.0    </td><td>0.0     </td><td>49.05       </td><td>Credit Card   </td><td>T.A.S. - Payment Only            </td><td>nan                       </td><td>nan                        </td><td>nan                        </td><td>nan                         </td></tr>\n",
       "<tr><td>...                                   </td><td>...                                     </td><td>...                                                </td><td>...                   </td><td>...           </td><td>...         </td><td>...   </td><td>...   </td><td>...    </td><td>...     </td><td>...         </td><td>...           </td><td>...                              </td><td>...                       </td><td>...                        </td><td>...                        </td><td>...                         </td></tr>\n",
       "<tr><td><i style='opacity: 0.6'>37,395,431</i></td><td>40aa131f22b63a5ca71d1eff4477500e6b875036</td><td>&#x27;8c244243c4123f4b467c2931cf59a691059a45302dc13e3...</td><td>04/03/2014 08:30:00 PM</td><td>900.0         </td><td>3.7         </td><td>11.25 </td><td>0.0   </td><td>0.0    </td><td>0.0     </td><td>11.25       </td><td>Cash          </td><td>Taxi Affiliation Services        </td><td>41.944226601              </td><td>-87.655998182              </td><td>41.901206994               </td><td>-87.676355989               </td></tr>\n",
       "<tr><td><i style='opacity: 0.6'>37,395,432</i></td><td>0cd3c0015580380a89b2da5d4ed01016c0399e6a</td><td>&#x27;01480513a7f6f4664d6cc4c41ff3043ae6ecbc8cb17404f...</td><td>05/13/2014 11:30:00 PM</td><td>540.0         </td><td>0.0         </td><td>11.85 </td><td>3.55  </td><td>0.0    </td><td>0.0     </td><td>15.4        </td><td>Credit Card   </td><td>Blue Ribbon Taxi Association Inc.</td><td>41.899602111              </td><td>-87.633308037              </td><td>41.944226601               </td><td>-87.655998182               </td></tr>\n",
       "<tr><td><i style='opacity: 0.6'>37,395,433</i></td><td>d378e1b76a0de5844b9d50a719239bcf878da1fc</td><td>&#x27;fdeaab06ce15ad69658acbc0e591218ef6146a29ef21275...</td><td>05/14/2014 12:45:00 PM</td><td>240.0         </td><td>0.0         </td><td>5.25  </td><td>3.0   </td><td>0.0    </td><td>1.5     </td><td>9.75        </td><td>Credit Card   </td><td>Taxi Affiliation Services        </td><td>41.880994471              </td><td>-87.632746489              </td><td>41.88528132                </td><td>-87.6572332                 </td></tr>\n",
       "<tr><td><i style='opacity: 0.6'>37,395,434</i></td><td>d64938a724961d6f2c0ae58932e78e3671784822</td><td>&#x27;a42edac48945c9dab13540adee09290f11b123a513580f2...</td><td>05/14/2014 12:15:00 PM</td><td>360.0         </td><td>0.0         </td><td>5.05  </td><td>0.0   </td><td>0.0    </td><td>0.0     </td><td>5.05        </td><td>Cash          </td><td>KOAM Taxi Association            </td><td>41.902788048              </td><td>-87.62614559               </td><td>41.898331794               </td><td>-87.620762865               </td></tr>\n",
       "<tr><td><i style='opacity: 0.6'>37,395,435</i></td><td>ffa438bd0098e226eccd9867c2a134009a13c20d</td><td>&#x27;705cc88d7a216145f6c762aa705905a745a0c5f17e39aa1...</td><td>05/13/2014 11:30:00 PM</td><td>840.0         </td><td>3.2         </td><td>10.45 </td><td>2.25  </td><td>0.0    </td><td>1.0     </td><td>13.7        </td><td>Credit Card   </td><td>Dispatch Taxi Affiliation        </td><td>41.884987192              </td><td>-87.620992913              </td><td>41.914747305               </td><td>-87.654007029               </td></tr>\n",
       "</tbody>\n",
       "</table>"
      ],
      "text/plain": [
       "#           Trip ID                                   Taxi ID                                              Trip Start Timestamp    Trip Seconds    Trip Miles    Fare    Tips    Tolls    Extras    Trip Total    Payment Type    Company                            Pickup Centroid Latitude    Pickup Centroid Longitude    Dropoff Centroid Latitude    Dropoff Centroid Longitude\n",
       "0           506646dd0685bd55094f1b7dfac97cf3b07b6126  '1099c684f9da1ac1d0dd253d394f1c8dad37bc1a53d944d...  05/17/2014 10:45:00 AM  1080.0          7.0           17.45   0.0     0.0      1.5       18.95         Cash            Taxi Affiliation Services          41.879255084                -87.642648998                41.949139771                 -87.656803909\n",
       "1           1462669f59c3b5a1730e8a5f511a4102d1998c21  '379e0fd9da136cabc9eec3aca37047bbdee373ca2ef7a03...  04/17/2014 06:30:00 PM  1080.0          3.0           11.45   0.0     0.0      1.0       12.45         Cash            Taxi Affiliation Services          nan                         nan                          41.851017824                 -87.635091856\n",
       "2           8d699aec32ce70e3647f7b06147001d3926975cc  '6768c7ebfdee8e7e7b3f5ec44739316241895aa2f7edf10...  05/03/2014 11:30:00 PM  720.0           2.1           8.45    2.0     0.0      1.0       11.45         Credit Card     Dispatch Taxi Affiliation          41.89321636                 -87.63784421                 41.890922026                 -87.618868355\n",
       "3           ae05f6f7a766b58b059f04c7549892da4dc3cf54  '7dc01f4be54a4058ffb81098be25f52c9f1249afc88e3ef...  05/17/2014 01:30:00 AM  480.0           0.0           7.85    3.0     0.0      1.0       11.85         Credit Card     Taxi Affiliation Services          41.914616286                -87.631717366                41.94258518                  -87.656644092\n",
       "4           b45b42620c3a926ea633b9115dc624a33dcf3b56  '9f87b11be025b5dcc55e9472b8c2158664c97d193cf15d9...  04/25/2014 02:30:00 PM  0.0             0.0           42.05   7.0     0.0      0.0       49.05         Credit Card     T.A.S. - Payment Only              nan                         nan                          nan                          nan\n",
       "...         ...                                       ...                                                  ...                     ...             ...           ...     ...     ...      ...       ...           ...             ...                                ...                         ...                          ...                          ...\n",
       "37,395,431  40aa131f22b63a5ca71d1eff4477500e6b875036  '8c244243c4123f4b467c2931cf59a691059a45302dc13e3...  04/03/2014 08:30:00 PM  900.0           3.7           11.25   0.0     0.0      0.0       11.25         Cash            Taxi Affiliation Services          41.944226601                -87.655998182                41.901206994                 -87.676355989\n",
       "37,395,432  0cd3c0015580380a89b2da5d4ed01016c0399e6a  '01480513a7f6f4664d6cc4c41ff3043ae6ecbc8cb17404f...  05/13/2014 11:30:00 PM  540.0           0.0           11.85   3.55    0.0      0.0       15.4          Credit Card     Blue Ribbon Taxi Association Inc.  41.899602111                -87.633308037                41.944226601                 -87.655998182\n",
       "37,395,433  d378e1b76a0de5844b9d50a719239bcf878da1fc  'fdeaab06ce15ad69658acbc0e591218ef6146a29ef21275...  05/14/2014 12:45:00 PM  240.0           0.0           5.25    3.0     0.0      1.5       9.75          Credit Card     Taxi Affiliation Services          41.880994471                -87.632746489                41.88528132                  -87.6572332\n",
       "37,395,434  d64938a724961d6f2c0ae58932e78e3671784822  'a42edac48945c9dab13540adee09290f11b123a513580f2...  05/14/2014 12:15:00 PM  360.0           0.0           5.05    0.0     0.0      0.0       5.05          Cash            KOAM Taxi Association              41.902788048                -87.62614559                 41.898331794                 -87.620762865\n",
       "37,395,435  ffa438bd0098e226eccd9867c2a134009a13c20d  '705cc88d7a216145f6c762aa705905a745a0c5f17e39aa1...  05/13/2014 11:30:00 PM  840.0           3.2           10.45   2.25    0.0      1.0       13.7          Credit Card     Dispatch Taxi Affiliation          41.884987192                -87.620992913                41.914747305                 -87.654007029"
      ]
     },
     "execution_count": 6,
     "metadata": {},
     "output_type": "execute_result"
    }
   ],
   "source": [
    "df_trips.drop(['Pickup Census Tract','Dropoff Census Tract','Pickup Community Area', 'Dropoff Community Area', 'Pickup Centroid Location', 'Dropoff Centroid  Location', 'Trip End Timestamp'], inplace=True)"
   ]
  },
  {
   "attachments": {},
   "cell_type": "markdown",
   "metadata": {},
   "source": [
    "## Discretize Data"
   ]
  },
  {
   "attachments": {},
   "cell_type": "markdown",
   "metadata": {},
   "source": [
    "Temporal "
   ]
  },
  {
   "cell_type": "code",
   "execution_count": 7,
   "metadata": {},
   "outputs": [],
   "source": [
    "import numpy as np\n",
    "from datetime import datetime\n",
    "\n",
    "def convert_to_datetime(date_string):\n",
    "    return np.datetime64(datetime.strptime(str(date_string), \"%m/%d/%Y %I:%M:%S %p\"))\n",
    "\n",
    "df_trips['ts_start']  = df_trips[\"Trip Start Timestamp\"].apply(convert_to_datetime)"
   ]
  },
  {
   "cell_type": "code",
   "execution_count": 8,
   "metadata": {},
   "outputs": [],
   "source": [
    "# add hourly\n",
    "df_trips['ts_start_1_hour'] = df_trips['ts_start'].dt.floor('1h')\n",
    "df_trips['ts_start_4_hour'] = df_trips['ts_start'].dt.floor('4h')\n",
    "df_trips['ts_start_6_hour'] = df_trips['ts_start'].dt.floor('6h')\n",
    "\n",
    "df_trips['ts_start_day']    = df_trips['ts_start'].dt.date\n",
    "\n",
    "df_trips['start_hour']      = df_trips['ts_start'].dt.hour\n",
    "df_trips['start_weekday']   = df_trips['ts_start'].dt.dayofweek\n",
    "df_trips['start_month']     = df_trips['ts_start'].dt.month"
   ]
  },
  {
   "attachments": {},
   "cell_type": "markdown",
   "metadata": {},
   "source": [
    "Spatial"
   ]
  },
  {
   "cell_type": "code",
   "execution_count": 1,
   "metadata": {},
   "outputs": [],
   "source": [
    "# TODO Philipp"
   ]
  },
  {
   "cell_type": "code",
   "execution_count": 9,
   "metadata": {},
   "outputs": [
    {
     "data": {
      "text/html": [
       "<table>\n",
       "<thead>\n",
       "<tr><th>#                                     </th><th>Trip ID                                 </th><th>Taxi ID                                            </th><th>Trip Start Timestamp  </th><th>Trip Seconds  </th><th>Trip Miles  </th><th>Fare  </th><th>Tips  </th><th>Tolls  </th><th>Extras  </th><th>Trip Total  </th><th>Payment Type  </th><th>Company                          </th><th>Pickup Centroid Latitude  </th><th>Pickup Centroid Longitude  </th><th>Dropoff Centroid Latitude  </th><th>Dropoff Centroid Longitude  </th><th>ts_start                  </th><th>ts_start_1_hour           </th><th>ts_start_4_hour           </th><th>ts_start_6_hour           </th><th>ts_start_day  </th><th>start_hour  </th><th>start_weekday  </th><th>start_month  </th></tr>\n",
       "</thead>\n",
       "<tbody>\n",
       "<tr><td><i style='opacity: 0.6'>0</i>         </td><td>506646dd0685bd55094f1b7dfac97cf3b07b6126</td><td>&#x27;1099c684f9da1ac1d0dd253d394f1c8dad37bc1a53d944d...</td><td>05/17/2014 10:45:00 AM</td><td>1080.0        </td><td>7.0         </td><td>17.45 </td><td>0.0   </td><td>0.0    </td><td>1.5     </td><td>18.95       </td><td>Cash          </td><td>Taxi Affiliation Services        </td><td>41.879255084              </td><td>-87.642648998              </td><td>41.949139771               </td><td>-87.656803909               </td><td>2014-05-17 10:45:00.000000</td><td>2014-05-17 10:00:00.000000</td><td>2014-05-17 08:00:00.000000</td><td>2014-05-17 06:00:00.000000</td><td>2014-05-17    </td><td>10          </td><td>5              </td><td>5            </td></tr>\n",
       "<tr><td><i style='opacity: 0.6'>1</i>         </td><td>1462669f59c3b5a1730e8a5f511a4102d1998c21</td><td>&#x27;379e0fd9da136cabc9eec3aca37047bbdee373ca2ef7a03...</td><td>04/17/2014 06:30:00 PM</td><td>1080.0        </td><td>3.0         </td><td>11.45 </td><td>0.0   </td><td>0.0    </td><td>1.0     </td><td>12.45       </td><td>Cash          </td><td>Taxi Affiliation Services        </td><td>nan                       </td><td>nan                        </td><td>41.851017824               </td><td>-87.635091856               </td><td>2014-04-17 18:30:00.000000</td><td>2014-04-17 18:00:00.000000</td><td>2014-04-17 16:00:00.000000</td><td>2014-04-17 18:00:00.000000</td><td>2014-04-17    </td><td>18          </td><td>3              </td><td>4            </td></tr>\n",
       "<tr><td><i style='opacity: 0.6'>2</i>         </td><td>8d699aec32ce70e3647f7b06147001d3926975cc</td><td>&#x27;6768c7ebfdee8e7e7b3f5ec44739316241895aa2f7edf10...</td><td>05/03/2014 11:30:00 PM</td><td>720.0         </td><td>2.1         </td><td>8.45  </td><td>2.0   </td><td>0.0    </td><td>1.0     </td><td>11.45       </td><td>Credit Card   </td><td>Dispatch Taxi Affiliation        </td><td>41.89321636               </td><td>-87.63784421               </td><td>41.890922026               </td><td>-87.618868355               </td><td>2014-05-03 23:30:00.000000</td><td>2014-05-03 23:00:00.000000</td><td>2014-05-03 20:00:00.000000</td><td>2014-05-03 18:00:00.000000</td><td>2014-05-03    </td><td>23          </td><td>5              </td><td>5            </td></tr>\n",
       "<tr><td><i style='opacity: 0.6'>3</i>         </td><td>ae05f6f7a766b58b059f04c7549892da4dc3cf54</td><td>&#x27;7dc01f4be54a4058ffb81098be25f52c9f1249afc88e3ef...</td><td>05/17/2014 01:30:00 AM</td><td>480.0         </td><td>0.0         </td><td>7.85  </td><td>3.0   </td><td>0.0    </td><td>1.0     </td><td>11.85       </td><td>Credit Card   </td><td>Taxi Affiliation Services        </td><td>41.914616286              </td><td>-87.631717366              </td><td>41.94258518                </td><td>-87.656644092               </td><td>2014-05-17 01:30:00.000000</td><td>2014-05-17 01:00:00.000000</td><td>2014-05-17 00:00:00.000000</td><td>2014-05-17 00:00:00.000000</td><td>2014-05-17    </td><td>1           </td><td>5              </td><td>5            </td></tr>\n",
       "<tr><td><i style='opacity: 0.6'>4</i>         </td><td>b45b42620c3a926ea633b9115dc624a33dcf3b56</td><td>&#x27;9f87b11be025b5dcc55e9472b8c2158664c97d193cf15d9...</td><td>04/25/2014 02:30:00 PM</td><td>0.0           </td><td>0.0         </td><td>42.05 </td><td>7.0   </td><td>0.0    </td><td>0.0     </td><td>49.05       </td><td>Credit Card   </td><td>T.A.S. - Payment Only            </td><td>nan                       </td><td>nan                        </td><td>nan                        </td><td>nan                         </td><td>2014-04-25 14:30:00.000000</td><td>2014-04-25 14:00:00.000000</td><td>2014-04-25 12:00:00.000000</td><td>2014-04-25 12:00:00.000000</td><td>2014-04-25    </td><td>14          </td><td>4              </td><td>4            </td></tr>\n",
       "<tr><td>...                                   </td><td>...                                     </td><td>...                                                </td><td>...                   </td><td>...           </td><td>...         </td><td>...   </td><td>...   </td><td>...    </td><td>...     </td><td>...         </td><td>...           </td><td>...                              </td><td>...                       </td><td>...                        </td><td>...                        </td><td>...                         </td><td>...                       </td><td>...                       </td><td>...                       </td><td>...                       </td><td>...           </td><td>...         </td><td>...            </td><td>...          </td></tr>\n",
       "<tr><td><i style='opacity: 0.6'>37,395,431</i></td><td>40aa131f22b63a5ca71d1eff4477500e6b875036</td><td>&#x27;8c244243c4123f4b467c2931cf59a691059a45302dc13e3...</td><td>04/03/2014 08:30:00 PM</td><td>900.0         </td><td>3.7         </td><td>11.25 </td><td>0.0   </td><td>0.0    </td><td>0.0     </td><td>11.25       </td><td>Cash          </td><td>Taxi Affiliation Services        </td><td>41.944226601              </td><td>-87.655998182              </td><td>41.901206994               </td><td>-87.676355989               </td><td>2014-04-03 20:30:00.000000</td><td>2014-04-03 20:00:00.000000</td><td>2014-04-03 20:00:00.000000</td><td>2014-04-03 18:00:00.000000</td><td>2014-04-03    </td><td>20          </td><td>3              </td><td>4            </td></tr>\n",
       "<tr><td><i style='opacity: 0.6'>37,395,432</i></td><td>0cd3c0015580380a89b2da5d4ed01016c0399e6a</td><td>&#x27;01480513a7f6f4664d6cc4c41ff3043ae6ecbc8cb17404f...</td><td>05/13/2014 11:30:00 PM</td><td>540.0         </td><td>0.0         </td><td>11.85 </td><td>3.55  </td><td>0.0    </td><td>0.0     </td><td>15.4        </td><td>Credit Card   </td><td>Blue Ribbon Taxi Association Inc.</td><td>41.899602111              </td><td>-87.633308037              </td><td>41.944226601               </td><td>-87.655998182               </td><td>2014-05-13 23:30:00.000000</td><td>2014-05-13 23:00:00.000000</td><td>2014-05-13 20:00:00.000000</td><td>2014-05-13 18:00:00.000000</td><td>2014-05-13    </td><td>23          </td><td>1              </td><td>5            </td></tr>\n",
       "<tr><td><i style='opacity: 0.6'>37,395,433</i></td><td>d378e1b76a0de5844b9d50a719239bcf878da1fc</td><td>&#x27;fdeaab06ce15ad69658acbc0e591218ef6146a29ef21275...</td><td>05/14/2014 12:45:00 PM</td><td>240.0         </td><td>0.0         </td><td>5.25  </td><td>3.0   </td><td>0.0    </td><td>1.5     </td><td>9.75        </td><td>Credit Card   </td><td>Taxi Affiliation Services        </td><td>41.880994471              </td><td>-87.632746489              </td><td>41.88528132                </td><td>-87.6572332                 </td><td>2014-05-14 12:45:00.000000</td><td>2014-05-14 12:00:00.000000</td><td>2014-05-14 12:00:00.000000</td><td>2014-05-14 12:00:00.000000</td><td>2014-05-14    </td><td>12          </td><td>2              </td><td>5            </td></tr>\n",
       "<tr><td><i style='opacity: 0.6'>37,395,434</i></td><td>d64938a724961d6f2c0ae58932e78e3671784822</td><td>&#x27;a42edac48945c9dab13540adee09290f11b123a513580f2...</td><td>05/14/2014 12:15:00 PM</td><td>360.0         </td><td>0.0         </td><td>5.05  </td><td>0.0   </td><td>0.0    </td><td>0.0     </td><td>5.05        </td><td>Cash          </td><td>KOAM Taxi Association            </td><td>41.902788048              </td><td>-87.62614559               </td><td>41.898331794               </td><td>-87.620762865               </td><td>2014-05-14 12:15:00.000000</td><td>2014-05-14 12:00:00.000000</td><td>2014-05-14 12:00:00.000000</td><td>2014-05-14 12:00:00.000000</td><td>2014-05-14    </td><td>12          </td><td>2              </td><td>5            </td></tr>\n",
       "<tr><td><i style='opacity: 0.6'>37,395,435</i></td><td>ffa438bd0098e226eccd9867c2a134009a13c20d</td><td>&#x27;705cc88d7a216145f6c762aa705905a745a0c5f17e39aa1...</td><td>05/13/2014 11:30:00 PM</td><td>840.0         </td><td>3.2         </td><td>10.45 </td><td>2.25  </td><td>0.0    </td><td>1.0     </td><td>13.7        </td><td>Credit Card   </td><td>Dispatch Taxi Affiliation        </td><td>41.884987192              </td><td>-87.620992913              </td><td>41.914747305               </td><td>-87.654007029               </td><td>2014-05-13 23:30:00.000000</td><td>2014-05-13 23:00:00.000000</td><td>2014-05-13 20:00:00.000000</td><td>2014-05-13 18:00:00.000000</td><td>2014-05-13    </td><td>23          </td><td>1              </td><td>5            </td></tr>\n",
       "</tbody>\n",
       "</table>"
      ],
      "text/plain": [
       "#           Trip ID                                   Taxi ID                                              Trip Start Timestamp    Trip Seconds    Trip Miles    Fare    Tips    Tolls    Extras    Trip Total    Payment Type    Company                            Pickup Centroid Latitude    Pickup Centroid Longitude    Dropoff Centroid Latitude    Dropoff Centroid Longitude    ts_start                    ts_start_1_hour             ts_start_4_hour             ts_start_6_hour             ts_start_day    start_hour    start_weekday    start_month\n",
       "0           506646dd0685bd55094f1b7dfac97cf3b07b6126  '1099c684f9da1ac1d0dd253d394f1c8dad37bc1a53d944d...  05/17/2014 10:45:00 AM  1080.0          7.0           17.45   0.0     0.0      1.5       18.95         Cash            Taxi Affiliation Services          41.879255084                -87.642648998                41.949139771                 -87.656803909                 2014-05-17 10:45:00.000000  2014-05-17 10:00:00.000000  2014-05-17 08:00:00.000000  2014-05-17 06:00:00.000000  2014-05-17      10            5                5\n",
       "1           1462669f59c3b5a1730e8a5f511a4102d1998c21  '379e0fd9da136cabc9eec3aca37047bbdee373ca2ef7a03...  04/17/2014 06:30:00 PM  1080.0          3.0           11.45   0.0     0.0      1.0       12.45         Cash            Taxi Affiliation Services          nan                         nan                          41.851017824                 -87.635091856                 2014-04-17 18:30:00.000000  2014-04-17 18:00:00.000000  2014-04-17 16:00:00.000000  2014-04-17 18:00:00.000000  2014-04-17      18            3                4\n",
       "2           8d699aec32ce70e3647f7b06147001d3926975cc  '6768c7ebfdee8e7e7b3f5ec44739316241895aa2f7edf10...  05/03/2014 11:30:00 PM  720.0           2.1           8.45    2.0     0.0      1.0       11.45         Credit Card     Dispatch Taxi Affiliation          41.89321636                 -87.63784421                 41.890922026                 -87.618868355                 2014-05-03 23:30:00.000000  2014-05-03 23:00:00.000000  2014-05-03 20:00:00.000000  2014-05-03 18:00:00.000000  2014-05-03      23            5                5\n",
       "3           ae05f6f7a766b58b059f04c7549892da4dc3cf54  '7dc01f4be54a4058ffb81098be25f52c9f1249afc88e3ef...  05/17/2014 01:30:00 AM  480.0           0.0           7.85    3.0     0.0      1.0       11.85         Credit Card     Taxi Affiliation Services          41.914616286                -87.631717366                41.94258518                  -87.656644092                 2014-05-17 01:30:00.000000  2014-05-17 01:00:00.000000  2014-05-17 00:00:00.000000  2014-05-17 00:00:00.000000  2014-05-17      1             5                5\n",
       "4           b45b42620c3a926ea633b9115dc624a33dcf3b56  '9f87b11be025b5dcc55e9472b8c2158664c97d193cf15d9...  04/25/2014 02:30:00 PM  0.0             0.0           42.05   7.0     0.0      0.0       49.05         Credit Card     T.A.S. - Payment Only              nan                         nan                          nan                          nan                           2014-04-25 14:30:00.000000  2014-04-25 14:00:00.000000  2014-04-25 12:00:00.000000  2014-04-25 12:00:00.000000  2014-04-25      14            4                4\n",
       "...         ...                                       ...                                                  ...                     ...             ...           ...     ...     ...      ...       ...           ...             ...                                ...                         ...                          ...                          ...                           ...                         ...                         ...                         ...                         ...             ...           ...              ...\n",
       "37,395,431  40aa131f22b63a5ca71d1eff4477500e6b875036  '8c244243c4123f4b467c2931cf59a691059a45302dc13e3...  04/03/2014 08:30:00 PM  900.0           3.7           11.25   0.0     0.0      0.0       11.25         Cash            Taxi Affiliation Services          41.944226601                -87.655998182                41.901206994                 -87.676355989                 2014-04-03 20:30:00.000000  2014-04-03 20:00:00.000000  2014-04-03 20:00:00.000000  2014-04-03 18:00:00.000000  2014-04-03      20            3                4\n",
       "37,395,432  0cd3c0015580380a89b2da5d4ed01016c0399e6a  '01480513a7f6f4664d6cc4c41ff3043ae6ecbc8cb17404f...  05/13/2014 11:30:00 PM  540.0           0.0           11.85   3.55    0.0      0.0       15.4          Credit Card     Blue Ribbon Taxi Association Inc.  41.899602111                -87.633308037                41.944226601                 -87.655998182                 2014-05-13 23:30:00.000000  2014-05-13 23:00:00.000000  2014-05-13 20:00:00.000000  2014-05-13 18:00:00.000000  2014-05-13      23            1                5\n",
       "37,395,433  d378e1b76a0de5844b9d50a719239bcf878da1fc  'fdeaab06ce15ad69658acbc0e591218ef6146a29ef21275...  05/14/2014 12:45:00 PM  240.0           0.0           5.25    3.0     0.0      1.5       9.75          Credit Card     Taxi Affiliation Services          41.880994471                -87.632746489                41.88528132                  -87.6572332                   2014-05-14 12:45:00.000000  2014-05-14 12:00:00.000000  2014-05-14 12:00:00.000000  2014-05-14 12:00:00.000000  2014-05-14      12            2                5\n",
       "37,395,434  d64938a724961d6f2c0ae58932e78e3671784822  'a42edac48945c9dab13540adee09290f11b123a513580f2...  05/14/2014 12:15:00 PM  360.0           0.0           5.05    0.0     0.0      0.0       5.05          Cash            KOAM Taxi Association              41.902788048                -87.62614559                 41.898331794                 -87.620762865                 2014-05-14 12:15:00.000000  2014-05-14 12:00:00.000000  2014-05-14 12:00:00.000000  2014-05-14 12:00:00.000000  2014-05-14      12            2                5\n",
       "37,395,435  ffa438bd0098e226eccd9867c2a134009a13c20d  '705cc88d7a216145f6c762aa705905a745a0c5f17e39aa1...  05/13/2014 11:30:00 PM  840.0           3.2           10.45   2.25    0.0      1.0       13.7          Credit Card     Dispatch Taxi Affiliation          41.884987192                -87.620992913                41.914747305                 -87.654007029                 2014-05-13 23:30:00.000000  2014-05-13 23:00:00.000000  2014-05-13 20:00:00.000000  2014-05-13 18:00:00.000000  2014-05-13      23            1                5"
      ]
     },
     "execution_count": 9,
     "metadata": {},
     "output_type": "execute_result"
    }
   ],
   "source": [
    "df_trips"
   ]
  },
  {
   "attachments": {},
   "cell_type": "markdown",
   "metadata": {},
   "source": [
    "## Analysis of string attribute sizes, lengths etc. Encoding of string categorical values for further processing"
   ]
  },
  {
   "cell_type": "code",
   "execution_count": 18,
   "metadata": {},
   "outputs": [
    {
     "data": {
      "text/plain": [
       "7"
      ]
     },
     "execution_count": 18,
     "metadata": {},
     "output_type": "execute_result"
    }
   ],
   "source": [
    "len(df_trips['Payment Type'].unique())"
   ]
  },
  {
   "cell_type": "code",
   "execution_count": 11,
   "metadata": {},
   "outputs": [
    {
     "data": {
      "text/plain": [
       "['Dispute', 'Unknown', 'Prcard', 'Cash', 'Credit Card', 'Pcard', 'No Charge']"
      ]
     },
     "execution_count": 11,
     "metadata": {},
     "output_type": "execute_result"
    }
   ],
   "source": [
    "df_trips['Payment Type'].unique()"
   ]
  },
  {
   "cell_type": "code",
   "execution_count": 13,
   "metadata": {},
   "outputs": [
    {
     "data": {
      "text/plain": [
       "108"
      ]
     },
     "execution_count": 13,
     "metadata": {},
     "output_type": "execute_result"
    }
   ],
   "source": [
    "len(df_trips['Company'].unique())"
   ]
  },
  {
   "cell_type": "code",
   "execution_count": 12,
   "metadata": {},
   "outputs": [
    {
     "data": {
      "text/plain": [
       "['3556 - 36214 RC Andrews Cab',\n",
       " None,\n",
       " '3094 - G.L.B. Cab Co',\n",
       " '2823 - Seung Lee',\n",
       " '4787 - Reny Cab Co',\n",
       " '5074 - 54002 Ahzmi Inc',\n",
       " '3897 - 57856 Ilie Malec',\n",
       " '0118 - 42111 Godfrey S.Awir',\n",
       " '3253 - 91138 Gaither Cab Co.',\n",
       " 'Blue Ribbon Taxi Association Inc.',\n",
       " '585 - Valley Cab Co',\n",
       " '4732 - Maude Lamy',\n",
       " 'Blue Diamond',\n",
       " '3385 - Eman Cab',\n",
       " '4615 - 83503 Tyrone Henderson',\n",
       " 'Northwest Management LLC',\n",
       " '2733 - Benny Jona',\n",
       " '4053 - Adwar H. Nikola',\n",
       " '2192 - Zeymane Corp',\n",
       " '2767 - Sayed M Badri',\n",
       " '1408 - Donald Barnes',\n",
       " '4787 - 56058 Reny Cab Co',\n",
       " 'nan',\n",
       " 'Flash Cab',\n",
       " '3620 - David K. Cab Corp.',\n",
       " '6488 - Zuha Taxi',\n",
       " '4053 - 40193 Adwar H. Nikola',\n",
       " '6743 - 78771 Luhak Corp',\n",
       " 'Taxi Affiliation Services',\n",
       " 'Chicago Medallion Management',\n",
       " \"3591- 63480 Chuk's Cab\",\n",
       " 'Suburban Dispatch LLC',\n",
       " '1408 - 89599 Donald Barnes',\n",
       " '3385 - 23210  Eman Cab',\n",
       " 'Chicago Elite Cab Corp. (Chicago Carriag',\n",
       " '3623 - 72222 Arrington Enterprises',\n",
       " '0694 - 59280 Chinesco Trans Inc',\n",
       " '5874 - 73628 Sergey Cab Corp.',\n",
       " 'Yellow Cab',\n",
       " 'C & D Cab Co Inc',\n",
       " '2192 - 73487 Zeymane Corp',\n",
       " 'Choice Taxi Association',\n",
       " '5062 - Sam Mestas',\n",
       " '3253 - Gaither Cab Co.',\n",
       " '3152 - 97284 Crystal Abernathy',\n",
       " '3201 - C&D Cab Co Inc',\n",
       " '3669 - 85800 Jordan Taxi Inc',\n",
       " '5006 - Salifu Bawa',\n",
       " '5864 - Thomas Owusu',\n",
       " 'American United',\n",
       " 'Dispatch Taxi Affiliation',\n",
       " '2823 - 73307 Seung Lee',\n",
       " '4623 - Jay Kim',\n",
       " '2092 - 61288 Sbeih company',\n",
       " '3669 - Jordan Taxi Inc',\n",
       " '0118 - Godfrey S.Awir',\n",
       " '1085 - N and W Cab Co',\n",
       " '585 - 88805 Valley Cab Co',\n",
       " '5724 - 75306 KYVI Cab Inc',\n",
       " '0694 - Chinesco Trans Inc',\n",
       " '1247 - 72807 Daniel Ayertey',\n",
       " '5 Star Taxi',\n",
       " '3094 - 24059 G.L.B. Cab Co',\n",
       " '6057 - 24657 Richard Addo',\n",
       " '3897 - Ilie Malec',\n",
       " '4623 - 27290 Jay Kim',\n",
       " 'Top Cab Affiliation',\n",
       " '3141 - Zip Cab',\n",
       " 'DTA Test',\n",
       " '4197 - Royal Star',\n",
       " '4615 - Tyrone Henderson',\n",
       " '5874 - Sergey Cab Corp.',\n",
       " '2241 - Manuel Alonso',\n",
       " 'KOAM Taxi Association',\n",
       " '3385 - 23210 Eman Cab',\n",
       " '2241 - 44667 Manuel Alonso',\n",
       " 'Checker Taxi',\n",
       " '2092 - Sbeih company',\n",
       " '1085 - 72312 N and W Cab Co',\n",
       " \"3591- Chuk's Cab\",\n",
       " '3011 - 66308 JBL Cab Inc.',\n",
       " '5997 - 65283 AW Services Inc.',\n",
       " '6488 - 83287 Zuha Taxi',\n",
       " '6743 - Luhak Corp',\n",
       " '4197 - 41842 Royal Star',\n",
       " 'American United Cab Association',\n",
       " '5062 - 34841 Sam Mestas',\n",
       " '3011 - JBL Cab Inc.',\n",
       " '5006 - 39261 Salifu Bawa',\n",
       " '5997 - AW Services Inc.',\n",
       " '5724 - KYVI Cab Inc',\n",
       " '5129 - Mengisti Taxi',\n",
       " '3623-Arrington Enterprises',\n",
       " '3620 - 52292 David K. Cab Corp.',\n",
       " '5724 - 72965 KYVI Cab Inc',\n",
       " '5864 - 73614 Thomas Owusu',\n",
       " 'Park Ridge Taxi and Livery',\n",
       " '1247 - Daniel Ayertey',\n",
       " '5437 - Great American Cab Co',\n",
       " '5074 - Ahzmi Inc',\n",
       " 'Chicago Elite Cab Corp.',\n",
       " '3385 -  Eman Cab',\n",
       " '3556 - RC Andrews Cab',\n",
       " 'T.A.S. - Payment Only',\n",
       " '2733 - 74600 Benny Jona',\n",
       " '0118 - Godfray S.Awir',\n",
       " '3152 - Crystal Abernathy',\n",
       " '5129 - 98755 Mengisti Taxi']"
      ]
     },
     "execution_count": 12,
     "metadata": {},
     "output_type": "execute_result"
    }
   ],
   "source": [
    "df_trips['Company'].unique()"
   ]
  },
  {
   "cell_type": "code",
   "execution_count": 15,
   "metadata": {},
   "outputs": [
    {
     "data": {
      "text/plain": [
       "7781"
      ]
     },
     "execution_count": 15,
     "metadata": {},
     "output_type": "execute_result"
    }
   ],
   "source": [
    "len(df_trips['Taxi ID'].unique())"
   ]
  },
  {
   "cell_type": "code",
   "execution_count": 14,
   "metadata": {},
   "outputs": [
    {
     "data": {
      "text/plain": [
       "array(127.99877803)"
      ]
     },
     "execution_count": 14,
     "metadata": {},
     "output_type": "execute_result"
    }
   ],
   "source": [
    "df_trips['Taxi ID'].apply(lambda x : len(x) if x != None else 0).mean()"
   ]
  },
  {
   "attachments": {},
   "cell_type": "markdown",
   "metadata": {},
   "source": [
    "Encode string columns"
   ]
  },
  {
   "cell_type": "code",
   "execution_count": 10,
   "metadata": {},
   "outputs": [],
   "source": [
    "def generate_encoding_dict(df, column):\n",
    "    # get categories to encode\n",
    "    categories = df[column].unique()\n",
    "    # generate output the categories are mapped to -> using a simple integer mapping \n",
    "    output = range(len(categories))\n",
    "    # combine categories and output\n",
    "    encoding_dict = dict(zip(categories, output))\n",
    "    return encoding_dict"
   ]
  },
  {
   "cell_type": "code",
   "execution_count": 16,
   "metadata": {},
   "outputs": [],
   "source": [
    "df_trips['Payment Type_encoded'] = df_trips['Payment Type'].map(generate_encoding_dict(df_trips, 'Payment Type'))\n",
    "df_trips['Company_encoded']      = df_trips['Company'].map(generate_encoding_dict(df_trips, 'Company'))\n",
    "df_trips['Taxi ID_encoded']      = df_trips['Taxi ID'].map(generate_encoding_dict(df_trips, 'Taxi ID'))"
   ]
  },
  {
   "attachments": {},
   "cell_type": "markdown",
   "metadata": {},
   "source": [
    "## Final dataset"
   ]
  },
  {
   "cell_type": "code",
   "execution_count": 17,
   "metadata": {},
   "outputs": [
    {
     "data": {
      "text/html": [
       "<style>.vaex-description pre {\n",
       "          max-width : 450px;\n",
       "          white-space : nowrap;\n",
       "          overflow : hidden;\n",
       "          text-overflow: ellipsis;\n",
       "        }\n",
       "\n",
       "        .vex-description pre:hover {\n",
       "          max-width : initial;\n",
       "          white-space: pre;\n",
       "        }</style>"
      ],
      "text/plain": [
       "<IPython.core.display.HTML object>"
      ]
     },
     "metadata": {},
     "output_type": "display_data"
    },
    {
     "data": {
      "text/html": [
       "<div><h2>trips</h2> <b>rows</b>: 37,395,436</div><h2>Columns:</h2><table class='table-striped'><thead><tr><th>column</th><th>type</th><th>unit</th><th>description</th><th>expression</th></tr></thead><tr><td>Trip ID</td><td>str</td><td></td><td ><pre></pre></td><td></td></tr><tr><td>Taxi ID</td><td></i>virtual column</i></td><td></td><td ><pre></pre></td><td><code>_map(df['__Taxi ID'], map_key_hash_map_unique_2, map_choices_2, axis=None)</code></td></tr><tr><td>Trip Start Timestamp</td><td>str</td><td></td><td ><pre></pre></td><td></td></tr><tr><td>Trip Seconds</td><td>float64</td><td></td><td ><pre></pre></td><td></td></tr><tr><td>Trip Miles</td><td>float64</td><td></td><td ><pre></pre></td><td></td></tr><tr><td>Fare</td><td>float64</td><td></td><td ><pre></pre></td><td></td></tr><tr><td>Tips</td><td>float64</td><td></td><td ><pre></pre></td><td></td></tr><tr><td>Tolls</td><td>float64</td><td></td><td ><pre></pre></td><td></td></tr><tr><td>Extras</td><td>float64</td><td></td><td ><pre></pre></td><td></td></tr><tr><td>Trip Total</td><td>float64</td><td></td><td ><pre></pre></td><td></td></tr><tr><td>Payment Type</td><td>str</td><td></td><td ><pre></pre></td><td></td></tr><tr><td>Company</td><td>str</td><td></td><td ><pre></pre></td><td></td></tr><tr><td>Pickup Centroid Latitude</td><td>float64</td><td></td><td ><pre></pre></td><td></td></tr><tr><td>Pickup Centroid Longitude</td><td>float64</td><td></td><td ><pre></pre></td><td></td></tr><tr><td>Dropoff Centroid Latitude</td><td>float64</td><td></td><td ><pre></pre></td><td></td></tr><tr><td>Dropoff Centroid Longitude</td><td>float64</td><td></td><td ><pre></pre></td><td></td></tr><tr><td>ts_start</td><td></i>virtual column</i></td><td></td><td ><pre></pre></td><td><code>lambda_function(df['Trip Start Timestamp'])</code></td></tr><tr><td>ts_start_1_hour</td><td></i>virtual column</i></td><td></td><td ><pre></pre></td><td><code>dt_floor(ts_start, '1h')</code></td></tr><tr><td>ts_start_4_hour</td><td></i>virtual column</i></td><td></td><td ><pre></pre></td><td><code>dt_floor(ts_start, '4h')</code></td></tr><tr><td>ts_start_6_hour</td><td></i>virtual column</i></td><td></td><td ><pre></pre></td><td><code>dt_floor(ts_start, '6h')</code></td></tr><tr><td>ts_start_day</td><td></i>virtual column</i></td><td></td><td ><pre></pre></td><td><code>dt_date(ts_start)</code></td></tr><tr><td>start_hour</td><td></i>virtual column</i></td><td></td><td ><pre></pre></td><td><code>dt_hour(ts_start)</code></td></tr><tr><td>start_weekday</td><td></i>virtual column</i></td><td></td><td ><pre></pre></td><td><code>dt_dayofweek(ts_start)</code></td></tr><tr><td>start_month</td><td></i>virtual column</i></td><td></td><td ><pre></pre></td><td><code>dt_month(ts_start)</code></td></tr><tr><td>Payment Type_encoded</td><td></i>virtual column</i></td><td></td><td ><pre></pre></td><td><code>_map(df['Payment Type'], map_key_hash_map_unique, map_choices, axis=None)</code></td></tr><tr><td>Company_encoded</td><td></i>virtual column</i></td><td></td><td ><pre></pre></td><td><code>_map(Company, map_key_hash_map_unique_1, map_choices_1, axis=None)</code></td></tr></table><h2>Variables:</h2><table class='table-striped'><thead><tr><th>variable</th><th>type</th><th>unit</th><th>description</th><th>expression</th></tr></thead><tr><td>map_key_hash_map_unique</td><td><class 'type'></td><td>$\\mathrm{}$</td><td ><pre></pre></td><td><code><vaex.hash.HashMapUnique object at 0x000002509A653640></code></td></tr><tr><td>map_choices</td><td><class 'type'></td><td>$\\mathrm{}$</td><td ><pre></pre></td><td><code>[\n",
       "  null,\n",
       "  0,\n",
       "  1,\n",
       "  2,\n",
       "  3,\n",
       "  4,\n",
       "  5,\n",
       "  6\n",
       "]</code></td></tr><tr><td>map_key_hash_map_unique_1</td><td><class 'type'></td><td>$\\mathrm{}$</td><td ><pre></pre></td><td><code><vaex.hash.HashMapUnique object at 0x0000024CA4BD6380></code></td></tr><tr><td>map_choices_1</td><td><class 'type'></td><td>$\\mathrm{}$</td><td ><pre></pre></td><td><code>[\n",
       "  null,\n",
       "  0,\n",
       "  1,\n",
       "  2,\n",
       "  3,\n",
       "  4,\n",
       "  5,\n",
       "  6,\n",
       "  7,\n",
       "  8,\n",
       "  ...\n",
       "  98,\n",
       "  99,\n",
       "  100,\n",
       "  101,\n",
       "  102,\n",
       "  103,\n",
       "  104,\n",
       "  105,\n",
       "  106,\n",
       "  107\n",
       "]</code></td></tr><tr><td>map_key_hash_map_unique_2</td><td><class 'type'></td><td>$\\mathrm{}$</td><td ><pre></pre></td><td><code><vaex.hash.HashMapUnique object at 0x000002509A600CD0></code></td></tr><tr><td>map_choices_2</td><td><class 'type'></td><td>$\\mathrm{}$</td><td ><pre></pre></td><td><code>[\n",
       "  null,\n",
       "  0,\n",
       "  1,\n",
       "  2,\n",
       "  3,\n",
       "  4,\n",
       "  5,\n",
       "  6,\n",
       "  7,\n",
       "  8,\n",
       "  ...\n",
       "  7771,\n",
       "  7772,\n",
       "  7773,\n",
       "  7774,\n",
       "  7775,\n",
       "  7776,\n",
       "  7777,\n",
       "  7778,\n",
       "  7779,\n",
       "  7780\n",
       "]</code></td></tr></table><h2>Data:</h2><table>\n",
       "<thead>\n",
       "<tr><th>#                                     </th><th>Trip ID                                 </th><th>Taxi ID  </th><th>Trip Start Timestamp  </th><th>Trip Seconds  </th><th>Trip Miles  </th><th>Fare  </th><th>Tips  </th><th>Tolls  </th><th>Extras  </th><th>Trip Total  </th><th>Payment Type  </th><th>Company                          </th><th>Pickup Centroid Latitude  </th><th>Pickup Centroid Longitude  </th><th>Dropoff Centroid Latitude  </th><th>Dropoff Centroid Longitude  </th><th>ts_start                  </th><th>ts_start_1_hour           </th><th>ts_start_4_hour           </th><th>ts_start_6_hour           </th><th>ts_start_day  </th><th>start_hour  </th><th>start_weekday  </th><th>start_month  </th><th>Payment Type_encoded  </th><th>Company_encoded  </th></tr>\n",
       "</thead>\n",
       "<tbody>\n",
       "<tr><td><i style='opacity: 0.6'>0</i>         </td><td>506646dd0685bd55094f1b7dfac97cf3b07b6126</td><td>294      </td><td>05/17/2014 10:45:00 AM</td><td>1080.0        </td><td>7.0         </td><td>17.45 </td><td>0.0   </td><td>0.0    </td><td>1.5     </td><td>18.95       </td><td>Cash          </td><td>Taxi Affiliation Services        </td><td>41.879255084              </td><td>-87.642648998              </td><td>41.949139771               </td><td>-87.656803909               </td><td>2014-05-17 10:45:00.000000</td><td>2014-05-17 10:00:00.000000</td><td>2014-05-17 08:00:00.000000</td><td>2014-05-17 06:00:00.000000</td><td>2014-05-17    </td><td>10          </td><td>5              </td><td>5            </td><td>3                     </td><td>28               </td></tr>\n",
       "<tr><td><i style='opacity: 0.6'>1</i>         </td><td>1462669f59c3b5a1730e8a5f511a4102d1998c21</td><td>4672     </td><td>04/17/2014 06:30:00 PM</td><td>1080.0        </td><td>3.0         </td><td>11.45 </td><td>0.0   </td><td>0.0    </td><td>1.0     </td><td>12.45       </td><td>Cash          </td><td>Taxi Affiliation Services        </td><td>nan                       </td><td>nan                        </td><td>41.851017824               </td><td>-87.635091856               </td><td>2014-04-17 18:30:00.000000</td><td>2014-04-17 18:00:00.000000</td><td>2014-04-17 16:00:00.000000</td><td>2014-04-17 18:00:00.000000</td><td>2014-04-17    </td><td>18          </td><td>3              </td><td>4            </td><td>3                     </td><td>28               </td></tr>\n",
       "<tr><td><i style='opacity: 0.6'>2</i>         </td><td>8d699aec32ce70e3647f7b06147001d3926975cc</td><td>1587     </td><td>05/03/2014 11:30:00 PM</td><td>720.0         </td><td>2.1         </td><td>8.45  </td><td>2.0   </td><td>0.0    </td><td>1.0     </td><td>11.45       </td><td>Credit Card   </td><td>Dispatch Taxi Affiliation        </td><td>41.89321636               </td><td>-87.63784421               </td><td>41.890922026               </td><td>-87.618868355               </td><td>2014-05-03 23:30:00.000000</td><td>2014-05-03 23:00:00.000000</td><td>2014-05-03 20:00:00.000000</td><td>2014-05-03 18:00:00.000000</td><td>2014-05-03    </td><td>23          </td><td>5              </td><td>5            </td><td>4                     </td><td>50               </td></tr>\n",
       "<tr><td><i style='opacity: 0.6'>3</i>         </td><td>ae05f6f7a766b58b059f04c7549892da4dc3cf54</td><td>6832     </td><td>05/17/2014 01:30:00 AM</td><td>480.0         </td><td>0.0         </td><td>7.85  </td><td>3.0   </td><td>0.0    </td><td>1.0     </td><td>11.85       </td><td>Credit Card   </td><td>Taxi Affiliation Services        </td><td>41.914616286              </td><td>-87.631717366              </td><td>41.94258518                </td><td>-87.656644092               </td><td>2014-05-17 01:30:00.000000</td><td>2014-05-17 01:00:00.000000</td><td>2014-05-17 00:00:00.000000</td><td>2014-05-17 00:00:00.000000</td><td>2014-05-17    </td><td>1           </td><td>5              </td><td>5            </td><td>4                     </td><td>28               </td></tr>\n",
       "<tr><td><i style='opacity: 0.6'>4</i>         </td><td>b45b42620c3a926ea633b9115dc624a33dcf3b56</td><td>1898     </td><td>04/25/2014 02:30:00 PM</td><td>0.0           </td><td>0.0         </td><td>42.05 </td><td>7.0   </td><td>0.0    </td><td>0.0     </td><td>49.05       </td><td>Credit Card   </td><td>T.A.S. - Payment Only            </td><td>nan                       </td><td>nan                        </td><td>nan                        </td><td>nan                         </td><td>2014-04-25 14:30:00.000000</td><td>2014-04-25 14:00:00.000000</td><td>2014-04-25 12:00:00.000000</td><td>2014-04-25 12:00:00.000000</td><td>2014-04-25    </td><td>14          </td><td>4              </td><td>4            </td><td>4                     </td><td>103              </td></tr>\n",
       "<tr><td>...                                   </td><td>...                                     </td><td>...      </td><td>...                   </td><td>...           </td><td>...         </td><td>...   </td><td>...   </td><td>...    </td><td>...     </td><td>...         </td><td>...           </td><td>...                              </td><td>...                       </td><td>...                        </td><td>...                        </td><td>...                         </td><td>...                       </td><td>...                       </td><td>...                       </td><td>...                       </td><td>...           </td><td>...         </td><td>...            </td><td>...          </td><td>...                   </td><td>...              </td></tr>\n",
       "<tr><td><i style='opacity: 0.6'>37,395,431</i></td><td>40aa131f22b63a5ca71d1eff4477500e6b875036</td><td>1757     </td><td>04/03/2014 08:30:00 PM</td><td>900.0         </td><td>3.7         </td><td>11.25 </td><td>0.0   </td><td>0.0    </td><td>0.0     </td><td>11.25       </td><td>Cash          </td><td>Taxi Affiliation Services        </td><td>41.944226601              </td><td>-87.655998182              </td><td>41.901206994               </td><td>-87.676355989               </td><td>2014-04-03 20:30:00.000000</td><td>2014-04-03 20:00:00.000000</td><td>2014-04-03 20:00:00.000000</td><td>2014-04-03 18:00:00.000000</td><td>2014-04-03    </td><td>20          </td><td>3              </td><td>4            </td><td>3                     </td><td>28               </td></tr>\n",
       "<tr><td><i style='opacity: 0.6'>37,395,432</i></td><td>0cd3c0015580380a89b2da5d4ed01016c0399e6a</td><td>1044     </td><td>05/13/2014 11:30:00 PM</td><td>540.0         </td><td>0.0         </td><td>11.85 </td><td>3.55  </td><td>0.0    </td><td>0.0     </td><td>15.4        </td><td>Credit Card   </td><td>Blue Ribbon Taxi Association Inc.</td><td>41.899602111              </td><td>-87.633308037              </td><td>41.944226601               </td><td>-87.655998182               </td><td>2014-05-13 23:30:00.000000</td><td>2014-05-13 23:00:00.000000</td><td>2014-05-13 20:00:00.000000</td><td>2014-05-13 18:00:00.000000</td><td>2014-05-13    </td><td>23          </td><td>1              </td><td>5            </td><td>4                     </td><td>9                </td></tr>\n",
       "<tr><td><i style='opacity: 0.6'>37,395,433</i></td><td>d378e1b76a0de5844b9d50a719239bcf878da1fc</td><td>1017     </td><td>05/14/2014 12:45:00 PM</td><td>240.0         </td><td>0.0         </td><td>5.25  </td><td>3.0   </td><td>0.0    </td><td>1.5     </td><td>9.75        </td><td>Credit Card   </td><td>Taxi Affiliation Services        </td><td>41.880994471              </td><td>-87.632746489              </td><td>41.88528132                </td><td>-87.6572332                 </td><td>2014-05-14 12:45:00.000000</td><td>2014-05-14 12:00:00.000000</td><td>2014-05-14 12:00:00.000000</td><td>2014-05-14 12:00:00.000000</td><td>2014-05-14    </td><td>12          </td><td>2              </td><td>5            </td><td>4                     </td><td>28               </td></tr>\n",
       "<tr><td><i style='opacity: 0.6'>37,395,434</i></td><td>d64938a724961d6f2c0ae58932e78e3671784822</td><td>6181     </td><td>05/14/2014 12:15:00 PM</td><td>360.0         </td><td>0.0         </td><td>5.05  </td><td>0.0   </td><td>0.0    </td><td>0.0     </td><td>5.05        </td><td>Cash          </td><td>KOAM Taxi Association            </td><td>41.902788048              </td><td>-87.62614559               </td><td>41.898331794               </td><td>-87.620762865               </td><td>2014-05-14 12:15:00.000000</td><td>2014-05-14 12:00:00.000000</td><td>2014-05-14 12:00:00.000000</td><td>2014-05-14 12:00:00.000000</td><td>2014-05-14    </td><td>12          </td><td>2              </td><td>5            </td><td>3                     </td><td>73               </td></tr>\n",
       "<tr><td><i style='opacity: 0.6'>37,395,435</i></td><td>ffa438bd0098e226eccd9867c2a134009a13c20d</td><td>7517     </td><td>05/13/2014 11:30:00 PM</td><td>840.0         </td><td>3.2         </td><td>10.45 </td><td>2.25  </td><td>0.0    </td><td>1.0     </td><td>13.7        </td><td>Credit Card   </td><td>Dispatch Taxi Affiliation        </td><td>41.884987192              </td><td>-87.620992913              </td><td>41.914747305               </td><td>-87.654007029               </td><td>2014-05-13 23:30:00.000000</td><td>2014-05-13 23:00:00.000000</td><td>2014-05-13 20:00:00.000000</td><td>2014-05-13 18:00:00.000000</td><td>2014-05-13    </td><td>23          </td><td>1              </td><td>5            </td><td>4                     </td><td>50               </td></tr>\n",
       "</tbody>\n",
       "</table>"
      ],
      "text/plain": [
       "<IPython.core.display.HTML object>"
      ]
     },
     "metadata": {},
     "output_type": "display_data"
    }
   ],
   "source": [
    "df_trips.info()"
   ]
  },
  {
   "attachments": {},
   "cell_type": "markdown",
   "metadata": {},
   "source": [
    "## Persist dataset as 'trips_prepared.hdf5'"
   ]
  },
  {
   "cell_type": "code",
   "execution_count": 14,
   "metadata": {},
   "outputs": [
    {
     "name": "stdout",
     "output_type": "stream",
     "text": [
      "export(hdf5) [########################################] 98.90% estimated time:    30.52s =  0.5m =  0.0h                                                                                          "
     ]
    }
   ],
   "source": [
    "df_trips.export_hdf5(\"data/trips/trips_prepared.hdf5\", progress=True)"
   ]
  }
 ],
 "metadata": {
  "kernelspec": {
   "display_name": "AAA_2023-Ne9h4ijP",
   "language": "python",
   "name": "python3"
  },
  "language_info": {
   "codemirror_mode": {
    "name": "ipython",
    "version": 3
   },
   "file_extension": ".py",
   "mimetype": "text/x-python",
   "name": "python",
   "nbconvert_exporter": "python",
   "pygments_lexer": "ipython3",
   "version": "3.10.10"
  },
  "orig_nbformat": 4
 },
 "nbformat": 4,
 "nbformat_minor": 2
}
