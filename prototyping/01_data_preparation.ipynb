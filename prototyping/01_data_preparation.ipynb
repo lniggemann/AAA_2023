{
 "cells": [
  {
   "attachments": {},
   "cell_type": "markdown",
   "metadata": {},
   "source": [
    "# Data preparation\n",
    "\n",
    "Prepare data for further processing.\n",
    "Steps:\n",
    "- discretizing data (temporal and spatial)\n",
    "- encoding of categorical values\n",
    "- dropping of not necessary columns\n",
    "- persisting the prepared dataset as 'trips_prepared.hdf5'\n"
   ]
  },
  {
   "cell_type": "code",
   "execution_count": 285,
   "metadata": {},
   "outputs": [],
   "source": [
    "import vaex"
   ]
  },
  {
   "attachments": {},
   "cell_type": "markdown",
   "metadata": {},
   "source": [
    "Load dataset"
   ]
  },
  {
   "cell_type": "code",
   "execution_count": 286,
   "metadata": {},
   "outputs": [],
   "source": [
    "df_trips = vaex.open(\"../data/trips/trips.hdf5\")"
   ]
  },
  {
   "cell_type": "code",
   "execution_count": 287,
   "metadata": {},
   "outputs": [
    {
     "data": {
      "text/html": [
       "<style>.vaex-description pre {\n",
       "          max-width : 450px;\n",
       "          white-space : nowrap;\n",
       "          overflow : hidden;\n",
       "          text-overflow: ellipsis;\n",
       "        }\n",
       "\n",
       "        .vex-description pre:hover {\n",
       "          max-width : initial;\n",
       "          white-space: pre;\n",
       "        }</style>"
      ],
      "text/plain": [
       "<IPython.core.display.HTML object>"
      ]
     },
     "metadata": {},
     "output_type": "display_data"
    },
    {
     "data": {
      "text/html": [
       "<div><h2>trips</h2> <b>rows</b>: 37,395,436</div><h2>Columns:</h2><table class='table-striped'><thead><tr><th>column</th><th>type</th><th>unit</th><th>description</th><th>expression</th></tr></thead><tr><td>Trip ID</td><td>str</td><td></td><td ><pre></pre></td><td></td></tr><tr><td>Taxi ID</td><td>str</td><td></td><td ><pre></pre></td><td></td></tr><tr><td>Trip Start Timestamp</td><td>str</td><td></td><td ><pre></pre></td><td></td></tr><tr><td>Trip End Timestamp</td><td>str</td><td></td><td ><pre></pre></td><td></td></tr><tr><td>Trip Seconds</td><td>float64</td><td></td><td ><pre></pre></td><td></td></tr><tr><td>Trip Miles</td><td>float64</td><td></td><td ><pre></pre></td><td></td></tr><tr><td>Pickup Census Tract</td><td>float64</td><td></td><td ><pre></pre></td><td></td></tr><tr><td>Dropoff Census Tract</td><td>float64</td><td></td><td ><pre></pre></td><td></td></tr><tr><td>Pickup Community Area</td><td>float64</td><td></td><td ><pre></pre></td><td></td></tr><tr><td>Dropoff Community Area</td><td>float64</td><td></td><td ><pre></pre></td><td></td></tr><tr><td>Fare</td><td>float64</td><td></td><td ><pre></pre></td><td></td></tr><tr><td>Tips</td><td>float64</td><td></td><td ><pre></pre></td><td></td></tr><tr><td>Tolls</td><td>float64</td><td></td><td ><pre></pre></td><td></td></tr><tr><td>Extras</td><td>float64</td><td></td><td ><pre></pre></td><td></td></tr><tr><td>Trip Total</td><td>float64</td><td></td><td ><pre></pre></td><td></td></tr><tr><td>Payment Type</td><td>str</td><td></td><td ><pre></pre></td><td></td></tr><tr><td>Company</td><td>str</td><td></td><td ><pre></pre></td><td></td></tr><tr><td>Pickup Centroid Latitude</td><td>float64</td><td></td><td ><pre></pre></td><td></td></tr><tr><td>Pickup Centroid Longitude</td><td>float64</td><td></td><td ><pre></pre></td><td></td></tr><tr><td>Pickup Centroid Location</td><td>str</td><td></td><td ><pre></pre></td><td></td></tr><tr><td>Dropoff Centroid Latitude</td><td>float64</td><td></td><td ><pre></pre></td><td></td></tr><tr><td>Dropoff Centroid Longitude</td><td>float64</td><td></td><td ><pre></pre></td><td></td></tr><tr><td>Dropoff Centroid  Location</td><td>str</td><td></td><td ><pre></pre></td><td></td></tr></table><h2>Data:</h2><table>\n",
       "<thead>\n",
       "<tr><th>#                                     </th><th>Trip ID                                 </th><th>Taxi ID                                            </th><th>Trip Start Timestamp  </th><th>Trip End Timestamp    </th><th>Trip Seconds  </th><th>Trip Miles  </th><th>Pickup Census Tract  </th><th>Dropoff Census Tract  </th><th>Pickup Community Area  </th><th>Dropoff Community Area  </th><th>Fare  </th><th>Tips  </th><th>Tolls  </th><th>Extras  </th><th>Trip Total  </th><th>Payment Type  </th><th>Company                          </th><th>Pickup Centroid Latitude  </th><th>Pickup Centroid Longitude  </th><th>Pickup Centroid Location            </th><th>Dropoff Centroid Latitude  </th><th>Dropoff Centroid Longitude  </th><th>Dropoff Centroid  Location              </th></tr>\n",
       "</thead>\n",
       "<tbody>\n",
       "<tr><td><i style='opacity: 0.6'>0</i>         </td><td>506646dd0685bd55094f1b7dfac97cf3b07b6126</td><td>&#x27;1099c684f9da1ac1d0dd253d394f1c8dad37bc1a53d944d...</td><td>05/17/2014 10:45:00 AM</td><td>05/17/2014 11:00:00 AM</td><td>1080.0        </td><td>7.0         </td><td>17031281900.0        </td><td>17031061100.0         </td><td>28.0                   </td><td>6.0                     </td><td>17.45 </td><td>0.0   </td><td>0.0    </td><td>1.5     </td><td>18.95       </td><td>Cash          </td><td>Taxi Affiliation Services        </td><td>41.879255084              </td><td>-87.642648998              </td><td>POINT (-87.642648998 41.8792550844) </td><td>41.949139771               </td><td>-87.656803909               </td><td>POINT (-87.6568039088 41.9491397709)    </td></tr>\n",
       "<tr><td><i style='opacity: 0.6'>1</i>         </td><td>1462669f59c3b5a1730e8a5f511a4102d1998c21</td><td>&#x27;379e0fd9da136cabc9eec3aca37047bbdee373ca2ef7a03...</td><td>04/17/2014 06:30:00 PM</td><td>04/17/2014 07:00:00 PM</td><td>1080.0        </td><td>3.0         </td><td>nan                  </td><td>17031841100.0         </td><td>nan                    </td><td>34.0                    </td><td>11.45 </td><td>0.0   </td><td>0.0    </td><td>1.0     </td><td>12.45       </td><td>Cash          </td><td>Taxi Affiliation Services        </td><td>nan                       </td><td>nan                        </td><td>--                                  </td><td>41.851017824               </td><td>-87.635091856               </td><td>POINT (-87.6350918563 41.8510178239)    </td></tr>\n",
       "<tr><td><i style='opacity: 0.6'>2</i>         </td><td>8d699aec32ce70e3647f7b06147001d3926975cc</td><td>&#x27;6768c7ebfdee8e7e7b3f5ec44739316241895aa2f7edf10...</td><td>05/03/2014 11:30:00 PM</td><td>05/03/2014 11:45:00 PM</td><td>720.0         </td><td>2.1         </td><td>17031081800.0        </td><td>17031081403.0         </td><td>8.0                    </td><td>8.0                     </td><td>8.45  </td><td>2.0   </td><td>0.0    </td><td>1.0     </td><td>11.45       </td><td>Credit Card   </td><td>Dispatch Taxi Affiliation        </td><td>41.89321636               </td><td>-87.63784421               </td><td>POINT (-87.6378442095 41.8932163595)</td><td>41.890922026               </td><td>-87.618868355               </td><td>POINT (-87.6188683546 41.8909220259)    </td></tr>\n",
       "<tr><td><i style='opacity: 0.6'>3</i>         </td><td>ae05f6f7a766b58b059f04c7549892da4dc3cf54</td><td>&#x27;7dc01f4be54a4058ffb81098be25f52c9f1249afc88e3ef...</td><td>05/17/2014 01:30:00 AM</td><td>05/17/2014 01:45:00 AM</td><td>480.0         </td><td>0.0         </td><td>17031071500.0        </td><td>17031062200.0         </td><td>7.0                    </td><td>6.0                     </td><td>7.85  </td><td>3.0   </td><td>0.0    </td><td>1.0     </td><td>11.85       </td><td>Credit Card   </td><td>Taxi Affiliation Services        </td><td>41.914616286              </td><td>-87.631717366              </td><td>POINT (-87.6317173661 41.9146162864)</td><td>41.94258518                </td><td>-87.656644092               </td><td>POINT (-87.6566440918 41.9425851797)    </td></tr>\n",
       "<tr><td><i style='opacity: 0.6'>4</i>         </td><td>b45b42620c3a926ea633b9115dc624a33dcf3b56</td><td>&#x27;9f87b11be025b5dcc55e9472b8c2158664c97d193cf15d9...</td><td>04/25/2014 02:30:00 PM</td><td>04/25/2014 02:30:00 PM</td><td>0.0           </td><td>0.0         </td><td>nan                  </td><td>nan                   </td><td>nan                    </td><td>nan                     </td><td>42.05 </td><td>7.0   </td><td>0.0    </td><td>0.0     </td><td>49.05       </td><td>Credit Card   </td><td>T.A.S. - Payment Only            </td><td>nan                       </td><td>nan                        </td><td>--                                  </td><td>nan                        </td><td>nan                         </td><td>--                                      </td></tr>\n",
       "<tr><td>...                                   </td><td>...                                     </td><td>...                                                </td><td>...                   </td><td>...                   </td><td>...           </td><td>...         </td><td>...                  </td><td>...                   </td><td>...                    </td><td>...                     </td><td>...   </td><td>...   </td><td>...    </td><td>...     </td><td>...         </td><td>...           </td><td>...                              </td><td>...                       </td><td>...                        </td><td>...                                 </td><td>...                        </td><td>...                         </td><td>...                                     </td></tr>\n",
       "<tr><td><i style='opacity: 0.6'>37,395,431</i></td><td>40aa131f22b63a5ca71d1eff4477500e6b875036</td><td>&#x27;8c244243c4123f4b467c2931cf59a691059a45302dc13e3...</td><td>04/03/2014 08:30:00 PM</td><td>04/03/2014 08:45:00 PM</td><td>900.0         </td><td>3.7         </td><td>nan                  </td><td>nan                   </td><td>6.0                    </td><td>24.0                    </td><td>11.25 </td><td>0.0   </td><td>0.0    </td><td>0.0     </td><td>11.25       </td><td>Cash          </td><td>Taxi Affiliation Services        </td><td>41.944226601              </td><td>-87.655998182              </td><td>POINT (-87.6559981815 41.9442266014)</td><td>41.901206994               </td><td>-87.676355989               </td><td>POINT (-87.6763559892 41.90120699410001)</td></tr>\n",
       "<tr><td><i style='opacity: 0.6'>37,395,432</i></td><td>0cd3c0015580380a89b2da5d4ed01016c0399e6a</td><td>&#x27;01480513a7f6f4664d6cc4c41ff3043ae6ecbc8cb17404f...</td><td>05/13/2014 11:30:00 PM</td><td>05/13/2014 11:45:00 PM</td><td>540.0         </td><td>0.0         </td><td>nan                  </td><td>nan                   </td><td>8.0                    </td><td>6.0                     </td><td>11.85 </td><td>3.55  </td><td>0.0    </td><td>0.0     </td><td>15.4        </td><td>Credit Card   </td><td>Blue Ribbon Taxi Association Inc.</td><td>41.899602111              </td><td>-87.633308037              </td><td>POINT (-87.6333080367 41.899602111) </td><td>41.944226601               </td><td>-87.655998182               </td><td>POINT (-87.6559981815 41.9442266014)    </td></tr>\n",
       "<tr><td><i style='opacity: 0.6'>37,395,433</i></td><td>d378e1b76a0de5844b9d50a719239bcf878da1fc</td><td>&#x27;fdeaab06ce15ad69658acbc0e591218ef6146a29ef21275...</td><td>05/14/2014 12:45:00 PM</td><td>05/14/2014 12:45:00 PM</td><td>240.0         </td><td>0.0         </td><td>17031839100.0        </td><td>17031833000.0         </td><td>32.0                   </td><td>28.0                    </td><td>5.25  </td><td>3.0   </td><td>0.0    </td><td>1.5     </td><td>9.75        </td><td>Credit Card   </td><td>Taxi Affiliation Services        </td><td>41.880994471              </td><td>-87.632746489              </td><td>POINT (-87.6327464887 41.8809944707)</td><td>41.88528132                </td><td>-87.6572332                 </td><td>POINT (-87.6572331997 41.8852813201)    </td></tr>\n",
       "<tr><td><i style='opacity: 0.6'>37,395,434</i></td><td>d64938a724961d6f2c0ae58932e78e3671784822</td><td>&#x27;a42edac48945c9dab13540adee09290f11b123a513580f2...</td><td>05/14/2014 12:15:00 PM</td><td>05/14/2014 12:15:00 PM</td><td>360.0         </td><td>0.0         </td><td>17031081202.0        </td><td>17031081300.0         </td><td>8.0                    </td><td>8.0                     </td><td>5.05  </td><td>0.0   </td><td>0.0    </td><td>0.0     </td><td>5.05        </td><td>Cash          </td><td>KOAM Taxi Association            </td><td>41.902788048              </td><td>-87.62614559               </td><td>POINT (-87.6261455896 41.9027880476)</td><td>41.898331794               </td><td>-87.620762865               </td><td>POINT (-87.6207628651 41.8983317935)    </td></tr>\n",
       "<tr><td><i style='opacity: 0.6'>37,395,435</i></td><td>ffa438bd0098e226eccd9867c2a134009a13c20d</td><td>&#x27;705cc88d7a216145f6c762aa705905a745a0c5f17e39aa1...</td><td>05/13/2014 11:30:00 PM</td><td>05/13/2014 11:45:00 PM</td><td>840.0         </td><td>3.2         </td><td>17031320100.0        </td><td>17031832600.0         </td><td>32.0                   </td><td>7.0                     </td><td>10.45 </td><td>2.25  </td><td>0.0    </td><td>1.0     </td><td>13.7        </td><td>Credit Card   </td><td>Dispatch Taxi Affiliation        </td><td>41.884987192              </td><td>-87.620992913              </td><td>POINT (-87.6209929134 41.8849871918)</td><td>41.914747305               </td><td>-87.654007029               </td><td>POINT (-87.6540070286 41.9147473049)    </td></tr>\n",
       "</tbody>\n",
       "</table>"
      ],
      "text/plain": [
       "<IPython.core.display.HTML object>"
      ]
     },
     "metadata": {},
     "output_type": "display_data"
    }
   ],
   "source": [
    "df_trips.info()"
   ]
  },
  {
   "attachments": {},
   "cell_type": "markdown",
   "metadata": {},
   "source": [
    "## Discretize Data"
   ]
  },
  {
   "attachments": {},
   "cell_type": "markdown",
   "metadata": {},
   "source": [
    "Temporal "
   ]
  },
  {
   "cell_type": "code",
   "execution_count": 288,
   "metadata": {},
   "outputs": [],
   "source": [
    "import numpy as np\n",
    "from datetime import datetime\n",
    "\n",
    "def convert_to_datetime(date_string):\n",
    "    return np.datetime64(datetime.strptime(str(date_string), \"%m/%d/%Y %I:%M:%S %p\"))\n",
    "\n",
    "df_trips['ts_start']  = df_trips[\"Trip Start Timestamp\"].apply(convert_to_datetime)"
   ]
  },
  {
   "cell_type": "code",
   "execution_count": 289,
   "metadata": {},
   "outputs": [],
   "source": [
    "# add hourly\n",
    "df_trips['ts_start_1_hour'] = df_trips['ts_start'].dt.floor('1h')\n",
    "df_trips['ts_start_4_hour'] = df_trips['ts_start'].dt.floor('4h')\n",
    "df_trips['ts_start_6_hour'] = df_trips['ts_start'].dt.floor('6h')\n",
    "\n",
    "df_trips['ts_start_day']    = df_trips['ts_start'].dt.date\n",
    "\n",
    "df_trips['start_hour']      = df_trips['ts_start'].dt.hour\n",
    "df_trips['start_weekday']   = df_trips['ts_start'].dt.dayofweek\n",
    "df_trips['start_month']     = df_trips['ts_start'].dt.month"
   ]
  },
  {
   "attachments": {},
   "cell_type": "markdown",
   "metadata": {},
   "source": [
    "Spatial"
   ]
  },
  {
   "cell_type": "code",
   "execution_count": 290,
   "metadata": {},
   "outputs": [
    {
     "data": {
      "text/html": [
       "<div>\n",
       "<style scoped>\n",
       "    .dataframe tbody tr th:only-of-type {\n",
       "        vertical-align: middle;\n",
       "    }\n",
       "\n",
       "    .dataframe tbody tr th {\n",
       "        vertical-align: top;\n",
       "    }\n",
       "\n",
       "    .dataframe thead th {\n",
       "        text-align: right;\n",
       "    }\n",
       "</style>\n",
       "<table border=\"1\" class=\"dataframe\">\n",
       "  <thead>\n",
       "    <tr style=\"text-align: right;\">\n",
       "      <th></th>\n",
       "      <th>geometry</th>\n",
       "    </tr>\n",
       "  </thead>\n",
       "  <tbody>\n",
       "    <tr>\n",
       "      <th>0</th>\n",
       "      <td>POLYGON ((-87.60234 41.77784, -87.61504 41.769...</td>\n",
       "    </tr>\n",
       "    <tr>\n",
       "      <th>1</th>\n",
       "      <td>POLYGON ((-87.58507 41.81862, -87.59779 41.810...</td>\n",
       "    </tr>\n",
       "    <tr>\n",
       "      <th>2</th>\n",
       "      <td>POLYGON ((-87.71166 41.78075, -87.72434 41.772...</td>\n",
       "    </tr>\n",
       "    <tr>\n",
       "      <th>3</th>\n",
       "      <td>POLYGON ((-87.79835 42.03585, -87.81108 42.027...</td>\n",
       "    </tr>\n",
       "    <tr>\n",
       "      <th>4</th>\n",
       "      <td>POLYGON ((-87.81162 41.93804, -87.82433 41.929...</td>\n",
       "    </tr>\n",
       "    <tr>\n",
       "      <th>...</th>\n",
       "      <td>...</td>\n",
       "    </tr>\n",
       "    <tr>\n",
       "      <th>156</th>\n",
       "      <td>POLYGON ((-87.59731 41.85506, -87.61003 41.846...</td>\n",
       "    </tr>\n",
       "    <tr>\n",
       "      <th>157</th>\n",
       "      <td>POLYGON ((-87.65142 41.92360, -87.66416 41.915...</td>\n",
       "    </tr>\n",
       "    <tr>\n",
       "      <th>158</th>\n",
       "      <td>POLYGON ((-87.80693 42.01539, -87.81965 42.007...</td>\n",
       "    </tr>\n",
       "    <tr>\n",
       "      <th>159</th>\n",
       "      <td>POLYGON ((-87.67237 41.93964, -87.68511 41.931...</td>\n",
       "    </tr>\n",
       "    <tr>\n",
       "      <th>160</th>\n",
       "      <td>POLYGON ((-87.79449 41.97892, -87.80720 41.970...</td>\n",
       "    </tr>\n",
       "  </tbody>\n",
       "</table>\n",
       "<p>161 rows × 1 columns</p>\n",
       "</div>"
      ],
      "text/plain": [
       "                                              geometry\n",
       "0    POLYGON ((-87.60234 41.77784, -87.61504 41.769...\n",
       "1    POLYGON ((-87.58507 41.81862, -87.59779 41.810...\n",
       "2    POLYGON ((-87.71166 41.78075, -87.72434 41.772...\n",
       "3    POLYGON ((-87.79835 42.03585, -87.81108 42.027...\n",
       "4    POLYGON ((-87.81162 41.93804, -87.82433 41.929...\n",
       "..                                                 ...\n",
       "156  POLYGON ((-87.59731 41.85506, -87.61003 41.846...\n",
       "157  POLYGON ((-87.65142 41.92360, -87.66416 41.915...\n",
       "158  POLYGON ((-87.80693 42.01539, -87.81965 42.007...\n",
       "159  POLYGON ((-87.67237 41.93964, -87.68511 41.931...\n",
       "160  POLYGON ((-87.79449 41.97892, -87.80720 41.970...\n",
       "\n",
       "[161 rows x 1 columns]"
      ]
     },
     "execution_count": 290,
     "metadata": {},
     "output_type": "execute_result"
    }
   ],
   "source": [
    "import geopandas as gpd\n",
    "import h3\n",
    "\n",
    "gdf = gpd.read_file('../data/hexagon_files/hexagon_res7.geojson')\n",
    "gdf\n",
    "\n",
    "# Create a spatial index for faster spatial queries\n",
    "gdf.sindex\n",
    "gdf\n",
    "\n"
   ]
  },
  {
   "cell_type": "code",
   "execution_count": 328,
   "metadata": {},
   "outputs": [],
   "source": [
    "import h3\n",
    "from shapely import Polygon \n",
    "\n",
    "# docu resolution https://h3geo.org/docs/core-library/restable/\n",
    "\n",
    "def convert_to_hex_id (lat, lon, resolution):\n",
    "        hex_id = h3.geo_to_h3(lat, lon, resolution)\n",
    "        return hex_id if hex_id != \"0\" else None\n",
    "\n",
    "def convert_hex_to_polygon(hex):\n",
    "        polygon = None\n",
    "        if hex:\n",
    "               polygon = Polygon(h3.h3_to_geo_boundary(hex, geo_json=True))         \n",
    "        return polygon\n"
   ]
  },
  {
   "cell_type": "code",
   "execution_count": 329,
   "metadata": {},
   "outputs": [],
   "source": [
    "# define multiple convert functions, since vaex_df.apply() only supports column arguments\n",
    "\n",
    "def convert_to_hex_id_7 (lat, lon):\n",
    "    return convert_to_hex_id (lat, lon, 7)\n",
    "def convert_to_hex_id_8 (lat, lon):\n",
    "    return convert_to_hex_id (lat, lon, 8)\n",
    "def convert_to_hex_id_9 (lat, lon):\n",
    "    return convert_to_hex_id (lat, lon, 9)\n"
   ]
  },
  {
   "cell_type": "code",
   "execution_count": 330,
   "metadata": {},
   "outputs": [],
   "source": [
    "df_trips['pickup_hex_7']  = df_trips.apply(convert_to_hex_id_7, arguments=[df_trips['Pickup Centroid Latitude'],  df_trips['Pickup Centroid Latitude']])\n",
    "df_trips['dropoff_hex_7'] = df_trips.apply(convert_to_hex_id_7, arguments=[df_trips['Dropoff Centroid Latitude'], df_trips['Dropoff Centroid Latitude']])\n",
    "df_trips['pickup_hex_8']  = df_trips.apply(convert_to_hex_id_8, arguments=[df_trips['Pickup Centroid Latitude'],  df_trips['Pickup Centroid Latitude']])\n",
    "df_trips['dropoff_hex_8'] = df_trips.apply(convert_to_hex_id_8, arguments=[df_trips['Dropoff Centroid Latitude'], df_trips['Dropoff Centroid Latitude']])\n",
    "df_trips['pickup_hex_9']  = df_trips.apply(convert_to_hex_id_9, arguments=[df_trips['Pickup Centroid Latitude'],  df_trips['Pickup Centroid Latitude']])\n",
    "df_trips['dropoff_hex_9'] = df_trips.apply(convert_to_hex_id_9, arguments=[df_trips['Dropoff Centroid Latitude'], df_trips['Dropoff Centroid Latitude']])"
   ]
  },
  {
   "cell_type": "code",
   "execution_count": 331,
   "metadata": {},
   "outputs": [],
   "source": [
    "df_trips['pickup_pol_7']  = df_trips['pickup_hex_7'].apply(convert_hex_to_polygon)\n",
    "df_trips['dropoff_pol_7'] = df_trips['dropoff_hex_7'].apply(convert_hex_to_polygon)\n",
    "df_trips['pickup_pol_8']  = df_trips['pickup_hex_8'].apply(convert_hex_to_polygon) \n",
    "df_trips['dropoff_pol_8'] = df_trips['dropoff_hex_8'].apply(convert_hex_to_polygon)\n",
    "df_trips['pickup_pol_9']  = df_trips['pickup_hex_9'].apply(convert_hex_to_polygon) \n",
    "df_trips['dropoff_pol_9'] = df_trips['dropoff_hex_9'].apply(convert_hex_to_polygon)"
   ]
  },
  {
   "cell_type": "code",
   "execution_count": 332,
   "metadata": {},
   "outputs": [
    {
     "data": {
      "text/html": [
       "<style>.vaex-description pre {\n",
       "          max-width : 450px;\n",
       "          white-space : nowrap;\n",
       "          overflow : hidden;\n",
       "          text-overflow: ellipsis;\n",
       "        }\n",
       "\n",
       "        .vex-description pre:hover {\n",
       "          max-width : initial;\n",
       "          white-space: pre;\n",
       "        }</style>"
      ],
      "text/plain": [
       "<IPython.core.display.HTML object>"
      ]
     },
     "metadata": {},
     "output_type": "display_data"
    },
    {
     "data": {
      "text/html": [
       "<div><h2>trips</h2> <b>rows</b>: 37,395,436</div><h2>Columns:</h2><table class='table-striped'><thead><tr><th>column</th><th>type</th><th>unit</th><th>description</th><th>expression</th></tr></thead><tr><td>Trip ID</td><td>str</td><td></td><td ><pre></pre></td><td></td></tr><tr><td>Taxi ID</td><td>str</td><td></td><td ><pre></pre></td><td></td></tr><tr><td>Trip Start Timestamp</td><td>str</td><td></td><td ><pre></pre></td><td></td></tr><tr><td>Trip End Timestamp</td><td>str</td><td></td><td ><pre></pre></td><td></td></tr><tr><td>Trip Seconds</td><td>float64</td><td></td><td ><pre></pre></td><td></td></tr><tr><td>Trip Miles</td><td>float64</td><td></td><td ><pre></pre></td><td></td></tr><tr><td>Pickup Census Tract</td><td>float64</td><td></td><td ><pre></pre></td><td></td></tr><tr><td>Dropoff Census Tract</td><td>float64</td><td></td><td ><pre></pre></td><td></td></tr><tr><td>Pickup Community Area</td><td>float64</td><td></td><td ><pre></pre></td><td></td></tr><tr><td>Dropoff Community Area</td><td>float64</td><td></td><td ><pre></pre></td><td></td></tr><tr><td>Fare</td><td>float64</td><td></td><td ><pre></pre></td><td></td></tr><tr><td>Tips</td><td>float64</td><td></td><td ><pre></pre></td><td></td></tr><tr><td>Tolls</td><td>float64</td><td></td><td ><pre></pre></td><td></td></tr><tr><td>Extras</td><td>float64</td><td></td><td ><pre></pre></td><td></td></tr><tr><td>Trip Total</td><td>float64</td><td></td><td ><pre></pre></td><td></td></tr><tr><td>Payment Type</td><td>str</td><td></td><td ><pre></pre></td><td></td></tr><tr><td>Company</td><td>str</td><td></td><td ><pre></pre></td><td></td></tr><tr><td>Pickup Centroid Latitude</td><td>float64</td><td></td><td ><pre></pre></td><td></td></tr><tr><td>Pickup Centroid Longitude</td><td>float64</td><td></td><td ><pre></pre></td><td></td></tr><tr><td>Pickup Centroid Location</td><td>str</td><td></td><td ><pre></pre></td><td></td></tr><tr><td>Dropoff Centroid Latitude</td><td>float64</td><td></td><td ><pre></pre></td><td></td></tr><tr><td>Dropoff Centroid Longitude</td><td>float64</td><td></td><td ><pre></pre></td><td></td></tr><tr><td>Dropoff Centroid  Location</td><td>str</td><td></td><td ><pre></pre></td><td></td></tr><tr><td>ts_start</td><td></i>virtual column</i></td><td></td><td ><pre></pre></td><td><code>lambda_function(df['Trip Start Timestamp'])</code></td></tr><tr><td>ts_start_1_hour</td><td></i>virtual column</i></td><td></td><td ><pre></pre></td><td><code>dt_floor(ts_start, '1h')</code></td></tr><tr><td>ts_start_4_hour</td><td></i>virtual column</i></td><td></td><td ><pre></pre></td><td><code>dt_floor(ts_start, '4h')</code></td></tr><tr><td>ts_start_6_hour</td><td></i>virtual column</i></td><td></td><td ><pre></pre></td><td><code>dt_floor(ts_start, '6h')</code></td></tr><tr><td>ts_start_day</td><td></i>virtual column</i></td><td></td><td ><pre></pre></td><td><code>dt_date(ts_start)</code></td></tr><tr><td>start_hour</td><td></i>virtual column</i></td><td></td><td ><pre></pre></td><td><code>dt_hour(ts_start)</code></td></tr><tr><td>start_weekday</td><td></i>virtual column</i></td><td></td><td ><pre></pre></td><td><code>dt_dayofweek(ts_start)</code></td></tr><tr><td>start_month</td><td></i>virtual column</i></td><td></td><td ><pre></pre></td><td><code>dt_month(ts_start)</code></td></tr><tr><td>pickup_hex_7</td><td></i>virtual column</i></td><td></td><td ><pre></pre></td><td><code>lambda_function_61(df['Pickup Centroid Latitude'], df['Pickup Centroid Latitude'])</code></td></tr><tr><td>dropoff_hex_7</td><td></i>virtual column</i></td><td></td><td ><pre></pre></td><td><code>lambda_function_62(df['Dropoff Centroid Latitude'], df['Dropoff Centroid Latitude'])</code></td></tr><tr><td>pickup_hex_8</td><td></i>virtual column</i></td><td></td><td ><pre></pre></td><td><code>lambda_function_63(df['Pickup Centroid Latitude'], df['Pickup Centroid Latitude'])</code></td></tr><tr><td>dropoff_hex_8</td><td></i>virtual column</i></td><td></td><td ><pre></pre></td><td><code>lambda_function_64(df['Dropoff Centroid Latitude'], df['Dropoff Centroid Latitude'])</code></td></tr><tr><td>pickup_hex_9</td><td></i>virtual column</i></td><td></td><td ><pre></pre></td><td><code>lambda_function_65(df['Pickup Centroid Latitude'], df['Pickup Centroid Latitude'])</code></td></tr><tr><td>dropoff_hex_9</td><td></i>virtual column</i></td><td></td><td ><pre></pre></td><td><code>lambda_function_66(df['Dropoff Centroid Latitude'], df['Dropoff Centroid Latitude'])</code></td></tr><tr><td>pickup_pol_7</td><td></i>virtual column</i></td><td></td><td ><pre></pre></td><td><code>lambda_function_67(pickup_hex_7)</code></td></tr><tr><td>dropoff_pol_7</td><td></i>virtual column</i></td><td></td><td ><pre></pre></td><td><code>lambda_function_68(dropoff_hex_7)</code></td></tr><tr><td>pickup_pol_8</td><td></i>virtual column</i></td><td></td><td ><pre></pre></td><td><code>lambda_function_69(pickup_hex_8)</code></td></tr><tr><td>dropoff_pol_8</td><td></i>virtual column</i></td><td></td><td ><pre></pre></td><td><code>lambda_function_70(dropoff_hex_8)</code></td></tr><tr><td>pickup_pol_9</td><td></i>virtual column</i></td><td></td><td ><pre></pre></td><td><code>lambda_function_71(pickup_hex_9)</code></td></tr><tr><td>dropoff_pol_9</td><td></i>virtual column</i></td><td></td><td ><pre></pre></td><td><code>lambda_function_72(dropoff_hex_9)</code></td></tr></table><h2>Data:</h2><table>\n",
       "<thead>\n",
       "<tr><th>#                                     </th><th>Trip ID                                 </th><th>Taxi ID                                            </th><th>Trip Start Timestamp  </th><th>Trip End Timestamp    </th><th>Trip Seconds  </th><th>Trip Miles  </th><th>Pickup Census Tract  </th><th>Dropoff Census Tract  </th><th>Pickup Community Area  </th><th>Dropoff Community Area  </th><th>Fare  </th><th>Tips  </th><th>Tolls  </th><th>Extras  </th><th>Trip Total  </th><th>Payment Type  </th><th>Company                          </th><th>Pickup Centroid Latitude  </th><th>Pickup Centroid Longitude  </th><th>Pickup Centroid Location            </th><th>Dropoff Centroid Latitude  </th><th>Dropoff Centroid Longitude  </th><th>Dropoff Centroid  Location              </th><th>ts_start                  </th><th>ts_start_1_hour           </th><th>ts_start_4_hour           </th><th>ts_start_6_hour           </th><th>ts_start_day  </th><th>start_hour  </th><th>start_weekday  </th><th>start_month  </th><th>pickup_hex_7   </th><th>dropoff_hex_7  </th><th>pickup_hex_8   </th><th>dropoff_hex_8  </th><th>pickup_hex_9   </th><th>dropoff_hex_9  </th><th>pickup_pol_7                                       </th><th>dropoff_pol_7                                      </th><th>pickup_pol_8                                       </th><th>dropoff_pol_8                                      </th><th>pickup_pol_9                                       </th><th>dropoff_pol_9                                      </th></tr>\n",
       "</thead>\n",
       "<tbody>\n",
       "<tr><td><i style='opacity: 0.6'>0</i>         </td><td>506646dd0685bd55094f1b7dfac97cf3b07b6126</td><td>&#x27;1099c684f9da1ac1d0dd253d394f1c8dad37bc1a53d944d...</td><td>05/17/2014 10:45:00 AM</td><td>05/17/2014 11:00:00 AM</td><td>1080.0        </td><td>7.0         </td><td>17031281900.0        </td><td>17031061100.0         </td><td>28.0                   </td><td>6.0                     </td><td>17.45 </td><td>0.0   </td><td>0.0    </td><td>1.5     </td><td>18.95       </td><td>Cash          </td><td>Taxi Affiliation Services        </td><td>41.879255084              </td><td>-87.642648998              </td><td>POINT (-87.642648998 41.8792550844) </td><td>41.949139771               </td><td>-87.656803909               </td><td>POINT (-87.6568039088 41.9491397709)    </td><td>2014-05-17 10:45:00.000000</td><td>2014-05-17 10:00:00.000000</td><td>2014-05-17 08:00:00.000000</td><td>2014-05-17 06:00:00.000000</td><td>2014-05-17    </td><td>10          </td><td>5              </td><td>5            </td><td>872c21191ffffff</td><td>872c2118bffffff</td><td>882c211913fffff</td><td>882c2118bbfffff</td><td>892c211913bffff</td><td>892c2118ba3ffff</td><td>&#x27;&lt;POLYGON ((41.859 41.887, 41.856 41.875, 41.869...</td><td>&#x27;&lt;POLYGON ((41.936 41.95, 41.933 41.937, 41.945 ...</td><td>&#x27;&lt;POLYGON ((41.878 41.886, 41.875 41.882, 41.878...</td><td>&#x27;&lt;POLYGON ((41.946 41.953, 41.942 41.949, 41.946...</td><td>&#x27;&lt;POLYGON ((41.877 41.881, 41.876 41.879, 41.878...</td><td>&#x27;&lt;POLYGON ((41.947 41.95, 41.947 41.948, 41.948 ...</td></tr>\n",
       "<tr><td><i style='opacity: 0.6'>1</i>         </td><td>1462669f59c3b5a1730e8a5f511a4102d1998c21</td><td>&#x27;379e0fd9da136cabc9eec3aca37047bbdee373ca2ef7a03...</td><td>04/17/2014 06:30:00 PM</td><td>04/17/2014 07:00:00 PM</td><td>1080.0        </td><td>3.0         </td><td>nan                  </td><td>17031841100.0         </td><td>nan                    </td><td>34.0                    </td><td>11.45 </td><td>0.0   </td><td>0.0    </td><td>1.0     </td><td>12.45       </td><td>Cash          </td><td>Taxi Affiliation Services        </td><td>nan                       </td><td>nan                        </td><td>--                                  </td><td>41.851017824               </td><td>-87.635091856               </td><td>POINT (-87.6350918563 41.8510178239)    </td><td>2014-04-17 18:30:00.000000</td><td>2014-04-17 18:00:00.000000</td><td>2014-04-17 16:00:00.000000</td><td>2014-04-17 18:00:00.000000</td><td>2014-04-17    </td><td>18          </td><td>3              </td><td>4            </td><td>None           </td><td>872c21190ffffff</td><td>None           </td><td>882c211905fffff</td><td>None           </td><td>892c211905bffff</td><td>None                                               </td><td>&#x27;&lt;POLYGON ((41.84 41.871, 41.837 41.859, 41.849 ...</td><td>None                                               </td><td>&#x27;&lt;POLYGON ((41.85 41.858, 41.846 41.854, 41.849 ...</td><td>None                                               </td><td>&#x27;&lt;POLYGON ((41.848 41.853, 41.848 41.851, 41.849...</td></tr>\n",
       "<tr><td><i style='opacity: 0.6'>2</i>         </td><td>8d699aec32ce70e3647f7b06147001d3926975cc</td><td>&#x27;6768c7ebfdee8e7e7b3f5ec44739316241895aa2f7edf10...</td><td>05/03/2014 11:30:00 PM</td><td>05/03/2014 11:45:00 PM</td><td>720.0         </td><td>2.1         </td><td>17031081800.0        </td><td>17031081403.0         </td><td>8.0                    </td><td>8.0                     </td><td>8.45  </td><td>2.0   </td><td>0.0    </td><td>1.0     </td><td>11.45       </td><td>Credit Card   </td><td>Dispatch Taxi Affiliation        </td><td>41.89321636               </td><td>-87.63784421               </td><td>POINT (-87.6378442095 41.8932163595)</td><td>41.890922026               </td><td>-87.618868355               </td><td>POINT (-87.6188683546 41.8909220259)    </td><td>2014-05-03 23:30:00.000000</td><td>2014-05-03 23:00:00.000000</td><td>2014-05-03 20:00:00.000000</td><td>2014-05-03 18:00:00.000000</td><td>2014-05-03    </td><td>23          </td><td>5              </td><td>5            </td><td>872c2119cffffff</td><td>872c2119cffffff</td><td>882c2119c1fffff</td><td>882c2119c1fffff</td><td>892c2119c0fffff</td><td>892c2119c0bffff</td><td>&#x27;&lt;POLYGON ((41.879 41.903, 41.875 41.89, 41.888 ...</td><td>&#x27;&lt;POLYGON ((41.879 41.903, 41.875 41.89, 41.888 ...</td><td>&#x27;&lt;POLYGON ((41.888 41.898, 41.885 41.894, 41.888...</td><td>&#x27;&lt;POLYGON ((41.888 41.898, 41.885 41.894, 41.888...</td><td>&#x27;&lt;POLYGON ((41.893 41.894, 41.893 41.892, 41.895...</td><td>&#x27;&lt;POLYGON ((41.891 41.892, 41.89 41.89, 41.892 4...</td></tr>\n",
       "<tr><td><i style='opacity: 0.6'>3</i>         </td><td>ae05f6f7a766b58b059f04c7549892da4dc3cf54</td><td>&#x27;7dc01f4be54a4058ffb81098be25f52c9f1249afc88e3ef...</td><td>05/17/2014 01:30:00 AM</td><td>05/17/2014 01:45:00 AM</td><td>480.0         </td><td>0.0         </td><td>17031071500.0        </td><td>17031062200.0         </td><td>7.0                    </td><td>6.0                     </td><td>7.85  </td><td>3.0   </td><td>0.0    </td><td>1.0     </td><td>11.85       </td><td>Credit Card   </td><td>Taxi Affiliation Services        </td><td>41.914616286              </td><td>-87.631717366              </td><td>POINT (-87.6317173661 41.9146162864)</td><td>41.94258518                </td><td>-87.656644092               </td><td>POINT (-87.6566440918 41.9425851797)    </td><td>2014-05-17 01:30:00.000000</td><td>2014-05-17 01:00:00.000000</td><td>2014-05-17 00:00:00.000000</td><td>2014-05-17 00:00:00.000000</td><td>2014-05-17    </td><td>1           </td><td>5              </td><td>5            </td><td>872c2119dffffff</td><td>872c2118bffffff</td><td>882c2119d3fffff</td><td>882c2118b9fffff</td><td>892c2119d33ffff</td><td>892c2118b8bffff</td><td>&#x27;&lt;POLYGON ((41.898 41.918, 41.894 41.906, 41.907...</td><td>&#x27;&lt;POLYGON ((41.936 41.95, 41.933 41.937, 41.945 ...</td><td>&#x27;&lt;POLYGON ((41.917 41.917, 41.914 41.913, 41.917...</td><td>&#x27;&lt;POLYGON ((41.936 41.95, 41.933 41.946, 41.936 ...</td><td>&#x27;&lt;POLYGON ((41.914 41.915, 41.914 41.913, 41.915...</td><td>&#x27;&lt;POLYGON ((41.939 41.944, 41.938 41.942, 41.94 ...</td></tr>\n",
       "<tr><td><i style='opacity: 0.6'>4</i>         </td><td>b45b42620c3a926ea633b9115dc624a33dcf3b56</td><td>&#x27;9f87b11be025b5dcc55e9472b8c2158664c97d193cf15d9...</td><td>04/25/2014 02:30:00 PM</td><td>04/25/2014 02:30:00 PM</td><td>0.0           </td><td>0.0         </td><td>nan                  </td><td>nan                   </td><td>nan                    </td><td>nan                     </td><td>42.05 </td><td>7.0   </td><td>0.0    </td><td>0.0     </td><td>49.05       </td><td>Credit Card   </td><td>T.A.S. - Payment Only            </td><td>nan                       </td><td>nan                        </td><td>--                                  </td><td>nan                        </td><td>nan                         </td><td>--                                      </td><td>2014-04-25 14:30:00.000000</td><td>2014-04-25 14:00:00.000000</td><td>2014-04-25 12:00:00.000000</td><td>2014-04-25 12:00:00.000000</td><td>2014-04-25    </td><td>14          </td><td>4              </td><td>4            </td><td>None           </td><td>None           </td><td>None           </td><td>None           </td><td>None           </td><td>None           </td><td>None                                               </td><td>None                                               </td><td>None                                               </td><td>None                                               </td><td>None                                               </td><td>None                                               </td></tr>\n",
       "<tr><td>...                                   </td><td>...                                     </td><td>...                                                </td><td>...                   </td><td>...                   </td><td>...           </td><td>...         </td><td>...                  </td><td>...                   </td><td>...                    </td><td>...                     </td><td>...   </td><td>...   </td><td>...    </td><td>...     </td><td>...         </td><td>...           </td><td>...                              </td><td>...                       </td><td>...                        </td><td>...                                 </td><td>...                        </td><td>...                         </td><td>...                                     </td><td>...                       </td><td>...                       </td><td>...                       </td><td>...                       </td><td>...           </td><td>...         </td><td>...            </td><td>...          </td><td>...            </td><td>...            </td><td>...            </td><td>...            </td><td>...            </td><td>...            </td><td>...                                                </td><td>...                                                </td><td>...                                                </td><td>...                                                </td><td>...                                                </td><td>...                                                </td></tr>\n",
       "<tr><td><i style='opacity: 0.6'>37,395,431</i></td><td>40aa131f22b63a5ca71d1eff4477500e6b875036</td><td>&#x27;8c244243c4123f4b467c2931cf59a691059a45302dc13e3...</td><td>04/03/2014 08:30:00 PM</td><td>04/03/2014 08:45:00 PM</td><td>900.0         </td><td>3.7         </td><td>nan                  </td><td>nan                   </td><td>6.0                    </td><td>24.0                    </td><td>11.25 </td><td>0.0   </td><td>0.0    </td><td>0.0     </td><td>11.25       </td><td>Cash          </td><td>Taxi Affiliation Services        </td><td>41.944226601              </td><td>-87.655998182              </td><td>POINT (-87.6559981815 41.9442266014)</td><td>41.901206994               </td><td>-87.676355989               </td><td>POINT (-87.6763559892 41.90120699410001)</td><td>2014-04-03 20:30:00.000000</td><td>2014-04-03 20:00:00.000000</td><td>2014-04-03 20:00:00.000000</td><td>2014-04-03 18:00:00.000000</td><td>2014-04-03    </td><td>20          </td><td>3              </td><td>4            </td><td>872c2118bffffff</td><td>872c2119dffffff</td><td>882c2118b9fffff</td><td>882c2119c3fffff</td><td>892c2118b8fffff</td><td>892c2119dcbffff</td><td>&#x27;&lt;POLYGON ((41.936 41.95, 41.933 41.937, 41.945 ...</td><td>&#x27;&lt;POLYGON ((41.898 41.918, 41.894 41.906, 41.907...</td><td>&#x27;&lt;POLYGON ((41.936 41.95, 41.933 41.946, 41.936 ...</td><td>&#x27;&lt;POLYGON ((41.898 41.902, 41.894 41.898, 41.897...</td><td>&#x27;&lt;POLYGON ((41.941 41.946, 41.941 41.944, 41.943...</td><td>&#x27;&lt;POLYGON ((41.9 41.904, 41.9 41.902, 41.902 41....</td></tr>\n",
       "<tr><td><i style='opacity: 0.6'>37,395,432</i></td><td>0cd3c0015580380a89b2da5d4ed01016c0399e6a</td><td>&#x27;01480513a7f6f4664d6cc4c41ff3043ae6ecbc8cb17404f...</td><td>05/13/2014 11:30:00 PM</td><td>05/13/2014 11:45:00 PM</td><td>540.0         </td><td>0.0         </td><td>nan                  </td><td>nan                   </td><td>8.0                    </td><td>6.0                     </td><td>11.85 </td><td>3.55  </td><td>0.0    </td><td>0.0     </td><td>15.4        </td><td>Credit Card   </td><td>Blue Ribbon Taxi Association Inc.</td><td>41.899602111              </td><td>-87.633308037              </td><td>POINT (-87.6333080367 41.899602111) </td><td>41.944226601               </td><td>-87.655998182               </td><td>POINT (-87.6559981815 41.9442266014)    </td><td>2014-05-13 23:30:00.000000</td><td>2014-05-13 23:00:00.000000</td><td>2014-05-13 20:00:00.000000</td><td>2014-05-13 18:00:00.000000</td><td>2014-05-13    </td><td>23          </td><td>1              </td><td>5            </td><td>872c2119cffffff</td><td>872c2118bffffff</td><td>882c2119c3fffff</td><td>882c2118b9fffff</td><td>892c2119c37ffff</td><td>892c2118b8fffff</td><td>&#x27;&lt;POLYGON ((41.879 41.903, 41.875 41.89, 41.888 ...</td><td>&#x27;&lt;POLYGON ((41.936 41.95, 41.933 41.937, 41.945 ...</td><td>&#x27;&lt;POLYGON ((41.898 41.902, 41.894 41.898, 41.897...</td><td>&#x27;&lt;POLYGON ((41.936 41.95, 41.933 41.946, 41.936 ...</td><td>&#x27;&lt;POLYGON ((41.898 41.902, 41.897 41.9, 41.899 4...</td><td>&#x27;&lt;POLYGON ((41.941 41.946, 41.941 41.944, 41.943...</td></tr>\n",
       "<tr><td><i style='opacity: 0.6'>37,395,433</i></td><td>d378e1b76a0de5844b9d50a719239bcf878da1fc</td><td>&#x27;fdeaab06ce15ad69658acbc0e591218ef6146a29ef21275...</td><td>05/14/2014 12:45:00 PM</td><td>05/14/2014 12:45:00 PM</td><td>240.0         </td><td>0.0         </td><td>17031839100.0        </td><td>17031833000.0         </td><td>32.0                   </td><td>28.0                    </td><td>5.25  </td><td>3.0   </td><td>0.0    </td><td>1.5     </td><td>9.75        </td><td>Credit Card   </td><td>Taxi Affiliation Services        </td><td>41.880994471              </td><td>-87.632746489              </td><td>POINT (-87.6327464887 41.8809944707)</td><td>41.88528132                </td><td>-87.6572332                 </td><td>POINT (-87.6572331997 41.8852813201)    </td><td>2014-05-14 12:45:00.000000</td><td>2014-05-14 12:00:00.000000</td><td>2014-05-14 12:00:00.000000</td><td>2014-05-14 12:00:00.000000</td><td>2014-05-14    </td><td>12          </td><td>2              </td><td>5            </td><td>872c21191ffffff</td><td>872c2119cffffff</td><td>882c211913fffff</td><td>882c2119c5fffff</td><td>892c2119123ffff</td><td>892c2119c53ffff</td><td>&#x27;&lt;POLYGON ((41.859 41.887, 41.856 41.875, 41.869...</td><td>&#x27;&lt;POLYGON ((41.879 41.903, 41.875 41.89, 41.888 ...</td><td>&#x27;&lt;POLYGON ((41.878 41.886, 41.875 41.882, 41.878...</td><td>&#x27;&lt;POLYGON ((41.888 41.89, 41.885 41.886, 41.888 ...</td><td>&#x27;&lt;POLYGON ((41.88 41.883, 41.879 41.881, 41.881 ...</td><td>&#x27;&lt;POLYGON ((41.885 41.887, 41.885 41.886, 41.887...</td></tr>\n",
       "<tr><td><i style='opacity: 0.6'>37,395,434</i></td><td>d64938a724961d6f2c0ae58932e78e3671784822</td><td>&#x27;a42edac48945c9dab13540adee09290f11b123a513580f2...</td><td>05/14/2014 12:15:00 PM</td><td>05/14/2014 12:15:00 PM</td><td>360.0         </td><td>0.0         </td><td>17031081202.0        </td><td>17031081300.0         </td><td>8.0                    </td><td>8.0                     </td><td>5.05  </td><td>0.0   </td><td>0.0    </td><td>0.0     </td><td>5.05        </td><td>Cash          </td><td>KOAM Taxi Association            </td><td>41.902788048              </td><td>-87.62614559               </td><td>POINT (-87.6261455896 41.9027880476)</td><td>41.898331794               </td><td>-87.620762865               </td><td>POINT (-87.6207628651 41.8983317935)    </td><td>2014-05-14 12:15:00.000000</td><td>2014-05-14 12:00:00.000000</td><td>2014-05-14 12:00:00.000000</td><td>2014-05-14 12:00:00.000000</td><td>2014-05-14    </td><td>12          </td><td>2              </td><td>5            </td><td>872c2119dffffff</td><td>872c2119cffffff</td><td>882c2119ddfffff</td><td>882c2119c3fffff</td><td>892c2119dcbffff</td><td>892c2119c33ffff</td><td>&#x27;&lt;POLYGON ((41.898 41.918, 41.894 41.906, 41.907...</td><td>&#x27;&lt;POLYGON ((41.879 41.903, 41.875 41.89, 41.888 ...</td><td>&#x27;&lt;POLYGON ((41.898 41.91, 41.894 41.906, 41.898 ...</td><td>&#x27;&lt;POLYGON ((41.898 41.902, 41.894 41.898, 41.897...</td><td>&#x27;&lt;POLYGON ((41.9 41.904, 41.9 41.902, 41.902 41....</td><td>&#x27;&lt;POLYGON ((41.895 41.899, 41.894 41.898, 41.896...</td></tr>\n",
       "<tr><td><i style='opacity: 0.6'>37,395,435</i></td><td>ffa438bd0098e226eccd9867c2a134009a13c20d</td><td>&#x27;705cc88d7a216145f6c762aa705905a745a0c5f17e39aa1...</td><td>05/13/2014 11:30:00 PM</td><td>05/13/2014 11:45:00 PM</td><td>840.0         </td><td>3.2         </td><td>17031320100.0        </td><td>17031832600.0         </td><td>32.0                   </td><td>7.0                     </td><td>10.45 </td><td>2.25  </td><td>0.0    </td><td>1.0     </td><td>13.7        </td><td>Credit Card   </td><td>Dispatch Taxi Affiliation        </td><td>41.884987192              </td><td>-87.620992913              </td><td>POINT (-87.6209929134 41.8849871918)</td><td>41.914747305               </td><td>-87.654007029               </td><td>POINT (-87.6540070286 41.9147473049)    </td><td>2014-05-13 23:30:00.000000</td><td>2014-05-13 23:00:00.000000</td><td>2014-05-13 20:00:00.000000</td><td>2014-05-13 18:00:00.000000</td><td>2014-05-13    </td><td>23          </td><td>1              </td><td>5            </td><td>872c2119cffffff</td><td>872c2119dffffff</td><td>882c211913fffff</td><td>882c2119d3fffff</td><td>892c2119127ffff</td><td>892c2119d33ffff</td><td>&#x27;&lt;POLYGON ((41.879 41.903, 41.875 41.89, 41.888 ...</td><td>&#x27;&lt;POLYGON ((41.898 41.918, 41.894 41.906, 41.907...</td><td>&#x27;&lt;POLYGON ((41.878 41.886, 41.875 41.882, 41.878...</td><td>&#x27;&lt;POLYGON ((41.917 41.917, 41.914 41.913, 41.917...</td><td>&#x27;&lt;POLYGON ((41.882 41.885, 41.882 41.883, 41.884...</td><td>&#x27;&lt;POLYGON ((41.914 41.915, 41.914 41.913, 41.915...</td></tr>\n",
       "</tbody>\n",
       "</table>"
      ],
      "text/plain": [
       "<IPython.core.display.HTML object>"
      ]
     },
     "metadata": {},
     "output_type": "display_data"
    }
   ],
   "source": [
    "df_trips.info()"
   ]
  },
  {
   "attachments": {},
   "cell_type": "markdown",
   "metadata": {},
   "source": [
    "## Analysis of string attribute sizes, lengths etc. Encoding of string categorical values for further processing"
   ]
  },
  {
   "cell_type": "code",
   "execution_count": 169,
   "metadata": {},
   "outputs": [
    {
     "data": {
      "text/plain": [
       "7"
      ]
     },
     "execution_count": 169,
     "metadata": {},
     "output_type": "execute_result"
    }
   ],
   "source": [
    "len(df_trips['Payment Type'].unique())"
   ]
  },
  {
   "cell_type": "code",
   "execution_count": 170,
   "metadata": {},
   "outputs": [
    {
     "data": {
      "text/plain": [
       "['Dispute', 'Unknown', 'Prcard', 'Cash', 'Credit Card', 'Pcard', 'No Charge']"
      ]
     },
     "execution_count": 170,
     "metadata": {},
     "output_type": "execute_result"
    }
   ],
   "source": [
    "df_trips['Payment Type'].unique()"
   ]
  },
  {
   "cell_type": "code",
   "execution_count": 171,
   "metadata": {},
   "outputs": [
    {
     "data": {
      "text/plain": [
       "108"
      ]
     },
     "execution_count": 171,
     "metadata": {},
     "output_type": "execute_result"
    }
   ],
   "source": [
    "len(df_trips['Company'].unique())"
   ]
  },
  {
   "cell_type": "code",
   "execution_count": 172,
   "metadata": {},
   "outputs": [
    {
     "data": {
      "text/plain": [
       "['3556 - 36214 RC Andrews Cab',\n",
       " None,\n",
       " '3094 - G.L.B. Cab Co',\n",
       " '2823 - Seung Lee',\n",
       " '5074 - 54002 Ahzmi Inc',\n",
       " '4787 - Reny Cab Co',\n",
       " '3253 - 91138 Gaither Cab Co.',\n",
       " '0118 - 42111 Godfrey S.Awir',\n",
       " '3897 - 57856 Ilie Malec',\n",
       " 'Blue Ribbon Taxi Association Inc.',\n",
       " '585 - Valley Cab Co',\n",
       " '4732 - Maude Lamy',\n",
       " 'Blue Diamond',\n",
       " '4615 - 83503 Tyrone Henderson',\n",
       " '3385 - Eman Cab',\n",
       " 'Northwest Management LLC',\n",
       " '2733 - Benny Jona',\n",
       " '4053 - Adwar H. Nikola',\n",
       " '2192 - Zeymane Corp',\n",
       " '2767 - Sayed M Badri',\n",
       " '4787 - 56058 Reny Cab Co',\n",
       " '1408 - Donald Barnes',\n",
       " 'nan',\n",
       " 'Flash Cab',\n",
       " '3620 - David K. Cab Corp.',\n",
       " '6488 - Zuha Taxi',\n",
       " '4053 - 40193 Adwar H. Nikola',\n",
       " '6743 - 78771 Luhak Corp',\n",
       " 'Taxi Affiliation Services',\n",
       " 'Chicago Medallion Management',\n",
       " '1408 - 89599 Donald Barnes',\n",
       " \"3591- 63480 Chuk's Cab\",\n",
       " 'Suburban Dispatch LLC',\n",
       " '3385 - 23210  Eman Cab',\n",
       " 'Chicago Elite Cab Corp. (Chicago Carriag',\n",
       " '0694 - 59280 Chinesco Trans Inc',\n",
       " '3623 - 72222 Arrington Enterprises',\n",
       " '5874 - 73628 Sergey Cab Corp.',\n",
       " 'Yellow Cab',\n",
       " 'C & D Cab Co Inc',\n",
       " '2192 - 73487 Zeymane Corp',\n",
       " 'Choice Taxi Association',\n",
       " '3201 - C&D Cab Co Inc',\n",
       " '3152 - 97284 Crystal Abernathy',\n",
       " '3669 - 85800 Jordan Taxi Inc',\n",
       " '3253 - Gaither Cab Co.',\n",
       " '5062 - Sam Mestas',\n",
       " '5006 - Salifu Bawa',\n",
       " '5864 - Thomas Owusu',\n",
       " 'American United',\n",
       " 'Dispatch Taxi Affiliation',\n",
       " '2823 - 73307 Seung Lee',\n",
       " '2092 - 61288 Sbeih company',\n",
       " '4623 - Jay Kim',\n",
       " '3669 - Jordan Taxi Inc',\n",
       " '585 - 88805 Valley Cab Co',\n",
       " '1085 - N and W Cab Co',\n",
       " '0118 - Godfrey S.Awir',\n",
       " '5724 - 75306 KYVI Cab Inc',\n",
       " '0694 - Chinesco Trans Inc',\n",
       " '1247 - 72807 Daniel Ayertey',\n",
       " '5 Star Taxi',\n",
       " '3094 - 24059 G.L.B. Cab Co',\n",
       " '6057 - 24657 Richard Addo',\n",
       " '4623 - 27290 Jay Kim',\n",
       " '3897 - Ilie Malec',\n",
       " 'Top Cab Affiliation',\n",
       " '3141 - Zip Cab',\n",
       " 'DTA Test',\n",
       " '4197 - Royal Star',\n",
       " '4615 - Tyrone Henderson',\n",
       " '2241 - Manuel Alonso',\n",
       " '5874 - Sergey Cab Corp.',\n",
       " 'KOAM Taxi Association',\n",
       " '3385 - 23210 Eman Cab',\n",
       " '2241 - 44667 Manuel Alonso',\n",
       " 'Checker Taxi',\n",
       " '1085 - 72312 N and W Cab Co',\n",
       " \"3591- Chuk's Cab\",\n",
       " '2092 - Sbeih company',\n",
       " '5997 - 65283 AW Services Inc.',\n",
       " '3011 - 66308 JBL Cab Inc.',\n",
       " '6488 - 83287 Zuha Taxi',\n",
       " '4197 - 41842 Royal Star',\n",
       " '6743 - Luhak Corp',\n",
       " '5062 - 34841 Sam Mestas',\n",
       " 'American United Cab Association',\n",
       " '5006 - 39261 Salifu Bawa',\n",
       " '3011 - JBL Cab Inc.',\n",
       " '5997 - AW Services Inc.',\n",
       " '5129 - Mengisti Taxi',\n",
       " '5724 - KYVI Cab Inc',\n",
       " '3620 - 52292 David K. Cab Corp.',\n",
       " '5724 - 72965 KYVI Cab Inc',\n",
       " '3623-Arrington Enterprises',\n",
       " '5864 - 73614 Thomas Owusu',\n",
       " 'Park Ridge Taxi and Livery',\n",
       " '1247 - Daniel Ayertey',\n",
       " '5437 - Great American Cab Co',\n",
       " '5074 - Ahzmi Inc',\n",
       " '3385 -  Eman Cab',\n",
       " 'Chicago Elite Cab Corp.',\n",
       " '3556 - RC Andrews Cab',\n",
       " 'T.A.S. - Payment Only',\n",
       " '2733 - 74600 Benny Jona',\n",
       " '0118 - Godfray S.Awir',\n",
       " '5129 - 98755 Mengisti Taxi',\n",
       " '3152 - Crystal Abernathy']"
      ]
     },
     "execution_count": 172,
     "metadata": {},
     "output_type": "execute_result"
    }
   ],
   "source": [
    "df_trips['Company'].unique()"
   ]
  },
  {
   "cell_type": "code",
   "execution_count": 173,
   "metadata": {},
   "outputs": [
    {
     "data": {
      "text/plain": [
       "7781"
      ]
     },
     "execution_count": 173,
     "metadata": {},
     "output_type": "execute_result"
    }
   ],
   "source": [
    "len(df_trips['Taxi ID'].unique())"
   ]
  },
  {
   "cell_type": "code",
   "execution_count": 174,
   "metadata": {},
   "outputs": [
    {
     "data": {
      "text/plain": [
       "array(127.99877803)"
      ]
     },
     "execution_count": 174,
     "metadata": {},
     "output_type": "execute_result"
    }
   ],
   "source": [
    "df_trips['Taxi ID'].apply(lambda x : len(x) if x != None else 0).mean()"
   ]
  },
  {
   "attachments": {},
   "cell_type": "markdown",
   "metadata": {},
   "source": [
    "Encode string columns"
   ]
  },
  {
   "cell_type": "code",
   "execution_count": 175,
   "metadata": {},
   "outputs": [],
   "source": [
    "def generate_encoding_dict(df, column):\n",
    "    # get categories to encode\n",
    "    categories = df[column].unique()\n",
    "    # generate output the categories are mapped to -> using a simple integer mapping \n",
    "    output = range(len(categories))\n",
    "    # combine categories and output\n",
    "    encoding_dict = dict(zip(categories, output))\n",
    "    return encoding_dict"
   ]
  },
  {
   "cell_type": "code",
   "execution_count": 176,
   "metadata": {},
   "outputs": [],
   "source": [
    "df_trips['Payment Type_encoded'] = df_trips['Payment Type'].map(generate_encoding_dict(df_trips, 'Payment Type'))\n",
    "df_trips['Company_encoded']      = df_trips['Company'].map(generate_encoding_dict(df_trips, 'Company'))\n",
    "df_trips['Taxi ID_encoded']      = df_trips['Taxi ID'].map(generate_encoding_dict(df_trips, 'Taxi ID'))"
   ]
  },
  {
   "attachments": {},
   "cell_type": "markdown",
   "metadata": {},
   "source": [
    "## Drop Trips without spatial data or spaitial data from outside of Chicago\n",
    "Import of chicago city boundary data from official website"
   ]
  },
  {
   "cell_type": "code",
   "execution_count": 261,
   "metadata": {},
   "outputs": [
    {
     "data": {
      "text/html": [
       "<div>\n",
       "<style scoped>\n",
       "    .dataframe tbody tr th:only-of-type {\n",
       "        vertical-align: middle;\n",
       "    }\n",
       "\n",
       "    .dataframe tbody tr th {\n",
       "        vertical-align: top;\n",
       "    }\n",
       "\n",
       "    .dataframe thead th {\n",
       "        text-align: right;\n",
       "    }\n",
       "</style>\n",
       "<table border=\"1\" class=\"dataframe\">\n",
       "  <thead>\n",
       "    <tr style=\"text-align: right;\">\n",
       "      <th></th>\n",
       "      <th>name</th>\n",
       "      <th>objectid</th>\n",
       "      <th>shape_area</th>\n",
       "      <th>shape_len</th>\n",
       "      <th>geometry</th>\n",
       "    </tr>\n",
       "  </thead>\n",
       "  <tbody>\n",
       "    <tr>\n",
       "      <th>0</th>\n",
       "      <td>CHICAGO</td>\n",
       "      <td>1</td>\n",
       "      <td>6450276623.31</td>\n",
       "      <td>845282.931362</td>\n",
       "      <td>MULTIPOLYGON (((-87.93514 42.00089, -87.93521 ...</td>\n",
       "    </tr>\n",
       "  </tbody>\n",
       "</table>\n",
       "</div>"
      ],
      "text/plain": [
       "      name objectid     shape_area      shape_len  \\\n",
       "0  CHICAGO        1  6450276623.31  845282.931362   \n",
       "\n",
       "                                            geometry  \n",
       "0  MULTIPOLYGON (((-87.93514 42.00089, -87.93521 ...  "
      ]
     },
     "execution_count": 261,
     "metadata": {},
     "output_type": "execute_result"
    }
   ],
   "source": [
    "import geopandas as gpd\n",
    "import shapely \n",
    "\n",
    "chicago_polygon = gpd.read_file('../data/trips/Boundaries - City.geojson')\n",
    "chicago_polygon"
   ]
  },
  {
   "cell_type": "code",
   "execution_count": 185,
   "metadata": {},
   "outputs": [
    {
     "data": {
      "text/plain": [
       "<Axes: >"
      ]
     },
     "execution_count": 185,
     "metadata": {},
     "output_type": "execute_result"
    },
    {
     "data": {
      "image/png": "[encoded data removed]",
      "text/plain": [
       "<Figure size 640x480 with 1 Axes>"
      ]
     },
     "metadata": {},
     "output_type": "display_data"
    }
   ],
   "source": [
    "chicago_polygon.plot()"
   ]
  },
  {
   "cell_type": "code",
   "execution_count": 278,
   "metadata": {},
   "outputs": [
    {
     "name": "stderr",
     "output_type": "stream",
     "text": [
      "C:\\Users\\leoni\\AppData\\Local\\Temp\\ipykernel_9464\\2590621229.py:1: FutureWarning: Currently, index_parts defaults to True, but in the future, it will default to False to be consistent with Pandas. Use `index_parts=True` to keep the current behavior and True/False to silence the warning.\n",
      "  geometries = chicago_polygon.geometry.explode()\n"
     ]
    },
    {
     "data": {
      "text/plain": [
       "['89f162d9873ffff',\n",
       " '89f162d863bffff',\n",
       " '89f162cb5d3ffff',\n",
       " '89f162cb16bffff',\n",
       " '89f162c98c3ffff',\n",
       " '89f175a5d53ffff',\n",
       " '89f175a4343ffff',\n",
       " '89f162cb1c3ffff',\n",
       " '89f162d98cfffff',\n",
       " '89f162534b3ffff',\n",
       " '89f162c9c43ffff',\n",
       " '89f162cb163ffff',\n",
       " '89f162cb1c7ffff',\n",
       " '89f162c9ea3ffff',\n",
       " '89f162c9137ffff',\n",
       " '89f162d9813ffff',\n",
       " '89f175a595bffff',\n",
       " '89f162cb427ffff',\n",
       " '89f162cb103ffff',\n",
       " '89f162c82c7ffff',\n",
       " '89f162cb027ffff',\n",
       " '89f162cb153ffff',\n",
       " '89f162cb56fffff',\n",
       " '89f162c9b5bffff',\n",
       " '89f162cb327ffff',\n",
       " '89f162d868fffff',\n",
       " '89f162cb58bffff',\n",
       " '89f162d9863ffff',\n",
       " '89f162c864bffff',\n",
       " '89f162cb177ffff',\n",
       " '89f162c86d7ffff',\n",
       " '89f162cb143ffff',\n",
       " '89f162d988fffff',\n",
       " '89f162d986fffff',\n",
       " '89f162cb5c3ffff',\n",
       " '89f16253437ffff',\n",
       " '89f162cb513ffff',\n",
       " '89f162d9877ffff',\n",
       " '89f162c9ccbffff',\n",
       " '89f162cb54bffff',\n",
       " '89f162cb577ffff',\n",
       " '89f162c9c4bffff',\n",
       " '89f162c82d3ffff',\n",
       " '89f162d9c67ffff',\n",
       " '89f162c984bffff',\n",
       " '89f162d860fffff',\n",
       " '89f162cb50bffff',\n",
       " '89f162cb0a3ffff',\n",
       " '89f162c9c4fffff',\n",
       " '89f162c866fffff',\n",
       " '89f175a5ca7ffff',\n",
       " '89f162d9c73ffff',\n",
       " '89f162c9bcbffff',\n",
       " '89f175a594bffff',\n",
       " '89f162c984fffff',\n",
       " '89f162d9cc7ffff',\n",
       " '89f162cb10bffff',\n",
       " '89f162c860bffff',\n",
       " '89f162c9c5bffff',\n",
       " '89f162d8223ffff',\n",
       " '89f162d980fffff',\n",
       " '89f162cb54fffff',\n",
       " '89f162d9c13ffff',\n",
       " '89f162c9c53ffff',\n",
       " '89f162d9c1bffff',\n",
       " '89f162d8603ffff',\n",
       " '89f162cb1cfffff',\n",
       " '89f162d9b03ffff',\n",
       " '89f162d8233ffff',\n",
       " '89f162c9aa3ffff',\n",
       " '89f162cb037ffff',\n",
       " '89f162d9c8bffff',\n",
       " '89f162d9bd3ffff',\n",
       " '89f162c9bdbffff',\n",
       " '89f162c9eb3ffff',\n",
       " '89f162d828bffff',\n",
       " '89f162c8653ffff',\n",
       " '89f162c8247ffff',\n",
       " '89f162c985bffff',\n",
       " '89f162cb557ffff',\n",
       " '89f162cb543ffff',\n",
       " '89f162c9c6bffff',\n",
       " '89f162cb553ffff',\n",
       " '89f162cb547ffff',\n",
       " '89f162cb503ffff',\n",
       " '89f162d981bffff',\n",
       " '89f162cb16fffff',\n",
       " '89f162d9b8bffff',\n",
       " '89f162c95afffff',\n",
       " '89f162cb3b3ffff',\n",
       " '89f162c9eb7ffff',\n",
       " '89f162d8267ffff',\n",
       " '89f162cb1d7ffff',\n",
       " '89f162c9b53ffff',\n",
       " '89f162d9867ffff',\n",
       " '89f162d868bffff',\n",
       " '89f162d8667ffff',\n",
       " '89f162d8677ffff',\n",
       " '89f162d9bd7ffff',\n",
       " '89f162c826bffff',\n",
       " '89f162cb17bffff',\n",
       " '89f162d980bffff',\n",
       " '89f162d9893ffff',\n",
       " '89f175a5837ffff',\n",
       " '89f162c9ccfffff',\n",
       " '89f162c9ab7ffff',\n",
       " '89f162d9817ffff',\n",
       " '89f162d820bffff',\n",
       " '89f162c9c7bffff',\n",
       " '89f162d9b6bffff',\n",
       " '89f162cb563ffff',\n",
       " '89f162c864fffff',\n",
       " '89f162c9527ffff',\n",
       " '89f162c9c47ffff',\n",
       " '89f175a58afffff',\n",
       " '89f162c9b43ffff',\n",
       " '89f162d9b43ffff',\n",
       " '89f162d9c63ffff',\n",
       " '89f162c86dbffff',\n",
       " '89f162cb4b7ffff',\n",
       " '89f162cb593ffff',\n",
       " '89f162d9b3bffff',\n",
       " '89f162cb15bffff',\n",
       " '89f162c9133ffff',\n",
       " '89f162d9c9bffff',\n",
       " '89f162d9bc7ffff',\n",
       " '89f162d9847ffff',\n",
       " '89f162d8263ffff',\n",
       " '89f162cb567ffff',\n",
       " '89f162cb157ffff',\n",
       " '89f162c8647ffff',\n",
       " '89f162d9b77ffff',\n",
       " '89f162c8253ffff',\n",
       " '89f162c9853ffff',\n",
       " '89f162cb173ffff',\n",
       " '89f162c98cbffff',\n",
       " '89f162c8273ffff',\n",
       " '89f162c98dbffff',\n",
       " '89f162cb337ffff',\n",
       " '89f162d8277ffff',\n",
       " '89f162d98c3ffff',\n",
       " '89f162cb4a7ffff',\n",
       " '89f162c9cdbffff',\n",
       " '89f162cb11bffff',\n",
       " '89f162cb3b7ffff',\n",
       " '89f162d9883ffff',\n",
       " '89f162d82abffff',\n",
       " '89f162c82d7ffff',\n",
       " '89f162c9cc3ffff',\n",
       " '89f162d9833ffff',\n",
       " '89f162d9b9bffff',\n",
       " '89f162c9e27ffff',\n",
       " '89f162cb1dbffff',\n",
       " '89f162534afffff',\n",
       " '89f162d987bffff',\n",
       " '89f16253427ffff',\n",
       " '89f162d98d7ffff',\n",
       " '89f162c9c57ffff',\n",
       " '89f162c9537ffff',\n",
       " '89f162d9b0bffff',\n",
       " '89f162c8663ffff',\n",
       " '89f162c9cd3ffff',\n",
       " '89f162c8643ffff',\n",
       " '89f162d822fffff',\n",
       " '89f162cb51bffff',\n",
       " '89f162cb113ffff',\n",
       " '89f162d98c7ffff',\n",
       " '89f162d8683ffff',\n",
       " '89f162c8243ffff',\n",
       " '89f162db107ffff',\n",
       " '89f162cb1d3ffff',\n",
       " '89f162db5bbffff',\n",
       " '89f162d826fffff',\n",
       " '89f175a5827ffff',\n",
       " '89f162db523ffff',\n",
       " '89f162d9b7bffff',\n",
       " '89f162cb1cbffff',\n",
       " '89f162c8257ffff',\n",
       " '89f162d9b2bffff',\n",
       " '89f162d9b57ffff',\n",
       " '89f162d9b47ffff',\n",
       " '89f162d9c0bffff',\n",
       " '89f162c91b7ffff',\n",
       " '89f162d9b1bffff',\n",
       " '89f162c95b7ffff',\n",
       " '89f162d9b13ffff',\n",
       " '89f162cb0afffff',\n",
       " '89f162c95b3ffff',\n",
       " '89f162d8607ffff',\n",
       " '89f162c86c7ffff',\n",
       " '89f162c9a27ffff',\n",
       " '89f162d983bffff',\n",
       " '89f162cb5dbffff',\n",
       " '89f162cb19bffff',\n",
       " '89f162c82c3ffff',\n",
       " '89f162c82dbffff',\n",
       " '89f162db587ffff',\n",
       " '89f162cb18bffff',\n",
       " '89f162cb55bffff',\n",
       " '89f162c9aafffff',\n",
       " '89f162c9127ffff',\n",
       " '89f162d820fffff',\n",
       " '89f162d9857ffff',\n",
       " '89f162c95a7ffff',\n",
       " '89f162cb56bffff',\n",
       " '89f162cb3a3ffff',\n",
       " '89f162cb5d7ffff',\n",
       " '89f162c98d3ffff',\n",
       " '89f162d9cd7ffff',\n",
       " '89f162d9b67ffff',\n",
       " '89f162d9bcfffff',\n",
       " '89f175a5ddbffff',\n",
       " '89f162c91afffff',\n",
       " '89f162d8273ffff',\n",
       " '89f162cb5cfffff',\n",
       " '89f162c86cbffff',\n",
       " '89f162cb0b3ffff',\n",
       " '89f162cb3afffff',\n",
       " '89f162d9803ffff',\n",
       " '89f162c82cfffff',\n",
       " '89f162c8673ffff',\n",
       " '89f162cb3a7ffff',\n",
       " '89f162d986bffff',\n",
       " '89f162c9843ffff',\n",
       " '89f162d8613ffff',\n",
       " '89f162d9b4fffff',\n",
       " '89f162cb14bffff',\n",
       " '89f162c861bffff',\n",
       " '89f162d9807ffff',\n",
       " '89f162c86d3ffff',\n",
       " '89f162c86cfffff',\n",
       " '89f1625355bffff',\n",
       " '89f162d9b63ffff',\n",
       " '89f162c91a3ffff',\n",
       " '89f162c821bffff',\n",
       " '89f162d982bffff',\n",
       " '89f162c820bffff',\n",
       " '89f162c865bffff',\n",
       " '89f162c827bffff',\n",
       " '89f162c866bffff',\n",
       " '89f162d9b73ffff',\n",
       " '89f162cb57bffff',\n",
       " '89f162cb0b7ffff',\n",
       " '89f162db5abffff',\n",
       " '89f162cb573ffff',\n",
       " '89f162c825bffff',\n",
       " '89f162cb147ffff',\n",
       " '89f175a434fffff',\n",
       " '89f162c9ea7ffff',\n",
       " '89f175a5cb7ffff',\n",
       " '89f162d9b93ffff',\n",
       " '89f162d9c77ffff',\n",
       " '89f162c9a37ffff',\n",
       " '89f162d8213ffff',\n",
       " '89f162d9c6fffff',\n",
       " '89f162d9c2bffff',\n",
       " '89f162d8203ffff',\n",
       " '89f162c9b4bffff',\n",
       " '89f162d9c0fffff',\n",
       " '89f162cb10fffff',\n",
       " '89f162c86c3ffff',\n",
       " '89f162534a3ffff',\n",
       " '89f175a5dcbffff',\n",
       " '89f162c9eafffff',\n",
       " '89f162cb0a7ffff',\n",
       " '89f162c9ab3ffff',\n",
       " '89f162c867bffff',\n",
       " '89f162c91b3ffff',\n",
       " '89f162c8657ffff',\n",
       " '89f162c9e37ffff',\n",
       " '89f162cb5cbffff',\n",
       " '89f162c91a7ffff',\n",
       " '89f162c824fffff',\n",
       " '89f162c9aa7ffff',\n",
       " '89f162d9bc3ffff',\n",
       " '89f162cb14fffff',\n",
       " '89f162c95a3ffff',\n",
       " '89f162cb59bffff',\n",
       " '89f162d9b6fffff',\n",
       " '89f162d8693ffff',\n",
       " '89f162c824bffff',\n",
       " '89f162cb5c7ffff',\n",
       " '89f162c82cbffff',\n",
       " '89f162d9c03ffff',\n",
       " '89f162d9b0fffff']"
      ]
     },
     "execution_count": 278,
     "metadata": {},
     "output_type": "execute_result"
    }
   ],
   "source": [
    "geometries = chicago_polygon.geometry.explode()\n",
    "\n",
    "hex_inside_boundary = []\n",
    "\n",
    "for geo in geometries:   \n",
    "    polygon = shapely.geometry.mapping(geo)\n",
    "    hex_inside_boundary += h3.polyfill(polygon, 9)\n",
    "\n",
    "hex_inside_boundary"
   ]
  },
  {
   "attachments": {},
   "cell_type": "markdown",
   "metadata": {},
   "source": [
    "## Drop redundant and not needed columns\n",
    "\n",
    "Location data is present in different formats. Latitude and Longitude are used in the further processing.\n",
    "The Trip End Timestamp is dropped as well since the start timestamp and Trip duration are sufficient for the further processing"
   ]
  },
  {
   "cell_type": "code",
   "execution_count": 181,
   "metadata": {},
   "outputs": [
    {
     "ename": "KeyError",
     "evalue": "\"Column or variable 'Pickup Census Tract' does not exist.\"",
     "output_type": "error",
     "traceback": [
      "\u001b[1;31m---------------------------------------------------------------------------\u001b[0m",
      "\u001b[1;31mKeyError\u001b[0m                                  Traceback (most recent call last)",
      "Cell \u001b[1;32mIn[181], line 1\u001b[0m\n\u001b[1;32m----> 1\u001b[0m df_trips\u001b[39m.\u001b[39;49mdrop([\u001b[39m'\u001b[39;49m\u001b[39mPickup Census Tract\u001b[39;49m\u001b[39m'\u001b[39;49m,\u001b[39m'\u001b[39;49m\u001b[39mDropoff Census Tract\u001b[39;49m\u001b[39m'\u001b[39;49m,\u001b[39m'\u001b[39;49m\u001b[39mPickup Community Area\u001b[39;49m\u001b[39m'\u001b[39;49m, \u001b[39m'\u001b[39;49m\u001b[39mDropoff Community Area\u001b[39;49m\u001b[39m'\u001b[39;49m, \u001b[39m'\u001b[39;49m\u001b[39mPickup Centroid Latitude\u001b[39;49m\u001b[39m'\u001b[39;49m, \u001b[39m'\u001b[39;49m\u001b[39mPickup Centroid Longitude\u001b[39;49m\u001b[39m'\u001b[39;49m, \u001b[39m'\u001b[39;49m\u001b[39mDropoff Centroid Latitude\u001b[39;49m\u001b[39m'\u001b[39;49m, \u001b[39m'\u001b[39;49m\u001b[39mDropoff Centroid Longitude\u001b[39;49m\u001b[39m'\u001b[39;49m, \u001b[39m'\u001b[39;49m\u001b[39mPickup Centroid Location\u001b[39;49m\u001b[39m'\u001b[39;49m, \u001b[39m'\u001b[39;49m\u001b[39mDropoff Centroid  Location\u001b[39;49m\u001b[39m'\u001b[39;49m, \u001b[39m'\u001b[39;49m\u001b[39mTrip End Timestamp\u001b[39;49m\u001b[39m'\u001b[39;49m], inplace\u001b[39m=\u001b[39;49m\u001b[39mTrue\u001b[39;49;00m)\n",
      "File \u001b[1;32mc:\\Users\\leoni\\.virtualenvs\\AAA_2023-Ne9h4ijP\\lib\\site-packages\\vaex\\dataframe.py:5498\u001b[0m, in \u001b[0;36mDataFrame.drop\u001b[1;34m(self, columns, inplace, check)\u001b[0m\n\u001b[0;32m   5496\u001b[0m         df\u001b[39m.\u001b[39m_hide_column(column)\n\u001b[0;32m   5497\u001b[0m     \u001b[39melse\u001b[39;00m:\n\u001b[1;32m-> 5498\u001b[0m         df\u001b[39m.\u001b[39;49m_real_drop(column)\n\u001b[0;32m   5499\u001b[0m \u001b[39mreturn\u001b[39;00m df\n",
      "File \u001b[1;32mc:\\Users\\leoni\\.virtualenvs\\AAA_2023-Ne9h4ijP\\lib\\site-packages\\vaex\\dataframe.py:5473\u001b[0m, in \u001b[0;36mDataFrame._real_drop\u001b[1;34m(self, item)\u001b[0m\n\u001b[0;32m   5471\u001b[0m     \u001b[39mif\u001b[39;00m matches:\n\u001b[0;32m   5472\u001b[0m         msg \u001b[39m+\u001b[39m\u001b[39m=\u001b[39m \u001b[39m'\u001b[39m\u001b[39m Did you mean: \u001b[39m\u001b[39m'\u001b[39m \u001b[39m+\u001b[39m \u001b[39m\"\u001b[39m\u001b[39m or \u001b[39m\u001b[39m\"\u001b[39m\u001b[39m.\u001b[39mjoin(\u001b[39mmap\u001b[39m(\u001b[39mrepr\u001b[39m, matches))\n\u001b[1;32m-> 5473\u001b[0m     \u001b[39mraise\u001b[39;00m \u001b[39mKeyError\u001b[39;00m(msg)\n\u001b[0;32m   5474\u001b[0m \u001b[39mself\u001b[39m\u001b[39m.\u001b[39msignal_column_changed\u001b[39m.\u001b[39memit(\u001b[39mself\u001b[39m, name, \u001b[39m\"\u001b[39m\u001b[39mdelete\u001b[39m\u001b[39m\"\u001b[39m)\n\u001b[0;32m   5475\u001b[0m \u001b[39mif\u001b[39;00m \u001b[39mhasattr\u001b[39m(\u001b[39mself\u001b[39m, name):\n",
      "\u001b[1;31mKeyError\u001b[0m: \"Column or variable 'Pickup Census Tract' does not exist.\""
     ]
    }
   ],
   "source": [
    "df_trips.drop(['Pickup Census Tract','Dropoff Census Tract','Pickup Community Area', 'Dropoff Community Area', 'Pickup Centroid Latitude', 'Pickup Centroid Longitude', 'Dropoff Centroid Latitude', 'Dropoff Centroid Longitude', 'Pickup Centroid Location', 'Dropoff Centroid  Location', 'Trip End Timestamp'], inplace=True)"
   ]
  },
  {
   "attachments": {},
   "cell_type": "markdown",
   "metadata": {},
   "source": [
    "## Final dataset"
   ]
  },
  {
   "cell_type": "code",
   "execution_count": 180,
   "metadata": {},
   "outputs": [
    {
     "data": {
      "text/html": [
       "<style>.vaex-description pre {\n",
       "          max-width : 450px;\n",
       "          white-space : nowrap;\n",
       "          overflow : hidden;\n",
       "          text-overflow: ellipsis;\n",
       "        }\n",
       "\n",
       "        .vex-description pre:hover {\n",
       "          max-width : initial;\n",
       "          white-space: pre;\n",
       "        }</style>"
      ],
      "text/plain": [
       "<IPython.core.display.HTML object>"
      ]
     },
     "metadata": {},
     "output_type": "display_data"
    },
    {
     "data": {
      "text/html": [
       "<div><h2>trips</h2> <b>rows</b>: 37,395,436</div><h2>Columns:</h2><table class='table-striped'><thead><tr><th>column</th><th>type</th><th>unit</th><th>description</th><th>expression</th></tr></thead><tr><td>Trip ID</td><td>str</td><td></td><td ><pre></pre></td><td></td></tr><tr><td>Taxi ID</td><td>str</td><td></td><td ><pre></pre></td><td></td></tr><tr><td>Trip Start Timestamp</td><td>str</td><td></td><td ><pre></pre></td><td></td></tr><tr><td>Trip Seconds</td><td>float64</td><td></td><td ><pre></pre></td><td></td></tr><tr><td>Trip Miles</td><td>float64</td><td></td><td ><pre></pre></td><td></td></tr><tr><td>Fare</td><td>float64</td><td></td><td ><pre></pre></td><td></td></tr><tr><td>Tips</td><td>float64</td><td></td><td ><pre></pre></td><td></td></tr><tr><td>Tolls</td><td>float64</td><td></td><td ><pre></pre></td><td></td></tr><tr><td>Extras</td><td>float64</td><td></td><td ><pre></pre></td><td></td></tr><tr><td>Trip Total</td><td>float64</td><td></td><td ><pre></pre></td><td></td></tr><tr><td>Payment Type</td><td>str</td><td></td><td ><pre></pre></td><td></td></tr><tr><td>Company</td><td>str</td><td></td><td ><pre></pre></td><td></td></tr><tr><td>Pickup Centroid Longitude</td><td>float64</td><td></td><td ><pre></pre></td><td></td></tr><tr><td>Dropoff Centroid Longitude</td><td>float64</td><td></td><td ><pre></pre></td><td></td></tr><tr><td>ts_start</td><td></i>virtual column</i></td><td></td><td ><pre></pre></td><td><code>lambda_function(df['Trip Start Timestamp'])</code></td></tr><tr><td>ts_start_1_hour</td><td></i>virtual column</i></td><td></td><td ><pre></pre></td><td><code>dt_floor(ts_start, '1h')</code></td></tr><tr><td>ts_start_4_hour</td><td></i>virtual column</i></td><td></td><td ><pre></pre></td><td><code>dt_floor(ts_start, '4h')</code></td></tr><tr><td>ts_start_6_hour</td><td></i>virtual column</i></td><td></td><td ><pre></pre></td><td><code>dt_floor(ts_start, '6h')</code></td></tr><tr><td>ts_start_day</td><td></i>virtual column</i></td><td></td><td ><pre></pre></td><td><code>dt_date(ts_start)</code></td></tr><tr><td>start_hour</td><td></i>virtual column</i></td><td></td><td ><pre></pre></td><td><code>dt_hour(ts_start)</code></td></tr><tr><td>start_weekday</td><td></i>virtual column</i></td><td></td><td ><pre></pre></td><td><code>dt_dayofweek(ts_start)</code></td></tr><tr><td>start_month</td><td></i>virtual column</i></td><td></td><td ><pre></pre></td><td><code>dt_month(ts_start)</code></td></tr><tr><td>pickup_hex_7</td><td></i>virtual column</i></td><td></td><td ><pre></pre></td><td><code>lambda_function_1(df['__Pickup Centroid Latitude'], df['__Pickup Centroid Latitude'])</code></td></tr><tr><td>dropoff_hex_7</td><td></i>virtual column</i></td><td></td><td ><pre></pre></td><td><code>lambda_function_2(df['__Dropoff Centroid Latitude'], df['__Dropoff Centroid Latitude'])</code></td></tr><tr><td>pickup_hex_8</td><td></i>virtual column</i></td><td></td><td ><pre></pre></td><td><code>lambda_function_3(df['__Pickup Centroid Latitude'], df['__Pickup Centroid Latitude'])</code></td></tr><tr><td>dropoff_hex_8</td><td></i>virtual column</i></td><td></td><td ><pre></pre></td><td><code>lambda_function_4(df['__Dropoff Centroid Latitude'], df['__Dropoff Centroid Latitude'])</code></td></tr><tr><td>pickup_hex_9</td><td></i>virtual column</i></td><td></td><td ><pre></pre></td><td><code>lambda_function_5(df['__Pickup Centroid Latitude'], df['__Pickup Centroid Latitude'])</code></td></tr><tr><td>dropoff_hex_9</td><td></i>virtual column</i></td><td></td><td ><pre></pre></td><td><code>lambda_function_6(df['__Dropoff Centroid Latitude'], df['__Dropoff Centroid Latitude'])</code></td></tr><tr><td>Payment Type_encoded</td><td></i>virtual column</i></td><td></td><td ><pre></pre></td><td><code>_map(df['Payment Type'], map_key_hash_map_unique, map_choices, axis=None)</code></td></tr><tr><td>Company_encoded</td><td></i>virtual column</i></td><td></td><td ><pre></pre></td><td><code>_map(Company, map_key_hash_map_unique_1, map_choices_1, axis=None)</code></td></tr><tr><td>Taxi ID_encoded</td><td></i>virtual column</i></td><td></td><td ><pre></pre></td><td><code>_map(df['Taxi ID'], map_key_hash_map_unique_2, map_choices_2, axis=None)</code></td></tr></table><h2>Variables:</h2><table class='table-striped'><thead><tr><th>variable</th><th>type</th><th>unit</th><th>description</th><th>expression</th></tr></thead><tr><td>map_key_hash_map_unique</td><td><class 'type'></td><td>$\\mathrm{}$</td><td ><pre></pre></td><td><code><vaex.hash.HashMapUnique object at 0x000001C91D86FEE0></code></td></tr><tr><td>map_choices</td><td><class 'type'></td><td>$\\mathrm{}$</td><td ><pre></pre></td><td><code>[\n",
       "  null,\n",
       "  0,\n",
       "  1,\n",
       "  2,\n",
       "  3,\n",
       "  4,\n",
       "  5,\n",
       "  6\n",
       "]</code></td></tr><tr><td>map_key_hash_map_unique_1</td><td><class 'type'></td><td>$\\mathrm{}$</td><td ><pre></pre></td><td><code><vaex.hash.HashMapUnique object at 0x000001C91D86C370></code></td></tr><tr><td>map_choices_1</td><td><class 'type'></td><td>$\\mathrm{}$</td><td ><pre></pre></td><td><code>[\n",
       "  null,\n",
       "  0,\n",
       "  1,\n",
       "  2,\n",
       "  3,\n",
       "  4,\n",
       "  5,\n",
       "  6,\n",
       "  7,\n",
       "  8,\n",
       "  ...\n",
       "  98,\n",
       "  99,\n",
       "  100,\n",
       "  101,\n",
       "  102,\n",
       "  103,\n",
       "  104,\n",
       "  105,\n",
       "  106,\n",
       "  107\n",
       "]</code></td></tr><tr><td>map_key_hash_map_unique_2</td><td><class 'type'></td><td>$\\mathrm{}$</td><td ><pre></pre></td><td><code><vaex.hash.HashMapUnique object at 0x000001C91D86E8C0></code></td></tr><tr><td>map_choices_2</td><td><class 'type'></td><td>$\\mathrm{}$</td><td ><pre></pre></td><td><code>[\n",
       "  null,\n",
       "  0,\n",
       "  1,\n",
       "  2,\n",
       "  3,\n",
       "  4,\n",
       "  5,\n",
       "  6,\n",
       "  7,\n",
       "  8,\n",
       "  ...\n",
       "  7771,\n",
       "  7772,\n",
       "  7773,\n",
       "  7774,\n",
       "  7775,\n",
       "  7776,\n",
       "  7777,\n",
       "  7778,\n",
       "  7779,\n",
       "  7780\n",
       "]</code></td></tr></table><h2>Data:</h2><table>\n",
       "<thead>\n",
       "<tr><th>#                                     </th><th>Trip ID                                 </th><th>Taxi ID                                            </th><th>Trip Start Timestamp  </th><th>Trip Seconds  </th><th>Trip Miles  </th><th>Fare  </th><th>Tips  </th><th>Tolls  </th><th>Extras  </th><th>Trip Total  </th><th>Payment Type  </th><th>Company                          </th><th>Pickup Centroid Longitude  </th><th>Dropoff Centroid Longitude  </th><th>ts_start                  </th><th>ts_start_1_hour           </th><th>ts_start_4_hour           </th><th>ts_start_6_hour           </th><th>ts_start_day  </th><th>start_hour  </th><th>start_weekday  </th><th>start_month  </th><th>pickup_hex_7   </th><th>dropoff_hex_7  </th><th>pickup_hex_8   </th><th>dropoff_hex_8  </th><th>pickup_hex_9   </th><th>dropoff_hex_9  </th><th>Payment Type_encoded  </th><th>Company_encoded  </th><th>Taxi ID_encoded  </th></tr>\n",
       "</thead>\n",
       "<tbody>\n",
       "<tr><td><i style='opacity: 0.6'>0</i>         </td><td>506646dd0685bd55094f1b7dfac97cf3b07b6126</td><td>&#x27;1099c684f9da1ac1d0dd253d394f1c8dad37bc1a53d944d...</td><td>05/17/2014 10:45:00 AM</td><td>1080.0        </td><td>7.0         </td><td>17.45 </td><td>0.0   </td><td>0.0    </td><td>1.5     </td><td>18.95       </td><td>Cash          </td><td>Taxi Affiliation Services        </td><td>-87.642648998              </td><td>-87.656803909               </td><td>2014-05-17 10:45:00.000000</td><td>2014-05-17 10:00:00.000000</td><td>2014-05-17 08:00:00.000000</td><td>2014-05-17 06:00:00.000000</td><td>2014-05-17    </td><td>10          </td><td>5              </td><td>5            </td><td>872c21191ffffff</td><td>872c2118bffffff</td><td>882c211913fffff</td><td>882c2118bbfffff</td><td>892c211913bffff</td><td>892c2118ba3ffff</td><td>3                     </td><td>28               </td><td>359              </td></tr>\n",
       "<tr><td><i style='opacity: 0.6'>1</i>         </td><td>1462669f59c3b5a1730e8a5f511a4102d1998c21</td><td>&#x27;379e0fd9da136cabc9eec3aca37047bbdee373ca2ef7a03...</td><td>04/17/2014 06:30:00 PM</td><td>1080.0        </td><td>3.0         </td><td>11.45 </td><td>0.0   </td><td>0.0    </td><td>1.0     </td><td>12.45       </td><td>Cash          </td><td>Taxi Affiliation Services        </td><td>nan                        </td><td>-87.635091856               </td><td>2014-04-17 18:30:00.000000</td><td>2014-04-17 18:00:00.000000</td><td>2014-04-17 16:00:00.000000</td><td>2014-04-17 18:00:00.000000</td><td>2014-04-17    </td><td>18          </td><td>3              </td><td>4            </td><td>0              </td><td>872c21190ffffff</td><td>0              </td><td>882c211905fffff</td><td>0              </td><td>892c211905bffff</td><td>3                     </td><td>28               </td><td>4740             </td></tr>\n",
       "<tr><td><i style='opacity: 0.6'>2</i>         </td><td>8d699aec32ce70e3647f7b06147001d3926975cc</td><td>&#x27;6768c7ebfdee8e7e7b3f5ec44739316241895aa2f7edf10...</td><td>05/03/2014 11:30:00 PM</td><td>720.0         </td><td>2.1         </td><td>8.45  </td><td>2.0   </td><td>0.0    </td><td>1.0     </td><td>11.45       </td><td>Credit Card   </td><td>Dispatch Taxi Affiliation        </td><td>-87.63784421               </td><td>-87.618868355               </td><td>2014-05-03 23:30:00.000000</td><td>2014-05-03 23:00:00.000000</td><td>2014-05-03 20:00:00.000000</td><td>2014-05-03 18:00:00.000000</td><td>2014-05-03    </td><td>23          </td><td>5              </td><td>5            </td><td>872c2119cffffff</td><td>872c2119cffffff</td><td>882c2119c1fffff</td><td>882c2119c1fffff</td><td>892c2119c0fffff</td><td>892c2119c0bffff</td><td>4                     </td><td>50               </td><td>1605             </td></tr>\n",
       "<tr><td><i style='opacity: 0.6'>3</i>         </td><td>ae05f6f7a766b58b059f04c7549892da4dc3cf54</td><td>&#x27;7dc01f4be54a4058ffb81098be25f52c9f1249afc88e3ef...</td><td>05/17/2014 01:30:00 AM</td><td>480.0         </td><td>0.0         </td><td>7.85  </td><td>3.0   </td><td>0.0    </td><td>1.0     </td><td>11.85       </td><td>Credit Card   </td><td>Taxi Affiliation Services        </td><td>-87.631717366              </td><td>-87.656644092               </td><td>2014-05-17 01:30:00.000000</td><td>2014-05-17 01:00:00.000000</td><td>2014-05-17 00:00:00.000000</td><td>2014-05-17 00:00:00.000000</td><td>2014-05-17    </td><td>1           </td><td>5              </td><td>5            </td><td>872c2119dffffff</td><td>872c2118bffffff</td><td>882c2119d3fffff</td><td>882c2118b9fffff</td><td>892c2119d33ffff</td><td>892c2118b8bffff</td><td>4                     </td><td>28               </td><td>6863             </td></tr>\n",
       "<tr><td><i style='opacity: 0.6'>4</i>         </td><td>b45b42620c3a926ea633b9115dc624a33dcf3b56</td><td>&#x27;9f87b11be025b5dcc55e9472b8c2158664c97d193cf15d9...</td><td>04/25/2014 02:30:00 PM</td><td>0.0           </td><td>0.0         </td><td>42.05 </td><td>7.0   </td><td>0.0    </td><td>0.0     </td><td>49.05       </td><td>Credit Card   </td><td>T.A.S. - Payment Only            </td><td>nan                        </td><td>nan                         </td><td>2014-04-25 14:30:00.000000</td><td>2014-04-25 14:00:00.000000</td><td>2014-04-25 12:00:00.000000</td><td>2014-04-25 12:00:00.000000</td><td>2014-04-25    </td><td>14          </td><td>4              </td><td>4            </td><td>0              </td><td>0              </td><td>0              </td><td>0              </td><td>0              </td><td>0              </td><td>4                     </td><td>103              </td><td>1983             </td></tr>\n",
       "<tr><td>...                                   </td><td>...                                     </td><td>...                                                </td><td>...                   </td><td>...           </td><td>...         </td><td>...   </td><td>...   </td><td>...    </td><td>...     </td><td>...         </td><td>...           </td><td>...                              </td><td>...                        </td><td>...                         </td><td>...                       </td><td>...                       </td><td>...                       </td><td>...                       </td><td>...           </td><td>...         </td><td>...            </td><td>...          </td><td>...            </td><td>...            </td><td>...            </td><td>...            </td><td>...            </td><td>...            </td><td>...                   </td><td>...              </td><td>...              </td></tr>\n",
       "<tr><td><i style='opacity: 0.6'>37,395,431</i></td><td>40aa131f22b63a5ca71d1eff4477500e6b875036</td><td>&#x27;8c244243c4123f4b467c2931cf59a691059a45302dc13e3...</td><td>04/03/2014 08:30:00 PM</td><td>900.0         </td><td>3.7         </td><td>11.25 </td><td>0.0   </td><td>0.0    </td><td>0.0     </td><td>11.25       </td><td>Cash          </td><td>Taxi Affiliation Services        </td><td>-87.655998182              </td><td>-87.676355989               </td><td>2014-04-03 20:30:00.000000</td><td>2014-04-03 20:00:00.000000</td><td>2014-04-03 20:00:00.000000</td><td>2014-04-03 18:00:00.000000</td><td>2014-04-03    </td><td>20          </td><td>3              </td><td>4            </td><td>872c2118bffffff</td><td>872c2119dffffff</td><td>882c2118b9fffff</td><td>882c2119c3fffff</td><td>892c2118b8fffff</td><td>892c2119dcbffff</td><td>3                     </td><td>28               </td><td>1791             </td></tr>\n",
       "<tr><td><i style='opacity: 0.6'>37,395,432</i></td><td>0cd3c0015580380a89b2da5d4ed01016c0399e6a</td><td>&#x27;01480513a7f6f4664d6cc4c41ff3043ae6ecbc8cb17404f...</td><td>05/13/2014 11:30:00 PM</td><td>540.0         </td><td>0.0         </td><td>11.85 </td><td>3.55  </td><td>0.0    </td><td>0.0     </td><td>15.4        </td><td>Credit Card   </td><td>Blue Ribbon Taxi Association Inc.</td><td>-87.633308037              </td><td>-87.655998182               </td><td>2014-05-13 23:30:00.000000</td><td>2014-05-13 23:00:00.000000</td><td>2014-05-13 20:00:00.000000</td><td>2014-05-13 18:00:00.000000</td><td>2014-05-13    </td><td>23          </td><td>1              </td><td>5            </td><td>872c2119cffffff</td><td>872c2118bffffff</td><td>882c2119c3fffff</td><td>882c2118b9fffff</td><td>892c2119c37ffff</td><td>892c2118b8fffff</td><td>4                     </td><td>9                </td><td>1032             </td></tr>\n",
       "<tr><td><i style='opacity: 0.6'>37,395,433</i></td><td>d378e1b76a0de5844b9d50a719239bcf878da1fc</td><td>&#x27;fdeaab06ce15ad69658acbc0e591218ef6146a29ef21275...</td><td>05/14/2014 12:45:00 PM</td><td>240.0         </td><td>0.0         </td><td>5.25  </td><td>3.0   </td><td>0.0    </td><td>1.5     </td><td>9.75        </td><td>Credit Card   </td><td>Taxi Affiliation Services        </td><td>-87.632746489              </td><td>-87.6572332                 </td><td>2014-05-14 12:45:00.000000</td><td>2014-05-14 12:00:00.000000</td><td>2014-05-14 12:00:00.000000</td><td>2014-05-14 12:00:00.000000</td><td>2014-05-14    </td><td>12          </td><td>2              </td><td>5            </td><td>872c21191ffffff</td><td>872c2119cffffff</td><td>882c211913fffff</td><td>882c2119c5fffff</td><td>892c2119123ffff</td><td>892c2119c53ffff</td><td>4                     </td><td>28               </td><td>1020             </td></tr>\n",
       "<tr><td><i style='opacity: 0.6'>37,395,434</i></td><td>d64938a724961d6f2c0ae58932e78e3671784822</td><td>&#x27;a42edac48945c9dab13540adee09290f11b123a513580f2...</td><td>05/14/2014 12:15:00 PM</td><td>360.0         </td><td>0.0         </td><td>5.05  </td><td>0.0   </td><td>0.0    </td><td>0.0     </td><td>5.05        </td><td>Cash          </td><td>KOAM Taxi Association            </td><td>-87.62614559               </td><td>-87.620762865               </td><td>2014-05-14 12:15:00.000000</td><td>2014-05-14 12:00:00.000000</td><td>2014-05-14 12:00:00.000000</td><td>2014-05-14 12:00:00.000000</td><td>2014-05-14    </td><td>12          </td><td>2              </td><td>5            </td><td>872c2119dffffff</td><td>872c2119cffffff</td><td>882c2119ddfffff</td><td>882c2119c3fffff</td><td>892c2119dcbffff</td><td>892c2119c33ffff</td><td>3                     </td><td>73               </td><td>6171             </td></tr>\n",
       "<tr><td><i style='opacity: 0.6'>37,395,435</i></td><td>ffa438bd0098e226eccd9867c2a134009a13c20d</td><td>&#x27;705cc88d7a216145f6c762aa705905a745a0c5f17e39aa1...</td><td>05/13/2014 11:30:00 PM</td><td>840.0         </td><td>3.2         </td><td>10.45 </td><td>2.25  </td><td>0.0    </td><td>1.0     </td><td>13.7        </td><td>Credit Card   </td><td>Dispatch Taxi Affiliation        </td><td>-87.620992913              </td><td>-87.654007029               </td><td>2014-05-13 23:30:00.000000</td><td>2014-05-13 23:00:00.000000</td><td>2014-05-13 20:00:00.000000</td><td>2014-05-13 18:00:00.000000</td><td>2014-05-13    </td><td>23          </td><td>1              </td><td>5            </td><td>872c2119cffffff</td><td>872c2119dffffff</td><td>882c211913fffff</td><td>882c2119d3fffff</td><td>892c2119127ffff</td><td>892c2119d33ffff</td><td>4                     </td><td>50               </td><td>7539             </td></tr>\n",
       "</tbody>\n",
       "</table>"
      ],
      "text/plain": [
       "<IPython.core.display.HTML object>"
      ]
     },
     "metadata": {},
     "output_type": "display_data"
    }
   ],
   "source": [
    "df_trips.info()"
   ]
  },
  {
   "attachments": {},
   "cell_type": "markdown",
   "metadata": {},
   "source": [
    "## Persist dataset as 'trips_prepared.hdf5'"
   ]
  },
  {
   "cell_type": "code",
   "execution_count": 14,
   "metadata": {},
   "outputs": [
    {
     "name": "stdout",
     "output_type": "stream",
     "text": [
      "export(hdf5) [########################################] 98.90% estimated time:    30.52s =  0.5m =  0.0h                                                                                          "
     ]
    }
   ],
   "source": [
    "df_trips.export_hdf5(\"data/trips/trips_prepared.hdf5\", progress=True)"
   ]
  }
 ],
 "metadata": {
  "kernelspec": {
   "display_name": "AAA_2023-Ne9h4ijP",
   "language": "python",
   "name": "python3"
  },
  "language_info": {
   "codemirror_mode": {
    "name": "ipython",
    "version": 3
   },
   "file_extension": ".py",
   "mimetype": "text/x-python",
   "name": "python",
   "nbconvert_exporter": "python",
   "pygments_lexer": "ipython3",
   "version": "3.10.10"
  },
  "orig_nbformat": 4
 },
 "nbformat": 4,
 "nbformat_minor": 2
}
