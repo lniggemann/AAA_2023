{
 "cells": [
  {
   "cell_type": "markdown",
   "metadata": {},
   "source": [
    "## Import Packages"
   ]
  },
  {
   "cell_type": "code",
   "execution_count": 37,
   "metadata": {},
   "outputs": [],
   "source": [
    "import vaex\n",
    "import pandas as pd\n",
    "import numpy as np\n",
    "import os\n",
    "import seaborn as sns\n",
    "import matplotlib as mpl\n",
    "import matplotlib.pyplot as plt\n",
    "from sklearn.model_selection import GridSearchCV, KFold, train_test_split ,RandomizedSearchCV, cross_val_score\n",
    "from sklearn.pipeline import Pipeline\n",
    "from sklearn.compose import ColumnTransformer\n",
    "from sklearn.preprocessing import StandardScaler, OneHotEncoder\n",
    "from sklearn.svm import SVR\n",
    "from sklearn.svm import LinearSVR\n",
    "from sklearn.svm import SVR\n",
    "from sklearn import metrics\n",
    "from sklearn.metrics import mean_squared_error, mean_absolute_error, r2_score"
   ]
  },
  {
   "cell_type": "markdown",
   "metadata": {},
   "source": [
    "### Load Data"
   ]
  },
  {
   "cell_type": "code",
   "execution_count": 38,
   "metadata": {},
   "outputs": [],
   "source": [
    "#This function allows for flexible read of our different temporal spatial combinations\n",
    "def read_trip_data(temporal_resolution, spatial_resolution, census):\n",
    "    #Due to our naming we need to differentiate between census and hexagons when doing feature selection\n",
    "    if census:\n",
    "        FEATURES = [ \"start_month\", \"start_weekday\",f\"ts_start_{temporal_resolution}_hour\", f\"start_{temporal_resolution}_hour\",\n",
    "        \"Pickup Census Tract\", \"demand\"]\n",
    "        file_path_trips = f'data/trips/trips_grouped_{temporal_resolution}h_census.hdf'\n",
    "    else:\n",
    "        FEATURES = [ \"start_month\", \"start_weekday\",f\"ts_start_{temporal_resolution}_hour\", f\"start_{temporal_resolution}_hour\",\n",
    "        f\"pickup_hex_{spatial_resolution}\", \"demand\"]\n",
    "        file_path_trips = f'data/trips/trips_grouped_{temporal_resolution}h_r{spatial_resolution}.hdf'\n",
    "    \n",
    "    file_path_weather = f'data/weather_data_hourly_{temporal_resolution}.pickle'\n",
    "    \n",
    "    trips_df = vaex.open(file_path_trips)\n",
    "    trips_df_pd = trips_df[FEATURES].to_pandas_df()\n",
    "\n",
    "    if census:\n",
    "        trips_df_pd[\"Pickup Census Tract\"] = trips_df_pd[\"Pickup Census Tract\"].astype(str)\n",
    "    weather_df = pd.read_pickle(file_path_weather)\n",
    "    \n",
    "    #Here we merge our data with the corresponding weather dataframes\n",
    "    merged_df = trips_df_pd.merge(weather_df, left_on = f'ts_start_{temporal_resolution}_hour', right_on = 'datetime', how = 'left')\n",
    "    merged_df = merged_df.drop([f'ts_start_{temporal_resolution}_hour'], axis = 1)\n",
    "\n",
    "    column_order = [col for col in merged_df.columns if col != 'demand'] + ['demand']\n",
    "    trips_df_reordered = merged_df[column_order]\n",
    "    \n",
    "    return  trips_df_reordered"
   ]
  },
  {
   "cell_type": "markdown",
   "metadata": {},
   "source": [
    "### Prepare Data"
   ]
  },
  {
   "cell_type": "code",
   "execution_count": 39,
   "metadata": {},
   "outputs": [],
   "source": [
    "#Encoding of our numerical and categorical variables\n",
    "def encode_data(dataframe, temporal_resolution, spatial_resolution, census):\n",
    "\n",
    "    numerical_columns = ['start_month', 'start_weekday', f\"start_{temporal_resolution}_hour\", 'demand', 'Temperature', 'Humidity',\n",
    "                         'Wind Speed', 'Precip.', 'cloud', 'rain', 'Fair', 'Fog', 'Snow', 'T-Storm', 'Thunder']\n",
    "\n",
    "    if census:\n",
    "      categorical_columns = ['Pickup Census Tract']\n",
    "    else:\n",
    "      categorical_columns = [f\"pickup_hex_{spatial_resolution}\"]\n",
    "\n",
    "    # Initialize scalers and encoders\n",
    "    scaler = StandardScaler()\n",
    "    encoder = OneHotEncoder(drop='first', sparse_output=False)\n",
    "\n",
    "    # Apply transformations\n",
    "    transformers = [\n",
    "        ('numerical', scaler, numerical_columns),\n",
    "        ('categorical', encoder, categorical_columns)\n",
    "    ]\n",
    "\n",
    "    preprocessor = ColumnTransformer(transformers, remainder='passthrough')\n",
    "    processed_data = preprocessor.fit_transform(dataframe)\n",
    "\n",
    "    return processed_data\n"
   ]
  },
  {
   "cell_type": "markdown",
   "metadata": {},
   "source": [
    "### Create Training and Test Data"
   ]
  },
  {
   "cell_type": "code",
   "execution_count": 40,
   "metadata": {},
   "outputs": [],
   "source": [
    "#Implementation of valiation strategy to use Training and Test data\n",
    "def split_data(data_array):\n",
    "    X = data_array[:, :-1]  # All columns except the last one (demand)\n",
    "    y = data_array[:, -1]    # Target column 'demand'\n",
    "    \n",
    "    X_train, X_test, y_train, y_test = train_test_split(X, y, test_size= 0.2, random_state= 42)\n",
    "    return X_train, X_test, y_train, y_test"
   ]
  },
  {
   "cell_type": "markdown",
   "metadata": {},
   "source": [
    "### Hyperparameter tuning"
   ]
  },
  {
   "cell_type": "markdown",
   "metadata": {},
   "source": [
    "- epsilon \n",
    "- kernel type: linear, polynomial, RBF\n",
    "- C: regularization parameter (correctly separate as many instances as possible rather than creating a hyperplane with the largest minimum margin)\n",
    "- gamma (only for rbf): curvature in a decision boundary"
   ]
  },
  {
   "cell_type": "code",
   "execution_count": 41,
   "metadata": {},
   "outputs": [],
   "source": [
    "# Common hyperparameters search space\n",
    "common_hyperparameters = {\n",
    "    'C': [0.1, 1, 10],          # Regularization parameter\n",
    "   'epsilon': [0.1, 0.01, 0.001]  # Insensitivity parameter for support vectors\n",
    "}\n",
    "\n",
    "# Kernel-specific hyperparameters search space\n",
    "kernel_hyperparameters = {\n",
    "    'linear': {},\n",
    "    'poly': {\n",
    "        'degree': [2, 3, 4],    # Degree of the polynomial kernel\n",
    "        'C': [0.1, 1, 10]       # Regularization parameter for the 'poly' kernel\n",
    "    },\n",
    "    'rbf': {\n",
    "        'gamma': ['scale', 'auto', 0.1, 1]  # Kernel coefficient for the 'rbf' kernel\n",
    "    }\n",
    "}"
   ]
  },
  {
   "cell_type": "markdown",
   "metadata": {},
   "source": [
    "#### Perform Grid Search"
   ]
  },
  {
   "cell_type": "code",
   "execution_count": 42,
   "metadata": {},
   "outputs": [],
   "source": [
    "#Grid Search is essential for finding the most optimal hyperparameters\n",
    "def find_best_trained_svr(X_train, y_train):\n",
    "\n",
    "    best_models = {}\n",
    "\n",
    "    for kernel, params in kernel_hyperparameters.items():\n",
    "        svr = SVR(kernel=kernel)\n",
    "        #Here we choose 2-fold cross-validationn to keep computations as small as possible\n",
    "        grid_search = GridSearchCV(svr, {**common_hyperparameters, **params}, cv=2, n_jobs = -1, scoring='neg_mean_squared_error')\n",
    "        grid_search.fit(X_train, y_train)\n",
    "        \n",
    "        best_models[kernel] = grid_search.best_estimator_\n",
    "\n",
    "        print('something')\n",
    "\n",
    "    return best_models\n",
    "#stores the best-trained SVR models for each kernel type with their optimal hyperparameters"
   ]
  },
  {
   "cell_type": "code",
   "execution_count": null,
   "metadata": {},
   "outputs": [],
   "source": [
    "# def hyp_cross_validation(X_train, y_train, kernel_hyperparameters):\n",
    "#     cross_val_scores = {}\n",
    "\n",
    "#     for kernel, params in kernel_hyperparameters.items():\n",
    "#         svr = SVR(kernel=kernel, **params)\n",
    "#         scores = cross_val_score(svr, X_train, y_train, cv=5, scoring='neg_mean_squared_error')\n",
    "#         mean_score = -scores.mean()  # Convert negative MSE back to positive\n",
    "#         cross_val_scores[kernel] = mean_score\n",
    "\n",
    "#     print(cross_val_scores)"
   ]
  },
  {
   "cell_type": "code",
   "execution_count": 43,
   "metadata": {},
   "outputs": [],
   "source": [
    "#This method can optionally be used to randomly do grid search instead of comparing every parameter\n",
    "def find_best_trained_svr_random(X_train, y_train):\n",
    "    best_models_random = {}\n",
    "\n",
    "    for kernel, params in kernel_hyperparameters.items():\n",
    "        svr = SVR(kernel=kernel)\n",
    "        random_search = RandomizedSearchCV(svr, {**common_hyperparameters, **params}, n_iter=5, cv=2)\n",
    "        random_search.fit(X_train, y_train)\n",
    "        \n",
    "        best_models_random[kernel] = random_search.best_estimator_\n",
    "\n",
    "    return best_models_random"
   ]
  },
  {
   "cell_type": "markdown",
   "metadata": {},
   "source": [
    "### Evaluate Model"
   ]
  },
  {
   "cell_type": "code",
   "execution_count": 44,
   "metadata": {},
   "outputs": [],
   "source": [
    "#This function calculates the goodness of our models by introducing MSE, MAE and R2 value\n",
    "def evaluation(X_test, y_test, best_models):\n",
    "\n",
    "    evaluation_results = {}\n",
    "\n",
    "    for kernel, model in best_models.items():\n",
    "        y_pred = model.predict(X_test)\n",
    "        mse = mean_squared_error(y_test, y_pred)\n",
    "        mae = mean_absolute_error(y_test, y_pred)\n",
    "        r2 = r2_score(y_test, y_pred)\n",
    "        \n",
    "        evaluation_results[kernel] = {'MSE': mse, 'MAE': mae, 'R2': r2}\n",
    "\n",
    "    return evaluation_results\n"
   ]
  },
  {
   "cell_type": "markdown",
   "metadata": {},
   "source": [
    "### Plots"
   ]
  },
  {
   "cell_type": "code",
   "execution_count": 45,
   "metadata": {},
   "outputs": [],
   "source": [
    "def compare_kernel_performance(evaluation_results):\n",
    "    # List of kernel types and their corresponding evaluation results\n",
    "    kernel_types = list(evaluation_results.keys())\n",
    "    evaluation_results = {\n",
    "        'MSE': [result['MSE'] for result in evaluation_results.values()],\n",
    "        'MAE': [result['MAE'] for result in evaluation_results.values()],\n",
    "        'R2': [result['R2'] for result in evaluation_results.values()]\n",
    "    }\n",
    "\n",
    "    # Create bar plots\n",
    "    fig, axes = plt.subplots(nrows=1, ncols=3, figsize=(15, 5))\n",
    "\n",
    "    for i, metric in enumerate(['MSE', 'MAE', 'R2']):\n",
    "        ax = axes[i]\n",
    "        ax.bar(kernel_types, evaluation_results[metric])\n",
    "        ax.set_title(metric)\n",
    "        ax.set_ylabel(metric)\n",
    "\n",
    "    plt.tight_layout()\n",
    "    plt.show()\n"
   ]
  },
  {
   "cell_type": "markdown",
   "metadata": {},
   "source": [
    "#### Create Final Dataset"
   ]
  },
  {
   "cell_type": "code",
   "execution_count": 46,
   "metadata": {},
   "outputs": [],
   "source": [
    "def create_final_output(X_test, initial_df, y_test, y_pred):\n",
    "    # Create an output dataframe with original data and predicted demand\n",
    "    output_df = pd.DataFrame(X_test, columns=initial_df.feature_names)\n",
    "    output_df['actual_demand'] = y_test\n",
    "    output_df['predicted_demand'] = y_pred\n",
    "\n",
    "    print(output_df.head())"
   ]
  },
  {
   "cell_type": "markdown",
   "metadata": {},
   "source": [
    "### Create Pipeline"
   ]
  },
  {
   "cell_type": "code",
   "execution_count": 47,
   "metadata": {},
   "outputs": [],
   "source": [
    "#Here we put our different functions together to run the pipeline for different temporal spatial combinations\n",
    "def pipeline(temporal_resolution, spatial_resolution, census):\n",
    "\n",
    "    data_list = []   \n",
    "   \n",
    "    trips_prepared = read_trip_data(temporal_resolution, spatial_resolution, census)\n",
    "\n",
    "    trips_encoded = encode_data(trips_prepared, temporal_resolution, spatial_resolution, census)\n",
    "\n",
    "    X_train, X_test, y_train, y_test = split_data(trips_encoded)\n",
    "\n",
    "    optimal_models_grid = find_best_trained_svr(X_train, y_train)\n",
    "\n",
    "    # Create a new SVR model with the best hyperparameters\n",
    "    #best_model = SVR(**best_params)\n",
    "    # Fit the new model using the training data\n",
    "    #best_model.fit(X_train, y_train)\n",
    "    # Use the newly fitted model to make predictions\n",
    "    #with open(model_path, \"wb\") as file:\n",
    "    #    pickle.dump(best_model, file)\n",
    "\n",
    "    #hyp_cross_validation(X_train, y_train, optimal_models_grid)\n",
    "\n",
    "    evaluation_score = evaluation(X_test, y_test, optimal_models_grid)\n",
    "\n",
    "    for kernel_type, results in evaluation_score.items():\n",
    "            mse = results['MSE']\n",
    "            mae = results['MAE']\n",
    "            r2 = results['R2']\n",
    "            \n",
    "            data = {\n",
    "                'Spatial_Resolution': spatial_resolution,\n",
    "                'Temporal_Resolution': temporal_resolution,\n",
    "                'Kernel_Type': kernel_type,\n",
    "                'MSE': mse,\n",
    "                'MAE': mae,\n",
    "                'R2': r2\n",
    "            }\n",
    "            data_list.append(data)\n",
    "\n",
    "    # Create a pandas DataFrame from the list of dictionaries\n",
    "    results_df = pd.DataFrame(data_list)\n",
    "    results_df.to_csv(f'../AAA_2023/data/svm_predictions/results_{temporal_resolution}h_{spatial_resolution}')\n",
    "    \n",
    "    compare_kernel_performance(evaluation_score)\n",
    "    "
   ]
  },
  {
   "cell_type": "markdown",
   "metadata": {},
   "source": [
    "### Load of Model Performance\n",
    "\n",
    "Due to the costly and time-consuming predictions, the Notebooks were executed in parallel using google colab pro and the performances where saved as csv. files. In the following we will read in the different performances and combine them into a single dataframe for analysis"
   ]
  },
  {
   "cell_type": "code",
   "execution_count": 53,
   "metadata": {},
   "outputs": [],
   "source": [
    "folder_path = 'data/svm_predictions/'\n",
    "results_df = pd.DataFrame()\n",
    "\n",
    "# List all CSV files in the folder\n",
    "csv_files = [file for file in os.listdir(folder_path) if file.endswith('.csv')]\n",
    "\n",
    "# Loop through each CSV file and concatenate them\n",
    "for csv_file in csv_files:\n",
    "    file_path = os.path.join(folder_path, csv_file)\n",
    "    df = pd.read_csv(file_path)\n",
    "    results_df = pd.concat([results_df, df], ignore_index=True)\n",
    "\n"
   ]
  },
  {
   "cell_type": "code",
   "execution_count": 54,
   "metadata": {},
   "outputs": [],
   "source": [
    "results_df = results_df.drop(['Parameters', 'Unnamed: 0'], axis = 1)"
   ]
  },
  {
   "cell_type": "code",
   "execution_count": 56,
   "metadata": {},
   "outputs": [
    {
     "data": {
      "text/html": [
       "<div>\n",
       "<style scoped>\n",
       "    .dataframe tbody tr th:only-of-type {\n",
       "        vertical-align: middle;\n",
       "    }\n",
       "\n",
       "    .dataframe tbody tr th {\n",
       "        vertical-align: top;\n",
       "    }\n",
       "\n",
       "    .dataframe thead th {\n",
       "        text-align: right;\n",
       "    }\n",
       "</style>\n",
       "<table border=\"1\" class=\"dataframe\">\n",
       "  <thead>\n",
       "    <tr style=\"text-align: right;\">\n",
       "      <th></th>\n",
       "      <th>Spatial_Resolution</th>\n",
       "      <th>Temporal_Resolution</th>\n",
       "      <th>Kernel_Type</th>\n",
       "      <th>MSE</th>\n",
       "      <th>MAE</th>\n",
       "      <th>R2</th>\n",
       "    </tr>\n",
       "  </thead>\n",
       "  <tbody>\n",
       "    <tr>\n",
       "      <th>0</th>\n",
       "      <td>5</td>\n",
       "      <td>1</td>\n",
       "      <td>linear</td>\n",
       "      <td>0.016425</td>\n",
       "      <td>0.023897</td>\n",
       "      <td>0.840266</td>\n",
       "    </tr>\n",
       "    <tr>\n",
       "      <th>2</th>\n",
       "      <td>5</td>\n",
       "      <td>4</td>\n",
       "      <td>linear</td>\n",
       "      <td>0.043715</td>\n",
       "      <td>0.115592</td>\n",
       "      <td>0.585549</td>\n",
       "    </tr>\n",
       "    <tr>\n",
       "      <th>3</th>\n",
       "      <td>5</td>\n",
       "      <td>4</td>\n",
       "      <td>poly</td>\n",
       "      <td>0.046427</td>\n",
       "      <td>0.053364</td>\n",
       "      <td>0.559840</td>\n",
       "    </tr>\n",
       "    <tr>\n",
       "      <th>4</th>\n",
       "      <td>5</td>\n",
       "      <td>4</td>\n",
       "      <td>rbf</td>\n",
       "      <td>0.017394</td>\n",
       "      <td>0.053685</td>\n",
       "      <td>0.835092</td>\n",
       "    </tr>\n",
       "    <tr>\n",
       "      <th>6</th>\n",
       "      <td>5</td>\n",
       "      <td>6</td>\n",
       "      <td>linear</td>\n",
       "      <td>0.053845</td>\n",
       "      <td>0.126937</td>\n",
       "      <td>0.456222</td>\n",
       "    </tr>\n",
       "    <tr>\n",
       "      <th>7</th>\n",
       "      <td>5</td>\n",
       "      <td>6</td>\n",
       "      <td>poly</td>\n",
       "      <td>0.057479</td>\n",
       "      <td>0.163506</td>\n",
       "      <td>0.419521</td>\n",
       "    </tr>\n",
       "    <tr>\n",
       "      <th>8</th>\n",
       "      <td>5</td>\n",
       "      <td>6</td>\n",
       "      <td>rbf</td>\n",
       "      <td>0.017617</td>\n",
       "      <td>0.063430</td>\n",
       "      <td>0.822088</td>\n",
       "    </tr>\n",
       "    <tr>\n",
       "      <th>5</th>\n",
       "      <td>6</td>\n",
       "      <td>4</td>\n",
       "      <td>linear</td>\n",
       "      <td>0.015419</td>\n",
       "      <td>0.023571</td>\n",
       "      <td>0.613632</td>\n",
       "    </tr>\n",
       "    <tr>\n",
       "      <th>1</th>\n",
       "      <td>7</td>\n",
       "      <td>24</td>\n",
       "      <td>rbf</td>\n",
       "      <td>0.001091</td>\n",
       "      <td>0.026924</td>\n",
       "      <td>0.747978</td>\n",
       "    </tr>\n",
       "  </tbody>\n",
       "</table>\n",
       "</div>"
      ],
      "text/plain": [
       "   Spatial_Resolution  Temporal_Resolution Kernel_Type       MSE       MAE  \\\n",
       "0                   5                    1      linear  0.016425  0.023897   \n",
       "2                   5                    4      linear  0.043715  0.115592   \n",
       "3                   5                    4        poly  0.046427  0.053364   \n",
       "4                   5                    4         rbf  0.017394  0.053685   \n",
       "6                   5                    6      linear  0.053845  0.126937   \n",
       "7                   5                    6        poly  0.057479  0.163506   \n",
       "8                   5                    6         rbf  0.017617  0.063430   \n",
       "5                   6                    4      linear  0.015419  0.023571   \n",
       "1                   7                   24         rbf  0.001091  0.026924   \n",
       "\n",
       "         R2  \n",
       "0  0.840266  \n",
       "2  0.585549  \n",
       "3  0.559840  \n",
       "4  0.835092  \n",
       "6  0.456222  \n",
       "7  0.419521  \n",
       "8  0.822088  \n",
       "5  0.613632  \n",
       "1  0.747978  "
      ]
     },
     "execution_count": 56,
     "metadata": {},
     "output_type": "execute_result"
    }
   ],
   "source": [
    "sorted_df = results_df.sort_values(by='Spatial_Resolution', ascending=True)\n",
    "sorted_df"
   ]
  },
  {
   "cell_type": "code",
   "execution_count": 57,
   "metadata": {},
   "outputs": [
    {
     "data": {
      "image/png": "[encoded data removed]",
      "text/plain": [
       "<Figure size 1000x600 with 2 Axes>"
      ]
     },
     "metadata": {},
     "output_type": "display_data"
    }
   ],
   "source": [
    "# Create a pivot table for better visualization\n",
    "pivot_table = sorted_df.pivot_table(index='Spatial_Resolution', columns=['Temporal_Resolution', 'Kernel_Type'], values='R2')\n",
    "\n",
    "# Set up the plot\n",
    "plt.figure(figsize=(10, 6))\n",
    "sns.heatmap(pivot_table, annot=True, cmap='coolwarm', linewidths=0.5)\n",
    "plt.title('R2 Values by Temporal Resolution and Kernel Type')\n",
    "plt.show()"
   ]
  },
  {
   "cell_type": "markdown",
   "metadata": {},
   "source": [
    "The Figure shows the R2 values for different spatial resolutions, tempral resolutions and kernel types. It can be seen that for a low temporal resolution of 1h the linear kernel produces quite a good R2 value for the resolution of 5. If we go up for our spatial resolution to 4 and 6, the performance of the linear kernel decreased by a large number, while RBF kernel yields quite good results. It can also be observed, that performance for the linear kernel increases with a higher spatial resolution. We can also observe that for 24h resolution the rbf kernel yields a decent value of 0.75 for a resolution of 7 seeing that our predictions get worse for larger sizes of resolutions. Due to the very time-consuming predictions, we were only able to test a view variances and not go through all models"
   ]
  },
  {
   "cell_type": "markdown",
   "metadata": {},
   "source": [
    "### Improvements\n",
    "\n",
    "Futher improvements in a follow-up project could be to use less categorical variables. Hex_id was encoded with target encoding, so another approach could be to transform hex values back to continuous variables instead of using target encoding.  "
   ]
  },
  {
   "cell_type": "code",
   "execution_count": null,
   "metadata": {},
   "outputs": [],
   "source": [
    "#transform hex to numerical\n",
    "### df['lat'] = df['pickup_hex'].apply(lambda x: h3.cell_to_latlng(x)[0])\n",
    "### df['long'] = df['pickup_hex'].apply(lambda x: h3.cell_to_latlng(x)[1])\n",
    "### df = df.drop(['hex', 'pickup_hex_7'], axis=1)"
   ]
  },
  {
   "cell_type": "markdown",
   "metadata": {},
   "source": [
    "Another approach could be to build another nested loop that creates SVR for multiple Hexagons, by splitting the data to individual hexagon datasets. With this approach, 'real' spatio-temporal forecasting is possible. For example the resolution of 5 created 9 hexagons that would result in 9 SVM predicting the target variable. \n",
    "\n",
    "Also, POI data can be used to create further hexagon related features, e.g. the density of restaurants and bars per hexagon that we calculated in the descriptive part.  \n",
    "\n",
    "As seen in the data description part, some extreme target variable values exist, so scaling the target variable or excluding outliers could achieve better results for SVR. Therefore we could use the transformed target regressor. "
   ]
  },
  {
   "cell_type": "code",
   "execution_count": null,
   "metadata": {},
   "outputs": [],
   "source": [
    "### regressor = SVR(kernel='linear')\n",
    "### transformed_regressor = TransformedTargetRegressor(regressor=regressor,\n",
    "                                                  ###   func=scaler,\n",
    "                                                  ###   inverse_func=inverse_scaler)\n",
    "### transformed_regressor.fit(X_train, y_train)"
   ]
  },
  {
   "cell_type": "markdown",
   "metadata": {},
   "source": [
    "Lastly, we could use cross-validation and test more model parameters in grid search. For now we decided to choose two initial values for each parameter to get a first 'trend', because of the runtime. "
   ]
  }
 ],
 "metadata": {
  "kernelspec": {
   "display_name": "AAA_2023-k8Fk9NtE",
   "language": "python",
   "name": "python3"
  },
  "language_info": {
   "codemirror_mode": {
    "name": "ipython",
    "version": 3
   },
   "file_extension": ".py",
   "mimetype": "text/x-python",
   "name": "python",
   "nbconvert_exporter": "python",
   "pygments_lexer": "ipython3",
   "version": "3.10.0"
  },
  "orig_nbformat": 4
 },
 "nbformat": 4,
 "nbformat_minor": 2
}
