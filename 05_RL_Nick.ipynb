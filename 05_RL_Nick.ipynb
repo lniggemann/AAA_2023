{
 "cells": [
  {
   "cell_type": "code",
   "execution_count": 1,
   "metadata": {},
   "outputs": [],
   "source": [
    "# Lets try to do some Reinforcement Learning -.-"
   ]
  },
  {
   "attachments": {
    "image.png": {
     "image/png": "[encoded data removed]"
    }
   },
   "cell_type": "markdown",
   "metadata": {},
   "source": [
    "### 5. Smart Charging Using Reinforcement Learning:\n",
    "**Original Exercise:** <br>\n",
    "Consider an electric taxi driver who can charge her vehicle at home. To simplify the problem, we assume that the vehicle always arrives at home at 2 p.m. and leaves the garage at 4 p.m. each day. We want to design an intelligent charging system (an automated agent). Therefore, instead of a flat charging rate, the charging agent adjusts the charging power every 15 minutes, which is bounded between 0 kW and the highest rate (e.g., 22 kW). Also, the vehicle's battery has a capacity that cannot be exceeded. After leaving the garage, the taxi needs enough energy to complete its working day. The energy demand is a stochastic value following a normal distribution (you should choose the parameters, e.g., 𝜇= 30 kWh, 𝜎 = 5 kWh) and must be generated exactly when the driver wants to leave. The agent’s goal is to avoid running out of energy (you should consider a very high penalty for running out of energy) and to minimize the recharging cost. The recharging cost follows an exponential function of the power (i.e., ![image.png](attachment:image.png)), where 𝛼𝑡 is the time coefficient and p is the charging rate.\n",
    "\n",
    "The task is to create the environment (a very simple discrete event simulation) that receives the agent's decisions and returns the reward. In addition, you must define a Markov decision process, including states, actions, and reward function, and solve it using a reinforcement learning algorithm (e.g., deep q-network) to find optimal charging policies. To allow the use of discrete action methods, you can consider only limited charging options such as zero, low, medium, high.\n",
    "\n",
    "\n",
    "**In Bulletpoints:**\n",
    "- Problem description:\n",
    "    - An electric taxi driver can charge her vehicle at home between 2 p.m. and 4 p.m. each day\n",
    "    - The charging agent adjusts the charging power every 15 minutes within a range of 0 kW to 22 kW\n",
    "    - The vehicle's battery has a limited capacity that cannot be exceeded\n",
    "    - The taxi needs enough energy to complete its working day, which is a random value following a normal distribution (e.g., 𝜇= 30 kWh, 𝜎 = 5 kWh)\n",
    "    - The agent’s goal is to avoid running out of energy (with a very high penalty) and to minimize the recharging cost, which is an exponential function of the power (i.e., ![image.png](attachment:image.png)), where 𝛼𝑡 is the time coefficient and p is the charging rate\n",
    "- Task description:\n",
    "    - Create the environment that simulates the charging process and the energy demand, and returns the reward to the agent based on its actions\n",
    "    - Define a Markov decision process, including states, actions, and reward function, that models the problem\n",
    "    - Solve the Markov decision process using a reinforcement learning algorithm (e.g., deep q-network) to find optimal charging policies\n",
    "    - Consider only discrete action methods, such as zero, low, medium, high, for the charging power"
   ]
  },
  {
   "cell_type": "code",
   "execution_count": 2,
   "metadata": {},
   "outputs": [],
   "source": [
    "# First try mit Hilfe von diesem Tutorial:\n",
    "# https://www.section.io/engineering-education/building-a-reinforcement-learning-environment-using-openai-gym/"
   ]
  },
  {
   "cell_type": "code",
   "execution_count": 3,
   "metadata": {},
   "outputs": [],
   "source": [
    "import numpy as np\n",
    "from gym import Env\n",
    "from gym.spaces import Box, Discrete\n",
    "import random"
   ]
  },
  {
   "cell_type": "code",
   "execution_count": 82,
   "metadata": {},
   "outputs": [],
   "source": [
    "class CustomEnv(Env):\n",
    "    def __init__(self):\n",
    "        \n",
    "        # a range of 0 kW to 22 kW\n",
    "        #self.action_space = Box(low=0, high=22)\n",
    "        #a range from zero, low, medium to high\n",
    "        self.action_space = Discrete(4)\n",
    "\n",
    "        # The vehicle's battery has a limited capacity that cannot be exceeded (69KWh)\n",
    "        self.battery_space = Box(low=0, high=69)\n",
    "\n",
    "        # [20,40] KWh loaded battery at initialization\n",
    "        self.battery_state = 30 + random.randint(-10,10)\n",
    "\n",
    "        # The charging agent adjusts the charging power every 15 minutes --> time is in [0,7] in 2 Hours\n",
    "        self.time = 0\n",
    "\n",
    "\n",
    "    def step(self, action):\n",
    "        #print(\"-- New Step --\")\n",
    "        # Setting loading interval -1 /--> -15 minutes\n",
    "        self.time += 1\n",
    "\n",
    "        # Seting new battery state\n",
    "        if action == 2:\n",
    "            #low\n",
    "            self.battery_state += 7\n",
    "        if action == 3:\n",
    "            #medium\n",
    "            self.battery_state += 14\n",
    "        if action == 4:\n",
    "            #high\n",
    "            self.battery_state += 22\n",
    "\n",
    "\n",
    "\n",
    "        # Calculating Negative Reward from Energy Costs\n",
    "        kw_price = 1 #random.randint(0,3)\n",
    "        reward = kw_price * action * (-1)\n",
    "\n",
    "\n",
    "        #Checking if 2 Hours are done\n",
    "        #Giving panalty if car ran out of battery\n",
    "        if self.time >= 7:\n",
    "            #The taxi needs enough energy to complete its working day,\n",
    "            # which is a random value following a normal distribution\n",
    "            # (e.g., 𝜇= 30 kWh, 𝜎 = 5 kWh)\n",
    "            kwh_needed = np.random.normal(loc=30, scale=5)\n",
    "            print(\"kwh needed:\" + str(kwh_needed))\n",
    "            print(\"battery state:\" + str(self.battery_state))\n",
    "            # The agent’s goal is to avoid running out of energy (with a very high penalty) \n",
    "            if kwh_needed > self.battery_state:\n",
    "                reward -= 100\n",
    "            #print(\"Day done!\")\n",
    "            day_done = True\n",
    "        else:\n",
    "            day_done = False\n",
    "\n",
    "        #print(\"Battery State: \" + str(self.battery_state))\n",
    "        #print(\"Reward: \" + str(reward))\n",
    "        # Returning the step information\n",
    "        return self.battery_state, reward, day_done\n",
    "    \n",
    "    #def render(self):\n",
    "        # blabala\n",
    "    \n",
    "    def reset(self):\n",
    "        # [20,40] KWh loaded battery at initialization\n",
    "        self.battery_state = 30 + random.randint(-10,10)\n",
    "        # The charging agent adjusts the charging power every 15 minutes --> time is in [0,7] in 2 Hours\n",
    "        self.time = 0\n",
    "        #return self.battery_state"
   ]
  },
  {
   "cell_type": "code",
   "execution_count": 83,
   "metadata": {},
   "outputs": [],
   "source": [
    "env = CustomEnv()"
   ]
  },
  {
   "cell_type": "code",
   "execution_count": 84,
   "metadata": {},
   "outputs": [
    {
     "name": "stdout",
     "output_type": "stream",
     "text": [
      "__ Day 1 ___\n",
      "kwh needed:34.4206140250764\n",
      "battery state:61\n",
      "Episode:1 Score:-9\n",
      "__ Day 2 ___\n",
      "kwh needed:36.12052365632374\n",
      "battery state:67\n",
      "Episode:2 Score:-13\n",
      "__ Day 3 ___\n",
      "kwh needed:34.394236563538534\n",
      "battery state:65\n",
      "Episode:3 Score:-13\n",
      "__ Day 4 ___\n",
      "kwh needed:35.045503228597525\n",
      "battery state:81\n",
      "Episode:4 Score:-13\n",
      "__ Day 5 ___\n",
      "kwh needed:34.50632972988435\n",
      "battery state:57\n",
      "Episode:5 Score:-8\n",
      "__ Day 6 ___\n",
      "kwh needed:33.63148472148491\n",
      "battery state:82\n",
      "Episode:6 Score:-13\n",
      "__ Day 7 ___\n",
      "kwh needed:28.12996354388714\n",
      "battery state:53\n",
      "Episode:7 Score:-4\n"
     ]
    }
   ],
   "source": [
    "episodes = 7 #7 days\n",
    "for episode in range(1, episodes+1):\n",
    "    print(\"__ Day \" + str(episode) + \" ___\")\n",
    "    #battery_state = \n",
    "    env.reset()\n",
    "    day_done = False\n",
    "    score = 0 \n",
    "    \n",
    "    while not day_done:\n",
    "        action = env.action_space.sample()\n",
    "        n_state, reward, day_done = env.step(action)\n",
    "        score+=reward\n",
    "    print('Episode:{} Score:{}'.format(episode, score))"
   ]
  },
  {
   "cell_type": "code",
   "execution_count": 74,
   "metadata": {},
   "outputs": [],
   "source": [
    "import numpy as np\n",
    "from tensorflow.keras.models import Sequential\n",
    "from tensorflow.keras.layers import Dense, Flatten\n",
    "from tensorflow.keras.optimizers import Adam"
   ]
  },
  {
   "cell_type": "code",
   "execution_count": 85,
   "metadata": {},
   "outputs": [],
   "source": [
    "states = env.battery_space.shape\n",
    "actions = env.action_space.n"
   ]
  },
  {
   "cell_type": "code",
   "execution_count": 87,
   "metadata": {},
   "outputs": [
    {
     "data": {
      "text/plain": [
       "(1,)"
      ]
     },
     "execution_count": 87,
     "metadata": {},
     "output_type": "execute_result"
    }
   ],
   "source": [
    "env.battery_space.shape"
   ]
  },
  {
   "cell_type": "code",
   "execution_count": null,
   "metadata": {},
   "outputs": [],
   "source": []
  }
 ],
 "metadata": {
  "kernelspec": {
   "display_name": "AAA_2023-67gSWIjI",
   "language": "python",
   "name": "python3"
  },
  "language_info": {
   "codemirror_mode": {
    "name": "ipython",
    "version": 3
   },
   "file_extension": ".py",
   "mimetype": "text/x-python",
   "name": "python",
   "nbconvert_exporter": "python",
   "pygments_lexer": "ipython3",
   "version": "3.10.0"
  },
  "orig_nbformat": 4
 },
 "nbformat": 4,
 "nbformat_minor": 2
}
